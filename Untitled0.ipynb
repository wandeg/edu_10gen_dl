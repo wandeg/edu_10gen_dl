{
 "metadata": {
  "name": ""
 },
 "nbformat": 3,
 "nbformat_minor": 0,
 "worksheets": [
  {
   "cells": [
    {
     "cell_type": "code",
     "collapsed": false,
     "input": [
      "EMAIL = 'jmsmaringa@gmail.com'\n",
      "PASSWORD='524572121'\n",
      "DOMAIN='courses.edx.org'\n",
      "#DOMAIN='education.10gen.com'\n",
      "#DOMAIN='university.mongodb.com' \n",
      "\n",
      "YDL_PARAMS = \\\n",
      "    {'consoletitle': False,\n",
      "     'continuedl': True,\n",
      "     'forcedescription': False,\n",
      "     'forcefilename': False,\n",
      "     'forceformat': False,\n",
      "     'forcethumbnail': False,\n",
      "     'forcetitle': False,\n",
      "     'forceurl': False,\n",
      "     'format': None,\n",
      "     'format_limit': None,\n",
      "     'ignoreerrors': False,\n",
      "     'listformats': None,\n",
      "     'logtostderr': False,\n",
      "     'matchtitle': None,\n",
      "     'max_downloads': None,\n",
      "     'nooverwrites': True,\n",
      "     'nopart': False,\n",
      "     'noprogress': False,\n",
      "     'outtmpl': u'%(id)s.%(ext)s',\n",
      "     'password': None,\n",
      "     'playlistend': -1,\n",
      "     'playliststart': 1,\n",
      "     'prefer_free_formats': False,\n",
      "     'quiet': False,\n",
      "     'ratelimit': None,\n",
      "     'rejecttitle': None,\n",
      "     'retries': 10,\n",
      "     'simulate': False,\n",
      "     'skip_download': False,\n",
      "     'subtitleslang': None,\n",
      "     'updatetime': True,\n",
      "     'usenetrc': False,\n",
      "     'username': None,\n",
      "     'verbose': True,\n",
      "     'writedescription': False,\n",
      "     'writeinfojson': False,\n",
      "     'writesubtitles': False}\n"
     ],
     "language": "python",
     "metadata": {},
     "outputs": [],
     "prompt_number": 1
    },
    {
     "cell_type": "code",
     "collapsed": false,
     "input": [
      "import glob\n",
      "import json\n",
      "import mechanize\n",
      "import re\n",
      "import sys\n",
      "import os.path\n",
      "from bs4 import BeautifulSoup\n",
      "from math import floor\n",
      "from random import random\n",
      "from urllib import urlencode\n",
      "\n",
      "from youtube_dl.YoutubeDL import YoutubeDL\n",
      "from youtube_dl.extractor  import YoutubeIE\n",
      "from youtube_dl.utils import sanitize_filename\n",
      "from flask import Flask, render_template, request, redirect, jsonify\n",
      "\n",
      "import ast\n",
      "\n",
      "app = Flask(__name__)\n",
      "replace_space_with_underscore = False\n",
      "base_url = 'https://'+DOMAIN\n",
      "# Dirty hack for differences in 10gen and edX implementation\n",
      "if 'edx' in DOMAIN.split('.'):\n",
      "    login_url = '/login_ajax'\n",
      "    article_tags_css_class = 'course honor'\n",
      "else:\n",
      "    login_url = '/login'\n",
      "    article_tags_css_class = 'my-course'\n",
      "\n",
      "dashboard_url = '/dashboard'\n",
      "youtube_url = 'http://www.youtube.com/watch?v='\n",
      "DIRECTORY = os.path.curdir\n",
      "\n",
      "def makeCsrf():\n",
      "    t = '0123456789abcdefghijklmnopqrstuvwxyzABCDEFGHIJKLMNOPQRSTUVWXYZ'\n",
      "    e = 24\n",
      "    csrftoken = list()\n",
      "    for i in range(0,e):\n",
      "        csrftoken.append(t[int(floor(random()*len(t)))])\n",
      "    return ''.join(csrftoken)\n",
      "\n",
      "def csrfCookie(csrftoken):\n",
      "    return mechanize.Cookie(version=0,\n",
      "            name='csrftoken',\n",
      "            value=csrftoken,\n",
      "            port=None, port_specified=False,\n",
      "            domain=DOMAIN,\n",
      "            domain_specified=False,\n",
      "            domain_initial_dot=False,\n",
      "            path='/', path_specified=True,\n",
      "            secure=False, expires=None,\n",
      "            discard=True,\n",
      "            comment=None, comment_url=None,\n",
      "            rest={'HttpOnly': None}, rfc2109=False)\n",
      "\n",
      "def cleanString(stringy):\n",
      "    return stringy.strip()\n",
      "\n",
      "class EdXBrowser(object):\n",
      "    def __init__(self):\n",
      "        self._br = mechanize.Browser()\n",
      "        self._cj = mechanize.LWPCookieJar()\n",
      "        csrftoken = makeCsrf()\n",
      "        self._cj.set_cookie(csrfCookie(csrftoken))\n",
      "        self._br.set_handle_robots(False)\n",
      "        self._br.set_cookiejar(self._cj)\n",
      "        self._br.addheaders.append(('X-CSRFToken',csrftoken))\n",
      "        self._br.addheaders.append(('Referer',base_url))\n",
      "        self._logged_in = False\n",
      "        self._fd = YoutubeDL(YDL_PARAMS)\n",
      "        self._fd.add_info_extractor(YoutubeIE())\n",
      "        self._alldata = {}\n",
      "\n",
      "    def login(self):\n",
      "        try:\n",
      "            login_resp = self._br.open(base_url + login_url, urlencode({'email':EMAIL, 'password':PASSWORD}))\n",
      "            login_state = json.loads(login_resp.read())\n",
      "            self._logged_in = login_state.get('success')\n",
      "            if not self._logged_in:\n",
      "                print login_state.get('value')\n",
      "            return self._logged_in\n",
      "        except mechanize.HTTPError, e:\n",
      "            sys.exit('Can\\'t sign in')\n",
      "\n",
      "    def list_courses(self):\n",
      "        self.courses = []\n",
      "        if self._logged_in:\n",
      "            dashboard = self._br.open(base_url + dashboard_url)\n",
      "            dashboard_soup = BeautifulSoup(dashboard.read())\n",
      "            my_courses = dashboard_soup.findAll('article', article_tags_css_class)\n",
      "            i = 0\n",
      "            for my_course in my_courses:\n",
      "                try:\n",
      "                    \n",
      "                    course_url = my_course.a['href']\n",
      "                    course_name = my_course.h3.text\n",
      "                    interactive_mode = False\n",
      "                except Exception, e:\n",
      "                    print e\n",
      "                    continue\n",
      "                if interactive_mode:\n",
      "                    launch_download_msg = 'Download the course [%s] from %s? (y/n) ' % (course_name, course_url)\n",
      "                    launch_download = raw_input(launch_download_msg)\n",
      "                    if (launch_download.lower() == \"n\"):\n",
      "                        continue\n",
      "\n",
      "                i += 1\n",
      "                courseware_url = re.sub(r'\\/info$','/courseware',course_url)\n",
      "                self.courses.append({'name':course_name, 'url':courseware_url})\n",
      "#                 print '[%02i] %s' % (i, course_name)\n",
      "\n",
      "    def list_chapters(self, course_i):\n",
      "        self.paragraphs = []\n",
      "        if course_i < len(self.courses) and course_i >= 0:\n",
      "            print \"Getting chapters...\"\n",
      "            course = self.courses[course_i]\n",
      "            course_name = course['name']\n",
      "            print(base_url+course['url'])\n",
      "            if 'courses' in course['url']:\n",
      "                courseware = self._br.open(base_url+course['url'])\n",
      "                courseware_soup = BeautifulSoup(courseware.read())\n",
      "                chapters = courseware_soup.findAll('div','chapter')\n",
      "                i = 0\n",
      "                for chapter in chapters:\n",
      "                    chapter_name = chapter.find('h3').find('a').text\n",
      "                    interactive_mode = False\n",
      "\n",
      "                    if interactive_mode:\n",
      "                        launch_download_msg = 'Download the chapter [%s - %s]? (y/n) ' % (course_name, chapter_name)\n",
      "                        launch_download = raw_input(launch_download_msg)\n",
      "                        if (launch_download.lower() == \"n\"):\n",
      "                            continue\n",
      "                    \n",
      "                    i += 1\n",
      "#                     print '\\t[%02i] %s' % (i, chapter_name)\n",
      "                    paragraphs = chapter.find('ul').findAll('li')\n",
      "                    j = 0\n",
      "                    for paragraph in paragraphs:\n",
      "                        j += 1\n",
      "                        par_name = paragraph.p.text\n",
      "                        par_url = paragraph.a['href']\n",
      "                        data=(cleanString(course_name), i, j, cleanString(chapter_name), cleanString(par_name), par_url)\n",
      "                        # print [(i,type(i)) for i in data]\n",
      "                        self.paragraphs.append(data)\n",
      "                        # print '\\t\\t[%02i.%02i] %s' % (i, j, par_name)\n",
      "                return self.paragraphs\n",
      "            else:\n",
      "                return []\n",
      "\n",
      "\n",
      "\n",
      "# config.interactive_mode = ('--interactive' in sys.argv)\n",
      "\n",
      "# if config.interactive_mode:\n",
      "#     sys.argv.remove('--interactive')\n",
      "\n",
      "# if len(sys.argv) >= 2:\n",
      "#     DIRECTORY = sys.argv[-1].strip('\"')                \n",
      "edxb = EdXBrowser()\n",
      "edxb.login()\n",
      "print 'Found the following courses:'\n",
      "edxb.list_courses()\n",
      "pars = edxb.list_chapters(5)\n"
     ],
     "language": "python",
     "metadata": {},
     "outputs": [
      {
       "output_type": "stream",
       "stream": "stderr",
       "text": [
        "[debug] Encodings: locale UTF-8, fs UTF-8, out UTF-8, pref UTF-8\n"
       ]
      },
      {
       "output_type": "stream",
       "stream": "stderr",
       "text": [
        "[debug] youtube-dl version 2014.12.03\n"
       ]
      },
      {
       "output_type": "stream",
       "stream": "stderr",
       "text": [
        "[debug] Python version 2.7.6 - Linux-3.13.0-62-generic-x86_64-with-Ubuntu-14.04-trusty\n"
       ]
      },
      {
       "output_type": "stream",
       "stream": "stderr",
       "text": [
        "[debug] exe versions: none\n"
       ]
      },
      {
       "output_type": "stream",
       "stream": "stderr",
       "text": [
        "[debug] Proxy map: {}\n"
       ]
      },
      {
       "output_type": "stream",
       "stream": "stdout",
       "text": [
        "Found the following courses:\n",
        "'href'"
       ]
      },
      {
       "output_type": "stream",
       "stream": "stdout",
       "text": [
        "\n",
        "Getting chapters...\n",
        "https://courses.edx.org/courses/course-v1:SmithsonianX+POPX1.1x+2015_T2/courseware\n"
       ]
      }
     ],
     "prompt_number": 16
    },
    {
     "cell_type": "code",
     "collapsed": false,
     "input": [
      "for p in pars:\n",
      "#     print p\n",
      "    item = p\n",
      "#     print len(item),item\n",
      "    course_name, i, j, chapter_name, par_name, url = item[0:7]\n",
      "    # for course_name, i, j, chapter_name, par_name, url in :\n",
      "    #nametmpl = sanitize_filename(course_name) + '/' \\\n",
      "    #         + sanitize_filename(chapter_name) + '/' \\\n",
      "    #         + '%02i.%02i.*' % (i,j)\n",
      "    #fn = glob.glob(DIRECTORY + nametmpl)\n",
      "    nametmpl = os.path.join(DIRECTORY,\n",
      "                            sanitize_filename(course_name.encode('utf-8'), replace_space_with_underscore),\n",
      "                            sanitize_filename(chapter_name.encode('utf-8'), replace_space_with_underscore),\n",
      "                            '%02i.%02i.*' % (int(i), int(j)))\n",
      "    fn = glob.glob(nametmpl)\n",
      "    \n",
      "    if fn:\n",
      "        print \"Processing of %s skipped\" % nametmpl\n",
      "        continue\n",
      "    print \"Processing %s...\" % nametmpl\n",
      "#     print url\n",
      "    new_url=base_url+url.encode('utf-8')[:-1].replace(\"'\",\"\")\n",
      "    print new_url\n",
      "    par = edxb._br.open(str(new_url))\n",
      "    par_soup = BeautifulSoup(par.read())\n",
      "    contents = par_soup.findAll('div','seq_contents')\n",
      "    k = 0\n",
      "    for content in contents:\n",
      "        # print \"Content: %s\" % content\n",
      "        content_soup = BeautifulSoup(content.text)\n",
      "        # print content_soup.find_all('h2')\n",
      "        vs = content_soup.find_all('div','video')\n",
      "#         print len(vs)\n",
      "#         print vs\n",
      "#         for v in vs:\n",
      "#             print v.attrs['data-metadata']\n",
      "#             print type(v.attrs['data-metadata'])\n",
      "#             d= json.loads(v.attrs['data-metadata'])\n",
      "#             print d\n",
      "#             print d.keys()\n",
      "        try:\n",
      "            # video_type = content_soup.h2.text.strip()\n",
      "            if content_soup.h2:\n",
      "                video_type = content_soup.h2.text\n",
      "                print video_type\n",
      "            vs = content_soup.find_all('div','video')\n",
      "            for v in vs:\n",
      "                d = json.loads(v.attrs['data-metadata'])\n",
      "                if d.has_key('streams'):\n",
      "                    video_stream = d['streams']\n",
      "                    # video_stream = content_soup.find('div','video')['streams']\n",
      "                    video_id = video_stream.split(':')[1]\n",
      "                    video_url = youtube_url + video_id\n",
      "                    print video_url\n",
      "                    k += 1\n",
      "                    print '[%02i.%02i.%02i] %s (%s)' % (int(i), int(j), k, par_name, video_type)\n",
      "#                     f.writelines(video_url+'\\n')\n",
      "#                     outtmpl = DIRECTORY + sanitize_filename(course_name) + '/' \\\n",
      "#                            + sanitize_filename(chapter_name) + '/' \\\n",
      "#                            + '%02i.%02i.%02i ' % (i,j,k) \\\n",
      "#                            + sanitize_filename('%s (%s)' % (par_name, video_type)) + '.%(ext)s'\n",
      "#                     print DIRECTORY\n",
      "                    outtmpl = os.path.join(DIRECTORY,\n",
      "                        sanitize_filename(course_name, replace_space_with_underscore),\n",
      "                        sanitize_filename(chapter_name, replace_space_with_underscore),\n",
      "                        '%02i.%02i.%02i ' % (int(i),int(j),k) + \\\n",
      "                        sanitize_filename('%s (%s)' % (par_name, video_type), replace_space_with_underscore) + '.%(ext)s')\n",
      "                    print outtmpl\n",
      "                    edxb._fd.params['outtmpl'] = outtmpl\n",
      "                    edxb._fd.download([video_url])\n",
      "        except Exception as e:\n",
      "            print \"Error: %s\" % e\n",
      "            pass\n"
     ],
     "language": "python",
     "metadata": {},
     "outputs": [
      {
       "output_type": "stream",
       "stream": "stdout",
       "text": [
        "Processing ./The Rise of Superheroes and Their Impact On Pop Culture/Course Introduction/01.01.*...\n",
        "https://courses.edx.org/courses/course-v1:SmithsonianX+POPX1.1x+2015_T2/courseware/372a806b0894443ea7e15f06694826ef/7f94a873e3864f1b9ddbba605f5200ea\n",
        "Video Introduction"
       ]
      },
      {
       "output_type": "stream",
       "stream": "stdout",
       "text": [
        "\n",
        "http://www.youtube.com/watch?v=l4HujAKCOa0\n",
        "[01.01.01] Introduction (Video Introduction)\n",
        "./The Rise of Superheroes and Their Impact On Pop Culture/Course Introduction/01.01.01 Introduction (Video Introduction).%(ext)s\n",
        "[youtube] l4HujAKCOa0: Downloading webpage\n"
       ]
      },
      {
       "output_type": "stream",
       "stream": "stdout",
       "text": [
        "[youtube] l4HujAKCOa0: Extracting video information\n"
       ]
      },
      {
       "output_type": "stream",
       "stream": "stdout",
       "text": [
        "[youtube] l4HujAKCOa0: Downloading DASH manifest\n"
       ]
      },
      {
       "output_type": "stream",
       "stream": "stdout",
       "text": [
        "[debug] Invoking downloader on u'https://r1---sn-nx5jvh-q5ge.googlevideo.com/videoplayback?signature=D1ACBC18CC849C146B848D87323C510D61EB7962.EAE8D20594F53D4D3C3A27E13C0A17D48B8A8637&source=youtube&upn=UuAUDPO0Zfo&ip=154.122.182.51&sver=3&ipbits=0&mm=31&mn=sn-nx5jvh-q5ge&pl=15&mt=1442070465&mv=m&dur=206.425&initcwndbps=142500&itag=22&ms=au&fexp=9405995%2C9406994%2C9408215%2C9408710%2C9409069%2C9409205%2C9413123%2C9415365%2C9415485%2C9415822%2C9416023%2C9416126%2C9416729%2C9417014%2C9417707%2C9418153%2C9418204%2C9418394%2C9418448%2C9419232%2C9419403%2C9419786%2C9419788%2C9420329%2C9420348%2C9420799%2C9420842&sparams=dur%2Cid%2Cinitcwndbps%2Cip%2Cipbits%2Citag%2Clmt%2Cmime%2Cmm%2Cmn%2Cms%2Cmv%2Cpl%2Cratebypass%2Crequiressl%2Csource%2Cupn%2Cexpire&id=o-ALsRyF13bGOHTtPTgpX7AeoXmv2PmhHkr52aITtUl4JC&requiressl=yes&mime=video%2Fmp4&ratebypass=yes&lmt=1432277831558230&expire=1442092188&key=yt5'\n"
       ]
      },
      {
       "output_type": "stream",
       "stream": "stdout",
       "text": [
        "[download] Destination: ./The Rise of Superheroes and Their Impact On Pop Culture/Course Introduction/01.01.01 Introduction (Video Introduction).mp4\n"
       ]
      },
      {
       "output_type": "stream",
       "stream": "stdout",
       "text": [
        "\r",
        "[download]   0.0% of 51.82MiB at 766.22KiB/s ETA 01:09"
       ]
      },
      {
       "output_type": "stream",
       "stream": "stdout",
       "text": [
        "\r",
        "[download]   0.0% of 51.82MiB at 13.79KiB/s ETA 01:04:07"
       ]
      },
      {
       "output_type": "stream",
       "stream": "stdout",
       "text": [
        "\r",
        "[download]   0.0% of 51.82MiB at 32.00KiB/s ETA 27:37"
       ]
      },
      {
       "output_type": "stream",
       "stream": "stdout",
       "text": [
        "\r",
        "[download]   0.0% of 51.82MiB at 68.22KiB/s ETA 12:57"
       ]
      },
      {
       "output_type": "stream",
       "stream": "stdout",
       "text": [
        "\r",
        "[download]   0.1% of 51.82MiB at 76.46KiB/s ETA 11:33"
       ]
      },
      {
       "output_type": "stream",
       "stream": "stdout",
       "text": [
        "\r",
        "[download]   0.1% of 51.82MiB at 126.31KiB/s ETA 06:59"
       ]
      },
      {
       "output_type": "stream",
       "stream": "stdout",
       "text": [
        "\r",
        "[download]   0.2% of 51.82MiB at 157.50KiB/s ETA 05:36"
       ]
      },
      {
       "output_type": "stream",
       "stream": "stdout",
       "text": [
        "\r",
        "[download]   0.5% of 51.82MiB at 232.43KiB/s ETA 03:47"
       ]
      },
      {
       "output_type": "stream",
       "stream": "stdout",
       "text": [
        "\r",
        "[download]   1.0% of 51.82MiB at 327.84KiB/s ETA 02:40"
       ]
      },
      {
       "output_type": "stream",
       "stream": "stdout",
       "text": [
        "\r",
        "[download]   1.9% of 51.82MiB at 376.26KiB/s ETA 02:18"
       ]
      },
      {
       "output_type": "stream",
       "stream": "stdout",
       "text": [
        "\r",
        "[download]   2.8% of 51.82MiB at 312.55KiB/s ETA 02:45"
       ]
      },
      {
       "output_type": "stream",
       "stream": "stdout",
       "text": [
        "\r",
        "[download]   3.2% of 51.82MiB at 287.43KiB/s ETA 02:58"
       ]
      },
      {
       "output_type": "stream",
       "stream": "stdout",
       "text": [
        "\r",
        "[download]   3.5% of 51.82MiB at 263.60KiB/s ETA 03:14"
       ]
      },
      {
       "output_type": "stream",
       "stream": "stdout",
       "text": [
        "\r",
        "[download]   3.8% of 51.82MiB at 242.61KiB/s ETA 03:30"
       ]
      },
      {
       "output_type": "stream",
       "stream": "stdout",
       "text": [
        "\r",
        "[download]   4.1% of 51.82MiB at 231.80KiB/s ETA 03:39"
       ]
      },
      {
       "output_type": "stream",
       "stream": "stdout",
       "text": [
        "\r",
        "[download]   4.3% of 51.82MiB at 225.29KiB/s ETA 03:45"
       ]
      },
      {
       "output_type": "stream",
       "stream": "stdout",
       "text": [
        "\r",
        "[download]   4.6% of 51.82MiB at 219.00KiB/s ETA 03:51"
       ]
      },
      {
       "output_type": "stream",
       "stream": "stdout",
       "text": [
        "\r",
        "[download]   4.9% of 51.82MiB at 216.07KiB/s ETA 03:53"
       ]
      },
      {
       "output_type": "stream",
       "stream": "stdout",
       "text": [
        "\r",
        "[download]   5.2% of 51.82MiB at 215.15KiB/s ETA 03:53"
       ]
      },
      {
       "output_type": "stream",
       "stream": "stdout",
       "text": [
        "\r",
        "[download]   5.6% of 51.82MiB at 216.33KiB/s ETA 03:51"
       ]
      },
      {
       "output_type": "stream",
       "stream": "stdout",
       "text": [
        "\r",
        "[download]   6.1% of 51.82MiB at 221.45KiB/s ETA 03:45"
       ]
      },
      {
       "output_type": "stream",
       "stream": "stdout",
       "text": [
        "\r",
        "[download]   6.7% of 51.82MiB at 223.88KiB/s ETA 03:41"
       ]
      },
      {
       "output_type": "stream",
       "stream": "stdout",
       "text": [
        "\r",
        "[download]   7.1% of 51.82MiB at 226.49KiB/s ETA 03:37"
       ]
      },
      {
       "output_type": "stream",
       "stream": "stdout",
       "text": [
        "\r",
        "[download]   7.6% of 51.82MiB at 226.44KiB/s ETA 03:36"
       ]
      },
      {
       "output_type": "stream",
       "stream": "stdout",
       "text": [
        "\r",
        "[download]   8.1% of 51.82MiB at 227.75KiB/s ETA 03:34"
       ]
      },
      {
       "output_type": "stream",
       "stream": "stdout",
       "text": [
        "\r",
        "[download]   8.5% of 51.82MiB at 229.70KiB/s ETA 03:31"
       ]
      },
      {
       "output_type": "stream",
       "stream": "stdout",
       "text": [
        "\r",
        "[download]   9.1% of 51.82MiB at 228.50KiB/s ETA 03:31"
       ]
      },
      {
       "output_type": "stream",
       "stream": "stdout",
       "text": [
        "\r",
        "[download]   9.4% of 51.82MiB at 224.52KiB/s ETA 03:34"
       ]
      },
      {
       "output_type": "stream",
       "stream": "stdout",
       "text": [
        "\r",
        "[download]   9.7% of 51.82MiB at 221.78KiB/s ETA 03:35"
       ]
      },
      {
       "output_type": "stream",
       "stream": "stdout",
       "text": [
        "\r",
        "[download]  10.1% of 51.82MiB at 218.47KiB/s ETA 03:38"
       ]
      },
      {
       "output_type": "stream",
       "stream": "stdout",
       "text": [
        "\r",
        "[download]  10.3% of 51.82MiB at 216.54KiB/s ETA 03:39"
       ]
      },
      {
       "output_type": "stream",
       "stream": "stdout",
       "text": [
        "\r",
        "[download]  10.6% of 51.82MiB at 212.93KiB/s ETA 03:42"
       ]
      },
      {
       "output_type": "stream",
       "stream": "stdout",
       "text": [
        "\r",
        "[download]  10.9% of 51.82MiB at 207.47KiB/s ETA 03:47"
       ]
      },
      {
       "output_type": "stream",
       "stream": "stdout",
       "text": [
        "\r",
        "[download]  11.1% of 51.82MiB at 204.70KiB/s ETA 03:50"
       ]
      },
      {
       "output_type": "stream",
       "stream": "stdout",
       "text": [
        "\r",
        "[download]  11.3% of 51.82MiB at 201.93KiB/s ETA 03:53"
       ]
      },
      {
       "output_type": "stream",
       "stream": "stdout",
       "text": [
        "\r",
        "[download]  11.5% of 51.82MiB at 199.98KiB/s ETA 03:54"
       ]
      },
      {
       "output_type": "stream",
       "stream": "stdout",
       "text": [
        "\r",
        "[download]  11.8% of 51.82MiB at 198.61KiB/s ETA 03:55"
       ]
      },
      {
       "output_type": "stream",
       "stream": "stdout",
       "text": [
        "\r",
        "[download]  12.1% of 51.82MiB at 196.93KiB/s ETA 03:56"
       ]
      },
      {
       "output_type": "stream",
       "stream": "stdout",
       "text": [
        "\r",
        "[download]  12.4% of 51.82MiB at 195.82KiB/s ETA 03:57"
       ]
      },
      {
       "output_type": "stream",
       "stream": "stdout",
       "text": [
        "\r",
        "[download]  12.6% of 51.82MiB at 194.88KiB/s ETA 03:57"
       ]
      },
      {
       "output_type": "stream",
       "stream": "stdout",
       "text": [
        "\r",
        "[download]  13.0% of 51.82MiB at 193.75KiB/s ETA 03:58"
       ]
      },
      {
       "output_type": "stream",
       "stream": "stdout",
       "text": [
        "\r",
        "[download]  13.2% of 51.82MiB at 192.73KiB/s ETA 03:58"
       ]
      },
      {
       "output_type": "stream",
       "stream": "stdout",
       "text": [
        "\r",
        "[download]  13.5% of 51.82MiB at 192.29KiB/s ETA 03:58"
       ]
      },
      {
       "output_type": "stream",
       "stream": "stdout",
       "text": [
        "\r",
        "[download]  13.9% of 51.82MiB at 191.92KiB/s ETA 03:58"
       ]
      },
      {
       "output_type": "stream",
       "stream": "stdout",
       "text": [
        "\r",
        "[download]  14.2% of 51.82MiB at 190.55KiB/s ETA 03:58"
       ]
      },
      {
       "output_type": "stream",
       "stream": "stdout",
       "text": [
        "\r",
        "[download]  14.5% of 51.82MiB at 189.87KiB/s ETA 03:58"
       ]
      },
      {
       "output_type": "stream",
       "stream": "stdout",
       "text": [
        "\r",
        "[download]  14.8% of 51.82MiB at 186.15KiB/s ETA 04:02"
       ]
      },
      {
       "output_type": "stream",
       "stream": "stdout",
       "text": [
        "\r",
        "[download]  15.0% of 51.82MiB at 182.72KiB/s ETA 04:06"
       ]
      },
      {
       "output_type": "stream",
       "stream": "stdout",
       "text": [
        "\r",
        "[download]  15.1% of 51.82MiB at 180.54KiB/s ETA 04:09"
       ]
      },
      {
       "output_type": "stream",
       "stream": "stdout",
       "text": [
        "\r",
        "[download]  15.3% of 51.82MiB at 176.18KiB/s ETA 04:15"
       ]
      },
      {
       "output_type": "stream",
       "stream": "stdout",
       "text": [
        "\r",
        "[download]  15.4% of 51.82MiB at 173.22KiB/s ETA 04:19"
       ]
      },
      {
       "output_type": "stream",
       "stream": "stdout",
       "text": [
        "\r",
        "[download]  15.4% of 51.82MiB at 171.79KiB/s ETA 04:21"
       ]
      },
      {
       "output_type": "stream",
       "stream": "stdout",
       "text": [
        "\r",
        "[download]  15.6% of 51.82MiB at 170.86KiB/s ETA 04:22"
       ]
      },
      {
       "output_type": "stream",
       "stream": "stdout",
       "text": [
        "\r",
        "[download]  15.8% of 51.82MiB at 168.33KiB/s ETA 04:25"
       ]
      },
      {
       "output_type": "stream",
       "stream": "stdout",
       "text": [
        "\r",
        "[download]  15.9% of 51.82MiB at 168.29KiB/s ETA 04:25"
       ]
      },
      {
       "output_type": "stream",
       "stream": "stdout",
       "text": [
        "\r",
        "[download]  16.2% of 51.82MiB at 167.50KiB/s ETA 04:25"
       ]
      },
      {
       "output_type": "stream",
       "stream": "stdout",
       "text": [
        "\r",
        "[download]  16.5% of 51.82MiB at 167.49KiB/s ETA 04:24"
       ]
      },
      {
       "output_type": "stream",
       "stream": "stdout",
       "text": [
        "\r",
        "[download]  16.8% of 51.82MiB at 167.63KiB/s ETA 04:23"
       ]
      },
      {
       "output_type": "stream",
       "stream": "stdout",
       "text": [
        "\r",
        "[download]  17.1% of 51.82MiB at 167.22KiB/s ETA 04:23"
       ]
      },
      {
       "output_type": "stream",
       "stream": "stdout",
       "text": [
        "\r",
        "[download]  17.4% of 51.82MiB at 166.68KiB/s ETA 04:22"
       ]
      },
      {
       "output_type": "stream",
       "stream": "stdout",
       "text": [
        "\r",
        "[download]  17.7% of 51.82MiB at 166.90KiB/s ETA 04:21"
       ]
      },
      {
       "output_type": "stream",
       "stream": "stdout",
       "text": [
        "\r",
        "[download]  18.0% of 51.82MiB at 166.46KiB/s ETA 04:21"
       ]
      },
      {
       "output_type": "stream",
       "stream": "stdout",
       "text": [
        "\r",
        "[download]  18.3% of 51.82MiB at 166.34KiB/s ETA 04:20"
       ]
      },
      {
       "output_type": "stream",
       "stream": "stdout",
       "text": [
        "\r",
        "[download]  18.6% of 51.82MiB at 165.08KiB/s ETA 04:21"
       ]
      },
      {
       "output_type": "stream",
       "stream": "stdout",
       "text": [
        "\r",
        "[download]  18.8% of 51.82MiB at 164.48KiB/s ETA 04:21"
       ]
      },
      {
       "output_type": "stream",
       "stream": "stdout",
       "text": [
        "\r",
        "[download]  19.0% of 51.82MiB at 164.47KiB/s ETA 04:21"
       ]
      },
      {
       "output_type": "stream",
       "stream": "stdout",
       "text": [
        "\r",
        "[download]  19.3% of 51.82MiB at 163.51KiB/s ETA 04:21"
       ]
      },
      {
       "output_type": "stream",
       "stream": "stdout",
       "text": [
        "\r",
        "[download]  19.6% of 51.82MiB at 163.73KiB/s ETA 04:20"
       ]
      },
      {
       "output_type": "stream",
       "stream": "stdout",
       "text": [
        "\r",
        "[download]  19.9% of 51.82MiB at 163.68KiB/s ETA 04:19"
       ]
      },
      {
       "output_type": "stream",
       "stream": "stdout",
       "text": [
        "\r",
        "[download]  20.2% of 51.82MiB at 164.30KiB/s ETA 04:17"
       ]
      },
      {
       "output_type": "stream",
       "stream": "stdout",
       "text": [
        "\r",
        "[download]  20.6% of 51.82MiB at 163.67KiB/s ETA 04:17"
       ]
      },
      {
       "output_type": "stream",
       "stream": "stdout",
       "text": [
        "\r",
        "[download]  20.9% of 51.82MiB at 164.21KiB/s ETA 04:15"
       ]
      },
      {
       "output_type": "stream",
       "stream": "stdout",
       "text": [
        "\r",
        "[download]  21.3% of 51.82MiB at 164.65KiB/s ETA 04:13"
       ]
      },
      {
       "output_type": "stream",
       "stream": "stdout",
       "text": [
        "\r",
        "[download]  21.7% of 51.82MiB at 165.63KiB/s ETA 04:10"
       ]
      },
      {
       "output_type": "stream",
       "stream": "stdout",
       "text": [
        "\r",
        "[download]  22.2% of 51.82MiB at 165.43KiB/s ETA 04:09"
       ]
      },
      {
       "output_type": "stream",
       "stream": "stdout",
       "text": [
        "\r",
        "[download]  22.4% of 51.82MiB at 165.01KiB/s ETA 04:09"
       ]
      },
      {
       "output_type": "stream",
       "stream": "stdout",
       "text": [
        "\r",
        "[download]  22.7% of 51.82MiB at 165.06KiB/s ETA 04:08"
       ]
      },
      {
       "output_type": "stream",
       "stream": "stdout",
       "text": [
        "\r",
        "[download]  23.0% of 51.82MiB at 163.24KiB/s ETA 04:10"
       ]
      },
      {
       "output_type": "stream",
       "stream": "stdout",
       "text": [
        "\r",
        "[download]  23.2% of 51.82MiB at 162.22KiB/s ETA 04:11"
       ]
      },
      {
       "output_type": "stream",
       "stream": "stdout",
       "text": [
        "\r",
        "[download]  23.4% of 51.82MiB at 161.47KiB/s ETA 04:11"
       ]
      },
      {
       "output_type": "stream",
       "stream": "stdout",
       "text": [
        "\r",
        "[download]  23.6% of 51.82MiB at 159.74KiB/s ETA 04:13"
       ]
      },
      {
       "output_type": "stream",
       "stream": "stdout",
       "text": [
        "\r",
        "[download]  23.7% of 51.82MiB at 158.87KiB/s ETA 04:14"
       ]
      },
      {
       "output_type": "stream",
       "stream": "stdout",
       "text": [
        "\r",
        "[download]  23.8% of 51.82MiB at 158.33KiB/s ETA 04:15"
       ]
      },
      {
       "output_type": "stream",
       "stream": "stdout",
       "text": [
        "\r",
        "[download]  24.0% of 51.82MiB at 157.58KiB/s ETA 04:15"
       ]
      },
      {
       "output_type": "stream",
       "stream": "stdout",
       "text": [
        "\r",
        "[download]  24.2% of 51.82MiB at 155.93KiB/s ETA 04:17"
       ]
      },
      {
       "output_type": "stream",
       "stream": "stdout",
       "text": [
        "\r",
        "[download]  24.3% of 51.82MiB at 154.01KiB/s ETA 04:20"
       ]
      },
      {
       "output_type": "stream",
       "stream": "stdout",
       "text": [
        "\r",
        "[download]  24.4% of 51.82MiB at 153.90KiB/s ETA 04:20"
       ]
      },
      {
       "output_type": "stream",
       "stream": "stdout",
       "text": [
        "\r",
        "[download]  24.6% of 51.82MiB at 152.97KiB/s ETA 04:21"
       ]
      },
      {
       "output_type": "stream",
       "stream": "stdout",
       "text": [
        "\r",
        "[download]  24.8% of 51.82MiB at 151.99KiB/s ETA 04:22"
       ]
      },
      {
       "output_type": "stream",
       "stream": "stdout",
       "text": [
        "\r",
        "[download]  24.9% of 51.82MiB at 151.28KiB/s ETA 04:23"
       ]
      },
      {
       "output_type": "stream",
       "stream": "stdout",
       "text": [
        "\r",
        "[download]  25.1% of 51.82MiB at 150.34KiB/s ETA 04:24"
       ]
      },
      {
       "output_type": "stream",
       "stream": "stdout",
       "text": [
        "\r",
        "[download]  25.2% of 51.82MiB at 150.25KiB/s ETA 04:24"
       ]
      },
      {
       "output_type": "stream",
       "stream": "stdout",
       "text": [
        "\r",
        "[download]  25.5% of 51.82MiB at 148.05KiB/s ETA 04:27"
       ]
      },
      {
       "output_type": "stream",
       "stream": "stdout",
       "text": [
        "\r",
        "[download]  25.6% of 51.82MiB at 147.85KiB/s ETA 04:27"
       ]
      },
      {
       "output_type": "stream",
       "stream": "stdout",
       "text": [
        "\r",
        "[download]  25.8% of 51.82MiB at 145.92KiB/s ETA 04:29"
       ]
      },
      {
       "output_type": "stream",
       "stream": "stdout",
       "text": [
        "\r",
        "[download]  25.9% of 51.82MiB at 145.36KiB/s ETA 04:30"
       ]
      },
      {
       "output_type": "stream",
       "stream": "stdout",
       "text": [
        "\r",
        "[download]  26.1% of 51.82MiB at 143.56KiB/s ETA 04:33"
       ]
      },
      {
       "output_type": "stream",
       "stream": "stdout",
       "text": [
        "\r",
        "[download]  26.1% of 51.82MiB at 143.14KiB/s ETA 04:33"
       ]
      },
      {
       "output_type": "stream",
       "stream": "stdout",
       "text": [
        "\r",
        "[download]  26.3% of 51.82MiB at 141.85KiB/s ETA 04:35"
       ]
      },
      {
       "output_type": "stream",
       "stream": "stdout",
       "text": [
        "\r",
        "[download]  26.4% of 51.82MiB at 141.65KiB/s ETA 04:35"
       ]
      },
      {
       "output_type": "stream",
       "stream": "stdout",
       "text": [
        "\r",
        "[download]  26.6% of 51.82MiB at 140.76KiB/s ETA 04:36"
       ]
      },
      {
       "output_type": "stream",
       "stream": "stdout",
       "text": [
        "\r",
        "[download]  26.7% of 51.82MiB at 140.67KiB/s ETA 04:36"
       ]
      },
      {
       "output_type": "stream",
       "stream": "stdout",
       "text": [
        "\r",
        "[download]  27.0% of 51.82MiB at 141.04KiB/s ETA 04:34"
       ]
      },
      {
       "output_type": "stream",
       "stream": "stdout",
       "text": [
        "\r",
        "[download]  27.3% of 51.82MiB at 142.09KiB/s ETA 04:31"
       ]
      },
      {
       "output_type": "stream",
       "stream": "stdout",
       "text": [
        "\r",
        "[download]  27.9% of 51.82MiB at 142.94KiB/s ETA 04:27"
       ]
      },
      {
       "output_type": "stream",
       "stream": "stdout",
       "text": [
        "\r",
        "[download]  28.3% of 51.82MiB at 143.66KiB/s ETA 04:24"
       ]
      },
      {
       "output_type": "stream",
       "stream": "stdout",
       "text": [
        "\r",
        "[download]  28.7% of 51.82MiB at 144.67KiB/s ETA 04:21"
       ]
      },
      {
       "output_type": "stream",
       "stream": "stdout",
       "text": [
        "\r",
        "[download]  29.2% of 51.82MiB at 145.78KiB/s ETA 04:17"
       ]
      },
      {
       "output_type": "stream",
       "stream": "stdout",
       "text": [
        "\r",
        "[download]  29.7% of 51.82MiB at 146.46KiB/s ETA 04:14"
       ]
      },
      {
       "output_type": "stream",
       "stream": "stdout",
       "text": [
        "\r",
        "[download]  30.1% of 51.82MiB at 146.68KiB/s ETA 04:12"
       ]
      },
      {
       "output_type": "stream",
       "stream": "stdout",
       "text": [
        "\r",
        "[download]  30.4% of 51.82MiB at 147.51KiB/s ETA 04:10"
       ]
      },
      {
       "output_type": "stream",
       "stream": "stdout",
       "text": [
        "\r",
        "[download]  31.0% of 51.82MiB at 147.93KiB/s ETA 04:07"
       ]
      },
      {
       "output_type": "stream",
       "stream": "stdout",
       "text": [
        "\r",
        "[download]  31.3% of 51.82MiB at 147.86KiB/s ETA 04:06"
       ]
      },
      {
       "output_type": "stream",
       "stream": "stdout",
       "text": [
        "\r",
        "[download]  31.6% of 51.82MiB at 147.21KiB/s ETA 04:06"
       ]
      },
      {
       "output_type": "stream",
       "stream": "stdout",
       "text": [
        "\r",
        "[download]  31.8% of 51.82MiB at 146.13KiB/s ETA 04:07"
       ]
      },
      {
       "output_type": "stream",
       "stream": "stdout",
       "text": [
        "\r",
        "[download]  31.9% of 51.82MiB at 145.63KiB/s ETA 04:08"
       ]
      },
      {
       "output_type": "stream",
       "stream": "stdout",
       "text": [
        "\r",
        "[download]  32.1% of 51.82MiB at 144.91KiB/s ETA 04:08"
       ]
      },
      {
       "output_type": "stream",
       "stream": "stdout",
       "text": [
        "\r",
        "[download]  32.2% of 51.82MiB at 144.91KiB/s ETA 04:08"
       ]
      },
      {
       "output_type": "stream",
       "stream": "stdout",
       "text": [
        "\r",
        "[download]  32.5% of 51.82MiB at 143.53KiB/s ETA 04:09"
       ]
      },
      {
       "output_type": "stream",
       "stream": "stdout",
       "text": [
        "\r",
        "[download]  32.6% of 51.82MiB at 143.16KiB/s ETA 04:09"
       ]
      },
      {
       "output_type": "stream",
       "stream": "stdout",
       "text": [
        "\r",
        "[download]  32.8% of 51.82MiB at 142.74KiB/s ETA 04:09"
       ]
      },
      {
       "output_type": "stream",
       "stream": "stdout",
       "text": [
        "\r",
        "[download]  32.9% of 51.82MiB at 142.33KiB/s ETA 04:10"
       ]
      },
      {
       "output_type": "stream",
       "stream": "stdout",
       "text": [
        "\r",
        "[download]  33.1% of 51.82MiB at 142.20KiB/s ETA 04:09"
       ]
      },
      {
       "output_type": "stream",
       "stream": "stdout",
       "text": [
        "\r",
        "[download]  33.3% of 51.82MiB at 141.77KiB/s ETA 04:09"
       ]
      },
      {
       "output_type": "stream",
       "stream": "stdout",
       "text": [
        "\r",
        "[download]  33.5% of 51.82MiB at 141.65KiB/s ETA 04:09"
       ]
      },
      {
       "output_type": "stream",
       "stream": "stdout",
       "text": [
        "\r",
        "[download]  33.7% of 51.82MiB at 141.46KiB/s ETA 04:08"
       ]
      },
      {
       "output_type": "stream",
       "stream": "stdout",
       "text": [
        "\r",
        "[download]  34.0% of 51.82MiB at 141.43KiB/s ETA 04:07"
       ]
      },
      {
       "output_type": "stream",
       "stream": "stdout",
       "text": [
        "\r",
        "[download]  34.2% of 51.82MiB at 141.35KiB/s ETA 04:06"
       ]
      },
      {
       "output_type": "stream",
       "stream": "stdout",
       "text": [
        "\r",
        "[download]  34.5% of 51.82MiB at 141.37KiB/s ETA 04:05"
       ]
      },
      {
       "output_type": "stream",
       "stream": "stdout",
       "text": [
        "\r",
        "[download]  34.7% of 51.82MiB at 141.89KiB/s ETA 04:04"
       ]
      },
      {
       "output_type": "stream",
       "stream": "stdout",
       "text": [
        "\r",
        "[download]  35.2% of 51.82MiB at 142.65KiB/s ETA 04:00"
       ]
      },
      {
       "output_type": "stream",
       "stream": "stdout",
       "text": [
        "\r",
        "[download]  35.7% of 51.82MiB at 143.24KiB/s ETA 03:58"
       ]
      },
      {
       "output_type": "stream",
       "stream": "stdout",
       "text": [
        "\r",
        "[download]  36.1% of 51.82MiB at 143.06KiB/s ETA 03:57"
       ]
      },
      {
       "output_type": "stream",
       "stream": "stdout",
       "text": [
        "\r",
        "[download]  36.3% of 51.82MiB at 142.27KiB/s ETA 03:57"
       ]
      },
      {
       "output_type": "stream",
       "stream": "stdout",
       "text": [
        "\r",
        "[download]  36.5% of 51.82MiB at 141.96KiB/s ETA 03:57"
       ]
      },
      {
       "output_type": "stream",
       "stream": "stdout",
       "text": [
        "\r",
        "[download]  36.7% of 51.82MiB at 141.61KiB/s ETA 03:57"
       ]
      },
      {
       "output_type": "stream",
       "stream": "stdout",
       "text": [
        "\r",
        "[download]  36.8% of 51.82MiB at 141.52KiB/s ETA 03:56"
       ]
      },
      {
       "output_type": "stream",
       "stream": "stdout",
       "text": [
        "\r",
        "[download]  37.1% of 51.82MiB at 141.44KiB/s ETA 03:56"
       ]
      },
      {
       "output_type": "stream",
       "stream": "stdout",
       "text": [
        "\r",
        "[download]  37.3% of 51.82MiB at 141.90KiB/s ETA 03:54"
       ]
      },
      {
       "output_type": "stream",
       "stream": "stdout",
       "text": [
        "\r",
        "[download]  37.8% of 51.82MiB at 142.43KiB/s ETA 03:51"
       ]
      },
      {
       "output_type": "stream",
       "stream": "stdout",
       "text": [
        "\r",
        "[download]  38.2% of 51.82MiB at 142.64KiB/s ETA 03:49"
       ]
      },
      {
       "output_type": "stream",
       "stream": "stdout",
       "text": [
        "\r",
        "[download]  38.5% of 51.82MiB at 143.32KiB/s ETA 03:47"
       ]
      },
      {
       "output_type": "stream",
       "stream": "stdout",
       "text": [
        "\r",
        "[download]  39.1% of 51.82MiB at 143.81KiB/s ETA 03:44"
       ]
      },
      {
       "output_type": "stream",
       "stream": "stdout",
       "text": [
        "\r",
        "[download]  39.5% of 51.82MiB at 144.18KiB/s ETA 03:42"
       ]
      },
      {
       "output_type": "stream",
       "stream": "stdout",
       "text": [
        "\r",
        "[download]  39.9% of 51.82MiB at 144.30KiB/s ETA 03:41"
       ]
      },
      {
       "output_type": "stream",
       "stream": "stdout",
       "text": [
        "\r",
        "[download]  40.2% of 51.82MiB at 144.53KiB/s ETA 03:39"
       ]
      },
      {
       "output_type": "stream",
       "stream": "stdout",
       "text": [
        "\r",
        "[download]  40.5% of 51.82MiB at 144.33KiB/s ETA 03:38"
       ]
      },
      {
       "output_type": "stream",
       "stream": "stdout",
       "text": [
        "\r",
        "[download]  40.7% of 51.82MiB at 144.17KiB/s ETA 03:38"
       ]
      },
      {
       "output_type": "stream",
       "stream": "stdout",
       "text": [
        "\r",
        "[download]  41.0% of 51.82MiB at 143.89KiB/s ETA 03:37"
       ]
      },
      {
       "output_type": "stream",
       "stream": "stdout",
       "text": [
        "\r",
        "[download]  41.2% of 51.82MiB at 143.73KiB/s ETA 03:37"
       ]
      },
      {
       "output_type": "stream",
       "stream": "stdout",
       "text": [
        "\r",
        "[download]  41.4% of 51.82MiB at 143.67KiB/s ETA 03:36"
       ]
      },
      {
       "output_type": "stream",
       "stream": "stdout",
       "text": [
        "\r",
        "[download]  41.6% of 51.82MiB at 143.43KiB/s ETA 03:35"
       ]
      },
      {
       "output_type": "stream",
       "stream": "stdout",
       "text": [
        "\r",
        "[download]  41.9% of 51.82MiB at 143.27KiB/s ETA 03:35"
       ]
      },
      {
       "output_type": "stream",
       "stream": "stdout",
       "text": [
        "\r",
        "[download]  42.1% of 51.82MiB at 142.97KiB/s ETA 03:34"
       ]
      },
      {
       "output_type": "stream",
       "stream": "stdout",
       "text": [
        "\r",
        "[download]  42.3% of 51.82MiB at 142.89KiB/s ETA 03:34"
       ]
      },
      {
       "output_type": "stream",
       "stream": "stdout",
       "text": [
        "\r",
        "[download]  42.5% of 51.82MiB at 142.55KiB/s ETA 03:33"
       ]
      },
      {
       "output_type": "stream",
       "stream": "stdout",
       "text": [
        "\r",
        "[download]  42.7% of 51.82MiB at 142.78KiB/s ETA 03:32"
       ]
      },
      {
       "output_type": "stream",
       "stream": "stdout",
       "text": [
        "\r",
        "[download]  43.1% of 51.82MiB at 142.78KiB/s ETA 03:31"
       ]
      },
      {
       "output_type": "stream",
       "stream": "stdout",
       "text": [
        "\r",
        "[download]  43.3% of 51.82MiB at 143.02KiB/s ETA 03:30"
       ]
      },
      {
       "output_type": "stream",
       "stream": "stdout",
       "text": [
        "\r",
        "[download]  43.7% of 51.82MiB at 143.59KiB/s ETA 03:27"
       ]
      },
      {
       "output_type": "stream",
       "stream": "stdout",
       "text": [
        "\r",
        "[download]  44.2% of 51.82MiB at 143.79KiB/s ETA 03:25"
       ]
      },
      {
       "output_type": "stream",
       "stream": "stdout",
       "text": [
        "\r",
        "[download]  44.5% of 51.82MiB at 144.21KiB/s ETA 03:24"
       ]
      },
      {
       "output_type": "stream",
       "stream": "stdout",
       "text": [
        "\r",
        "[download]  45.0% of 51.82MiB at 144.47KiB/s ETA 03:21"
       ]
      },
      {
       "output_type": "stream",
       "stream": "stdout",
       "text": [
        "\r",
        "[download]  45.3% of 51.82MiB at 145.01KiB/s ETA 03:20"
       ]
      },
      {
       "output_type": "stream",
       "stream": "stdout",
       "text": [
        "\r",
        "[download]  45.9% of 51.82MiB at 145.04KiB/s ETA 03:17"
       ]
      },
      {
       "output_type": "stream",
       "stream": "stdout",
       "text": [
        "\r",
        "[download]  46.2% of 51.82MiB at 145.16KiB/s ETA 03:16"
       ]
      },
      {
       "output_type": "stream",
       "stream": "stdout",
       "text": [
        "\r",
        "[download]  46.5% of 51.82MiB at 145.31KiB/s ETA 03:15"
       ]
      },
      {
       "output_type": "stream",
       "stream": "stdout",
       "text": [
        "\r",
        "[download]  46.8% of 51.82MiB at 145.43KiB/s ETA 03:14"
       ]
      },
      {
       "output_type": "stream",
       "stream": "stdout",
       "text": [
        "\r",
        "[download]  47.1% of 51.82MiB at 145.62KiB/s ETA 03:12"
       ]
      },
      {
       "output_type": "stream",
       "stream": "stdout",
       "text": [
        "\r",
        "[download]  47.5% of 51.82MiB at 145.75KiB/s ETA 03:11"
       ]
      },
      {
       "output_type": "stream",
       "stream": "stdout",
       "text": [
        "\r",
        "[download]  47.8% of 51.82MiB at 145.56KiB/s ETA 03:10"
       ]
      },
      {
       "output_type": "stream",
       "stream": "stdout",
       "text": [
        "\r",
        "[download]  48.0% of 51.82MiB at 145.69KiB/s ETA 03:09"
       ]
      },
      {
       "output_type": "stream",
       "stream": "stdout",
       "text": [
        "\r",
        "[download]  48.3% of 51.82MiB at 145.80KiB/s ETA 03:07"
       ]
      },
      {
       "output_type": "stream",
       "stream": "stdout",
       "text": [
        "\r",
        "[download]  48.7% of 51.82MiB at 145.98KiB/s ETA 03:06"
       ]
      },
      {
       "output_type": "stream",
       "stream": "stdout",
       "text": [
        "\r",
        "[download]  49.0% of 51.82MiB at 146.09KiB/s ETA 03:05"
       ]
      },
      {
       "output_type": "stream",
       "stream": "stdout",
       "text": [
        "\r",
        "[download]  49.3% of 51.82MiB at 146.37KiB/s ETA 03:03"
       ]
      },
      {
       "output_type": "stream",
       "stream": "stdout",
       "text": [
        "\r",
        "[download]  49.7% of 51.82MiB at 146.82KiB/s ETA 03:01"
       ]
      },
      {
       "output_type": "stream",
       "stream": "stdout",
       "text": [
        "\r",
        "[download]  50.1% of 51.82MiB at 147.49KiB/s ETA 02:59"
       ]
      },
      {
       "output_type": "stream",
       "stream": "stdout",
       "text": [
        "\r",
        "[download]  50.7% of 51.82MiB at 148.45KiB/s ETA 02:56"
       ]
      },
      {
       "output_type": "stream",
       "stream": "stdout",
       "text": [
        "\r",
        "[download]  51.4% of 51.82MiB at 149.38KiB/s ETA 02:52"
       ]
      },
      {
       "output_type": "stream",
       "stream": "stdout",
       "text": [
        "\r",
        "[download]  51.9% of 51.82MiB at 150.37KiB/s ETA 02:49"
       ]
      },
      {
       "output_type": "stream",
       "stream": "stdout",
       "text": [
        "\r",
        "[download]  52.7% of 51.82MiB at 151.18KiB/s ETA 02:46"
       ]
      },
      {
       "output_type": "stream",
       "stream": "stdout",
       "text": [
        "\r",
        "[download]  53.1% of 51.82MiB at 151.70KiB/s ETA 02:43"
       ]
      },
      {
       "output_type": "stream",
       "stream": "stdout",
       "text": [
        "\r",
        "[download]  53.6% of 51.82MiB at 152.28KiB/s ETA 02:41"
       ]
      },
      {
       "output_type": "stream",
       "stream": "stdout",
       "text": [
        "\r",
        "[download]  54.1% of 51.82MiB at 152.75KiB/s ETA 02:39"
       ]
      },
      {
       "output_type": "stream",
       "stream": "stdout",
       "text": [
        "\r",
        "[download]  54.5% of 51.82MiB at 152.34KiB/s ETA 02:38"
       ]
      },
      {
       "output_type": "stream",
       "stream": "stdout",
       "text": [
        "\r",
        "[download]  54.8% of 51.82MiB at 151.77KiB/s ETA 02:38"
       ]
      },
      {
       "output_type": "stream",
       "stream": "stdout",
       "text": [
        "\r",
        "[download]  54.9% of 51.82MiB at 150.88KiB/s ETA 02:38"
       ]
      },
      {
       "output_type": "stream",
       "stream": "stdout",
       "text": [
        "\r",
        "[download]  55.0% of 51.82MiB at 150.85KiB/s ETA 02:38"
       ]
      },
      {
       "output_type": "stream",
       "stream": "stdout",
       "text": [
        "\r",
        "[download]  55.2% of 51.82MiB at 150.37KiB/s ETA 02:38"
       ]
      },
      {
       "output_type": "stream",
       "stream": "stdout",
       "text": [
        "\r",
        "[download]  55.3% of 51.82MiB at 149.81KiB/s ETA 02:38"
       ]
      },
      {
       "output_type": "stream",
       "stream": "stdout",
       "text": [
        "\r",
        "[download]  55.4% of 51.82MiB at 149.25KiB/s ETA 02:38"
       ]
      },
      {
       "output_type": "stream",
       "stream": "stdout",
       "text": [
        "\r",
        "[download]  55.5% of 51.82MiB at 149.09KiB/s ETA 02:38"
       ]
      },
      {
       "output_type": "stream",
       "stream": "stdout",
       "text": [
        "\r",
        "[download]  55.7% of 51.82MiB at 148.19KiB/s ETA 02:38"
       ]
      },
      {
       "output_type": "stream",
       "stream": "stdout",
       "text": [
        "\r",
        "[download]  55.8% of 51.82MiB at 147.82KiB/s ETA 02:38"
       ]
      },
      {
       "output_type": "stream",
       "stream": "stdout",
       "text": [
        "\r",
        "[download]  55.9% of 51.82MiB at 147.59KiB/s ETA 02:38"
       ]
      },
      {
       "output_type": "stream",
       "stream": "stdout",
       "text": [
        "\r",
        "[download]  56.1% of 51.82MiB at 146.91KiB/s ETA 02:38"
       ]
      },
      {
       "output_type": "stream",
       "stream": "stdout",
       "text": [
        "\r",
        "[download]  56.2% of 51.82MiB at 146.43KiB/s ETA 02:38"
       ]
      },
      {
       "output_type": "stream",
       "stream": "stdout",
       "text": [
        "\r",
        "[download]  56.3% of 51.82MiB at 146.10KiB/s ETA 02:38"
       ]
      },
      {
       "output_type": "stream",
       "stream": "stdout",
       "text": [
        "\r",
        "[download]  56.4% of 51.82MiB at 145.85KiB/s ETA 02:38"
       ]
      },
      {
       "output_type": "stream",
       "stream": "stdout",
       "text": [
        "\r",
        "[download]  56.6% of 51.82MiB at 145.53KiB/s ETA 02:38"
       ]
      },
      {
       "output_type": "stream",
       "stream": "stdout",
       "text": [
        "\r",
        "[download]  56.7% of 51.82MiB at 145.08KiB/s ETA 02:38"
       ]
      },
      {
       "output_type": "stream",
       "stream": "stdout",
       "text": [
        "\r",
        "[download]  56.8% of 51.82MiB at 144.38KiB/s ETA 02:38"
       ]
      },
      {
       "output_type": "stream",
       "stream": "stdout",
       "text": [
        "\r",
        "[download]  56.9% of 51.82MiB at 144.22KiB/s ETA 02:38"
       ]
      },
      {
       "output_type": "stream",
       "stream": "stdout",
       "text": [
        "\r",
        "[download]  57.1% of 51.82MiB at 144.06KiB/s ETA 02:38"
       ]
      },
      {
       "output_type": "stream",
       "stream": "stdout",
       "text": [
        "\r",
        "[download]  57.3% of 51.82MiB at 143.76KiB/s ETA 02:37"
       ]
      },
      {
       "output_type": "stream",
       "stream": "stdout",
       "text": [
        "\r",
        "[download]  57.5% of 51.82MiB at 143.28KiB/s ETA 02:37"
       ]
      },
      {
       "output_type": "stream",
       "stream": "stdout",
       "text": [
        "\r",
        "[download]  57.6% of 51.82MiB at 143.09KiB/s ETA 02:37"
       ]
      },
      {
       "output_type": "stream",
       "stream": "stdout",
       "text": [
        "\r",
        "[download]  57.8% of 51.82MiB at 142.74KiB/s ETA 02:37"
       ]
      },
      {
       "output_type": "stream",
       "stream": "stdout",
       "text": [
        "\r",
        "[download]  57.9% of 51.82MiB at 142.49KiB/s ETA 02:36"
       ]
      },
      {
       "output_type": "stream",
       "stream": "stdout",
       "text": [
        "\r",
        "[download]  58.1% of 51.82MiB at 141.82KiB/s ETA 02:36"
       ]
      },
      {
       "output_type": "stream",
       "stream": "stdout",
       "text": [
        "\r",
        "[download]  58.2% of 51.82MiB at 141.59KiB/s ETA 02:36"
       ]
      },
      {
       "output_type": "stream",
       "stream": "stdout",
       "text": [
        "\r",
        "[download]  58.3% of 51.82MiB at 140.91KiB/s ETA 02:37"
       ]
      },
      {
       "output_type": "stream",
       "stream": "stdout",
       "text": [
        "\r",
        "[download]  58.4% of 51.82MiB at 140.81KiB/s ETA 02:36"
       ]
      },
      {
       "output_type": "stream",
       "stream": "stdout",
       "text": [
        "\r",
        "[download]  58.6% of 51.82MiB at 140.28KiB/s ETA 02:36"
       ]
      },
      {
       "output_type": "stream",
       "stream": "stdout",
       "text": [
        "\r",
        "[download]  58.7% of 51.82MiB at 139.92KiB/s ETA 02:36"
       ]
      },
      {
       "output_type": "stream",
       "stream": "stdout",
       "text": [
        "\r",
        "[download]  58.8% of 51.82MiB at 139.53KiB/s ETA 02:36"
       ]
      },
      {
       "output_type": "stream",
       "stream": "stdout",
       "text": [
        "\r",
        "[download]  58.9% of 51.82MiB at 139.27KiB/s ETA 02:36"
       ]
      },
      {
       "output_type": "stream",
       "stream": "stdout",
       "text": [
        "\r",
        "[download]  59.0% of 51.82MiB at 139.22KiB/s ETA 02:36"
       ]
      },
      {
       "output_type": "stream",
       "stream": "stdout",
       "text": [
        "\r",
        "[download]  59.3% of 51.82MiB at 138.75KiB/s ETA 02:35"
       ]
      },
      {
       "output_type": "stream",
       "stream": "stdout",
       "text": [
        "\r",
        "[download]  59.4% of 51.82MiB at 138.54KiB/s ETA 02:35"
       ]
      },
      {
       "output_type": "stream",
       "stream": "stdout",
       "text": [
        "\r",
        "[download]  59.6% of 51.82MiB at 138.36KiB/s ETA 02:35"
       ]
      },
      {
       "output_type": "stream",
       "stream": "stdout",
       "text": [
        "\r",
        "[download]  59.7% of 51.82MiB at 137.91KiB/s ETA 02:34"
       ]
      },
      {
       "output_type": "stream",
       "stream": "stdout",
       "text": [
        "\r",
        "[download]  59.9% of 51.82MiB at 137.71KiB/s ETA 02:34"
       ]
      },
      {
       "output_type": "stream",
       "stream": "stdout",
       "text": [
        "\r",
        "[download]  60.0% of 51.82MiB at 137.47KiB/s ETA 02:34"
       ]
      },
      {
       "output_type": "stream",
       "stream": "stdout",
       "text": [
        "\r",
        "[download]  60.2% of 51.82MiB at 137.28KiB/s ETA 02:33"
       ]
      },
      {
       "output_type": "stream",
       "stream": "stdout",
       "text": [
        "\r",
        "[download]  60.3% of 51.82MiB at 137.22KiB/s ETA 02:33"
       ]
      },
      {
       "output_type": "stream",
       "stream": "stdout",
       "text": [
        "\r",
        "[download]  60.5% of 51.82MiB at 137.19KiB/s ETA 02:32"
       ]
      },
      {
       "output_type": "stream",
       "stream": "stdout",
       "text": [
        "\r",
        "[download]  60.8% of 51.82MiB at 137.45KiB/s ETA 02:31"
       ]
      },
      {
       "output_type": "stream",
       "stream": "stdout",
       "text": [
        "\r",
        "[download]  61.3% of 51.82MiB at 136.96KiB/s ETA 02:29"
       ]
      },
      {
       "output_type": "stream",
       "stream": "stdout",
       "text": [
        "\r",
        "[download]  61.5% of 51.82MiB at 136.85KiB/s ETA 02:29"
       ]
      },
      {
       "output_type": "stream",
       "stream": "stdout",
       "text": [
        "\r",
        "[download]  61.7% of 51.82MiB at 136.77KiB/s ETA 02:28"
       ]
      },
      {
       "output_type": "stream",
       "stream": "stdout",
       "text": [
        "\r",
        "[download]  62.0% of 51.82MiB at 136.81KiB/s ETA 02:27"
       ]
      },
      {
       "output_type": "stream",
       "stream": "stdout",
       "text": [
        "\r",
        "[download]  62.2% of 51.82MiB at 136.82KiB/s ETA 02:26"
       ]
      },
      {
       "output_type": "stream",
       "stream": "stdout",
       "text": [
        "\r",
        "[download]  62.5% of 51.82MiB at 136.96KiB/s ETA 02:25"
       ]
      },
      {
       "output_type": "stream",
       "stream": "stdout",
       "text": [
        "\r",
        "[download]  62.8% of 51.82MiB at 137.04KiB/s ETA 02:23"
       ]
      },
      {
       "output_type": "stream",
       "stream": "stdout",
       "text": [
        "\r",
        "[download]  63.1% of 51.82MiB at 137.05KiB/s ETA 02:22"
       ]
      },
      {
       "output_type": "stream",
       "stream": "stdout",
       "text": [
        "\r",
        "[download]  63.4% of 51.82MiB at 137.28KiB/s ETA 02:21"
       ]
      },
      {
       "output_type": "stream",
       "stream": "stdout",
       "text": [
        "\r",
        "[download]  63.8% of 51.82MiB at 137.66KiB/s ETA 02:19"
       ]
      },
      {
       "output_type": "stream",
       "stream": "stdout",
       "text": [
        "\r",
        "[download]  64.3% of 51.82MiB at 137.81KiB/s ETA 02:17"
       ]
      },
      {
       "output_type": "stream",
       "stream": "stdout",
       "text": [
        "\r",
        "[download]  64.6% of 51.82MiB at 138.07KiB/s ETA 02:16"
       ]
      },
      {
       "output_type": "stream",
       "stream": "stdout",
       "text": [
        "\r",
        "[download]  65.0% of 51.82MiB at 138.19KiB/s ETA 02:14"
       ]
      },
      {
       "output_type": "stream",
       "stream": "stdout",
       "text": [
        "\r",
        "[download]  65.3% of 51.82MiB at 137.99KiB/s ETA 02:13"
       ]
      },
      {
       "output_type": "stream",
       "stream": "stdout",
       "text": [
        "\r",
        "[download]  65.5% of 51.82MiB at 137.96KiB/s ETA 02:12"
       ]
      },
      {
       "output_type": "stream",
       "stream": "stdout",
       "text": [
        "\r",
        "[download]  65.8% of 51.82MiB at 137.78KiB/s ETA 02:11"
       ]
      },
      {
       "output_type": "stream",
       "stream": "stdout",
       "text": [
        "\r",
        "[download]  65.9% of 51.82MiB at 137.65KiB/s ETA 02:11"
       ]
      },
      {
       "output_type": "stream",
       "stream": "stdout",
       "text": [
        "\r",
        "[download]  66.1% of 51.82MiB at 137.65KiB/s ETA 02:10"
       ]
      },
      {
       "output_type": "stream",
       "stream": "stdout",
       "text": [
        "\r",
        "[download]  66.4% of 51.82MiB at 137.75KiB/s ETA 02:09"
       ]
      },
      {
       "output_type": "stream",
       "stream": "stdout",
       "text": [
        "\r",
        "[download]  66.7% of 51.82MiB at 137.69KiB/s ETA 02:08"
       ]
      },
      {
       "output_type": "stream",
       "stream": "stdout",
       "text": [
        "\r",
        "[download]  67.0% of 51.82MiB at 137.71KiB/s ETA 02:07"
       ]
      },
      {
       "output_type": "stream",
       "stream": "stdout",
       "text": [
        "\r",
        "[download]  67.2% of 51.82MiB at 137.84KiB/s ETA 02:06"
       ]
      },
      {
       "output_type": "stream",
       "stream": "stdout",
       "text": [
        "\r",
        "[download]  67.6% of 51.82MiB at 137.87KiB/s ETA 02:04"
       ]
      },
      {
       "output_type": "stream",
       "stream": "stdout",
       "text": [
        "\r",
        "[download]  67.8% of 51.82MiB at 138.04KiB/s ETA 02:03"
       ]
      },
      {
       "output_type": "stream",
       "stream": "stdout",
       "text": [
        "\r",
        "[download]  68.2% of 51.82MiB at 138.20KiB/s ETA 02:02"
       ]
      },
      {
       "output_type": "stream",
       "stream": "stdout",
       "text": [
        "\r",
        "[download]  68.5% of 51.82MiB at 138.21KiB/s ETA 02:00"
       ]
      },
      {
       "output_type": "stream",
       "stream": "stdout",
       "text": [
        "\r",
        "[download]  68.8% of 51.82MiB at 138.29KiB/s ETA 01:59"
       ]
      },
      {
       "output_type": "stream",
       "stream": "stdout",
       "text": [
        "\r",
        "[download]  69.1% of 51.82MiB at 138.32KiB/s ETA 01:58"
       ]
      },
      {
       "output_type": "stream",
       "stream": "stdout",
       "text": [
        "\r",
        "[download]  69.4% of 51.82MiB at 138.39KiB/s ETA 01:57"
       ]
      },
      {
       "output_type": "stream",
       "stream": "stdout",
       "text": [
        "\r",
        "[download]  69.7% of 51.82MiB at 138.35KiB/s ETA 01:56"
       ]
      },
      {
       "output_type": "stream",
       "stream": "stdout",
       "text": [
        "\r",
        "[download]  69.9% of 51.82MiB at 137.81KiB/s ETA 01:55"
       ]
      },
      {
       "output_type": "stream",
       "stream": "stdout",
       "text": [
        "\r",
        "[download]  70.1% of 51.82MiB at 137.45KiB/s ETA 01:55"
       ]
      },
      {
       "output_type": "stream",
       "stream": "stdout",
       "text": [
        "\r",
        "[download]  70.2% of 51.82MiB at 137.38KiB/s ETA 01:55"
       ]
      },
      {
       "output_type": "stream",
       "stream": "stdout",
       "text": [
        "\r",
        "[download]  70.3% of 51.82MiB at 137.07KiB/s ETA 01:54"
       ]
      },
      {
       "output_type": "stream",
       "stream": "stdout",
       "text": [
        "\r",
        "[download]  70.5% of 51.82MiB at 136.76KiB/s ETA 01:54"
       ]
      },
      {
       "output_type": "stream",
       "stream": "stdout",
       "text": [
        "\r",
        "[download]  70.6% of 51.82MiB at 136.69KiB/s ETA 01:54"
       ]
      },
      {
       "output_type": "stream",
       "stream": "stdout",
       "text": [
        "\r",
        "[download]  70.8% of 51.82MiB at 136.51KiB/s ETA 01:53"
       ]
      },
      {
       "output_type": "stream",
       "stream": "stdout",
       "text": [
        "\r",
        "[download]  71.0% of 51.82MiB at 136.17KiB/s ETA 01:53"
       ]
      },
      {
       "output_type": "stream",
       "stream": "stdout",
       "text": [
        "\r",
        "[download]  71.1% of 51.82MiB at 135.92KiB/s ETA 01:52"
       ]
      },
      {
       "output_type": "stream",
       "stream": "stdout",
       "text": [
        "\r",
        "[download]  71.2% of 51.82MiB at 135.82KiB/s ETA 01:52"
       ]
      },
      {
       "output_type": "stream",
       "stream": "stdout",
       "text": [
        "\r",
        "[download]  71.4% of 51.82MiB at 135.37KiB/s ETA 01:52"
       ]
      },
      {
       "output_type": "stream",
       "stream": "stdout",
       "text": [
        "\r",
        "[download]  71.5% of 51.82MiB at 135.23KiB/s ETA 01:51"
       ]
      },
      {
       "output_type": "stream",
       "stream": "stdout",
       "text": [
        "\r",
        "[download]  71.7% of 51.82MiB at 135.21KiB/s ETA 01:51"
       ]
      },
      {
       "output_type": "stream",
       "stream": "stdout",
       "text": [
        "\r",
        "[download]  71.9% of 51.82MiB at 135.20KiB/s ETA 01:50"
       ]
      },
      {
       "output_type": "stream",
       "stream": "stdout",
       "text": [
        "\r",
        "[download]  72.2% of 51.82MiB at 134.84KiB/s ETA 01:49"
       ]
      },
      {
       "output_type": "stream",
       "stream": "stdout",
       "text": [
        "\r",
        "[download]  72.3% of 51.82MiB at 134.80KiB/s ETA 01:48"
       ]
      },
      {
       "output_type": "stream",
       "stream": "stdout",
       "text": [
        "\r",
        "[download]  72.5% of 51.82MiB at 134.58KiB/s ETA 01:48"
       ]
      },
      {
       "output_type": "stream",
       "stream": "stdout",
       "text": [
        "\r",
        "[download]  72.7% of 51.82MiB at 134.55KiB/s ETA 01:47"
       ]
      },
      {
       "output_type": "stream",
       "stream": "stdout",
       "text": [
        "\r",
        "[download]  72.9% of 51.82MiB at 134.48KiB/s ETA 01:46"
       ]
      },
      {
       "output_type": "stream",
       "stream": "stdout",
       "text": [
        "\r",
        "[download]  73.2% of 51.82MiB at 134.48KiB/s ETA 01:45"
       ]
      },
      {
       "output_type": "stream",
       "stream": "stdout",
       "text": [
        "\r",
        "[download]  73.4% of 51.82MiB at 134.58KiB/s ETA 01:44"
       ]
      },
      {
       "output_type": "stream",
       "stream": "stdout",
       "text": [
        "\r",
        "[download]  73.7% of 51.82MiB at 134.37KiB/s ETA 01:43"
       ]
      },
      {
       "output_type": "stream",
       "stream": "stdout",
       "text": [
        "\r",
        "[download]  73.9% of 51.82MiB at 134.48KiB/s ETA 01:42"
       ]
      },
      {
       "output_type": "stream",
       "stream": "stdout",
       "text": [
        "\r",
        "[download]  74.3% of 51.82MiB at 134.65KiB/s ETA 01:41"
       ]
      },
      {
       "output_type": "stream",
       "stream": "stdout",
       "text": [
        "\r",
        "[download]  74.6% of 51.82MiB at 134.71KiB/s ETA 01:39"
       ]
      },
      {
       "output_type": "stream",
       "stream": "stdout",
       "text": [
        "\r",
        "[download]  74.9% of 51.82MiB at 134.59KiB/s ETA 01:38"
       ]
      },
      {
       "output_type": "stream",
       "stream": "stdout",
       "text": [
        "\r",
        "[download]  75.1% of 51.82MiB at 134.71KiB/s ETA 01:38"
       ]
      },
      {
       "output_type": "stream",
       "stream": "stdout",
       "text": [
        "\r",
        "[download]  75.5% of 51.82MiB at 134.88KiB/s ETA 01:36"
       ]
      },
      {
       "output_type": "stream",
       "stream": "stdout",
       "text": [
        "\r",
        "[download]  75.8% of 51.82MiB at 133.99KiB/s ETA 01:35"
       ]
      },
      {
       "output_type": "stream",
       "stream": "stdout",
       "text": [
        "\r",
        "[download]  76.0% of 51.82MiB at 133.62KiB/s ETA 01:35"
       ]
      },
      {
       "output_type": "stream",
       "stream": "stdout",
       "text": [
        "\r",
        "[download]  76.1% of 51.82MiB at 133.34KiB/s ETA 01:35"
       ]
      },
      {
       "output_type": "stream",
       "stream": "stdout",
       "text": [
        "\r",
        "[download]  76.2% of 51.82MiB at 133.35KiB/s ETA 01:34"
       ]
      },
      {
       "output_type": "stream",
       "stream": "stdout",
       "text": [
        "\r",
        "[download]  76.4% of 51.82MiB at 133.26KiB/s ETA 01:33"
       ]
      },
      {
       "output_type": "stream",
       "stream": "stdout",
       "text": [
        "\r",
        "[download]  76.6% of 51.82MiB at 133.38KiB/s ETA 01:32"
       ]
      },
      {
       "output_type": "stream",
       "stream": "stdout",
       "text": [
        "\r",
        "[download]  77.0% of 51.82MiB at 133.78KiB/s ETA 01:31"
       ]
      },
      {
       "output_type": "stream",
       "stream": "stdout",
       "text": [
        "\r",
        "[download]  77.7% of 51.82MiB at 134.18KiB/s ETA 01:28"
       ]
      },
      {
       "output_type": "stream",
       "stream": "stdout",
       "text": [
        "\r",
        "[download]  78.1% of 51.82MiB at 134.61KiB/s ETA 01:26"
       ]
      },
      {
       "output_type": "stream",
       "stream": "stdout",
       "text": [
        "\r",
        "[download]  78.8% of 51.82MiB at 135.47KiB/s ETA 01:22"
       ]
      },
      {
       "output_type": "stream",
       "stream": "stdout",
       "text": [
        "\r",
        "[download]  79.6% of 51.82MiB at 136.25KiB/s ETA 01:19"
       ]
      },
      {
       "output_type": "stream",
       "stream": "stdout",
       "text": [
        "\r",
        "[download]  80.2% of 51.82MiB at 136.97KiB/s ETA 01:16"
       ]
      },
      {
       "output_type": "stream",
       "stream": "stdout",
       "text": [
        "\r",
        "[download]  81.0% of 51.82MiB at 137.37KiB/s ETA 01:13"
       ]
      },
      {
       "output_type": "stream",
       "stream": "stdout",
       "text": [
        "\r",
        "[download]  81.3% of 51.82MiB at 137.71KiB/s ETA 01:11"
       ]
      },
      {
       "output_type": "stream",
       "stream": "stdout",
       "text": [
        "\r",
        "[download]  81.9% of 51.82MiB at 137.97KiB/s ETA 01:09"
       ]
      },
      {
       "output_type": "stream",
       "stream": "stdout",
       "text": [
        "\r",
        "[download]  82.2% of 51.82MiB at 138.20KiB/s ETA 01:08"
       ]
      },
      {
       "output_type": "stream",
       "stream": "stdout",
       "text": [
        "\r",
        "[download]  82.7% of 51.82MiB at 138.40KiB/s ETA 01:06"
       ]
      },
      {
       "output_type": "stream",
       "stream": "stdout",
       "text": [
        "\r",
        "[download]  83.0% of 51.82MiB at 138.57KiB/s ETA 01:04"
       ]
      },
      {
       "output_type": "stream",
       "stream": "stdout",
       "text": [
        "\r",
        "[download]  83.4% of 51.82MiB at 138.91KiB/s ETA 01:03"
       ]
      },
      {
       "output_type": "stream",
       "stream": "stdout",
       "text": [
        "\r",
        "[download]  84.0% of 51.82MiB at 138.84KiB/s ETA 01:01"
       ]
      },
      {
       "output_type": "stream",
       "stream": "stdout",
       "text": [
        "\r",
        "[download]  84.3% of 51.82MiB at 139.34KiB/s ETA 00:59"
       ]
      },
      {
       "output_type": "stream",
       "stream": "stdout",
       "text": [
        "\r",
        "[download]  84.9% of 51.82MiB at 139.99KiB/s ETA 00:57"
       ]
      },
      {
       "output_type": "stream",
       "stream": "stdout",
       "text": [
        "\r",
        "[download]  85.7% of 51.82MiB at 140.92KiB/s ETA 00:53"
       ]
      },
      {
       "output_type": "stream",
       "stream": "stdout",
       "text": [
        "\r",
        "[download]  86.7% of 51.82MiB at 141.98KiB/s ETA 00:49"
       ]
      },
      {
       "output_type": "stream",
       "stream": "stdout",
       "text": [
        "\r",
        "[download]  87.4% of 51.82MiB at 142.68KiB/s ETA 00:46"
       ]
      },
      {
       "output_type": "stream",
       "stream": "stdout",
       "text": [
        "\r",
        "[download]  88.1% of 51.82MiB at 143.54KiB/s ETA 00:44"
       ]
      },
      {
       "output_type": "stream",
       "stream": "stdout",
       "text": [
        "\r",
        "[download]  89.4% of 51.82MiB at 145.17KiB/s ETA 00:38"
       ]
      },
      {
       "output_type": "stream",
       "stream": "stdout",
       "text": [
        "\r",
        "[download]  90.6% of 51.82MiB at 146.45KiB/s ETA 00:34"
       ]
      },
      {
       "output_type": "stream",
       "stream": "stdout",
       "text": [
        "\r",
        "[download]  91.4% of 51.82MiB at 147.33KiB/s ETA 00:31"
       ]
      },
      {
       "output_type": "stream",
       "stream": "stdout",
       "text": [
        "\r",
        "[download]  92.4% of 51.82MiB at 148.16KiB/s ETA 00:27"
       ]
      },
      {
       "output_type": "stream",
       "stream": "stdout",
       "text": [
        "\r",
        "[download]  92.9% of 51.82MiB at 148.63KiB/s ETA 00:25"
       ]
      },
      {
       "output_type": "stream",
       "stream": "stdout",
       "text": [
        "\r",
        "[download]  93.5% of 51.82MiB at 148.60KiB/s ETA 00:23"
       ]
      },
      {
       "output_type": "stream",
       "stream": "stdout",
       "text": [
        "\r",
        "[download]  93.8% of 51.82MiB at 148.42KiB/s ETA 00:22"
       ]
      },
      {
       "output_type": "stream",
       "stream": "stdout",
       "text": [
        "\r",
        "[download]  94.0% of 51.82MiB at 148.34KiB/s ETA 00:21"
       ]
      },
      {
       "output_type": "stream",
       "stream": "stdout",
       "text": [
        "\r",
        "[download]  94.2% of 51.82MiB at 148.29KiB/s ETA 00:20"
       ]
      },
      {
       "output_type": "stream",
       "stream": "stdout",
       "text": [
        "\r",
        "[download]  94.5% of 51.82MiB at 148.22KiB/s ETA 00:19"
       ]
      },
      {
       "output_type": "stream",
       "stream": "stdout",
       "text": [
        "\r",
        "[download]  94.7% of 51.82MiB at 148.18KiB/s ETA 00:19"
       ]
      },
      {
       "output_type": "stream",
       "stream": "stdout",
       "text": [
        "\r",
        "[download]  94.9% of 51.82MiB at 148.20KiB/s ETA 00:18"
       ]
      },
      {
       "output_type": "stream",
       "stream": "stdout",
       "text": [
        "\r",
        "[download]  95.2% of 51.82MiB at 147.85KiB/s ETA 00:17"
       ]
      },
      {
       "output_type": "stream",
       "stream": "stdout",
       "text": [
        "\r",
        "[download]  95.4% of 51.82MiB at 147.71KiB/s ETA 00:16"
       ]
      },
      {
       "output_type": "stream",
       "stream": "stdout",
       "text": [
        "\r",
        "[download]  95.6% of 51.82MiB at 147.68KiB/s ETA 00:15"
       ]
      },
      {
       "output_type": "stream",
       "stream": "stdout",
       "text": [
        "\r",
        "[download]  95.8% of 51.82MiB at 147.46KiB/s ETA 00:15"
       ]
      },
      {
       "output_type": "stream",
       "stream": "stdout",
       "text": [
        "\r",
        "[download]  96.0% of 51.82MiB at 147.37KiB/s ETA 00:14"
       ]
      },
      {
       "output_type": "stream",
       "stream": "stdout",
       "text": [
        "\r",
        "[download]  96.2% of 51.82MiB at 147.38KiB/s ETA 00:13"
       ]
      },
      {
       "output_type": "stream",
       "stream": "stdout",
       "text": [
        "\r",
        "[download]  96.5% of 51.82MiB at 147.10KiB/s ETA 00:12"
       ]
      },
      {
       "output_type": "stream",
       "stream": "stdout",
       "text": [
        "\r",
        "[download]  96.7% of 51.82MiB at 147.09KiB/s ETA 00:12"
       ]
      },
      {
       "output_type": "stream",
       "stream": "stdout",
       "text": [
        "\r",
        "[download]  96.9% of 51.82MiB at 147.06KiB/s ETA 00:11"
       ]
      },
      {
       "output_type": "stream",
       "stream": "stdout",
       "text": [
        "\r",
        "[download]  97.2% of 51.82MiB at 146.82KiB/s ETA 00:10"
       ]
      },
      {
       "output_type": "stream",
       "stream": "stdout",
       "text": [
        "\r",
        "[download]  97.4% of 51.82MiB at 146.84KiB/s ETA 00:09"
       ]
      },
      {
       "output_type": "stream",
       "stream": "stdout",
       "text": [
        "\r",
        "[download]  97.7% of 51.82MiB at 146.58KiB/s ETA 00:08"
       ]
      },
      {
       "output_type": "stream",
       "stream": "stdout",
       "text": [
        "\r",
        "[download]  97.9% of 51.82MiB at 146.37KiB/s ETA 00:07"
       ]
      },
      {
       "output_type": "stream",
       "stream": "stdout",
       "text": [
        "\r",
        "[download]  98.0% of 51.82MiB at 146.10KiB/s ETA 00:07"
       ]
      },
      {
       "output_type": "stream",
       "stream": "stdout",
       "text": [
        "\r",
        "[download]  98.1% of 51.82MiB at 145.84KiB/s ETA 00:06"
       ]
      },
      {
       "output_type": "stream",
       "stream": "stdout",
       "text": [
        "\r",
        "[download]  98.2% of 51.82MiB at 145.54KiB/s ETA 00:06"
       ]
      },
      {
       "output_type": "stream",
       "stream": "stdout",
       "text": [
        "\r",
        "[download]  98.3% of 51.82MiB at 145.55KiB/s ETA 00:06"
       ]
      },
      {
       "output_type": "stream",
       "stream": "stdout",
       "text": [
        "\r",
        "[download]  98.6% of 51.82MiB at 145.50KiB/s ETA 00:05"
       ]
      },
      {
       "output_type": "stream",
       "stream": "stdout",
       "text": [
        "\r",
        "[download]  98.8% of 51.82MiB at 145.46KiB/s ETA 00:04"
       ]
      },
      {
       "output_type": "stream",
       "stream": "stdout",
       "text": [
        "\r",
        "[download]  99.0% of 51.82MiB at 145.58KiB/s ETA 00:03"
       ]
      },
      {
       "output_type": "stream",
       "stream": "stdout",
       "text": [
        "\r",
        "[download]  99.4% of 51.82MiB at 145.80KiB/s ETA 00:02"
       ]
      },
      {
       "output_type": "stream",
       "stream": "stdout",
       "text": [
        "\r",
        "[download]  99.9% of 51.82MiB at 145.95KiB/s ETA 00:00"
       ]
      },
      {
       "output_type": "stream",
       "stream": "stdout",
       "text": [
        "\r",
        "[download] 100.0% of 51.82MiB at 146.13KiB/s ETA 00:00"
       ]
      },
      {
       "output_type": "stream",
       "stream": "stdout",
       "text": [
        "\r",
        "[download] 100% of 51.82MiB in 06:03\n"
       ]
      },
      {
       "output_type": "stream",
       "stream": "stdout",
       "text": [
        "Processing ./The Rise of Superheroes and Their Impact On Pop Culture/Course Introduction/01.02.*...\n",
        "https://courses.edx.org/courses/course-v1:SmithsonianX+POPX1.1x+2015_T2/courseware/372a806b0894443ea7e15f06694826ef/4e2d823b7cae434da77717622c6ad37a\n",
        "The First Comic Book Course"
       ]
      },
      {
       "output_type": "stream",
       "stream": "stdout",
       "text": [
        "\n",
        "http://www.youtube.com/watch?v=sjDgCgcY1TA\n",
        "[01.02.01] Learn More About Our Team (The First Comic Book Course)\n",
        "./The Rise of Superheroes and Their Impact On Pop Culture/Course Introduction/01.02.01 Learn More About Our Team (The First Comic Book Course).%(ext)s\n",
        "[youtube] sjDgCgcY1TA: Downloading webpage\n"
       ]
      },
      {
       "output_type": "stream",
       "stream": "stdout",
       "text": [
        "[youtube] sjDgCgcY1TA: Extracting video information\n"
       ]
      },
      {
       "output_type": "stream",
       "stream": "stdout",
       "text": [
        "[youtube] sjDgCgcY1TA: Downloading DASH manifest\n"
       ]
      },
      {
       "output_type": "stream",
       "stream": "stdout",
       "text": [
        "[debug] Invoking downloader on u'https://r1---sn-nx5jvh-q5ge.googlevideo.com/videoplayback?fexp=9405995%2C9406994%2C9408215%2C9408710%2C9409069%2C9409205%2C9413123%2C9415365%2C9415485%2C9415822%2C9416023%2C9416126%2C9416729%2C9417014%2C9417707%2C9418153%2C9418204%2C9418394%2C9418448%2C9419232%2C9419403%2C9419786%2C9419788%2C9420329%2C9420348%2C9420799%2C9420842&mime=video%2Fmp4&itag=22&pl=15&mt=1442070901&mv=m&ms=au&requiressl=yes&ratebypass=yes&mm=31&mn=sn-nx5jvh-q5ge&source=youtube&initcwndbps=123750&id=o-AA3KFXoFjL-IH-mjz_FZf0RYVOkB8rOW11fqSUnFzAbe&sver=3&ip=154.122.182.51&key=yt5&lmt=1432279639151794&dur=169.900&expire=1442092568&upn=wWwl-PBarOE&signature=D561E9B21BF4BF5315719CFFE078310FD5D47470.DC98F913B023D18535F4E44E0C3D1B77CC90ABA3&sparams=dur%2Cid%2Cinitcwndbps%2Cip%2Cipbits%2Citag%2Clmt%2Cmime%2Cmm%2Cmn%2Cms%2Cmv%2Cpl%2Cratebypass%2Crequiressl%2Csource%2Cupn%2Cexpire&ipbits=0'\n"
       ]
      },
      {
       "output_type": "stream",
       "stream": "stdout",
       "text": [
        "[download] Destination: ./The Rise of Superheroes and Their Impact On Pop Culture/Course Introduction/01.02.01 Learn More About Our Team (The First Comic Book Course).mp4\n"
       ]
      },
      {
       "output_type": "stream",
       "stream": "stdout",
       "text": [
        "\r",
        "[download]   0.0% of 41.65MiB at  8.17KiB/s ETA 01:26:59"
       ]
      },
      {
       "output_type": "stream",
       "stream": "stdout",
       "text": [
        "\r",
        "[download]   0.0% of 41.65MiB at  9.09KiB/s ETA 01:18:13"
       ]
      },
      {
       "output_type": "stream",
       "stream": "stdout",
       "text": [
        "\r",
        "[download]   0.0% of 41.65MiB at 21.13KiB/s ETA 33:38"
       ]
      },
      {
       "output_type": "stream",
       "stream": "stdout",
       "text": [
        "\r",
        "[download]   0.0% of 41.65MiB at 45.06KiB/s ETA 15:46"
       ]
      },
      {
       "output_type": "stream",
       "stream": "stdout",
       "text": [
        "\r",
        "[download]   0.1% of 41.65MiB at 55.27KiB/s ETA 12:51"
       ]
      },
      {
       "output_type": "stream",
       "stream": "stdout",
       "text": [
        "\r",
        "[download]   0.1% of 41.65MiB at 88.65KiB/s ETA 08:00"
       ]
      },
      {
       "output_type": "stream",
       "stream": "stdout",
       "text": [
        "\r",
        "[download]   0.3% of 41.65MiB at 136.09KiB/s ETA 05:12"
       ]
      },
      {
       "output_type": "stream",
       "stream": "stdout",
       "text": [
        "\r",
        "[download]   0.6% of 41.65MiB at 191.50KiB/s ETA 03:41"
       ]
      },
      {
       "output_type": "stream",
       "stream": "stdout",
       "text": [
        "\r",
        "[download]   1.2% of 41.65MiB at 201.90KiB/s ETA 03:28"
       ]
      },
      {
       "output_type": "stream",
       "stream": "stdout",
       "text": [
        "\r",
        "[download]   1.7% of 41.65MiB at 217.53KiB/s ETA 03:12"
       ]
      },
      {
       "output_type": "stream",
       "stream": "stdout",
       "text": [
        "\r",
        "[download]   2.3% of 41.65MiB at 232.19KiB/s ETA 02:59"
       ]
      },
      {
       "output_type": "stream",
       "stream": "stdout",
       "text": [
        "\r",
        "[download]   3.0% of 41.65MiB at 239.11KiB/s ETA 02:53"
       ]
      },
      {
       "output_type": "stream",
       "stream": "stdout",
       "text": [
        "\r",
        "[download]   3.6% of 41.65MiB at 238.19KiB/s ETA 02:52"
       ]
      },
      {
       "output_type": "stream",
       "stream": "stdout",
       "text": [
        "\r",
        "[download]   4.2% of 41.65MiB at 249.94KiB/s ETA 02:43"
       ]
      },
      {
       "output_type": "stream",
       "stream": "stdout",
       "text": [
        "\r",
        "[download]   5.0% of 41.65MiB at 249.70KiB/s ETA 02:42"
       ]
      },
      {
       "output_type": "stream",
       "stream": "stdout",
       "text": [
        "\r",
        "[download]   5.6% of 41.65MiB at 264.67KiB/s ETA 02:32"
       ]
      },
      {
       "output_type": "stream",
       "stream": "stdout",
       "text": [
        "\r",
        "[download]   6.8% of 41.65MiB at 290.38KiB/s ETA 02:16"
       ]
      },
      {
       "output_type": "stream",
       "stream": "stdout",
       "text": [
        "\r",
        "[download]   8.1% of 41.65MiB at 293.96KiB/s ETA 02:13"
       ]
      },
      {
       "output_type": "stream",
       "stream": "stdout",
       "text": [
        "\r",
        "[download]   8.8% of 41.65MiB at 306.65KiB/s ETA 02:06"
       ]
      },
      {
       "output_type": "stream",
       "stream": "stdout",
       "text": [
        "\r",
        "[download]  10.2% of 41.65MiB at 321.40KiB/s ETA 01:59"
       ]
      },
      {
       "output_type": "stream",
       "stream": "stdout",
       "text": [
        "\r",
        "[download]  11.3% of 41.65MiB at 335.60KiB/s ETA 01:52"
       ]
      },
      {
       "output_type": "stream",
       "stream": "stdout",
       "text": [
        "\r",
        "[download]  12.6% of 41.65MiB at 321.38KiB/s ETA 01:55"
       ]
      },
      {
       "output_type": "stream",
       "stream": "stdout",
       "text": [
        "\r",
        "[download]  13.3% of 41.65MiB at 321.52KiB/s ETA 01:55"
       ]
      },
      {
       "output_type": "stream",
       "stream": "stdout",
       "text": [
        "\r",
        "[download]  14.0% of 41.65MiB at 321.61KiB/s ETA 01:53"
       ]
      },
      {
       "output_type": "stream",
       "stream": "stdout",
       "text": [
        "\r",
        "[download]  14.8% of 41.65MiB at 324.58KiB/s ETA 01:51"
       ]
      },
      {
       "output_type": "stream",
       "stream": "stdout",
       "text": [
        "\r",
        "[download]  15.7% of 41.65MiB at 326.79KiB/s ETA 01:49"
       ]
      },
      {
       "output_type": "stream",
       "stream": "stdout",
       "text": [
        "\r",
        "[download]  16.6% of 41.65MiB at 272.74KiB/s ETA 02:10"
       ]
      },
      {
       "output_type": "stream",
       "stream": "stdout",
       "text": [
        "\r",
        "[download]  17.0% of 41.65MiB at 279.79KiB/s ETA 02:06"
       ]
      },
      {
       "output_type": "stream",
       "stream": "stdout",
       "text": [
        "\r",
        "[download]  17.9% of 41.65MiB at 293.91KiB/s ETA 01:59"
       ]
      },
      {
       "output_type": "stream",
       "stream": "stdout",
       "text": [
        "\r",
        "[download]  19.6% of 41.65MiB at 322.20KiB/s ETA 01:46"
       ]
      },
      {
       "output_type": "stream",
       "stream": "stdout",
       "text": [
        "\r",
        "[download]  23.0% of 41.65MiB at 352.13KiB/s ETA 01:33"
       ]
      },
      {
       "output_type": "stream",
       "stream": "stdout",
       "text": [
        "\r",
        "[download]  24.8% of 41.65MiB at 366.84KiB/s ETA 01:27"
       ]
      },
      {
       "output_type": "stream",
       "stream": "stdout",
       "text": [
        "\r",
        "[download]  26.7% of 41.65MiB at 382.14KiB/s ETA 01:21"
       ]
      },
      {
       "output_type": "stream",
       "stream": "stdout",
       "text": [
        "\r",
        "[download]  28.7% of 41.65MiB at 386.41KiB/s ETA 01:18"
       ]
      },
      {
       "output_type": "stream",
       "stream": "stdout",
       "text": [
        "\r",
        "[download]  29.7% of 41.65MiB at 365.70KiB/s ETA 01:21"
       ]
      },
      {
       "output_type": "stream",
       "stream": "stdout",
       "text": [
        "\r",
        "[download]  30.3% of 41.65MiB at 371.42KiB/s ETA 01:20"
       ]
      },
      {
       "output_type": "stream",
       "stream": "stdout",
       "text": [
        "\r",
        "[download]  31.3% of 41.65MiB at 379.99KiB/s ETA 01:17"
       ]
      },
      {
       "output_type": "stream",
       "stream": "stdout",
       "text": [
        "\r",
        "[download]  33.5% of 41.65MiB at 402.74KiB/s ETA 01:10"
       ]
      },
      {
       "output_type": "stream",
       "stream": "stdout",
       "text": [
        "\r",
        "[download]  37.8% of 41.65MiB at 397.82KiB/s ETA 01:06"
       ]
      },
      {
       "output_type": "stream",
       "stream": "stdout",
       "text": [
        "\r",
        "[download]  39.9% of 41.65MiB at 400.88KiB/s ETA 01:03"
       ]
      },
      {
       "output_type": "stream",
       "stream": "stdout",
       "text": [
        "\r",
        "[download]  41.0% of 41.65MiB at 400.35KiB/s ETA 01:02"
       ]
      },
      {
       "output_type": "stream",
       "stream": "stdout",
       "text": [
        "\r",
        "[download]  41.9% of 41.65MiB at 400.02KiB/s ETA 01:01"
       ]
      },
      {
       "output_type": "stream",
       "stream": "stdout",
       "text": [
        "\r",
        "[download]  42.8% of 41.65MiB at 399.86KiB/s ETA 01:01"
       ]
      },
      {
       "output_type": "stream",
       "stream": "stdout",
       "text": [
        "\r",
        "[download]  43.7% of 41.65MiB at 273.47KiB/s ETA 01:27"
       ]
      },
      {
       "output_type": "stream",
       "stream": "stdout",
       "text": [
        "\r",
        "[download]  44.2% of 41.65MiB at 269.15KiB/s ETA 01:28"
       ]
      },
      {
       "output_type": "stream",
       "stream": "stdout",
       "text": [
        "\r",
        "[download]  44.4% of 41.65MiB at 270.69KiB/s ETA 01:27"
       ]
      },
      {
       "output_type": "stream",
       "stream": "stdout",
       "text": [
        "\r",
        "[download]  44.9% of 41.65MiB at 273.76KiB/s ETA 01:25"
       ]
      },
      {
       "output_type": "stream",
       "stream": "stdout",
       "text": [
        "\r",
        "[download]  46.0% of 41.65MiB at 271.78KiB/s ETA 01:24"
       ]
      },
      {
       "output_type": "stream",
       "stream": "stdout",
       "text": [
        "\r",
        "[download]  46.5% of 41.65MiB at 271.42KiB/s ETA 01:24"
       ]
      },
      {
       "output_type": "stream",
       "stream": "stdout",
       "text": [
        "\r",
        "[download]  47.0% of 41.65MiB at 273.58KiB/s ETA 01:22"
       ]
      },
      {
       "output_type": "stream",
       "stream": "stdout",
       "text": [
        "\r",
        "[download]  48.2% of 41.65MiB at 277.46KiB/s ETA 01:19"
       ]
      },
      {
       "output_type": "stream",
       "stream": "stdout",
       "text": [
        "\r",
        "[download]  49.7% of 41.65MiB at 279.24KiB/s ETA 01:16"
       ]
      },
      {
       "output_type": "stream",
       "stream": "stdout",
       "text": [
        "\r",
        "[download]  50.6% of 41.65MiB at 280.92KiB/s ETA 01:15"
       ]
      },
      {
       "output_type": "stream",
       "stream": "stdout",
       "text": [
        "\r",
        "[download]  51.6% of 41.65MiB at 282.88KiB/s ETA 01:12"
       ]
      },
      {
       "output_type": "stream",
       "stream": "stdout",
       "text": [
        "\r",
        "[download]  52.6% of 41.65MiB at 285.45KiB/s ETA 01:10"
       ]
      },
      {
       "output_type": "stream",
       "stream": "stdout",
       "text": [
        "\r",
        "[download]  53.9% of 41.65MiB at 286.32KiB/s ETA 01:08"
       ]
      },
      {
       "output_type": "stream",
       "stream": "stdout",
       "text": [
        "\r",
        "[download]  54.6% of 41.65MiB at 288.58KiB/s ETA 01:07"
       ]
      },
      {
       "output_type": "stream",
       "stream": "stdout",
       "text": [
        "\r",
        "[download]  56.1% of 41.65MiB at 291.15KiB/s ETA 01:04"
       ]
      },
      {
       "output_type": "stream",
       "stream": "stdout",
       "text": [
        "\r",
        "[download]  57.1% of 41.65MiB at 291.35KiB/s ETA 01:02"
       ]
      },
      {
       "output_type": "stream",
       "stream": "stdout",
       "text": [
        "\r",
        "[download]  57.9% of 41.65MiB at 288.40KiB/s ETA 01:02"
       ]
      },
      {
       "output_type": "stream",
       "stream": "stdout",
       "text": [
        "\r",
        "[download]  58.2% of 41.65MiB at 288.36KiB/s ETA 01:01"
       ]
      },
      {
       "output_type": "stream",
       "stream": "stdout",
       "text": [
        "\r",
        "[download]  58.9% of 41.65MiB at 285.50KiB/s ETA 01:01"
       ]
      },
      {
       "output_type": "stream",
       "stream": "stdout",
       "text": [
        "\r",
        "[download]  59.3% of 41.65MiB at 286.13KiB/s ETA 01:00"
       ]
      },
      {
       "output_type": "stream",
       "stream": "stdout",
       "text": [
        "\r",
        "[download]  60.0% of 41.65MiB at 285.71KiB/s ETA 00:59"
       ]
      },
      {
       "output_type": "stream",
       "stream": "stdout",
       "text": [
        "\r",
        "[download]  60.6% of 41.65MiB at 286.51KiB/s ETA 00:58"
       ]
      },
      {
       "output_type": "stream",
       "stream": "stdout",
       "text": [
        "\r",
        "[download]  61.5% of 41.65MiB at 287.72KiB/s ETA 00:57"
       ]
      },
      {
       "output_type": "stream",
       "stream": "stdout",
       "text": [
        "\r",
        "[download]  62.4% of 41.65MiB at 288.07KiB/s ETA 00:55"
       ]
      },
      {
       "output_type": "stream",
       "stream": "stdout",
       "text": [
        "\r",
        "[download]  63.2% of 41.65MiB at 288.33KiB/s ETA 00:54"
       ]
      },
      {
       "output_type": "stream",
       "stream": "stdout",
       "text": [
        "\r",
        "[download]  63.9% of 41.65MiB at 286.94KiB/s ETA 00:53"
       ]
      },
      {
       "output_type": "stream",
       "stream": "stdout",
       "text": [
        "\r",
        "[download]  64.4% of 41.65MiB at 286.15KiB/s ETA 00:53"
       ]
      },
      {
       "output_type": "stream",
       "stream": "stdout",
       "text": [
        "\r",
        "[download]  64.9% of 41.65MiB at 286.52KiB/s ETA 00:52"
       ]
      },
      {
       "output_type": "stream",
       "stream": "stdout",
       "text": [
        "\r",
        "[download]  65.7% of 41.65MiB at 285.35KiB/s ETA 00:51"
       ]
      },
      {
       "output_type": "stream",
       "stream": "stdout",
       "text": [
        "\r",
        "[download]  66.2% of 41.65MiB at 284.74KiB/s ETA 00:50"
       ]
      },
      {
       "output_type": "stream",
       "stream": "stdout",
       "text": [
        "\r",
        "[download]  66.7% of 41.65MiB at 282.87KiB/s ETA 00:50"
       ]
      },
      {
       "output_type": "stream",
       "stream": "stdout",
       "text": [
        "\r",
        "[download]  67.1% of 41.65MiB at 282.63KiB/s ETA 00:49"
       ]
      },
      {
       "output_type": "stream",
       "stream": "stdout",
       "text": [
        "\r",
        "[download]  67.6% of 41.65MiB at 282.20KiB/s ETA 00:48"
       ]
      },
      {
       "output_type": "stream",
       "stream": "stdout",
       "text": [
        "\r",
        "[download]  68.2% of 41.65MiB at 267.09KiB/s ETA 00:50"
       ]
      },
      {
       "output_type": "stream",
       "stream": "stdout",
       "text": [
        "\r",
        "[download]  68.5% of 41.65MiB at 266.96KiB/s ETA 00:50"
       ]
      },
      {
       "output_type": "stream",
       "stream": "stdout",
       "text": [
        "\r",
        "[download]  69.0% of 41.65MiB at 268.55KiB/s ETA 00:49"
       ]
      },
      {
       "output_type": "stream",
       "stream": "stdout",
       "text": [
        "\r",
        "[download]  70.2% of 41.65MiB at 270.42KiB/s ETA 00:47"
       ]
      },
      {
       "output_type": "stream",
       "stream": "stdout",
       "text": [
        "\r",
        "[download]  71.3% of 41.65MiB at 268.23KiB/s ETA 00:45"
       ]
      },
      {
       "output_type": "stream",
       "stream": "stdout",
       "text": [
        "\r",
        "[download]  71.8% of 41.65MiB at 260.50KiB/s ETA 00:46"
       ]
      },
      {
       "output_type": "stream",
       "stream": "stdout",
       "text": [
        "\r",
        "[download]  72.1% of 41.65MiB at 261.51KiB/s ETA 00:45"
       ]
      },
      {
       "output_type": "stream",
       "stream": "stdout",
       "text": [
        "\r",
        "[download]  72.7% of 41.65MiB at 263.51KiB/s ETA 00:44"
       ]
      },
      {
       "output_type": "stream",
       "stream": "stdout",
       "text": [
        "\r",
        "[download]  73.8% of 41.65MiB at 265.78KiB/s ETA 00:42"
       ]
      },
      {
       "output_type": "stream",
       "stream": "stdout",
       "text": [
        "\r",
        "[download]  75.2% of 41.65MiB at 268.66KiB/s ETA 00:39"
       ]
      },
      {
       "output_type": "stream",
       "stream": "stdout",
       "text": [
        "\r",
        "[download]  76.6% of 41.65MiB at 271.81KiB/s ETA 00:36"
       ]
      },
      {
       "output_type": "stream",
       "stream": "stdout",
       "text": [
        "\r",
        "[download]  78.3% of 41.65MiB at 277.41KiB/s ETA 00:33"
       ]
      },
      {
       "output_type": "stream",
       "stream": "stdout",
       "text": [
        "\r",
        "[download]  81.6% of 41.65MiB at 277.88KiB/s ETA 00:28"
       ]
      },
      {
       "output_type": "stream",
       "stream": "stdout",
       "text": [
        "\r",
        "[download]  83.3% of 41.65MiB at 278.20KiB/s ETA 00:25"
       ]
      },
      {
       "output_type": "stream",
       "stream": "stdout",
       "text": [
        "\r",
        "[download]  84.1% of 41.65MiB at 278.35KiB/s ETA 00:24"
       ]
      },
      {
       "output_type": "stream",
       "stream": "stdout",
       "text": [
        "\r",
        "[download]  84.8% of 41.65MiB at 278.81KiB/s ETA 00:23"
       ]
      },
      {
       "output_type": "stream",
       "stream": "stdout",
       "text": [
        "\r",
        "[download]  85.7% of 41.65MiB at 279.75KiB/s ETA 00:21"
       ]
      },
      {
       "output_type": "stream",
       "stream": "stdout",
       "text": [
        "\r",
        "[download]  86.7% of 41.65MiB at 280.45KiB/s ETA 00:20"
       ]
      },
      {
       "output_type": "stream",
       "stream": "stdout",
       "text": [
        "\r",
        "[download]  87.5% of 41.65MiB at 280.24KiB/s ETA 00:19"
       ]
      },
      {
       "output_type": "stream",
       "stream": "stdout",
       "text": [
        "\r",
        "[download]  88.1% of 41.65MiB at 280.39KiB/s ETA 00:18"
       ]
      },
      {
       "output_type": "stream",
       "stream": "stdout",
       "text": [
        "\r",
        "[download]  88.8% of 41.65MiB at 280.40KiB/s ETA 00:17"
       ]
      },
      {
       "output_type": "stream",
       "stream": "stdout",
       "text": [
        "\r",
        "[download]  89.5% of 41.65MiB at 281.44KiB/s ETA 00:15"
       ]
      },
      {
       "output_type": "stream",
       "stream": "stdout",
       "text": [
        "\r",
        "[download]  90.8% of 41.65MiB at 284.00KiB/s ETA 00:13"
       ]
      },
      {
       "output_type": "stream",
       "stream": "stdout",
       "text": [
        "\r",
        "[download]  92.5% of 41.65MiB at 286.87KiB/s ETA 00:11"
       ]
      },
      {
       "output_type": "stream",
       "stream": "stdout",
       "text": [
        "\r",
        "[download]  94.0% of 41.65MiB at 287.59KiB/s ETA 00:08"
       ]
      },
      {
       "output_type": "stream",
       "stream": "stdout",
       "text": [
        "\r",
        "[download]  94.8% of 41.65MiB at 287.06KiB/s ETA 00:07"
       ]
      },
      {
       "output_type": "stream",
       "stream": "stdout",
       "text": [
        "\r",
        "[download]  95.3% of 41.65MiB at 279.42KiB/s ETA 00:07"
       ]
      },
      {
       "output_type": "stream",
       "stream": "stdout",
       "text": [
        "\r",
        "[download]  95.6% of 41.65MiB at 279.24KiB/s ETA 00:06"
       ]
      },
      {
       "output_type": "stream",
       "stream": "stdout",
       "text": [
        "\r",
        "[download]  96.1% of 41.65MiB at 280.30KiB/s ETA 00:05"
       ]
      },
      {
       "output_type": "stream",
       "stream": "stdout",
       "text": [
        "\r",
        "[download]  97.2% of 41.65MiB at 281.49KiB/s ETA 00:04"
       ]
      },
      {
       "output_type": "stream",
       "stream": "stdout",
       "text": [
        "\r",
        "[download]  98.3% of 41.65MiB at 281.82KiB/s ETA 00:02"
       ]
      },
      {
       "output_type": "stream",
       "stream": "stdout",
       "text": [
        "\r",
        "[download]  99.0% of 41.65MiB at 283.17KiB/s ETA 00:01"
       ]
      },
      {
       "output_type": "stream",
       "stream": "stdout",
       "text": [
        "\r",
        "[download] 100.0% of 41.65MiB at 285.93KiB/s ETA 00:00"
       ]
      },
      {
       "output_type": "stream",
       "stream": "stdout",
       "text": [
        "\r",
        "[download] 100% of 41.65MiB in 02:29\n"
       ]
      },
      {
       "output_type": "stream",
       "stream": "stdout",
       "text": [
        "Processing ./The Rise of Superheroes and Their Impact On Pop Culture/Course Introduction/01.03.*...\n",
        "https://courses.edx.org/courses/course-v1:SmithsonianX+POPX1.1x+2015_T2/courseware/372a806b0894443ea7e15f06694826ef/2a77a93878ef413b8a8b0c064db2b762\n",
        "Processing ./The Rise of Superheroes and Their Impact On Pop Culture/Week 1 - The Secret Origin Of Comic Books/02.01.*..."
       ]
      },
      {
       "output_type": "stream",
       "stream": "stdout",
       "text": [
        "\n",
        "https://courses.edx.org/courses/course-v1:SmithsonianX+POPX1.1x+2015_T2/courseware/8b682f6cd07345579e7bb7a6850a8d63/b04227d5b4584aaea64ee7bcb1d16d1d\n",
        "Superheroes & Mythology"
       ]
      },
      {
       "output_type": "stream",
       "stream": "stdout",
       "text": [
        "\n",
        "http://www.youtube.com/watch?v=vHmfT3_QIVc\n",
        "[02.01.01] The Mythic Origins Of Superheroes (Superheroes & Mythology)\n",
        "./The Rise of Superheroes and Their Impact On Pop Culture/Week 1 - The Secret Origin Of Comic Books/02.01.01 The Mythic Origins Of Superheroes (Superheroes & Mythology).%(ext)s\n",
        "[youtube] vHmfT3_QIVc: Downloading webpage\n"
       ]
      },
      {
       "output_type": "stream",
       "stream": "stdout",
       "text": [
        "[youtube] vHmfT3_QIVc: Extracting video information\n"
       ]
      },
      {
       "output_type": "stream",
       "stream": "stdout",
       "text": [
        "[youtube] vHmfT3_QIVc: Downloading DASH manifest\n"
       ]
      },
      {
       "output_type": "stream",
       "stream": "stdout",
       "text": [
        "[debug] Invoking downloader on u'https://r2---sn-nx5jvh-q5ge.googlevideo.com/videoplayback?pl=15&requiressl=yes&ratebypass=yes&expire=1442092739&id=o-AFKOuXngSEdbStRM9o9Gbj69yuQdNTJCsiCuRy9azt-l&sparams=dur%2Cid%2Cinitcwndbps%2Cip%2Cipbits%2Citag%2Clmt%2Cmime%2Cmm%2Cmn%2Cms%2Cmv%2Cpl%2Cratebypass%2Crequiressl%2Csource%2Cupn%2Cexpire&initcwndbps=132500&ip=154.122.182.51&sver=3&dur=254.281&mt=1442071097&mv=m&fexp=9405995%2C9406994%2C9408215%2C9408710%2C9409069%2C9409205%2C9413123%2C9415365%2C9415485%2C9415822%2C9416023%2C9416126%2C9416729%2C9417014%2C9417707%2C9418153%2C9418204%2C9418394%2C9418448%2C9419232%2C9419403%2C9419786%2C9419788%2C9420329%2C9420348%2C9420799%2C9420842&ms=au&source=youtube&mm=31&mn=sn-nx5jvh-q5ge&upn=XujgGvgyhTs&lmt=1432313119034180&signature=B5DDD10A1970EFAC0A4CB8F63398484E6F2FF035.0AB2907BA3327573834B3FFC37E64B78671A02CF&mime=video%2Fmp4&itag=22&key=yt5&ipbits=0'\n"
       ]
      },
      {
       "output_type": "stream",
       "stream": "stdout",
       "text": [
        "[download] Destination: ./The Rise of Superheroes and Their Impact On Pop Culture/Week 1 - The Secret Origin Of Comic Books/02.01.01 The Mythic Origins Of Superheroes (Superheroes & Mythology).mp4\n"
       ]
      },
      {
       "output_type": "stream",
       "stream": "stdout",
       "text": [
        "\r",
        "[download]   0.0% of 62.69MiB at 712.23KiB/s ETA 01:30"
       ]
      },
      {
       "output_type": "stream",
       "stream": "stdout",
       "text": [
        "\r",
        "[download]   0.0% of 62.69MiB at 13.50KiB/s ETA 01:19:16"
       ]
      },
      {
       "output_type": "stream",
       "stream": "stdout",
       "text": [
        "\r",
        "[download]   0.0% of 62.69MiB at 31.33KiB/s ETA 34:08"
       ]
      },
      {
       "output_type": "stream",
       "stream": "stdout",
       "text": [
        "\r",
        "[download]   0.0% of 62.69MiB at 66.89KiB/s ETA 15:59"
       ]
      },
      {
       "output_type": "stream",
       "stream": "stdout",
       "text": [
        "\r",
        "[download]   0.0% of 62.69MiB at 61.62KiB/s ETA 17:21"
       ]
      },
      {
       "output_type": "stream",
       "stream": "stdout",
       "text": [
        "\r",
        "[download]   0.1% of 62.69MiB at 71.39KiB/s ETA 14:58"
       ]
      },
      {
       "output_type": "stream",
       "stream": "stdout",
       "text": [
        "\r",
        "[download]   0.2% of 62.69MiB at 130.87KiB/s ETA 08:09"
       ]
      },
      {
       "output_type": "stream",
       "stream": "stdout",
       "text": [
        "\r",
        "[download]   0.4% of 62.69MiB at 149.11KiB/s ETA 07:08"
       ]
      },
      {
       "output_type": "stream",
       "stream": "stdout",
       "text": [
        "\r",
        "[download]   0.7% of 62.69MiB at 190.32KiB/s ETA 05:35"
       ]
      },
      {
       "output_type": "stream",
       "stream": "stdout",
       "text": [
        "\r",
        "[download]   1.2% of 62.69MiB at 223.14KiB/s ETA 04:44"
       ]
      },
      {
       "output_type": "stream",
       "stream": "stdout",
       "text": [
        "\r",
        "[download]   1.6% of 62.69MiB at 211.19KiB/s ETA 04:59"
       ]
      },
      {
       "output_type": "stream",
       "stream": "stdout",
       "text": [
        "\r",
        "[download]   1.9% of 62.69MiB at 218.80KiB/s ETA 04:47"
       ]
      },
      {
       "output_type": "stream",
       "stream": "stdout",
       "text": [
        "\r",
        "[download]   2.3% of 62.69MiB at 239.93KiB/s ETA 04:21"
       ]
      },
      {
       "output_type": "stream",
       "stream": "stdout",
       "text": [
        "\r",
        "[download]   3.0% of 62.69MiB at 242.41KiB/s ETA 04:16"
       ]
      },
      {
       "output_type": "stream",
       "stream": "stdout",
       "text": [
        "\r",
        "[download]   3.4% of 62.69MiB at 247.32KiB/s ETA 04:10"
       ]
      },
      {
       "output_type": "stream",
       "stream": "stdout",
       "text": [
        "\r",
        "[download]   3.8% of 62.69MiB at 247.26KiB/s ETA 04:09"
       ]
      },
      {
       "output_type": "stream",
       "stream": "stdout",
       "text": [
        "\r",
        "[download]   4.2% of 62.69MiB at 252.28KiB/s ETA 04:03"
       ]
      },
      {
       "output_type": "stream",
       "stream": "stdout",
       "text": [
        "\r",
        "[download]   4.7% of 62.69MiB at 254.61KiB/s ETA 04:00"
       ]
      },
      {
       "output_type": "stream",
       "stream": "stdout",
       "text": [
        "\r",
        "[download]   5.2% of 62.69MiB at 257.66KiB/s ETA 03:56"
       ]
      },
      {
       "output_type": "stream",
       "stream": "stdout",
       "text": [
        "\r",
        "[download]   5.6% of 62.69MiB at 257.55KiB/s ETA 03:55"
       ]
      },
      {
       "output_type": "stream",
       "stream": "stdout",
       "text": [
        "\r",
        "[download]   6.0% of 62.69MiB at 262.34KiB/s ETA 03:49"
       ]
      },
      {
       "output_type": "stream",
       "stream": "stdout",
       "text": [
        "\r",
        "[download]   6.6% of 62.69MiB at 266.03KiB/s ETA 03:45"
       ]
      },
      {
       "output_type": "stream",
       "stream": "stdout",
       "text": [
        "\r",
        "[download]   7.1% of 62.69MiB at 270.76KiB/s ETA 03:40"
       ]
      },
      {
       "output_type": "stream",
       "stream": "stdout",
       "text": [
        "\r",
        "[download]   7.6% of 62.69MiB at 277.35KiB/s ETA 03:33"
       ]
      },
      {
       "output_type": "stream",
       "stream": "stdout",
       "text": [
        "\r",
        "[download]   8.2% of 62.69MiB at 278.11KiB/s ETA 03:31"
       ]
      },
      {
       "output_type": "stream",
       "stream": "stdout",
       "text": [
        "\r",
        "[download]   8.7% of 62.69MiB at 279.05KiB/s ETA 03:30"
       ]
      },
      {
       "output_type": "stream",
       "stream": "stdout",
       "text": [
        "\r",
        "[download]   9.2% of 62.69MiB at 278.42KiB/s ETA 03:29"
       ]
      },
      {
       "output_type": "stream",
       "stream": "stdout",
       "text": [
        "\r",
        "[download]   9.6% of 62.69MiB at 280.56KiB/s ETA 03:26"
       ]
      },
      {
       "output_type": "stream",
       "stream": "stdout",
       "text": [
        "\r",
        "[download]  10.1% of 62.69MiB at 285.80KiB/s ETA 03:21"
       ]
      },
      {
       "output_type": "stream",
       "stream": "stdout",
       "text": [
        "\r",
        "[download]  10.8% of 62.69MiB at 291.11KiB/s ETA 03:16"
       ]
      },
      {
       "output_type": "stream",
       "stream": "stdout",
       "text": [
        "\r",
        "[download]  11.4% of 62.69MiB at 295.67KiB/s ETA 03:12"
       ]
      },
      {
       "output_type": "stream",
       "stream": "stdout",
       "text": [
        "\r",
        "[download]  12.0% of 62.69MiB at 303.56KiB/s ETA 03:06"
       ]
      },
      {
       "output_type": "stream",
       "stream": "stdout",
       "text": [
        "\r",
        "[download]  13.0% of 62.69MiB at 311.96KiB/s ETA 02:59"
       ]
      },
      {
       "output_type": "stream",
       "stream": "stdout",
       "text": [
        "\r",
        "[download]  13.7% of 62.69MiB at 319.00KiB/s ETA 02:53"
       ]
      },
      {
       "output_type": "stream",
       "stream": "stdout",
       "text": [
        "\r",
        "[download]  14.5% of 62.69MiB at 327.99KiB/s ETA 02:47"
       ]
      },
      {
       "output_type": "stream",
       "stream": "stdout",
       "text": [
        "\r",
        "[download]  15.5% of 62.69MiB at 337.04KiB/s ETA 02:40"
       ]
      },
      {
       "output_type": "stream",
       "stream": "stdout",
       "text": [
        "\r",
        "[download]  16.4% of 62.69MiB at 341.87KiB/s ETA 02:36"
       ]
      },
      {
       "output_type": "stream",
       "stream": "stdout",
       "text": [
        "\r",
        "[download]  17.1% of 62.69MiB at 344.94KiB/s ETA 02:34"
       ]
      },
      {
       "output_type": "stream",
       "stream": "stdout",
       "text": [
        "\r",
        "[download]  17.8% of 62.69MiB at 348.00KiB/s ETA 02:31"
       ]
      },
      {
       "output_type": "stream",
       "stream": "stdout",
       "text": [
        "\r",
        "[download]  18.5% of 62.69MiB at 350.98KiB/s ETA 02:29"
       ]
      },
      {
       "output_type": "stream",
       "stream": "stdout",
       "text": [
        "\r",
        "[download]  19.2% of 62.69MiB at 353.46KiB/s ETA 02:26"
       ]
      },
      {
       "output_type": "stream",
       "stream": "stdout",
       "text": [
        "\r",
        "[download]  19.9% of 62.69MiB at 354.78KiB/s ETA 02:25"
       ]
      },
      {
       "output_type": "stream",
       "stream": "stdout",
       "text": [
        "\r",
        "[download]  20.5% of 62.69MiB at 365.79KiB/s ETA 02:19"
       ]
      },
      {
       "output_type": "stream",
       "stream": "stdout",
       "text": [
        "\r",
        "[download]  21.7% of 62.69MiB at 370.57KiB/s ETA 02:15"
       ]
      },
      {
       "output_type": "stream",
       "stream": "stdout",
       "text": [
        "\r",
        "[download]  22.5% of 62.69MiB at 377.39KiB/s ETA 02:11"
       ]
      },
      {
       "output_type": "stream",
       "stream": "stdout",
       "text": [
        "\r",
        "[download]  23.7% of 62.69MiB at 385.79KiB/s ETA 02:06"
       ]
      },
      {
       "output_type": "stream",
       "stream": "stdout",
       "text": [
        "\r",
        "[download]  24.7% of 62.69MiB at 393.84KiB/s ETA 02:02"
       ]
      },
      {
       "output_type": "stream",
       "stream": "stdout",
       "text": [
        "\r",
        "[download]  26.0% of 62.69MiB at 404.24KiB/s ETA 01:57"
       ]
      },
      {
       "output_type": "stream",
       "stream": "stdout",
       "text": [
        "\r",
        "[download]  27.3% of 62.69MiB at 415.26KiB/s ETA 01:52"
       ]
      },
      {
       "output_type": "stream",
       "stream": "stdout",
       "text": [
        "\r",
        "[download]  28.7% of 62.69MiB at 423.86KiB/s ETA 01:48"
       ]
      },
      {
       "output_type": "stream",
       "stream": "stdout",
       "text": [
        "\r",
        "[download]  29.8% of 62.69MiB at 430.36KiB/s ETA 01:44"
       ]
      },
      {
       "output_type": "stream",
       "stream": "stdout",
       "text": [
        "\r",
        "[download]  30.9% of 62.69MiB at 428.51KiB/s ETA 01:43"
       ]
      },
      {
       "output_type": "stream",
       "stream": "stdout",
       "text": [
        "\r",
        "[download]  31.5% of 62.69MiB at 426.66KiB/s ETA 01:43"
       ]
      },
      {
       "output_type": "stream",
       "stream": "stdout",
       "text": [
        "\r",
        "[download]  32.0% of 62.69MiB at 428.00KiB/s ETA 01:41"
       ]
      },
      {
       "output_type": "stream",
       "stream": "stdout",
       "text": [
        "\r",
        "[download]  32.9% of 62.69MiB at 428.62KiB/s ETA 01:40"
       ]
      },
      {
       "output_type": "stream",
       "stream": "stdout",
       "text": [
        "\r",
        "[download]  33.6% of 62.69MiB at 428.15KiB/s ETA 01:39"
       ]
      },
      {
       "output_type": "stream",
       "stream": "stdout",
       "text": [
        "\r",
        "[download]  34.2% of 62.69MiB at 430.17KiB/s ETA 01:38"
       ]
      },
      {
       "output_type": "stream",
       "stream": "stdout",
       "text": [
        "\r",
        "[download]  35.1% of 62.69MiB at 431.46KiB/s ETA 01:36"
       ]
      },
      {
       "output_type": "stream",
       "stream": "stdout",
       "text": [
        "\r",
        "[download]  35.9% of 62.69MiB at 432.94KiB/s ETA 01:35"
       ]
      },
      {
       "output_type": "stream",
       "stream": "stdout",
       "text": [
        "\r",
        "[download]  36.7% of 62.69MiB at 437.07KiB/s ETA 01:33"
       ]
      },
      {
       "output_type": "stream",
       "stream": "stdout",
       "text": [
        "\r",
        "[download]  37.9% of 62.69MiB at 439.70KiB/s ETA 01:30"
       ]
      },
      {
       "output_type": "stream",
       "stream": "stdout",
       "text": [
        "\r",
        "[download]  38.7% of 62.69MiB at 435.44KiB/s ETA 01:30"
       ]
      },
      {
       "output_type": "stream",
       "stream": "stdout",
       "text": [
        "\r",
        "[download]  39.2% of 62.69MiB at 437.24KiB/s ETA 01:29"
       ]
      },
      {
       "output_type": "stream",
       "stream": "stdout",
       "text": [
        "\r",
        "[download]  40.1% of 62.69MiB at 432.20KiB/s ETA 01:28"
       ]
      },
      {
       "output_type": "stream",
       "stream": "stdout",
       "text": [
        "\r",
        "[download]  40.6% of 62.69MiB at 424.69KiB/s ETA 01:29"
       ]
      },
      {
       "output_type": "stream",
       "stream": "stdout",
       "text": [
        "\r",
        "[download]  40.9% of 62.69MiB at 427.47KiB/s ETA 01:28"
       ]
      },
      {
       "output_type": "stream",
       "stream": "stdout",
       "text": [
        "\r",
        "[download]  41.4% of 62.69MiB at 419.33KiB/s ETA 01:29"
       ]
      },
      {
       "output_type": "stream",
       "stream": "stdout",
       "text": [
        "\r",
        "[download]  41.7% of 62.69MiB at 422.02KiB/s ETA 01:28"
       ]
      },
      {
       "output_type": "stream",
       "stream": "stdout",
       "text": [
        "\r",
        "[download]  42.2% of 62.69MiB at 420.81KiB/s ETA 01:28"
       ]
      },
      {
       "output_type": "stream",
       "stream": "stdout",
       "text": [
        "\r",
        "[download]  42.7% of 62.69MiB at 417.85KiB/s ETA 01:27"
       ]
      },
      {
       "output_type": "stream",
       "stream": "stdout",
       "text": [
        "\r",
        "[download]  43.2% of 62.69MiB at 417.20KiB/s ETA 01:27"
       ]
      },
      {
       "output_type": "stream",
       "stream": "stdout",
       "text": [
        "\r",
        "[download]  43.7% of 62.69MiB at 416.97KiB/s ETA 01:26"
       ]
      },
      {
       "output_type": "stream",
       "stream": "stdout",
       "text": [
        "\r",
        "[download]  44.3% of 62.69MiB at 419.02KiB/s ETA 01:25"
       ]
      },
      {
       "output_type": "stream",
       "stream": "stdout",
       "text": [
        "\r",
        "[download]  45.3% of 62.69MiB at 419.38KiB/s ETA 01:23"
       ]
      },
      {
       "output_type": "stream",
       "stream": "stdout",
       "text": [
        "\r",
        "[download]  46.0% of 62.69MiB at 415.12KiB/s ETA 01:23"
       ]
      },
      {
       "output_type": "stream",
       "stream": "stdout",
       "text": [
        "\r",
        "[download]  46.4% of 62.69MiB at 413.41KiB/s ETA 01:23"
       ]
      },
      {
       "output_type": "stream",
       "stream": "stdout",
       "text": [
        "\r",
        "[download]  46.8% of 62.69MiB at 411.81KiB/s ETA 01:22"
       ]
      },
      {
       "output_type": "stream",
       "stream": "stdout",
       "text": [
        "\r",
        "[download]  47.3% of 62.69MiB at 407.62KiB/s ETA 01:23"
       ]
      },
      {
       "output_type": "stream",
       "stream": "stdout",
       "text": [
        "\r",
        "[download]  47.6% of 62.69MiB at 407.77KiB/s ETA 01:22"
       ]
      },
      {
       "output_type": "stream",
       "stream": "stdout",
       "text": [
        "\r",
        "[download]  48.2% of 62.69MiB at 407.83KiB/s ETA 01:21"
       ]
      },
      {
       "output_type": "stream",
       "stream": "stdout",
       "text": [
        "\r",
        "[download]  48.9% of 62.69MiB at 403.98KiB/s ETA 01:21"
       ]
      },
      {
       "output_type": "stream",
       "stream": "stdout",
       "text": [
        "\r",
        "[download]  49.2% of 62.69MiB at 402.60KiB/s ETA 01:20"
       ]
      },
      {
       "output_type": "stream",
       "stream": "stdout",
       "text": [
        "\r",
        "[download]  49.7% of 62.69MiB at 402.27KiB/s ETA 01:20"
       ]
      },
      {
       "output_type": "stream",
       "stream": "stdout",
       "text": [
        "\r",
        "[download]  50.2% of 62.69MiB at 403.81KiB/s ETA 01:19"
       ]
      },
      {
       "output_type": "stream",
       "stream": "stdout",
       "text": [
        "\r",
        "[download]  51.2% of 62.69MiB at 407.30KiB/s ETA 01:16"
       ]
      },
      {
       "output_type": "stream",
       "stream": "stdout",
       "text": [
        "\r",
        "[download]  52.4% of 62.69MiB at 404.10KiB/s ETA 01:15"
       ]
      },
      {
       "output_type": "stream",
       "stream": "stdout",
       "text": [
        "\r",
        "[download]  53.0% of 62.69MiB at 402.81KiB/s ETA 01:14"
       ]
      },
      {
       "output_type": "stream",
       "stream": "stdout",
       "text": [
        "\r",
        "[download]  53.4% of 62.69MiB at 398.04KiB/s ETA 01:15"
       ]
      },
      {
       "output_type": "stream",
       "stream": "stdout",
       "text": [
        "\r",
        "[download]  53.7% of 62.69MiB at 396.25KiB/s ETA 01:14"
       ]
      },
      {
       "output_type": "stream",
       "stream": "stdout",
       "text": [
        "\r",
        "[download]  54.0% of 62.69MiB at 395.64KiB/s ETA 01:14"
       ]
      },
      {
       "output_type": "stream",
       "stream": "stdout",
       "text": [
        "\r",
        "[download]  54.5% of 62.69MiB at 389.22KiB/s ETA 01:14"
       ]
      },
      {
       "output_type": "stream",
       "stream": "stdout",
       "text": [
        "\r",
        "[download]  54.8% of 62.69MiB at 390.97KiB/s ETA 01:14"
       ]
      },
      {
       "output_type": "stream",
       "stream": "stdout",
       "text": [
        "\r",
        "[download]  55.3% of 62.69MiB at 390.18KiB/s ETA 01:13"
       ]
      },
      {
       "output_type": "stream",
       "stream": "stdout",
       "text": [
        "\r",
        "[download]  55.8% of 62.69MiB at 388.62KiB/s ETA 01:13"
       ]
      },
      {
       "output_type": "stream",
       "stream": "stdout",
       "text": [
        "\r",
        "[download]  56.2% of 62.69MiB at 388.96KiB/s ETA 01:12"
       ]
      },
      {
       "output_type": "stream",
       "stream": "stdout",
       "text": [
        "\r",
        "[download]  56.9% of 62.69MiB at 390.25KiB/s ETA 01:10"
       ]
      },
      {
       "output_type": "stream",
       "stream": "stdout",
       "text": [
        "\r",
        "[download]  57.7% of 62.69MiB at 388.50KiB/s ETA 01:09"
       ]
      },
      {
       "output_type": "stream",
       "stream": "stdout",
       "text": [
        "\r",
        "[download]  58.2% of 62.69MiB at 385.42KiB/s ETA 01:09"
       ]
      },
      {
       "output_type": "stream",
       "stream": "stdout",
       "text": [
        "\r",
        "[download]  58.5% of 62.69MiB at 386.27KiB/s ETA 01:08"
       ]
      },
      {
       "output_type": "stream",
       "stream": "stdout",
       "text": [
        "\r",
        "[download]  59.1% of 62.69MiB at 384.25KiB/s ETA 01:08"
       ]
      },
      {
       "output_type": "stream",
       "stream": "stdout",
       "text": [
        "\r",
        "[download]  59.5% of 62.69MiB at 383.54KiB/s ETA 01:07"
       ]
      },
      {
       "output_type": "stream",
       "stream": "stdout",
       "text": [
        "\r",
        "[download]  60.0% of 62.69MiB at 382.26KiB/s ETA 01:07"
       ]
      },
      {
       "output_type": "stream",
       "stream": "stdout",
       "text": [
        "\r",
        "[download]  60.4% of 62.69MiB at 382.09KiB/s ETA 01:06"
       ]
      },
      {
       "output_type": "stream",
       "stream": "stdout",
       "text": [
        "\r",
        "[download]  60.9% of 62.69MiB at 379.50KiB/s ETA 01:06"
       ]
      },
      {
       "output_type": "stream",
       "stream": "stdout",
       "text": [
        "\r",
        "[download]  61.3% of 62.69MiB at 378.48KiB/s ETA 01:05"
       ]
      },
      {
       "output_type": "stream",
       "stream": "stdout",
       "text": [
        "\r",
        "[download]  61.7% of 62.69MiB at 378.70KiB/s ETA 01:04"
       ]
      },
      {
       "output_type": "stream",
       "stream": "stdout",
       "text": [
        "\r",
        "[download]  62.3% of 62.69MiB at 379.80KiB/s ETA 01:03"
       ]
      },
      {
       "output_type": "stream",
       "stream": "stdout",
       "text": [
        "\r",
        "[download]  63.1% of 62.69MiB at 380.37KiB/s ETA 01:02"
       ]
      },
      {
       "output_type": "stream",
       "stream": "stdout",
       "text": [
        "\r",
        "[download]  63.8% of 62.69MiB at 380.89KiB/s ETA 01:00"
       ]
      },
      {
       "output_type": "stream",
       "stream": "stdout",
       "text": [
        "\r",
        "[download]  64.5% of 62.69MiB at 380.14KiB/s ETA 00:59"
       ]
      },
      {
       "output_type": "stream",
       "stream": "stdout",
       "text": [
        "\r",
        "[download]  65.0% of 62.69MiB at 379.02KiB/s ETA 00:59"
       ]
      },
      {
       "output_type": "stream",
       "stream": "stdout",
       "text": [
        "\r",
        "[download]  65.4% of 62.69MiB at 377.92KiB/s ETA 00:58"
       ]
      },
      {
       "output_type": "stream",
       "stream": "stdout",
       "text": [
        "\r",
        "[download]  65.8% of 62.69MiB at 377.81KiB/s ETA 00:58"
       ]
      },
      {
       "output_type": "stream",
       "stream": "stdout",
       "text": [
        "\r",
        "[download]  66.4% of 62.69MiB at 379.14KiB/s ETA 00:56"
       ]
      },
      {
       "output_type": "stream",
       "stream": "stdout",
       "text": [
        "\r",
        "[download]  67.4% of 62.69MiB at 380.49KiB/s ETA 00:54"
       ]
      },
      {
       "output_type": "stream",
       "stream": "stdout",
       "text": [
        "\r",
        "[download]  68.2% of 62.69MiB at 381.05KiB/s ETA 00:53"
       ]
      },
      {
       "output_type": "stream",
       "stream": "stdout",
       "text": [
        "\r",
        "[download]  68.9% of 62.69MiB at 381.79KiB/s ETA 00:52"
       ]
      },
      {
       "output_type": "stream",
       "stream": "stdout",
       "text": [
        "\r",
        "[download]  69.6% of 62.69MiB at 379.24KiB/s ETA 00:51"
       ]
      },
      {
       "output_type": "stream",
       "stream": "stdout",
       "text": [
        "\r",
        "[download]  70.0% of 62.69MiB at 368.40KiB/s ETA 00:52"
       ]
      },
      {
       "output_type": "stream",
       "stream": "stdout",
       "text": [
        "\r",
        "[download]  70.2% of 62.69MiB at 369.36KiB/s ETA 00:51"
       ]
      },
      {
       "output_type": "stream",
       "stream": "stdout",
       "text": [
        "\r",
        "[download]  70.5% of 62.69MiB at 371.30KiB/s ETA 00:50"
       ]
      },
      {
       "output_type": "stream",
       "stream": "stdout",
       "text": [
        "\r",
        "[download]  71.3% of 62.69MiB at 375.18KiB/s ETA 00:49"
       ]
      },
      {
       "output_type": "stream",
       "stream": "stdout",
       "text": [
        "\r",
        "[download]  72.7% of 62.69MiB at 375.08KiB/s ETA 00:46"
       ]
      },
      {
       "output_type": "stream",
       "stream": "stdout",
       "text": [
        "\r",
        "[download]  73.5% of 62.69MiB at 372.69KiB/s ETA 00:45"
       ]
      },
      {
       "output_type": "stream",
       "stream": "stdout",
       "text": [
        "\r",
        "[download]  73.9% of 62.69MiB at 372.05KiB/s ETA 00:45"
       ]
      },
      {
       "output_type": "stream",
       "stream": "stdout",
       "text": [
        "\r",
        "[download]  74.3% of 62.69MiB at 371.66KiB/s ETA 00:44"
       ]
      },
      {
       "output_type": "stream",
       "stream": "stdout",
       "text": [
        "\r",
        "[download]  74.8% of 62.69MiB at 368.71KiB/s ETA 00:43"
       ]
      },
      {
       "output_type": "stream",
       "stream": "stdout",
       "text": [
        "\r",
        "[download]  75.0% of 62.69MiB at 367.66KiB/s ETA 00:43"
       ]
      },
      {
       "output_type": "stream",
       "stream": "stdout",
       "text": [
        "\r",
        "[download]  75.4% of 62.69MiB at 367.59KiB/s ETA 00:43"
       ]
      },
      {
       "output_type": "stream",
       "stream": "stdout",
       "text": [
        "\r",
        "[download]  75.9% of 62.69MiB at 367.62KiB/s ETA 00:42"
       ]
      },
      {
       "output_type": "stream",
       "stream": "stdout",
       "text": [
        "\r",
        "[download]  76.5% of 62.69MiB at 363.91KiB/s ETA 00:41"
       ]
      },
      {
       "output_type": "stream",
       "stream": "stdout",
       "text": [
        "\r",
        "[download]  76.8% of 62.69MiB at 365.28KiB/s ETA 00:40"
       ]
      },
      {
       "output_type": "stream",
       "stream": "stdout",
       "text": [
        "\r",
        "[download]  77.4% of 62.69MiB at 366.76KiB/s ETA 00:39"
       ]
      },
      {
       "output_type": "stream",
       "stream": "stdout",
       "text": [
        "\r",
        "[download]  78.5% of 62.69MiB at 362.63KiB/s ETA 00:38"
       ]
      },
      {
       "output_type": "stream",
       "stream": "stdout",
       "text": [
        "\r",
        "[download]  79.1% of 62.69MiB at 360.48KiB/s ETA 00:37"
       ]
      },
      {
       "output_type": "stream",
       "stream": "stdout",
       "text": [
        "\r",
        "[download]  79.4% of 62.69MiB at 360.61KiB/s ETA 00:36"
       ]
      },
      {
       "output_type": "stream",
       "stream": "stdout",
       "text": [
        "\r",
        "[download]  80.0% of 62.69MiB at 361.08KiB/s ETA 00:35"
       ]
      },
      {
       "output_type": "stream",
       "stream": "stdout",
       "text": [
        "\r",
        "[download]  80.7% of 62.69MiB at 362.84KiB/s ETA 00:34"
       ]
      },
      {
       "output_type": "stream",
       "stream": "stdout",
       "text": [
        "\r",
        "[download]  82.0% of 62.69MiB at 366.38KiB/s ETA 00:31"
       ]
      },
      {
       "output_type": "stream",
       "stream": "stdout",
       "text": [
        "\r",
        "[download]  83.4% of 62.69MiB at 364.19KiB/s ETA 00:29"
       ]
      },
      {
       "output_type": "stream",
       "stream": "stdout",
       "text": [
        "\r",
        "[download]  84.1% of 62.69MiB at 363.45KiB/s ETA 00:28"
       ]
      },
      {
       "output_type": "stream",
       "stream": "stdout",
       "text": [
        "\r",
        "[download]  84.6% of 62.69MiB at 363.98KiB/s ETA 00:27"
       ]
      },
      {
       "output_type": "stream",
       "stream": "stdout",
       "text": [
        "\r",
        "[download]  85.4% of 62.69MiB at 365.86KiB/s ETA 00:25"
       ]
      },
      {
       "output_type": "stream",
       "stream": "stdout",
       "text": [
        "\r",
        "[download]  86.7% of 62.69MiB at 364.13KiB/s ETA 00:23"
       ]
      },
      {
       "output_type": "stream",
       "stream": "stdout",
       "text": [
        "\r",
        "[download]  87.3% of 62.69MiB at 366.83KiB/s ETA 00:22"
       ]
      },
      {
       "output_type": "stream",
       "stream": "stdout",
       "text": [
        "\r",
        "[download]  88.6% of 62.69MiB at 364.99KiB/s ETA 00:20"
       ]
      },
      {
       "output_type": "stream",
       "stream": "stdout",
       "text": [
        "\r",
        "[download]  89.2% of 62.69MiB at 367.64KiB/s ETA 00:18"
       ]
      },
      {
       "output_type": "stream",
       "stream": "stdout",
       "text": [
        "\r",
        "[download]  90.5% of 62.69MiB at 369.43KiB/s ETA 00:16"
       ]
      },
      {
       "output_type": "stream",
       "stream": "stdout",
       "text": [
        "\r",
        "[download]  91.4% of 62.69MiB at 369.33KiB/s ETA 00:14"
       ]
      },
      {
       "output_type": "stream",
       "stream": "stdout",
       "text": [
        "\r",
        "[download]  92.0% of 62.69MiB at 368.90KiB/s ETA 00:14"
       ]
      },
      {
       "output_type": "stream",
       "stream": "stdout",
       "text": [
        "\r",
        "[download]  92.4% of 62.69MiB at 369.40KiB/s ETA 00:13"
       ]
      },
      {
       "output_type": "stream",
       "stream": "stdout",
       "text": [
        "\r",
        "[download]  93.2% of 62.69MiB at 367.87KiB/s ETA 00:11"
       ]
      },
      {
       "output_type": "stream",
       "stream": "stdout",
       "text": [
        "\r",
        "[download]  93.6% of 62.69MiB at 367.77KiB/s ETA 00:11"
       ]
      },
      {
       "output_type": "stream",
       "stream": "stdout",
       "text": [
        "\r",
        "[download]  94.1% of 62.69MiB at 364.85KiB/s ETA 00:10"
       ]
      },
      {
       "output_type": "stream",
       "stream": "stdout",
       "text": [
        "\r",
        "[download]  94.4% of 62.69MiB at 365.26KiB/s ETA 00:09"
       ]
      },
      {
       "output_type": "stream",
       "stream": "stdout",
       "text": [
        "\r",
        "[download]  94.9% of 62.69MiB at 366.89KiB/s ETA 00:08"
       ]
      },
      {
       "output_type": "stream",
       "stream": "stdout",
       "text": [
        "\r",
        "[download]  96.0% of 62.69MiB at 366.38KiB/s ETA 00:06"
       ]
      },
      {
       "output_type": "stream",
       "stream": "stdout",
       "text": [
        "\r",
        "[download]  96.6% of 62.69MiB at 366.86KiB/s ETA 00:06"
       ]
      },
      {
       "output_type": "stream",
       "stream": "stdout",
       "text": [
        "\r",
        "[download]  97.3% of 62.69MiB at 366.62KiB/s ETA 00:04"
       ]
      },
      {
       "output_type": "stream",
       "stream": "stdout",
       "text": [
        "\r",
        "[download]  97.8% of 62.69MiB at 367.49KiB/s ETA 00:03"
       ]
      },
      {
       "output_type": "stream",
       "stream": "stdout",
       "text": [
        "\r",
        "[download]  98.8% of 62.69MiB at 369.12KiB/s ETA 00:02"
       ]
      },
      {
       "output_type": "stream",
       "stream": "stdout",
       "text": [
        "\r",
        "[download]  99.9% of 62.69MiB at 368.38KiB/s ETA 00:00"
       ]
      },
      {
       "output_type": "stream",
       "stream": "stdout",
       "text": [
        "\r",
        "[download] 100.0% of 62.69MiB at 368.92KiB/s ETA 00:00"
       ]
      },
      {
       "output_type": "stream",
       "stream": "stdout",
       "text": [
        "\r",
        "[download] 100% of 62.69MiB in 02:54\n"
       ]
      },
      {
       "output_type": "stream",
       "stream": "stdout",
       "text": [
        "Processing ./The Rise of Superheroes and Their Impact On Pop Culture/Week 1 - The Secret Origin Of Comic Books/02.02.*...\n",
        "https://courses.edx.org/courses/course-v1:SmithsonianX+POPX1.1x+2015_T2/courseware/8b682f6cd07345579e7bb7a6850a8d63/32cff490feda45bdaa22a15005fd8a74\n",
        "America in the 1920s & 1930s"
       ]
      },
      {
       "output_type": "stream",
       "stream": "stdout",
       "text": [
        "\n",
        "http://www.youtube.com/watch?v=j9D2ioNFG8o\n",
        "[02.02.01] Depression, War, And The Culture Of The First Comics (America in the 1920s & 1930s)\n",
        "./The Rise of Superheroes and Their Impact On Pop Culture/Week 1 - The Secret Origin Of Comic Books/02.02.01 Depression, War, And The Culture Of The First Comics (America in the 1920s & 1930s).%(ext)s\n",
        "[youtube] j9D2ioNFG8o: Downloading webpage\n"
       ]
      },
      {
       "output_type": "stream",
       "stream": "stdout",
       "text": [
        "[youtube] j9D2ioNFG8o: Extracting video information\n"
       ]
      },
      {
       "output_type": "stream",
       "stream": "stdout",
       "text": [
        "[youtube] j9D2ioNFG8o: Downloading DASH manifest\n"
       ]
      },
      {
       "output_type": "stream",
       "stream": "stdout",
       "text": [
        "[debug] Invoking downloader on u'https://r2---sn-nx5jvh-q5ge.googlevideo.com/videoplayback?key=yt5&requiressl=yes&sver=3&sparams=dur%2Cid%2Cinitcwndbps%2Cip%2Cipbits%2Citag%2Clmt%2Cmime%2Cmm%2Cmn%2Cms%2Cmv%2Cpl%2Cratebypass%2Crequiressl%2Csource%2Cupn%2Cexpire&expire=1442092932&lmt=1432195352331646&upn=DUbUjS333U8&mt=1442071297&dur=363.229&pl=15&id=o-AAX7FFITB2cEWYrK2rhvoB8YSwGZeAZkd_1SWfZozzFM&initcwndbps=143750&mv=m&source=youtube&signature=EBA0E059878C8BCC1F498CD7706BC46D16F8A45A.0F766A49DB6CCC1D178BD944F96014B3CC211057&ms=au&mime=video%2Fmp4&mn=sn-nx5jvh-q5ge&ipbits=0&mm=31&itag=22&ratebypass=yes&ip=154.122.182.51&fexp=9405995%2C9406994%2C9408215%2C9408710%2C9409069%2C9409205%2C9413123%2C9415365%2C9415485%2C9415822%2C9416023%2C9416126%2C9416729%2C9417014%2C9417707%2C9418153%2C9418204%2C9418394%2C9418448%2C9419232%2C9419403%2C9419786%2C9419788%2C9420329%2C9420348%2C9420799%2C9420842'\n"
       ]
      },
      {
       "output_type": "stream",
       "stream": "stdout",
       "text": [
        "[download] Destination: ./The Rise of Superheroes and Their Impact On Pop Culture/Week 1 - The Secret Origin Of Comic Books/02.02.01 Depression, War, And The Culture Of The First Comics (America in the 1920s & 1930s).mp4\n"
       ]
      },
      {
       "output_type": "stream",
       "stream": "stdout",
       "text": [
        "\r",
        "[download]   0.0% of 70.58MiB at 795.58KiB/s ETA 01:31"
       ]
      },
      {
       "output_type": "stream",
       "stream": "stdout",
       "text": [
        "\r",
        "[download]   0.0% of 70.58MiB at 13.58KiB/s ETA 01:28:43"
       ]
      },
      {
       "output_type": "stream",
       "stream": "stdout",
       "text": [
        "\r",
        "[download]   0.0% of 70.58MiB at 31.53KiB/s ETA 38:11"
       ]
      },
      {
       "output_type": "stream",
       "stream": "stdout",
       "text": [
        "\r",
        "[download]   0.0% of 70.58MiB at 67.24KiB/s ETA 17:54"
       ]
      },
      {
       "output_type": "stream",
       "stream": "stdout",
       "text": [
        "\r",
        "[download]   0.0% of 70.58MiB at 100.01KiB/s ETA 12:02"
       ]
      },
      {
       "output_type": "stream",
       "stream": "stdout",
       "text": [
        "\r",
        "[download]   0.1% of 70.58MiB at 93.32KiB/s ETA 12:53"
       ]
      },
      {
       "output_type": "stream",
       "stream": "stdout",
       "text": [
        "\r",
        "[download]   0.2% of 70.58MiB at 147.90KiB/s ETA 08:07"
       ]
      },
      {
       "output_type": "stream",
       "stream": "stdout",
       "text": [
        "\r",
        "[download]   0.4% of 70.58MiB at 179.28KiB/s ETA 06:41"
       ]
      },
      {
       "output_type": "stream",
       "stream": "stdout",
       "text": [
        "\r",
        "[download]   0.7% of 70.58MiB at 204.54KiB/s ETA 05:50"
       ]
      },
      {
       "output_type": "stream",
       "stream": "stdout",
       "text": [
        "\r",
        "[download]   1.0% of 70.58MiB at 176.10KiB/s ETA 06:46"
       ]
      },
      {
       "output_type": "stream",
       "stream": "stdout",
       "text": [
        "\r",
        "[download]   1.2% of 70.58MiB at 197.92KiB/s ETA 06:00"
       ]
      },
      {
       "output_type": "stream",
       "stream": "stdout",
       "text": [
        "\r",
        "[download]   1.6% of 70.58MiB at 176.71KiB/s ETA 06:42"
       ]
      },
      {
       "output_type": "stream",
       "stream": "stdout",
       "text": [
        "\r",
        "[download]   1.8% of 70.58MiB at 171.87KiB/s ETA 06:53"
       ]
      },
      {
       "output_type": "stream",
       "stream": "stdout",
       "text": [
        "\r",
        "[download]   2.0% of 70.58MiB at 157.40KiB/s ETA 07:30"
       ]
      },
      {
       "output_type": "stream",
       "stream": "stdout",
       "text": [
        "\r",
        "[download]   2.1% of 70.58MiB at 147.47KiB/s ETA 07:59"
       ]
      },
      {
       "output_type": "stream",
       "stream": "stdout",
       "text": [
        "\r",
        "[download]   2.2% of 70.58MiB at 140.96KiB/s ETA 08:21"
       ]
      },
      {
       "output_type": "stream",
       "stream": "stdout",
       "text": [
        "\r",
        "[download]   2.3% of 70.58MiB at 137.18KiB/s ETA 08:34"
       ]
      },
      {
       "output_type": "stream",
       "stream": "stdout",
       "text": [
        "\r",
        "[download]   2.4% of 70.58MiB at 135.23KiB/s ETA 08:41"
       ]
      },
      {
       "output_type": "stream",
       "stream": "stdout",
       "text": [
        "\r",
        "[download]   2.6% of 70.58MiB at 131.20KiB/s ETA 08:56"
       ]
      },
      {
       "output_type": "stream",
       "stream": "stdout",
       "text": [
        "\r",
        "[download]   2.7% of 70.58MiB at 127.34KiB/s ETA 09:12"
       ]
      },
      {
       "output_type": "stream",
       "stream": "stdout",
       "text": [
        "\r",
        "[download]   2.8% of 70.58MiB at 125.98KiB/s ETA 09:17"
       ]
      },
      {
       "output_type": "stream",
       "stream": "stdout",
       "text": [
        "\r",
        "[download]   2.9% of 70.58MiB at 121.23KiB/s ETA 09:38"
       ]
      },
      {
       "output_type": "stream",
       "stream": "stdout",
       "text": [
        "\r",
        "[download]   3.0% of 70.58MiB at 120.13KiB/s ETA 09:43"
       ]
      },
      {
       "output_type": "stream",
       "stream": "stdout",
       "text": [
        "\r",
        "[download]   3.2% of 70.58MiB at 118.70KiB/s ETA 09:49"
       ]
      },
      {
       "output_type": "stream",
       "stream": "stdout",
       "text": [
        "\r",
        "[download]   3.3% of 70.58MiB at 117.73KiB/s ETA 09:53"
       ]
      },
      {
       "output_type": "stream",
       "stream": "stdout",
       "text": [
        "\r",
        "[download]   3.4% of 70.58MiB at 116.69KiB/s ETA 09:58"
       ]
      },
      {
       "output_type": "stream",
       "stream": "stdout",
       "text": [
        "\r",
        "[download]   3.6% of 70.58MiB at 114.38KiB/s ETA 10:09"
       ]
      },
      {
       "output_type": "stream",
       "stream": "stdout",
       "text": [
        "\r",
        "[download]   3.7% of 70.58MiB at 114.00KiB/s ETA 10:10"
       ]
      },
      {
       "output_type": "stream",
       "stream": "stdout",
       "text": [
        "\r",
        "[download]   3.8% of 70.58MiB at 113.07KiB/s ETA 10:14"
       ]
      },
      {
       "output_type": "stream",
       "stream": "stdout",
       "text": [
        "\r",
        "[download]   3.9% of 70.58MiB at 112.68KiB/s ETA 10:16"
       ]
      },
      {
       "output_type": "stream",
       "stream": "stdout",
       "text": [
        "\r",
        "[download]   4.1% of 70.58MiB at 112.85KiB/s ETA 10:14"
       ]
      },
      {
       "output_type": "stream",
       "stream": "stdout",
       "text": [
        "\r",
        "[download]   4.2% of 70.58MiB at 112.90KiB/s ETA 10:13"
       ]
      },
      {
       "output_type": "stream",
       "stream": "stdout",
       "text": [
        "\r",
        "[download]   4.4% of 70.58MiB at 112.48KiB/s ETA 10:14"
       ]
      },
      {
       "output_type": "stream",
       "stream": "stdout",
       "text": [
        "\r",
        "[download]   4.5% of 70.58MiB at 112.92KiB/s ETA 10:10"
       ]
      },
      {
       "output_type": "stream",
       "stream": "stdout",
       "text": [
        "\r",
        "[download]   4.7% of 70.58MiB at 112.07KiB/s ETA 10:14"
       ]
      },
      {
       "output_type": "stream",
       "stream": "stdout",
       "text": [
        "\r",
        "[download]   4.8% of 70.58MiB at 108.26KiB/s ETA 10:35"
       ]
      },
      {
       "output_type": "stream",
       "stream": "stdout",
       "text": [
        "\r",
        "[download]   4.9% of 70.58MiB at 107.27KiB/s ETA 10:40"
       ]
      },
      {
       "output_type": "stream",
       "stream": "stdout",
       "text": [
        "\r",
        "[download]   5.0% of 70.58MiB at 104.28KiB/s ETA 10:58"
       ]
      },
      {
       "output_type": "stream",
       "stream": "stdout",
       "text": [
        "\r",
        "[download]   5.1% of 70.58MiB at 103.31KiB/s ETA 11:04"
       ]
      },
      {
       "output_type": "stream",
       "stream": "stdout",
       "text": [
        "\r",
        "[download]   5.1% of 70.58MiB at 102.10KiB/s ETA 11:11"
       ]
      },
      {
       "output_type": "stream",
       "stream": "stdout",
       "text": [
        "\r",
        "[download]   5.2% of 70.58MiB at 99.80KiB/s ETA 11:26"
       ]
      },
      {
       "output_type": "stream",
       "stream": "stdout",
       "text": [
        "\r",
        "[download]   5.3% of 70.58MiB at 98.82KiB/s ETA 11:32"
       ]
      },
      {
       "output_type": "stream",
       "stream": "stdout",
       "text": [
        "\r",
        "[download]   5.3% of 70.58MiB at 98.25KiB/s ETA 11:36"
       ]
      },
      {
       "output_type": "stream",
       "stream": "stdout",
       "text": [
        "\r",
        "[download]   5.4% of 70.58MiB at 98.25KiB/s ETA 11:35"
       ]
      },
      {
       "output_type": "stream",
       "stream": "stdout",
       "text": [
        "\r",
        "[download]   5.6% of 70.58MiB at 98.01KiB/s ETA 11:36"
       ]
      },
      {
       "output_type": "stream",
       "stream": "stdout",
       "text": [
        "\r",
        "[download]   5.7% of 70.58MiB at 97.54KiB/s ETA 11:38"
       ]
      },
      {
       "output_type": "stream",
       "stream": "stdout",
       "text": [
        "\r",
        "[download]   5.8% of 70.58MiB at 97.40KiB/s ETA 11:38"
       ]
      },
      {
       "output_type": "stream",
       "stream": "stdout",
       "text": [
        "\r",
        "[download]   5.9% of 70.58MiB at 97.34KiB/s ETA 11:38"
       ]
      },
      {
       "output_type": "stream",
       "stream": "stdout",
       "text": [
        "\r",
        "[download]   6.1% of 70.58MiB at 96.53KiB/s ETA 11:43"
       ]
      },
      {
       "output_type": "stream",
       "stream": "stdout",
       "text": [
        "\r",
        "[download]   6.2% of 70.58MiB at 95.85KiB/s ETA 11:47"
       ]
      },
      {
       "output_type": "stream",
       "stream": "stdout",
       "text": [
        "\r",
        "[download]   6.3% of 70.58MiB at 95.20KiB/s ETA 11:51"
       ]
      },
      {
       "output_type": "stream",
       "stream": "stdout",
       "text": [
        "\r",
        "[download]   6.3% of 70.58MiB at 94.70KiB/s ETA 11:54"
       ]
      },
      {
       "output_type": "stream",
       "stream": "stdout",
       "text": [
        "\r",
        "[download]   6.4% of 70.58MiB at 90.37KiB/s ETA 12:28"
       ]
      },
      {
       "output_type": "stream",
       "stream": "stdout",
       "text": [
        "\r",
        "[download]   6.5% of 70.58MiB at 90.67KiB/s ETA 12:25"
       ]
      },
      {
       "output_type": "stream",
       "stream": "stdout",
       "text": [
        "\r",
        "[download]   6.6% of 70.58MiB at 90.29KiB/s ETA 12:27"
       ]
      },
      {
       "output_type": "stream",
       "stream": "stdout",
       "text": [
        "\r",
        "[download]   6.7% of 70.58MiB at 90.77KiB/s ETA 12:22"
       ]
      },
      {
       "output_type": "stream",
       "stream": "stdout",
       "text": [
        "\r",
        "[download]   6.9% of 70.58MiB at 92.36KiB/s ETA 12:08"
       ]
      },
      {
       "output_type": "stream",
       "stream": "stdout",
       "text": [
        "\r",
        "[download]   7.2% of 70.58MiB at 95.26KiB/s ETA 11:43"
       ]
      },
      {
       "output_type": "stream",
       "stream": "stdout",
       "text": [
        "\r",
        "[download]   7.6% of 70.58MiB at 99.34KiB/s ETA 11:12"
       ]
      },
      {
       "output_type": "stream",
       "stream": "stdout",
       "text": [
        "\r",
        "[download]   8.2% of 70.58MiB at 104.08KiB/s ETA 10:37"
       ]
      },
      {
       "output_type": "stream",
       "stream": "stdout",
       "text": [
        "\r",
        "[download]   8.6% of 70.58MiB at 106.83KiB/s ETA 10:18"
       ]
      },
      {
       "output_type": "stream",
       "stream": "stdout",
       "text": [
        "\r",
        "[download]   8.9% of 70.58MiB at 109.43KiB/s ETA 10:01"
       ]
      },
      {
       "output_type": "stream",
       "stream": "stdout",
       "text": [
        "\r",
        "[download]   9.3% of 70.58MiB at 111.89KiB/s ETA 09:45"
       ]
      },
      {
       "output_type": "stream",
       "stream": "stdout",
       "text": [
        "\r",
        "[download]   9.6% of 70.58MiB at 113.53KiB/s ETA 09:35"
       ]
      },
      {
       "output_type": "stream",
       "stream": "stdout",
       "text": [
        "\r",
        "[download]   9.9% of 70.58MiB at 114.73KiB/s ETA 09:27"
       ]
      },
      {
       "output_type": "stream",
       "stream": "stdout",
       "text": [
        "\r",
        "[download]  10.1% of 70.58MiB at 115.28KiB/s ETA 09:23"
       ]
      },
      {
       "output_type": "stream",
       "stream": "stdout",
       "text": [
        "\r",
        "[download]  10.3% of 70.58MiB at 115.50KiB/s ETA 09:20"
       ]
      },
      {
       "output_type": "stream",
       "stream": "stdout",
       "text": [
        "\r",
        "[download]  10.5% of 70.58MiB at 116.21KiB/s ETA 09:16"
       ]
      },
      {
       "output_type": "stream",
       "stream": "stdout",
       "text": [
        "\r",
        "[download]  10.8% of 70.58MiB at 117.66KiB/s ETA 09:08"
       ]
      },
      {
       "output_type": "stream",
       "stream": "stdout",
       "text": [
        "\r",
        "[download]  11.1% of 70.58MiB at 119.06KiB/s ETA 08:59"
       ]
      },
      {
       "output_type": "stream",
       "stream": "stdout",
       "text": [
        "\r",
        "[download]  11.4% of 70.58MiB at 119.56KiB/s ETA 08:55"
       ]
      },
      {
       "output_type": "stream",
       "stream": "stdout",
       "text": [
        "\r",
        "[download]  11.6% of 70.58MiB at 120.41KiB/s ETA 08:50"
       ]
      },
      {
       "output_type": "stream",
       "stream": "stdout",
       "text": [
        "\r",
        "[download]  11.9% of 70.58MiB at 121.67KiB/s ETA 08:43"
       ]
      },
      {
       "output_type": "stream",
       "stream": "stdout",
       "text": [
        "\r",
        "[download]  12.2% of 70.58MiB at 121.57KiB/s ETA 08:42"
       ]
      },
      {
       "output_type": "stream",
       "stream": "stdout",
       "text": [
        "\r",
        "[download]  12.3% of 70.58MiB at 121.33KiB/s ETA 08:42"
       ]
      },
      {
       "output_type": "stream",
       "stream": "stdout",
       "text": [
        "\r",
        "[download]  12.5% of 70.58MiB at 120.99KiB/s ETA 08:42"
       ]
      },
      {
       "output_type": "stream",
       "stream": "stdout",
       "text": [
        "\r",
        "[download]  12.6% of 70.58MiB at 120.24KiB/s ETA 08:45"
       ]
      },
      {
       "output_type": "stream",
       "stream": "stdout",
       "text": [
        "\r",
        "[download]  12.7% of 70.58MiB at 119.95KiB/s ETA 08:45"
       ]
      },
      {
       "output_type": "stream",
       "stream": "stdout",
       "text": [
        "\r",
        "[download]  12.8% of 70.58MiB at 119.55KiB/s ETA 08:46"
       ]
      },
      {
       "output_type": "stream",
       "stream": "stdout",
       "text": [
        "\r",
        "[download]  13.0% of 70.58MiB at 119.48KiB/s ETA 08:46"
       ]
      },
      {
       "output_type": "stream",
       "stream": "stdout",
       "text": [
        "\r",
        "[download]  13.1% of 70.58MiB at 119.53KiB/s ETA 08:45"
       ]
      },
      {
       "output_type": "stream",
       "stream": "stdout",
       "text": [
        "\r",
        "[download]  13.3% of 70.58MiB at 119.63KiB/s ETA 08:43"
       ]
      },
      {
       "output_type": "stream",
       "stream": "stdout",
       "text": [
        "\r",
        "[download]  13.5% of 70.58MiB at 119.64KiB/s ETA 08:42"
       ]
      },
      {
       "output_type": "stream",
       "stream": "stdout",
       "text": [
        "\r",
        "[download]  13.6% of 70.58MiB at 119.57KiB/s ETA 08:41"
       ]
      },
      {
       "output_type": "stream",
       "stream": "stdout",
       "text": [
        "\r",
        "[download]  13.8% of 70.58MiB at 118.24KiB/s ETA 08:46"
       ]
      },
      {
       "output_type": "stream",
       "stream": "stdout",
       "text": [
        "\r",
        "[download]  13.9% of 70.58MiB at 117.78KiB/s ETA 08:48"
       ]
      },
      {
       "output_type": "stream",
       "stream": "stdout",
       "text": [
        "\r",
        "[download]  14.0% of 70.58MiB at 117.46KiB/s ETA 08:49"
       ]
      },
      {
       "output_type": "stream",
       "stream": "stdout",
       "text": [
        "\r",
        "[download]  14.1% of 70.58MiB at 117.16KiB/s ETA 08:49"
       ]
      },
      {
       "output_type": "stream",
       "stream": "stdout",
       "text": [
        "\r",
        "[download]  14.2% of 70.58MiB at 116.74KiB/s ETA 08:51"
       ]
      },
      {
       "output_type": "stream",
       "stream": "stdout",
       "text": [
        "\r",
        "[download]  14.3% of 70.58MiB at 117.36KiB/s ETA 08:47"
       ]
      },
      {
       "output_type": "stream",
       "stream": "stdout",
       "text": [
        "\r",
        "[download]  14.6% of 70.58MiB at 117.52KiB/s ETA 08:45"
       ]
      },
      {
       "output_type": "stream",
       "stream": "stdout",
       "text": [
        "\r",
        "[download]  14.7% of 70.58MiB at 117.16KiB/s ETA 08:45"
       ]
      },
      {
       "output_type": "stream",
       "stream": "stdout",
       "text": [
        "\r",
        "[download]  14.9% of 70.58MiB at 117.23KiB/s ETA 08:44"
       ]
      },
      {
       "output_type": "stream",
       "stream": "stdout",
       "text": [
        "\r",
        "[download]  15.0% of 70.58MiB at 117.10KiB/s ETA 08:44"
       ]
      },
      {
       "output_type": "stream",
       "stream": "stdout",
       "text": [
        "\r",
        "[download]  15.2% of 70.58MiB at 116.94KiB/s ETA 08:44"
       ]
      },
      {
       "output_type": "stream",
       "stream": "stdout",
       "text": [
        "\r",
        "[download]  15.3% of 70.58MiB at 117.23KiB/s ETA 08:41"
       ]
      },
      {
       "output_type": "stream",
       "stream": "stdout",
       "text": [
        "\r",
        "[download]  15.6% of 70.58MiB at 117.75KiB/s ETA 08:38"
       ]
      },
      {
       "output_type": "stream",
       "stream": "stdout",
       "text": [
        "\r",
        "[download]  15.8% of 70.58MiB at 118.52KiB/s ETA 08:33"
       ]
      },
      {
       "output_type": "stream",
       "stream": "stdout",
       "text": [
        "\r",
        "[download]  16.1% of 70.58MiB at 118.91KiB/s ETA 08:30"
       ]
      },
      {
       "output_type": "stream",
       "stream": "stdout",
       "text": [
        "\r",
        "[download]  16.3% of 70.58MiB at 118.91KiB/s ETA 08:28"
       ]
      },
      {
       "output_type": "stream",
       "stream": "stdout",
       "text": [
        "\r",
        "[download]  16.4% of 70.58MiB at 118.85KiB/s ETA 08:28"
       ]
      },
      {
       "output_type": "stream",
       "stream": "stdout",
       "text": [
        "\r",
        "[download]  16.6% of 70.58MiB at 119.02KiB/s ETA 08:26"
       ]
      },
      {
       "output_type": "stream",
       "stream": "stdout",
       "text": [
        "\r",
        "[download]  16.8% of 70.58MiB at 119.26KiB/s ETA 08:24"
       ]
      },
      {
       "output_type": "stream",
       "stream": "stdout",
       "text": [
        "\r",
        "[download]  17.0% of 70.58MiB at 119.35KiB/s ETA 08:22"
       ]
      },
      {
       "output_type": "stream",
       "stream": "stdout",
       "text": [
        "\r",
        "[download]  17.2% of 70.58MiB at 119.19KiB/s ETA 08:22"
       ]
      },
      {
       "output_type": "stream",
       "stream": "stdout",
       "text": [
        "\r",
        "[download]  17.3% of 70.58MiB at 119.20KiB/s ETA 08:21"
       ]
      },
      {
       "output_type": "stream",
       "stream": "stdout",
       "text": [
        "\r",
        "[download]  17.5% of 70.58MiB at 119.21KiB/s ETA 08:20"
       ]
      },
      {
       "output_type": "stream",
       "stream": "stdout",
       "text": [
        "\r",
        "[download]  17.7% of 70.58MiB at 119.42KiB/s ETA 08:18"
       ]
      },
      {
       "output_type": "stream",
       "stream": "stdout",
       "text": [
        "\r",
        "[download]  17.9% of 70.58MiB at 119.79KiB/s ETA 08:15"
       ]
      },
      {
       "output_type": "stream",
       "stream": "stdout",
       "text": [
        "\r",
        "[download]  18.1% of 70.58MiB at 119.83KiB/s ETA 08:14"
       ]
      },
      {
       "output_type": "stream",
       "stream": "stdout",
       "text": [
        "\r",
        "[download]  18.3% of 70.58MiB at 119.69KiB/s ETA 08:13"
       ]
      },
      {
       "output_type": "stream",
       "stream": "stdout",
       "text": [
        "\r",
        "[download]  18.4% of 70.58MiB at 119.64KiB/s ETA 08:12"
       ]
      },
      {
       "output_type": "stream",
       "stream": "stdout",
       "text": [
        "\r",
        "[download]  18.6% of 70.58MiB at 119.99KiB/s ETA 08:10"
       ]
      },
      {
       "output_type": "stream",
       "stream": "stdout",
       "text": [
        "\r",
        "[download]  18.8% of 70.58MiB at 120.19KiB/s ETA 08:08"
       ]
      },
      {
       "output_type": "stream",
       "stream": "stdout",
       "text": [
        "\r",
        "[download]  19.0% of 70.58MiB at 119.73KiB/s ETA 08:08"
       ]
      },
      {
       "output_type": "stream",
       "stream": "stdout",
       "text": [
        "\r",
        "[download]  19.1% of 70.58MiB at 119.67KiB/s ETA 08:08"
       ]
      },
      {
       "output_type": "stream",
       "stream": "stdout",
       "text": [
        "\r",
        "[download]  19.3% of 70.58MiB at 119.51KiB/s ETA 08:08"
       ]
      },
      {
       "output_type": "stream",
       "stream": "stdout",
       "text": [
        "\r",
        "[download]  19.4% of 70.58MiB at 119.10KiB/s ETA 08:08"
       ]
      },
      {
       "output_type": "stream",
       "stream": "stdout",
       "text": [
        "\r",
        "[download]  19.5% of 70.58MiB at 118.64KiB/s ETA 08:10"
       ]
      },
      {
       "output_type": "stream",
       "stream": "stdout",
       "text": [
        "\r",
        "[download]  19.6% of 70.58MiB at 118.88KiB/s ETA 08:08"
       ]
      },
      {
       "output_type": "stream",
       "stream": "stdout",
       "text": [
        "\r",
        "[download]  19.8% of 70.58MiB at 119.13KiB/s ETA 08:06"
       ]
      },
      {
       "output_type": "stream",
       "stream": "stdout",
       "text": [
        "\r",
        "[download]  20.0% of 70.58MiB at 119.80KiB/s ETA 08:02"
       ]
      },
      {
       "output_type": "stream",
       "stream": "stdout",
       "text": [
        "\r",
        "[download]  20.4% of 70.58MiB at 120.01KiB/s ETA 07:59"
       ]
      },
      {
       "output_type": "stream",
       "stream": "stdout",
       "text": [
        "\r",
        "[download]  20.6% of 70.58MiB at 118.62KiB/s ETA 08:03"
       ]
      },
      {
       "output_type": "stream",
       "stream": "stdout",
       "text": [
        "\r",
        "[download]  20.7% of 70.58MiB at 119.15KiB/s ETA 08:01"
       ]
      },
      {
       "output_type": "stream",
       "stream": "stdout",
       "text": [
        "\r",
        "[download]  20.8% of 70.58MiB at 118.87KiB/s ETA 08:01"
       ]
      },
      {
       "output_type": "stream",
       "stream": "stdout",
       "text": [
        "\r",
        "[download]  21.0% of 70.58MiB at 118.90KiB/s ETA 08:00"
       ]
      },
      {
       "output_type": "stream",
       "stream": "stdout",
       "text": [
        "\r",
        "[download]  21.2% of 70.58MiB at 119.13KiB/s ETA 07:58"
       ]
      },
      {
       "output_type": "stream",
       "stream": "stdout",
       "text": [
        "\r",
        "[download]  21.4% of 70.58MiB at 119.01KiB/s ETA 07:57"
       ]
      },
      {
       "output_type": "stream",
       "stream": "stdout",
       "text": [
        "\r",
        "[download]  21.5% of 70.58MiB at 119.07KiB/s ETA 07:56"
       ]
      },
      {
       "output_type": "stream",
       "stream": "stdout",
       "text": [
        "\r",
        "[download]  21.7% of 70.58MiB at 119.07KiB/s ETA 07:55"
       ]
      },
      {
       "output_type": "stream",
       "stream": "stdout",
       "text": [
        "\r",
        "[download]  21.9% of 70.58MiB at 119.12KiB/s ETA 07:54"
       ]
      },
      {
       "output_type": "stream",
       "stream": "stdout",
       "text": [
        "\r",
        "[download]  22.0% of 70.58MiB at 118.66KiB/s ETA 07:54"
       ]
      },
      {
       "output_type": "stream",
       "stream": "stdout",
       "text": [
        "\r",
        "[download]  22.1% of 70.58MiB at 118.53KiB/s ETA 07:54"
       ]
      },
      {
       "output_type": "stream",
       "stream": "stdout",
       "text": [
        "\r",
        "[download]  22.3% of 70.58MiB at 118.37KiB/s ETA 07:54"
       ]
      },
      {
       "output_type": "stream",
       "stream": "stdout",
       "text": [
        "\r",
        "[download]  22.4% of 70.58MiB at 118.40KiB/s ETA 07:53"
       ]
      },
      {
       "output_type": "stream",
       "stream": "stdout",
       "text": [
        "\r",
        "[download]  22.6% of 70.58MiB at 118.27KiB/s ETA 07:53"
       ]
      },
      {
       "output_type": "stream",
       "stream": "stdout",
       "text": [
        "\r",
        "[download]  22.7% of 70.58MiB at 118.20KiB/s ETA 07:52"
       ]
      },
      {
       "output_type": "stream",
       "stream": "stdout",
       "text": [
        "\r",
        "[download]  22.9% of 70.58MiB at 117.66KiB/s ETA 07:53"
       ]
      },
      {
       "output_type": "stream",
       "stream": "stdout",
       "text": [
        "\r",
        "[download]  23.0% of 70.58MiB at 117.66KiB/s ETA 07:53"
       ]
      },
      {
       "output_type": "stream",
       "stream": "stdout",
       "text": [
        "\r",
        "[download]  23.1% of 70.58MiB at 117.21KiB/s ETA 07:53"
       ]
      },
      {
       "output_type": "stream",
       "stream": "stdout",
       "text": [
        "\r",
        "[download]  23.2% of 70.58MiB at 116.99KiB/s ETA 07:54"
       ]
      },
      {
       "output_type": "stream",
       "stream": "stdout",
       "text": [
        "\r",
        "[download]  23.4% of 70.58MiB at 117.05KiB/s ETA 07:53"
       ]
      },
      {
       "output_type": "stream",
       "stream": "stdout",
       "text": [
        "\r",
        "[download]  23.5% of 70.58MiB at 117.05KiB/s ETA 07:52"
       ]
      },
      {
       "output_type": "stream",
       "stream": "stdout",
       "text": [
        "\r",
        "[download]  23.7% of 70.58MiB at 117.13KiB/s ETA 07:50"
       ]
      },
      {
       "output_type": "stream",
       "stream": "stdout",
       "text": [
        "\r",
        "[download]  23.9% of 70.58MiB at 116.98KiB/s ETA 07:50"
       ]
      },
      {
       "output_type": "stream",
       "stream": "stdout",
       "text": [
        "\r",
        "[download]  24.0% of 70.58MiB at 117.61KiB/s ETA 07:46"
       ]
      },
      {
       "output_type": "stream",
       "stream": "stdout",
       "text": [
        "\r",
        "[download]  24.3% of 70.58MiB at 118.21KiB/s ETA 07:42"
       ]
      },
      {
       "output_type": "stream",
       "stream": "stdout",
       "text": [
        "\r",
        "[download]  24.6% of 70.58MiB at 118.64KiB/s ETA 07:39"
       ]
      },
      {
       "output_type": "stream",
       "stream": "stdout",
       "text": [
        "\r",
        "[download]  24.8% of 70.58MiB at 118.81KiB/s ETA 07:37"
       ]
      },
      {
       "output_type": "stream",
       "stream": "stdout",
       "text": [
        "\r",
        "[download]  25.0% of 70.58MiB at 119.18KiB/s ETA 07:34"
       ]
      },
      {
       "output_type": "stream",
       "stream": "stdout",
       "text": [
        "\r",
        "[download]  25.3% of 70.58MiB at 119.64KiB/s ETA 07:31"
       ]
      },
      {
       "output_type": "stream",
       "stream": "stdout",
       "text": [
        "\r",
        "[download]  25.6% of 70.58MiB at 120.03KiB/s ETA 07:28"
       ]
      },
      {
       "output_type": "stream",
       "stream": "stdout",
       "text": [
        "\r",
        "[download]  25.8% of 70.58MiB at 120.24KiB/s ETA 07:26"
       ]
      },
      {
       "output_type": "stream",
       "stream": "stdout",
       "text": [
        "\r",
        "[download]  26.0% of 70.58MiB at 120.51KiB/s ETA 07:23"
       ]
      },
      {
       "output_type": "stream",
       "stream": "stdout",
       "text": [
        "\r",
        "[download]  26.2% of 70.58MiB at 120.78KiB/s ETA 07:21"
       ]
      },
      {
       "output_type": "stream",
       "stream": "stdout",
       "text": [
        "\r",
        "[download]  26.5% of 70.58MiB at 121.03KiB/s ETA 07:19"
       ]
      },
      {
       "output_type": "stream",
       "stream": "stdout",
       "text": [
        "\r",
        "[download]  26.7% of 70.58MiB at 121.20KiB/s ETA 07:17"
       ]
      },
      {
       "output_type": "stream",
       "stream": "stdout",
       "text": [
        "\r",
        "[download]  26.9% of 70.58MiB at 121.14KiB/s ETA 07:16"
       ]
      },
      {
       "output_type": "stream",
       "stream": "stdout",
       "text": [
        "\r",
        "[download]  27.0% of 70.58MiB at 121.17KiB/s ETA 07:15"
       ]
      },
      {
       "output_type": "stream",
       "stream": "stdout",
       "text": [
        "\r",
        "[download]  27.2% of 70.58MiB at 121.44KiB/s ETA 07:13"
       ]
      },
      {
       "output_type": "stream",
       "stream": "stdout",
       "text": [
        "\r",
        "[download]  27.5% of 70.58MiB at 121.75KiB/s ETA 07:10"
       ]
      },
      {
       "output_type": "stream",
       "stream": "stdout",
       "text": [
        "\r",
        "[download]  27.7% of 70.58MiB at 121.78KiB/s ETA 07:09"
       ]
      },
      {
       "output_type": "stream",
       "stream": "stdout",
       "text": [
        "\r",
        "[download]  27.9% of 70.58MiB at 121.50KiB/s ETA 07:09"
       ]
      },
      {
       "output_type": "stream",
       "stream": "stdout",
       "text": [
        "\r",
        "[download]  28.0% of 70.58MiB at 121.35KiB/s ETA 07:08"
       ]
      },
      {
       "output_type": "stream",
       "stream": "stdout",
       "text": [
        "\r",
        "[download]  28.1% of 70.58MiB at 120.60KiB/s ETA 07:10"
       ]
      },
      {
       "output_type": "stream",
       "stream": "stdout",
       "text": [
        "\r",
        "[download]  28.2% of 70.58MiB at 120.24KiB/s ETA 07:11"
       ]
      },
      {
       "output_type": "stream",
       "stream": "stdout",
       "text": [
        "\r",
        "[download]  28.3% of 70.58MiB at 119.72KiB/s ETA 07:12"
       ]
      },
      {
       "output_type": "stream",
       "stream": "stdout",
       "text": [
        "\r",
        "[download]  28.3% of 70.58MiB at 119.50KiB/s ETA 07:13"
       ]
      },
      {
       "output_type": "stream",
       "stream": "stdout",
       "text": [
        "\r",
        "[download]  28.4% of 70.58MiB at 119.29KiB/s ETA 07:13"
       ]
      },
      {
       "output_type": "stream",
       "stream": "stdout",
       "text": [
        "\r",
        "[download]  28.5% of 70.58MiB at 118.77KiB/s ETA 07:14"
       ]
      },
      {
       "output_type": "stream",
       "stream": "stdout",
       "text": [
        "\r",
        "[download]  28.6% of 70.58MiB at 118.72KiB/s ETA 07:14"
       ]
      },
      {
       "output_type": "stream",
       "stream": "stdout",
       "text": [
        "\r",
        "[download]  28.8% of 70.58MiB at 118.48KiB/s ETA 07:14"
       ]
      },
      {
       "output_type": "stream",
       "stream": "stdout",
       "text": [
        "\r",
        "[download]  28.9% of 70.58MiB at 118.34KiB/s ETA 07:14"
       ]
      },
      {
       "output_type": "stream",
       "stream": "stdout",
       "text": [
        "\r",
        "[download]  29.0% of 70.58MiB at 118.30KiB/s ETA 07:13"
       ]
      },
      {
       "output_type": "stream",
       "stream": "stdout",
       "text": [
        "\r",
        "[download]  29.2% of 70.58MiB at 118.49KiB/s ETA 07:12"
       ]
      },
      {
       "output_type": "stream",
       "stream": "stdout",
       "text": [
        "\r",
        "[download]  29.4% of 70.58MiB at 118.66KiB/s ETA 07:10"
       ]
      },
      {
       "output_type": "stream",
       "stream": "stdout",
       "text": [
        "\r",
        "[download]  29.6% of 70.58MiB at 118.59KiB/s ETA 07:09"
       ]
      },
      {
       "output_type": "stream",
       "stream": "stdout",
       "text": [
        "\r",
        "[download]  29.7% of 70.58MiB at 118.58KiB/s ETA 07:08"
       ]
      },
      {
       "output_type": "stream",
       "stream": "stdout",
       "text": [
        "\r",
        "[download]  29.9% of 70.58MiB at 118.67KiB/s ETA 07:06"
       ]
      },
      {
       "output_type": "stream",
       "stream": "stdout",
       "text": [
        "\r",
        "[download]  30.1% of 70.58MiB at 118.70KiB/s ETA 07:05"
       ]
      },
      {
       "output_type": "stream",
       "stream": "stdout",
       "text": [
        "\r",
        "[download]  30.3% of 70.58MiB at 117.99KiB/s ETA 07:07"
       ]
      },
      {
       "output_type": "stream",
       "stream": "stdout",
       "text": [
        "\r",
        "[download]  30.4% of 70.58MiB at 118.32KiB/s ETA 07:05"
       ]
      },
      {
       "output_type": "stream",
       "stream": "stdout",
       "text": [
        "\r",
        "[download]  30.5% of 70.58MiB at 118.22KiB/s ETA 07:04"
       ]
      },
      {
       "output_type": "stream",
       "stream": "stdout",
       "text": [
        "\r",
        "[download]  30.7% of 70.58MiB at 118.30KiB/s ETA 07:03"
       ]
      },
      {
       "output_type": "stream",
       "stream": "stdout",
       "text": [
        "\r",
        "[download]  30.9% of 70.58MiB at 118.33KiB/s ETA 07:02"
       ]
      },
      {
       "output_type": "stream",
       "stream": "stdout",
       "text": [
        "\r",
        "[download]  31.0% of 70.58MiB at 118.25KiB/s ETA 07:01"
       ]
      },
      {
       "output_type": "stream",
       "stream": "stdout",
       "text": [
        "\r",
        "[download]  31.2% of 70.58MiB at 118.50KiB/s ETA 06:59"
       ]
      },
      {
       "output_type": "stream",
       "stream": "stdout",
       "text": [
        "\r",
        "[download]  31.5% of 70.58MiB at 118.89KiB/s ETA 06:56"
       ]
      },
      {
       "output_type": "stream",
       "stream": "stdout",
       "text": [
        "\r",
        "[download]  31.7% of 70.58MiB at 119.34KiB/s ETA 06:53"
       ]
      },
      {
       "output_type": "stream",
       "stream": "stdout",
       "text": [
        "\r",
        "[download]  32.0% of 70.58MiB at 119.66KiB/s ETA 06:50"
       ]
      },
      {
       "output_type": "stream",
       "stream": "stdout",
       "text": [
        "\r",
        "[download]  32.3% of 70.58MiB at 119.72KiB/s ETA 06:48"
       ]
      },
      {
       "output_type": "stream",
       "stream": "stdout",
       "text": [
        "\r",
        "[download]  32.4% of 70.58MiB at 119.86KiB/s ETA 06:47"
       ]
      },
      {
       "output_type": "stream",
       "stream": "stdout",
       "text": [
        "\r",
        "[download]  32.7% of 70.58MiB at 119.89KiB/s ETA 06:45"
       ]
      },
      {
       "output_type": "stream",
       "stream": "stdout",
       "text": [
        "\r",
        "[download]  32.8% of 70.58MiB at 119.81KiB/s ETA 06:45"
       ]
      },
      {
       "output_type": "stream",
       "stream": "stdout",
       "text": [
        "\r",
        "[download]  33.0% of 70.58MiB at 119.77KiB/s ETA 06:44"
       ]
      },
      {
       "output_type": "stream",
       "stream": "stdout",
       "text": [
        "\r",
        "[download]  33.1% of 70.58MiB at 119.85KiB/s ETA 06:43"
       ]
      },
      {
       "output_type": "stream",
       "stream": "stdout",
       "text": [
        "\r",
        "[download]  33.3% of 70.58MiB at 119.48KiB/s ETA 06:43"
       ]
      },
      {
       "output_type": "stream",
       "stream": "stdout",
       "text": [
        "\r",
        "[download]  33.4% of 70.58MiB at 119.79KiB/s ETA 06:41"
       ]
      },
      {
       "output_type": "stream",
       "stream": "stdout",
       "text": [
        "\r",
        "[download]  33.6% of 70.58MiB at 119.30KiB/s ETA 06:41"
       ]
      },
      {
       "output_type": "stream",
       "stream": "stdout",
       "text": [
        "\r",
        "[download]  33.8% of 70.58MiB at 119.24KiB/s ETA 06:41"
       ]
      },
      {
       "output_type": "stream",
       "stream": "stdout",
       "text": [
        "\r",
        "[download]  33.9% of 70.58MiB at 119.15KiB/s ETA 06:40"
       ]
      },
      {
       "output_type": "stream",
       "stream": "stdout",
       "text": [
        "\r",
        "[download]  34.0% of 70.58MiB at 119.14KiB/s ETA 06:40"
       ]
      },
      {
       "output_type": "stream",
       "stream": "stdout",
       "text": [
        "\r",
        "[download]  34.2% of 70.58MiB at 119.06KiB/s ETA 06:39"
       ]
      },
      {
       "output_type": "stream",
       "stream": "stdout",
       "text": [
        "\r",
        "[download]  34.3% of 70.58MiB at 119.13KiB/s ETA 06:38"
       ]
      },
      {
       "output_type": "stream",
       "stream": "stdout",
       "text": [
        "\r",
        "[download]  34.5% of 70.58MiB at 118.92KiB/s ETA 06:37"
       ]
      },
      {
       "output_type": "stream",
       "stream": "stdout",
       "text": [
        "\r",
        "[download]  34.7% of 70.58MiB at 118.74KiB/s ETA 06:37"
       ]
      },
      {
       "output_type": "stream",
       "stream": "stdout",
       "text": [
        "\r",
        "[download]  34.8% of 70.58MiB at 118.72KiB/s ETA 06:37"
       ]
      },
      {
       "output_type": "stream",
       "stream": "stdout",
       "text": [
        "\r",
        "[download]  34.9% of 70.58MiB at 118.24KiB/s ETA 06:37"
       ]
      },
      {
       "output_type": "stream",
       "stream": "stdout",
       "text": [
        "\r",
        "[download]  35.0% of 70.58MiB at 118.06KiB/s ETA 06:37"
       ]
      },
      {
       "output_type": "stream",
       "stream": "stdout",
       "text": [
        "\r",
        "[download]  35.1% of 70.58MiB at 117.95KiB/s ETA 06:37"
       ]
      },
      {
       "output_type": "stream",
       "stream": "stdout",
       "text": [
        "\r",
        "[download]  35.2% of 70.58MiB at 117.93KiB/s ETA 06:36"
       ]
      },
      {
       "output_type": "stream",
       "stream": "stdout",
       "text": [
        "\r",
        "[download]  35.4% of 70.58MiB at 117.76KiB/s ETA 06:36"
       ]
      },
      {
       "output_type": "stream",
       "stream": "stdout",
       "text": [
        "\r",
        "[download]  35.5% of 70.58MiB at 117.56KiB/s ETA 06:36"
       ]
      },
      {
       "output_type": "stream",
       "stream": "stdout",
       "text": [
        "\r",
        "[download]  35.6% of 70.58MiB at 117.33KiB/s ETA 06:36"
       ]
      },
      {
       "output_type": "stream",
       "stream": "stdout",
       "text": [
        "\r",
        "[download]  35.7% of 70.58MiB at 117.23KiB/s ETA 06:36"
       ]
      },
      {
       "output_type": "stream",
       "stream": "stdout",
       "text": [
        "\r",
        "[download]  35.9% of 70.58MiB at 117.12KiB/s ETA 06:35"
       ]
      },
      {
       "output_type": "stream",
       "stream": "stdout",
       "text": [
        "\r",
        "[download]  36.0% of 70.58MiB at 116.88KiB/s ETA 06:35"
       ]
      },
      {
       "output_type": "stream",
       "stream": "stdout",
       "text": [
        "\r",
        "[download]  36.1% of 70.58MiB at 116.85KiB/s ETA 06:35"
       ]
      },
      {
       "output_type": "stream",
       "stream": "stdout",
       "text": [
        "\r",
        "[download]  36.2% of 70.58MiB at 116.54KiB/s ETA 06:35"
       ]
      },
      {
       "output_type": "stream",
       "stream": "stdout",
       "text": [
        "\r",
        "[download]  36.3% of 70.58MiB at 116.25KiB/s ETA 06:35"
       ]
      },
      {
       "output_type": "stream",
       "stream": "stdout",
       "text": [
        "\r",
        "[download]  36.4% of 70.58MiB at 116.32KiB/s ETA 06:35"
       ]
      },
      {
       "output_type": "stream",
       "stream": "stdout",
       "text": [
        "\r",
        "[download]  36.6% of 70.58MiB at 116.25KiB/s ETA 06:34"
       ]
      },
      {
       "output_type": "stream",
       "stream": "stdout",
       "text": [
        "\r",
        "[download]  36.7% of 70.58MiB at 116.28KiB/s ETA 06:33"
       ]
      },
      {
       "output_type": "stream",
       "stream": "stdout",
       "text": [
        "\r",
        "[download]  36.9% of 70.58MiB at 116.02KiB/s ETA 06:33"
       ]
      },
      {
       "output_type": "stream",
       "stream": "stdout",
       "text": [
        "\r",
        "[download]  37.0% of 70.58MiB at 115.88KiB/s ETA 06:32"
       ]
      },
      {
       "output_type": "stream",
       "stream": "stdout",
       "text": [
        "\r",
        "[download]  37.1% of 70.58MiB at 115.93KiB/s ETA 06:31"
       ]
      },
      {
       "output_type": "stream",
       "stream": "stdout",
       "text": [
        "\r",
        "[download]  37.3% of 70.58MiB at 115.99KiB/s ETA 06:30"
       ]
      },
      {
       "output_type": "stream",
       "stream": "stdout",
       "text": [
        "\r",
        "[download]  37.5% of 70.58MiB at 116.20KiB/s ETA 06:28"
       ]
      },
      {
       "output_type": "stream",
       "stream": "stdout",
       "text": [
        "\r",
        "[download]  37.7% of 70.58MiB at 116.39KiB/s ETA 06:26"
       ]
      },
      {
       "output_type": "stream",
       "stream": "stdout",
       "text": [
        "\r",
        "[download]  38.0% of 70.58MiB at 116.84KiB/s ETA 06:23"
       ]
      },
      {
       "output_type": "stream",
       "stream": "stdout",
       "text": [
        "\r",
        "[download]  38.4% of 70.58MiB at 117.70KiB/s ETA 06:18"
       ]
      },
      {
       "output_type": "stream",
       "stream": "stdout",
       "text": [
        "\r",
        "[download]  38.9% of 70.58MiB at 118.79KiB/s ETA 06:11"
       ]
      },
      {
       "output_type": "stream",
       "stream": "stdout",
       "text": [
        "\r",
        "[download]  39.5% of 70.58MiB at 119.98KiB/s ETA 06:04"
       ]
      },
      {
       "output_type": "stream",
       "stream": "stdout",
       "text": [
        "\r",
        "[download]  39.9% of 70.58MiB at 120.49KiB/s ETA 06:00"
       ]
      },
      {
       "output_type": "stream",
       "stream": "stdout",
       "text": [
        "\r",
        "[download]  40.2% of 70.58MiB at 120.85KiB/s ETA 05:57"
       ]
      },
      {
       "output_type": "stream",
       "stream": "stdout",
       "text": [
        "\r",
        "[download]  40.5% of 70.58MiB at 121.04KiB/s ETA 05:55"
       ]
      },
      {
       "output_type": "stream",
       "stream": "stdout",
       "text": [
        "\r",
        "[download]  40.7% of 70.58MiB at 121.17KiB/s ETA 05:53"
       ]
      },
      {
       "output_type": "stream",
       "stream": "stdout",
       "text": [
        "\r",
        "[download]  40.9% of 70.58MiB at 121.11KiB/s ETA 05:52"
       ]
      },
      {
       "output_type": "stream",
       "stream": "stdout",
       "text": [
        "\r",
        "[download]  41.1% of 70.58MiB at 121.36KiB/s ETA 05:50"
       ]
      },
      {
       "output_type": "stream",
       "stream": "stdout",
       "text": [
        "\r",
        "[download]  41.4% of 70.58MiB at 121.74KiB/s ETA 05:48"
       ]
      },
      {
       "output_type": "stream",
       "stream": "stdout",
       "text": [
        "\r",
        "[download]  41.7% of 70.58MiB at 122.06KiB/s ETA 05:45"
       ]
      },
      {
       "output_type": "stream",
       "stream": "stdout",
       "text": [
        "\r",
        "[download]  41.9% of 70.58MiB at 121.64KiB/s ETA 05:45"
       ]
      },
      {
       "output_type": "stream",
       "stream": "stdout",
       "text": [
        "\r",
        "[download]  42.1% of 70.58MiB at 121.43KiB/s ETA 05:44"
       ]
      },
      {
       "output_type": "stream",
       "stream": "stdout",
       "text": [
        "\r",
        "[download]  42.2% of 70.58MiB at 121.16KiB/s ETA 05:44"
       ]
      },
      {
       "output_type": "stream",
       "stream": "stdout",
       "text": [
        "\r",
        "[download]  42.3% of 70.58MiB at 121.10KiB/s ETA 05:44"
       ]
      },
      {
       "output_type": "stream",
       "stream": "stdout",
       "text": [
        "\r",
        "[download]  42.4% of 70.58MiB at 120.89KiB/s ETA 05:44"
       ]
      },
      {
       "output_type": "stream",
       "stream": "stdout",
       "text": [
        "\r",
        "[download]  42.5% of 70.58MiB at 120.57KiB/s ETA 05:44"
       ]
      },
      {
       "output_type": "stream",
       "stream": "stdout",
       "text": [
        "\r",
        "[download]  42.6% of 70.58MiB at 120.49KiB/s ETA 05:44"
       ]
      },
      {
       "output_type": "stream",
       "stream": "stdout",
       "text": [
        "\r",
        "[download]  42.7% of 70.58MiB at 120.52KiB/s ETA 05:43"
       ]
      },
      {
       "output_type": "stream",
       "stream": "stdout",
       "text": [
        "\r",
        "[download]  42.9% of 70.58MiB at 120.32KiB/s ETA 05:42"
       ]
      },
      {
       "output_type": "stream",
       "stream": "stdout",
       "text": [
        "\r",
        "[download]  43.0% of 70.58MiB at 120.33KiB/s ETA 05:42"
       ]
      },
      {
       "output_type": "stream",
       "stream": "stdout",
       "text": [
        "\r",
        "[download]  43.2% of 70.58MiB at 119.77KiB/s ETA 05:42"
       ]
      },
      {
       "output_type": "stream",
       "stream": "stdout",
       "text": [
        "\r",
        "[download]  43.3% of 70.58MiB at 119.61KiB/s ETA 05:42"
       ]
      },
      {
       "output_type": "stream",
       "stream": "stdout",
       "text": [
        "\r",
        "[download]  43.4% of 70.58MiB at 119.40KiB/s ETA 05:42"
       ]
      },
      {
       "output_type": "stream",
       "stream": "stdout",
       "text": [
        "\r",
        "[download]  43.5% of 70.58MiB at 119.42KiB/s ETA 05:42"
       ]
      },
      {
       "output_type": "stream",
       "stream": "stdout",
       "text": [
        "\r",
        "[download]  43.7% of 70.58MiB at 119.35KiB/s ETA 05:41"
       ]
      },
      {
       "output_type": "stream",
       "stream": "stdout",
       "text": [
        "\r",
        "[download]  43.8% of 70.58MiB at 119.43KiB/s ETA 05:40"
       ]
      },
      {
       "output_type": "stream",
       "stream": "stdout",
       "text": [
        "\r",
        "[download]  44.0% of 70.58MiB at 119.61KiB/s ETA 05:38"
       ]
      },
      {
       "output_type": "stream",
       "stream": "stdout",
       "text": [
        "\r",
        "[download]  44.2% of 70.58MiB at 119.85KiB/s ETA 05:36"
       ]
      },
      {
       "output_type": "stream",
       "stream": "stdout",
       "text": [
        "\r",
        "[download]  44.5% of 70.58MiB at 119.79KiB/s ETA 05:34"
       ]
      },
      {
       "output_type": "stream",
       "stream": "stdout",
       "text": [
        "\r",
        "[download]  44.7% of 70.58MiB at 119.99KiB/s ETA 05:33"
       ]
      },
      {
       "output_type": "stream",
       "stream": "stdout",
       "text": [
        "\r",
        "[download]  45.0% of 70.58MiB at 119.95KiB/s ETA 05:31"
       ]
      },
      {
       "output_type": "stream",
       "stream": "stdout",
       "text": [
        "\r",
        "[download]  45.1% of 70.58MiB at 119.80KiB/s ETA 05:31"
       ]
      },
      {
       "output_type": "stream",
       "stream": "stdout",
       "text": [
        "\r",
        "[download]  45.2% of 70.58MiB at 119.83KiB/s ETA 05:30"
       ]
      },
      {
       "output_type": "stream",
       "stream": "stdout",
       "text": [
        "\r",
        "[download]  45.4% of 70.58MiB at 119.85KiB/s ETA 05:29"
       ]
      },
      {
       "output_type": "stream",
       "stream": "stdout",
       "text": [
        "\r",
        "[download]  45.6% of 70.58MiB at 119.94KiB/s ETA 05:27"
       ]
      },
      {
       "output_type": "stream",
       "stream": "stdout",
       "text": [
        "\r",
        "[download]  45.8% of 70.58MiB at 119.92KiB/s ETA 05:26"
       ]
      },
      {
       "output_type": "stream",
       "stream": "stdout",
       "text": [
        "\r",
        "[download]  46.0% of 70.58MiB at 119.97KiB/s ETA 05:25"
       ]
      },
      {
       "output_type": "stream",
       "stream": "stdout",
       "text": [
        "\r",
        "[download]  46.2% of 70.58MiB at 119.95KiB/s ETA 05:24"
       ]
      },
      {
       "output_type": "stream",
       "stream": "stdout",
       "text": [
        "\r",
        "[download]  46.3% of 70.58MiB at 120.12KiB/s ETA 05:22"
       ]
      },
      {
       "output_type": "stream",
       "stream": "stdout",
       "text": [
        "\r",
        "[download]  46.6% of 70.58MiB at 120.51KiB/s ETA 05:20"
       ]
      },
      {
       "output_type": "stream",
       "stream": "stdout",
       "text": [
        "\r",
        "[download]  47.0% of 70.58MiB at 120.68KiB/s ETA 05:17"
       ]
      },
      {
       "output_type": "stream",
       "stream": "stdout",
       "text": [
        "\r",
        "[download]  47.2% of 70.58MiB at 120.62KiB/s ETA 05:16"
       ]
      },
      {
       "output_type": "stream",
       "stream": "stdout",
       "text": [
        "\r",
        "[download]  47.3% of 70.58MiB at 120.35KiB/s ETA 05:16"
       ]
      },
      {
       "output_type": "stream",
       "stream": "stdout",
       "text": [
        "\r",
        "[download]  47.4% of 70.58MiB at 119.99KiB/s ETA 05:16"
       ]
      },
      {
       "output_type": "stream",
       "stream": "stdout",
       "text": [
        "\r",
        "[download]  47.5% of 70.58MiB at 119.86KiB/s ETA 05:16"
       ]
      },
      {
       "output_type": "stream",
       "stream": "stdout",
       "text": [
        "\r",
        "[download]  47.6% of 70.58MiB at 119.78KiB/s ETA 05:16"
       ]
      },
      {
       "output_type": "stream",
       "stream": "stdout",
       "text": [
        "\r",
        "[download]  47.7% of 70.58MiB at 119.64KiB/s ETA 05:15"
       ]
      },
      {
       "output_type": "stream",
       "stream": "stdout",
       "text": [
        "\r",
        "[download]  47.8% of 70.58MiB at 119.68KiB/s ETA 05:15"
       ]
      },
      {
       "output_type": "stream",
       "stream": "stdout",
       "text": [
        "\r",
        "[download]  48.0% of 70.58MiB at 119.91KiB/s ETA 05:13"
       ]
      },
      {
       "output_type": "stream",
       "stream": "stdout",
       "text": [
        "\r",
        "[download]  48.3% of 70.58MiB at 120.37KiB/s ETA 05:10"
       ]
      },
      {
       "output_type": "stream",
       "stream": "stdout",
       "text": [
        "\r",
        "[download]  48.7% of 70.58MiB at 120.84KiB/s ETA 05:06"
       ]
      },
      {
       "output_type": "stream",
       "stream": "stdout",
       "text": [
        "\r",
        "[download]  49.0% of 70.58MiB at 121.15KiB/s ETA 05:04"
       ]
      },
      {
       "output_type": "stream",
       "stream": "stdout",
       "text": [
        "\r",
        "[download]  49.3% of 70.58MiB at 121.07KiB/s ETA 05:02"
       ]
      },
      {
       "output_type": "stream",
       "stream": "stdout",
       "text": [
        "\r",
        "[download]  49.5% of 70.58MiB at 121.15KiB/s ETA 05:01"
       ]
      },
      {
       "output_type": "stream",
       "stream": "stdout",
       "text": [
        "\r",
        "[download]  49.7% of 70.58MiB at 121.34KiB/s ETA 04:59"
       ]
      },
      {
       "output_type": "stream",
       "stream": "stdout",
       "text": [
        "\r",
        "[download]  49.9% of 70.58MiB at 121.34KiB/s ETA 04:58"
       ]
      },
      {
       "output_type": "stream",
       "stream": "stdout",
       "text": [
        "\r",
        "[download]  50.1% of 70.58MiB at 121.54KiB/s ETA 04:56"
       ]
      },
      {
       "output_type": "stream",
       "stream": "stdout",
       "text": [
        "\r",
        "[download]  50.4% of 70.58MiB at 121.73KiB/s ETA 04:54"
       ]
      },
      {
       "output_type": "stream",
       "stream": "stdout",
       "text": [
        "\r",
        "[download]  50.6% of 70.58MiB at 121.69KiB/s ETA 04:53"
       ]
      },
      {
       "output_type": "stream",
       "stream": "stdout",
       "text": [
        "\r",
        "[download]  50.8% of 70.58MiB at 121.81KiB/s ETA 04:51"
       ]
      },
      {
       "output_type": "stream",
       "stream": "stdout",
       "text": [
        "\r",
        "[download]  51.0% of 70.58MiB at 121.93KiB/s ETA 04:50"
       ]
      },
      {
       "output_type": "stream",
       "stream": "stdout",
       "text": [
        "\r",
        "[download]  51.3% of 70.58MiB at 122.11KiB/s ETA 04:48"
       ]
      },
      {
       "output_type": "stream",
       "stream": "stdout",
       "text": [
        "\r",
        "[download]  51.5% of 70.58MiB at 122.07KiB/s ETA 04:46"
       ]
      },
      {
       "output_type": "stream",
       "stream": "stdout",
       "text": [
        "\r",
        "[download]  51.7% of 70.58MiB at 122.04KiB/s ETA 04:46"
       ]
      },
      {
       "output_type": "stream",
       "stream": "stdout",
       "text": [
        "\r",
        "[download]  51.8% of 70.58MiB at 122.06KiB/s ETA 04:45"
       ]
      },
      {
       "output_type": "stream",
       "stream": "stdout",
       "text": [
        "\r",
        "[download]  52.0% of 70.58MiB at 122.00KiB/s ETA 04:44"
       ]
      },
      {
       "output_type": "stream",
       "stream": "stdout",
       "text": [
        "\r",
        "[download]  52.2% of 70.58MiB at 121.86KiB/s ETA 04:43"
       ]
      },
      {
       "output_type": "stream",
       "stream": "stdout",
       "text": [
        "\r",
        "[download]  52.3% of 70.58MiB at 121.77KiB/s ETA 04:43"
       ]
      },
      {
       "output_type": "stream",
       "stream": "stdout",
       "text": [
        "\r",
        "[download]  52.4% of 70.58MiB at 121.61KiB/s ETA 04:42"
       ]
      },
      {
       "output_type": "stream",
       "stream": "stdout",
       "text": [
        "\r",
        "[download]  52.5% of 70.58MiB at 121.28KiB/s ETA 04:42"
       ]
      },
      {
       "output_type": "stream",
       "stream": "stdout",
       "text": [
        "\r",
        "[download]  52.6% of 70.58MiB at 121.26KiB/s ETA 04:42"
       ]
      },
      {
       "output_type": "stream",
       "stream": "stdout",
       "text": [
        "\r",
        "[download]  52.7% of 70.58MiB at 120.97KiB/s ETA 04:42"
       ]
      },
      {
       "output_type": "stream",
       "stream": "stdout",
       "text": [
        "\r",
        "[download]  52.8% of 70.58MiB at 120.84KiB/s ETA 04:42"
       ]
      },
      {
       "output_type": "stream",
       "stream": "stdout",
       "text": [
        "\r",
        "[download]  52.9% of 70.58MiB at 120.48KiB/s ETA 04:42"
       ]
      },
      {
       "output_type": "stream",
       "stream": "stdout",
       "text": [
        "\r",
        "[download]  53.0% of 70.58MiB at 120.33KiB/s ETA 04:42"
       ]
      },
      {
       "output_type": "stream",
       "stream": "stdout",
       "text": [
        "\r",
        "[download]  53.1% of 70.58MiB at 120.23KiB/s ETA 04:41"
       ]
      },
      {
       "output_type": "stream",
       "stream": "stdout",
       "text": [
        "\r",
        "[download]  53.2% of 70.58MiB at 119.84KiB/s ETA 04:42"
       ]
      },
      {
       "output_type": "stream",
       "stream": "stdout",
       "text": [
        "\r",
        "[download]  53.3% of 70.58MiB at 119.77KiB/s ETA 04:42"
       ]
      },
      {
       "output_type": "stream",
       "stream": "stdout",
       "text": [
        "\r",
        "[download]  53.4% of 70.58MiB at 119.74KiB/s ETA 04:41"
       ]
      },
      {
       "output_type": "stream",
       "stream": "stdout",
       "text": [
        "\r",
        "[download]  53.5% of 70.58MiB at 119.72KiB/s ETA 04:40"
       ]
      },
      {
       "output_type": "stream",
       "stream": "stdout",
       "text": [
        "\r",
        "[download]  53.7% of 70.58MiB at 119.80KiB/s ETA 04:39"
       ]
      },
      {
       "output_type": "stream",
       "stream": "stdout",
       "text": [
        "\r",
        "[download]  53.9% of 70.58MiB at 120.05KiB/s ETA 04:37"
       ]
      },
      {
       "output_type": "stream",
       "stream": "stdout",
       "text": [
        "\r",
        "[download]  54.2% of 70.58MiB at 120.58KiB/s ETA 04:34"
       ]
      },
      {
       "output_type": "stream",
       "stream": "stdout",
       "text": [
        "\r",
        "[download]  54.8% of 70.58MiB at 121.34KiB/s ETA 04:29"
       ]
      },
      {
       "output_type": "stream",
       "stream": "stdout",
       "text": [
        "\r",
        "[download]  55.2% of 70.58MiB at 121.96KiB/s ETA 04:25"
       ]
      },
      {
       "output_type": "stream",
       "stream": "stdout",
       "text": [
        "\r",
        "[download]  55.7% of 70.58MiB at 122.47KiB/s ETA 04:21"
       ]
      },
      {
       "output_type": "stream",
       "stream": "stdout",
       "text": [
        "\r",
        "[download]  56.0% of 70.58MiB at 122.93KiB/s ETA 04:18"
       ]
      },
      {
       "output_type": "stream",
       "stream": "stdout",
       "text": [
        "\r",
        "[download]  56.4% of 70.58MiB at 123.35KiB/s ETA 04:15"
       ]
      },
      {
       "output_type": "stream",
       "stream": "stdout",
       "text": [
        "\r",
        "[download]  56.8% of 70.58MiB at 123.64KiB/s ETA 04:12"
       ]
      },
      {
       "output_type": "stream",
       "stream": "stdout",
       "text": [
        "\r",
        "[download]  57.0% of 70.58MiB at 123.85KiB/s ETA 04:10"
       ]
      },
      {
       "output_type": "stream",
       "stream": "stdout",
       "text": [
        "\r",
        "[download]  57.3% of 70.58MiB at 124.05KiB/s ETA 04:08"
       ]
      },
      {
       "output_type": "stream",
       "stream": "stdout",
       "text": [
        "\r",
        "[download]  57.6% of 70.58MiB at 124.17KiB/s ETA 04:06"
       ]
      },
      {
       "output_type": "stream",
       "stream": "stdout",
       "text": [
        "\r",
        "[download]  57.8% of 70.58MiB at 124.14KiB/s ETA 04:05"
       ]
      },
      {
       "output_type": "stream",
       "stream": "stdout",
       "text": [
        "\r",
        "[download]  57.9% of 70.58MiB at 124.19KiB/s ETA 04:04"
       ]
      },
      {
       "output_type": "stream",
       "stream": "stdout",
       "text": [
        "\r",
        "[download]  58.2% of 70.58MiB at 124.32KiB/s ETA 04:03"
       ]
      },
      {
       "output_type": "stream",
       "stream": "stdout",
       "text": [
        "\r",
        "[download]  58.4% of 70.58MiB at 124.55KiB/s ETA 04:01"
       ]
      },
      {
       "output_type": "stream",
       "stream": "stdout",
       "text": [
        "\r",
        "[download]  58.7% of 70.58MiB at 124.64KiB/s ETA 03:59"
       ]
      },
      {
       "output_type": "stream",
       "stream": "stdout",
       "text": [
        "\r",
        "[download]  58.9% of 70.58MiB at 124.65KiB/s ETA 03:58"
       ]
      },
      {
       "output_type": "stream",
       "stream": "stdout",
       "text": [
        "\r",
        "[download]  59.1% of 70.58MiB at 124.70KiB/s ETA 03:57"
       ]
      },
      {
       "output_type": "stream",
       "stream": "stdout",
       "text": [
        "\r",
        "[download]  59.3% of 70.58MiB at 124.47KiB/s ETA 03:56"
       ]
      },
      {
       "output_type": "stream",
       "stream": "stdout",
       "text": [
        "\r",
        "[download]  59.4% of 70.58MiB at 124.29KiB/s ETA 03:56"
       ]
      },
      {
       "output_type": "stream",
       "stream": "stdout",
       "text": [
        "\r",
        "[download]  59.5% of 70.58MiB at 124.01KiB/s ETA 03:56"
       ]
      },
      {
       "output_type": "stream",
       "stream": "stdout",
       "text": [
        "\r",
        "[download]  59.6% of 70.58MiB at 123.74KiB/s ETA 03:56"
       ]
      },
      {
       "output_type": "stream",
       "stream": "stdout",
       "text": [
        "\r",
        "[download]  59.6% of 70.58MiB at 123.69KiB/s ETA 03:55"
       ]
      },
      {
       "output_type": "stream",
       "stream": "stdout",
       "text": [
        "\r",
        "[download]  59.7% of 70.58MiB at 123.48KiB/s ETA 03:55"
       ]
      },
      {
       "output_type": "stream",
       "stream": "stdout",
       "text": [
        "\r",
        "[download]  59.8% of 70.58MiB at 123.27KiB/s ETA 03:55"
       ]
      },
      {
       "output_type": "stream",
       "stream": "stdout",
       "text": [
        "\r",
        "[download]  59.9% of 70.58MiB at 123.11KiB/s ETA 03:55"
       ]
      },
      {
       "output_type": "stream",
       "stream": "stdout",
       "text": [
        "\r",
        "[download]  60.0% of 70.58MiB at 123.09KiB/s ETA 03:54"
       ]
      },
      {
       "output_type": "stream",
       "stream": "stdout",
       "text": [
        "\r",
        "[download]  60.2% of 70.58MiB at 123.03KiB/s ETA 03:53"
       ]
      },
      {
       "output_type": "stream",
       "stream": "stdout",
       "text": [
        "\r",
        "[download]  60.3% of 70.58MiB at 123.06KiB/s ETA 03:53"
       ]
      },
      {
       "output_type": "stream",
       "stream": "stdout",
       "text": [
        "\r",
        "[download]  60.5% of 70.58MiB at 123.12KiB/s ETA 03:51"
       ]
      },
      {
       "output_type": "stream",
       "stream": "stdout",
       "text": [
        "\r",
        "[download]  60.7% of 70.58MiB at 123.24KiB/s ETA 03:50"
       ]
      },
      {
       "output_type": "stream",
       "stream": "stdout",
       "text": [
        "\r",
        "[download]  60.9% of 70.58MiB at 123.27KiB/s ETA 03:48"
       ]
      },
      {
       "output_type": "stream",
       "stream": "stdout",
       "text": [
        "\r",
        "[download]  61.1% of 70.58MiB at 123.34KiB/s ETA 03:47"
       ]
      },
      {
       "output_type": "stream",
       "stream": "stdout",
       "text": [
        "\r",
        "[download]  61.3% of 70.58MiB at 123.35KiB/s ETA 03:46"
       ]
      },
      {
       "output_type": "stream",
       "stream": "stdout",
       "text": [
        "\r",
        "[download]  61.5% of 70.58MiB at 123.28KiB/s ETA 03:45"
       ]
      },
      {
       "output_type": "stream",
       "stream": "stdout",
       "text": [
        "\r",
        "[download]  61.7% of 70.58MiB at 123.23KiB/s ETA 03:44"
       ]
      },
      {
       "output_type": "stream",
       "stream": "stdout",
       "text": [
        "\r",
        "[download]  61.8% of 70.58MiB at 123.34KiB/s ETA 03:43"
       ]
      },
      {
       "output_type": "stream",
       "stream": "stdout",
       "text": [
        "\r",
        "[download]  62.1% of 70.58MiB at 123.16KiB/s ETA 03:42"
       ]
      },
      {
       "output_type": "stream",
       "stream": "stdout",
       "text": [
        "\r",
        "[download]  62.2% of 70.58MiB at 122.62KiB/s ETA 03:42"
       ]
      },
      {
       "output_type": "stream",
       "stream": "stdout",
       "text": [
        "\r",
        "[download]  62.3% of 70.58MiB at 122.43KiB/s ETA 03:42"
       ]
      },
      {
       "output_type": "stream",
       "stream": "stdout",
       "text": [
        "\r",
        "[download]  62.3% of 70.58MiB at 122.28KiB/s ETA 03:42"
       ]
      },
      {
       "output_type": "stream",
       "stream": "stdout",
       "text": [
        "\r",
        "[download]  62.4% of 70.58MiB at 122.10KiB/s ETA 03:42"
       ]
      },
      {
       "output_type": "stream",
       "stream": "stdout",
       "text": [
        "\r",
        "[download]  62.5% of 70.58MiB at 121.77KiB/s ETA 03:42"
       ]
      },
      {
       "output_type": "stream",
       "stream": "stdout",
       "text": [
        "\r",
        "[download]  62.6% of 70.58MiB at 121.73KiB/s ETA 03:42"
       ]
      },
      {
       "output_type": "stream",
       "stream": "stdout",
       "text": [
        "\r",
        "[download]  62.7% of 70.58MiB at 121.32KiB/s ETA 03:42"
       ]
      },
      {
       "output_type": "stream",
       "stream": "stdout",
       "text": [
        "\r",
        "[download]  62.7% of 70.58MiB at 121.06KiB/s ETA 03:42"
       ]
      },
      {
       "output_type": "stream",
       "stream": "stdout",
       "text": [
        "\r",
        "[download]  62.8% of 70.58MiB at 120.98KiB/s ETA 03:42"
       ]
      },
      {
       "output_type": "stream",
       "stream": "stdout",
       "text": [
        "\r",
        "[download]  62.9% of 70.58MiB at 120.80KiB/s ETA 03:42"
       ]
      },
      {
       "output_type": "stream",
       "stream": "stdout",
       "text": [
        "\r",
        "[download]  62.9% of 70.58MiB at 120.55KiB/s ETA 03:42"
       ]
      },
      {
       "output_type": "stream",
       "stream": "stdout",
       "text": [
        "\r",
        "[download]  63.0% of 70.58MiB at 120.41KiB/s ETA 03:41"
       ]
      },
      {
       "output_type": "stream",
       "stream": "stdout",
       "text": [
        "\r",
        "[download]  63.1% of 70.58MiB at 120.39KiB/s ETA 03:41"
       ]
      },
      {
       "output_type": "stream",
       "stream": "stdout",
       "text": [
        "\r",
        "[download]  63.2% of 70.58MiB at 120.34KiB/s ETA 03:40"
       ]
      },
      {
       "output_type": "stream",
       "stream": "stdout",
       "text": [
        "\r",
        "[download]  63.4% of 70.58MiB at 120.40KiB/s ETA 03:39"
       ]
      },
      {
       "output_type": "stream",
       "stream": "stdout",
       "text": [
        "\r",
        "[download]  63.6% of 70.58MiB at 120.51KiB/s ETA 03:38"
       ]
      },
      {
       "output_type": "stream",
       "stream": "stdout",
       "text": [
        "\r",
        "[download]  63.8% of 70.58MiB at 120.69KiB/s ETA 03:36"
       ]
      },
      {
       "output_type": "stream",
       "stream": "stdout",
       "text": [
        "\r",
        "[download]  64.1% of 70.58MiB at 120.70KiB/s ETA 03:34"
       ]
      },
      {
       "output_type": "stream",
       "stream": "stdout",
       "text": [
        "\r",
        "[download]  64.3% of 70.58MiB at 120.64KiB/s ETA 03:33"
       ]
      },
      {
       "output_type": "stream",
       "stream": "stdout",
       "text": [
        "\r",
        "[download]  64.4% of 70.58MiB at 120.52KiB/s ETA 03:33"
       ]
      },
      {
       "output_type": "stream",
       "stream": "stdout",
       "text": [
        "\r",
        "[download]  64.5% of 70.58MiB at 120.42KiB/s ETA 03:32"
       ]
      },
      {
       "output_type": "stream",
       "stream": "stdout",
       "text": [
        "\r",
        "[download]  64.7% of 70.58MiB at 120.28KiB/s ETA 03:32"
       ]
      },
      {
       "output_type": "stream",
       "stream": "stdout",
       "text": [
        "\r",
        "[download]  64.8% of 70.58MiB at 120.27KiB/s ETA 03:31"
       ]
      },
      {
       "output_type": "stream",
       "stream": "stdout",
       "text": [
        "\r",
        "[download]  64.9% of 70.58MiB at 120.01KiB/s ETA 03:31"
       ]
      },
      {
       "output_type": "stream",
       "stream": "stdout",
       "text": [
        "\r",
        "[download]  65.0% of 70.58MiB at 119.94KiB/s ETA 03:30"
       ]
      },
      {
       "output_type": "stream",
       "stream": "stdout",
       "text": [
        "\r",
        "[download]  65.1% of 70.58MiB at 119.93KiB/s ETA 03:30"
       ]
      },
      {
       "output_type": "stream",
       "stream": "stdout",
       "text": [
        "\r",
        "[download]  65.3% of 70.58MiB at 119.86KiB/s ETA 03:29"
       ]
      },
      {
       "output_type": "stream",
       "stream": "stdout",
       "text": [
        "\r",
        "[download]  65.4% of 70.58MiB at 119.59KiB/s ETA 03:29"
       ]
      },
      {
       "output_type": "stream",
       "stream": "stdout",
       "text": [
        "\r",
        "[download]  65.5% of 70.58MiB at 119.55KiB/s ETA 03:28"
       ]
      },
      {
       "output_type": "stream",
       "stream": "stdout",
       "text": [
        "\r",
        "[download]  65.6% of 70.58MiB at 119.42KiB/s ETA 03:28"
       ]
      },
      {
       "output_type": "stream",
       "stream": "stdout",
       "text": [
        "\r",
        "[download]  65.7% of 70.58MiB at 119.42KiB/s ETA 03:27"
       ]
      },
      {
       "output_type": "stream",
       "stream": "stdout",
       "text": [
        "\r",
        "[download]  65.9% of 70.58MiB at 119.44KiB/s ETA 03:26"
       ]
      },
      {
       "output_type": "stream",
       "stream": "stdout",
       "text": [
        "\r",
        "[download]  66.1% of 70.58MiB at 119.42KiB/s ETA 03:25"
       ]
      },
      {
       "output_type": "stream",
       "stream": "stdout",
       "text": [
        "\r",
        "[download]  66.2% of 70.58MiB at 119.30KiB/s ETA 03:24"
       ]
      },
      {
       "output_type": "stream",
       "stream": "stdout",
       "text": [
        "\r",
        "[download]  66.3% of 70.58MiB at 119.15KiB/s ETA 03:24"
       ]
      },
      {
       "output_type": "stream",
       "stream": "stdout",
       "text": [
        "\r",
        "[download]  66.4% of 70.58MiB at 119.25KiB/s ETA 03:23"
       ]
      },
      {
       "output_type": "stream",
       "stream": "stdout",
       "text": [
        "\r",
        "[download]  66.6% of 70.58MiB at 119.33KiB/s ETA 03:22"
       ]
      },
      {
       "output_type": "stream",
       "stream": "stdout",
       "text": [
        "\r",
        "[download]  66.8% of 70.58MiB at 119.51KiB/s ETA 03:20"
       ]
      },
      {
       "output_type": "stream",
       "stream": "stdout",
       "text": [
        "\r",
        "[download]  67.2% of 70.58MiB at 119.70KiB/s ETA 03:18"
       ]
      },
      {
       "output_type": "stream",
       "stream": "stdout",
       "text": [
        "\r",
        "[download]  67.4% of 70.58MiB at 120.09KiB/s ETA 03:16"
       ]
      },
      {
       "output_type": "stream",
       "stream": "stdout",
       "text": [
        "\r",
        "[download]  67.9% of 70.58MiB at 120.40KiB/s ETA 03:12"
       ]
      },
      {
       "output_type": "stream",
       "stream": "stdout",
       "text": [
        "\r",
        "[download]  68.2% of 70.58MiB at 120.35KiB/s ETA 03:11"
       ]
      },
      {
       "output_type": "stream",
       "stream": "stdout",
       "text": [
        "\r",
        "[download]  68.3% of 70.58MiB at 120.55KiB/s ETA 03:09"
       ]
      },
      {
       "output_type": "stream",
       "stream": "stdout",
       "text": [
        "\r",
        "[download]  68.6% of 70.58MiB at 120.30KiB/s ETA 03:08"
       ]
      },
      {
       "output_type": "stream",
       "stream": "stdout",
       "text": [
        "\r",
        "[download]  68.8% of 70.58MiB at 120.28KiB/s ETA 03:07"
       ]
      },
      {
       "output_type": "stream",
       "stream": "stdout",
       "text": [
        "\r",
        "[download]  68.9% of 70.58MiB at 120.11KiB/s ETA 03:06"
       ]
      },
      {
       "output_type": "stream",
       "stream": "stdout",
       "text": [
        "\r",
        "[download]  69.1% of 70.58MiB at 120.09KiB/s ETA 03:06"
       ]
      },
      {
       "output_type": "stream",
       "stream": "stdout",
       "text": [
        "\r",
        "[download]  69.2% of 70.58MiB at 119.99KiB/s ETA 03:05"
       ]
      },
      {
       "output_type": "stream",
       "stream": "stdout",
       "text": [
        "\r",
        "[download]  69.3% of 70.58MiB at 119.92KiB/s ETA 03:04"
       ]
      },
      {
       "output_type": "stream",
       "stream": "stdout",
       "text": [
        "\r",
        "[download]  69.4% of 70.58MiB at 119.84KiB/s ETA 03:04"
       ]
      },
      {
       "output_type": "stream",
       "stream": "stdout",
       "text": [
        "\r",
        "[download]  69.6% of 70.58MiB at 119.75KiB/s ETA 03:03"
       ]
      },
      {
       "output_type": "stream",
       "stream": "stdout",
       "text": [
        "\r",
        "[download]  69.7% of 70.58MiB at 119.81KiB/s ETA 03:02"
       ]
      },
      {
       "output_type": "stream",
       "stream": "stdout",
       "text": [
        "\r",
        "[download]  69.9% of 70.58MiB at 119.85KiB/s ETA 03:01"
       ]
      },
      {
       "output_type": "stream",
       "stream": "stdout",
       "text": [
        "\r",
        "[download]  70.1% of 70.58MiB at 119.90KiB/s ETA 03:00"
       ]
      },
      {
       "output_type": "stream",
       "stream": "stdout",
       "text": [
        "\r",
        "[download]  70.3% of 70.58MiB at 119.88KiB/s ETA 02:59"
       ]
      },
      {
       "output_type": "stream",
       "stream": "stdout",
       "text": [
        "\r",
        "[download]  70.5% of 70.58MiB at 119.87KiB/s ETA 02:58"
       ]
      },
      {
       "output_type": "stream",
       "stream": "stdout",
       "text": [
        "\r",
        "[download]  70.6% of 70.58MiB at 119.84KiB/s ETA 02:57"
       ]
      },
      {
       "output_type": "stream",
       "stream": "stdout",
       "text": [
        "\r",
        "[download]  70.8% of 70.58MiB at 119.60KiB/s ETA 02:56"
       ]
      },
      {
       "output_type": "stream",
       "stream": "stdout",
       "text": [
        "\r",
        "[download]  70.8% of 70.58MiB at 119.61KiB/s ETA 02:56"
       ]
      },
      {
       "output_type": "stream",
       "stream": "stdout",
       "text": [
        "\r",
        "[download]  71.0% of 70.58MiB at 119.33KiB/s ETA 02:55"
       ]
      },
      {
       "output_type": "stream",
       "stream": "stdout",
       "text": [
        "\r",
        "[download]  71.1% of 70.58MiB at 119.30KiB/s ETA 02:55"
       ]
      },
      {
       "output_type": "stream",
       "stream": "stdout",
       "text": [
        "\r",
        "[download]  71.2% of 70.58MiB at 119.15KiB/s ETA 02:54"
       ]
      },
      {
       "output_type": "stream",
       "stream": "stdout",
       "text": [
        "\r",
        "[download]  71.3% of 70.58MiB at 119.11KiB/s ETA 02:53"
       ]
      },
      {
       "output_type": "stream",
       "stream": "stdout",
       "text": [
        "\r",
        "[download]  71.5% of 70.58MiB at 119.06KiB/s ETA 02:53"
       ]
      },
      {
       "output_type": "stream",
       "stream": "stdout",
       "text": [
        "\r",
        "[download]  71.6% of 70.58MiB at 118.90KiB/s ETA 02:52"
       ]
      },
      {
       "output_type": "stream",
       "stream": "stdout",
       "text": [
        "\r",
        "[download]  71.7% of 70.58MiB at 118.98KiB/s ETA 02:51"
       ]
      },
      {
       "output_type": "stream",
       "stream": "stdout",
       "text": [
        "\r",
        "[download]  71.9% of 70.58MiB at 118.79KiB/s ETA 02:51"
       ]
      },
      {
       "output_type": "stream",
       "stream": "stdout",
       "text": [
        "\r",
        "[download]  72.0% of 70.58MiB at 118.65KiB/s ETA 02:50"
       ]
      },
      {
       "output_type": "stream",
       "stream": "stdout",
       "text": [
        "\r",
        "[download]  72.1% of 70.58MiB at 118.58KiB/s ETA 02:50"
       ]
      },
      {
       "output_type": "stream",
       "stream": "stdout",
       "text": [
        "\r",
        "[download]  72.2% of 70.58MiB at 118.47KiB/s ETA 02:49"
       ]
      },
      {
       "output_type": "stream",
       "stream": "stdout",
       "text": [
        "\r",
        "[download]  72.3% of 70.58MiB at 118.31KiB/s ETA 02:49"
       ]
      },
      {
       "output_type": "stream",
       "stream": "stdout",
       "text": [
        "\r",
        "[download]  72.4% of 70.58MiB at 118.29KiB/s ETA 02:48"
       ]
      },
      {
       "output_type": "stream",
       "stream": "stdout",
       "text": [
        "\r",
        "[download]  72.5% of 70.58MiB at 118.17KiB/s ETA 02:48"
       ]
      },
      {
       "output_type": "stream",
       "stream": "stdout",
       "text": [
        "\r",
        "[download]  72.6% of 70.58MiB at 118.08KiB/s ETA 02:47"
       ]
      },
      {
       "output_type": "stream",
       "stream": "stdout",
       "text": [
        "\r",
        "[download]  72.7% of 70.58MiB at 117.87KiB/s ETA 02:47"
       ]
      },
      {
       "output_type": "stream",
       "stream": "stdout",
       "text": [
        "\r",
        "[download]  72.8% of 70.58MiB at 117.79KiB/s ETA 02:46"
       ]
      },
      {
       "output_type": "stream",
       "stream": "stdout",
       "text": [
        "\r",
        "[download]  72.9% of 70.58MiB at 117.65KiB/s ETA 02:46"
       ]
      },
      {
       "output_type": "stream",
       "stream": "stdout",
       "text": [
        "\r",
        "[download]  73.0% of 70.58MiB at 117.60KiB/s ETA 02:45"
       ]
      },
      {
       "output_type": "stream",
       "stream": "stdout",
       "text": [
        "\r",
        "[download]  73.1% of 70.58MiB at 117.60KiB/s ETA 02:45"
       ]
      },
      {
       "output_type": "stream",
       "stream": "stdout",
       "text": [
        "\r",
        "[download]  73.3% of 70.58MiB at 117.60KiB/s ETA 02:44"
       ]
      },
      {
       "output_type": "stream",
       "stream": "stdout",
       "text": [
        "\r",
        "[download]  73.4% of 70.58MiB at 117.37KiB/s ETA 02:43"
       ]
      },
      {
       "output_type": "stream",
       "stream": "stdout",
       "text": [
        "\r",
        "[download]  73.5% of 70.58MiB at 117.27KiB/s ETA 02:43"
       ]
      },
      {
       "output_type": "stream",
       "stream": "stdout",
       "text": [
        "\r",
        "[download]  73.6% of 70.58MiB at 117.17KiB/s ETA 02:42"
       ]
      },
      {
       "output_type": "stream",
       "stream": "stdout",
       "text": [
        "\r",
        "[download]  73.7% of 70.58MiB at 117.09KiB/s ETA 02:42"
       ]
      },
      {
       "output_type": "stream",
       "stream": "stdout",
       "text": [
        "\r",
        "[download]  73.8% of 70.58MiB at 117.02KiB/s ETA 02:41"
       ]
      },
      {
       "output_type": "stream",
       "stream": "stdout",
       "text": [
        "\r",
        "[download]  73.9% of 70.58MiB at 116.94KiB/s ETA 02:41"
       ]
      },
      {
       "output_type": "stream",
       "stream": "stdout",
       "text": [
        "\r",
        "[download]  74.1% of 70.58MiB at 116.81KiB/s ETA 02:40"
       ]
      },
      {
       "output_type": "stream",
       "stream": "stdout",
       "text": [
        "\r",
        "[download]  74.2% of 70.58MiB at 116.79KiB/s ETA 02:39"
       ]
      },
      {
       "output_type": "stream",
       "stream": "stdout",
       "text": [
        "\r",
        "[download]  74.3% of 70.58MiB at 116.76KiB/s ETA 02:39"
       ]
      },
      {
       "output_type": "stream",
       "stream": "stdout",
       "text": [
        "\r",
        "[download]  74.4% of 70.58MiB at 116.54KiB/s ETA 02:38"
       ]
      },
      {
       "output_type": "stream",
       "stream": "stdout",
       "text": [
        "\r",
        "[download]  74.5% of 70.58MiB at 116.50KiB/s ETA 02:38"
       ]
      },
      {
       "output_type": "stream",
       "stream": "stdout",
       "text": [
        "\r",
        "[download]  74.6% of 70.58MiB at 116.58KiB/s ETA 02:37"
       ]
      },
      {
       "output_type": "stream",
       "stream": "stdout",
       "text": [
        "\r",
        "[download]  74.9% of 70.58MiB at 116.59KiB/s ETA 02:35"
       ]
      },
      {
       "output_type": "stream",
       "stream": "stdout",
       "text": [
        "\r",
        "[download]  75.1% of 70.58MiB at 116.58KiB/s ETA 02:34"
       ]
      },
      {
       "output_type": "stream",
       "stream": "stdout",
       "text": [
        "\r",
        "[download]  75.2% of 70.58MiB at 116.49KiB/s ETA 02:33"
       ]
      },
      {
       "output_type": "stream",
       "stream": "stdout",
       "text": [
        "\r",
        "[download]  75.3% of 70.58MiB at 116.43KiB/s ETA 02:33"
       ]
      },
      {
       "output_type": "stream",
       "stream": "stdout",
       "text": [
        "\r",
        "[download]  75.5% of 70.58MiB at 116.38KiB/s ETA 02:32"
       ]
      },
      {
       "output_type": "stream",
       "stream": "stdout",
       "text": [
        "\r",
        "[download]  75.6% of 70.58MiB at 116.34KiB/s ETA 02:31"
       ]
      },
      {
       "output_type": "stream",
       "stream": "stdout",
       "text": [
        "\r",
        "[download]  75.7% of 70.58MiB at 116.30KiB/s ETA 02:30"
       ]
      },
      {
       "output_type": "stream",
       "stream": "stdout",
       "text": [
        "\r",
        "[download]  75.9% of 70.58MiB at 116.30KiB/s ETA 02:30"
       ]
      },
      {
       "output_type": "stream",
       "stream": "stdout",
       "text": [
        "\r",
        "[download]  76.0% of 70.58MiB at 116.25KiB/s ETA 02:29"
       ]
      },
      {
       "output_type": "stream",
       "stream": "stdout",
       "text": [
        "\r",
        "[download]  76.2% of 70.58MiB at 116.17KiB/s ETA 02:28"
       ]
      },
      {
       "output_type": "stream",
       "stream": "stdout",
       "text": [
        "\r",
        "[download]  76.3% of 70.58MiB at 116.15KiB/s ETA 02:27"
       ]
      },
      {
       "output_type": "stream",
       "stream": "stdout",
       "text": [
        "\r",
        "[download]  76.4% of 70.58MiB at 116.12KiB/s ETA 02:26"
       ]
      },
      {
       "output_type": "stream",
       "stream": "stdout",
       "text": [
        "\r",
        "[download]  76.6% of 70.58MiB at 116.14KiB/s ETA 02:25"
       ]
      },
      {
       "output_type": "stream",
       "stream": "stdout",
       "text": [
        "\r",
        "[download]  76.7% of 70.58MiB at 116.13KiB/s ETA 02:24"
       ]
      },
      {
       "output_type": "stream",
       "stream": "stdout",
       "text": [
        "\r",
        "[download]  76.9% of 70.58MiB at 116.09KiB/s ETA 02:23"
       ]
      },
      {
       "output_type": "stream",
       "stream": "stdout",
       "text": [
        "\r",
        "[download]  77.0% of 70.58MiB at 116.06KiB/s ETA 02:23"
       ]
      },
      {
       "output_type": "stream",
       "stream": "stdout",
       "text": [
        "\r",
        "[download]  77.2% of 70.58MiB at 116.09KiB/s ETA 02:22"
       ]
      },
      {
       "output_type": "stream",
       "stream": "stdout",
       "text": [
        "\r",
        "[download]  77.4% of 70.58MiB at 116.24KiB/s ETA 02:20"
       ]
      },
      {
       "output_type": "stream",
       "stream": "stdout",
       "text": [
        "\r",
        "[download]  77.7% of 70.58MiB at 116.39KiB/s ETA 02:18"
       ]
      },
      {
       "output_type": "stream",
       "stream": "stdout",
       "text": [
        "\r",
        "[download]  77.9% of 70.58MiB at 116.50KiB/s ETA 02:17"
       ]
      },
      {
       "output_type": "stream",
       "stream": "stdout",
       "text": [
        "\r",
        "[download]  78.1% of 70.58MiB at 116.57KiB/s ETA 02:15"
       ]
      },
      {
       "output_type": "stream",
       "stream": "stdout",
       "text": [
        "\r",
        "[download]  78.3% of 70.58MiB at 116.63KiB/s ETA 02:14"
       ]
      },
      {
       "output_type": "stream",
       "stream": "stdout",
       "text": [
        "\r",
        "[download]  78.5% of 70.58MiB at 116.72KiB/s ETA 02:12"
       ]
      },
      {
       "output_type": "stream",
       "stream": "stdout",
       "text": [
        "\r",
        "[download]  78.8% of 70.58MiB at 116.81KiB/s ETA 02:11"
       ]
      },
      {
       "output_type": "stream",
       "stream": "stdout",
       "text": [
        "\r",
        "[download]  79.0% of 70.58MiB at 116.89KiB/s ETA 02:09"
       ]
      },
      {
       "output_type": "stream",
       "stream": "stdout",
       "text": [
        "\r",
        "[download]  79.2% of 70.58MiB at 116.93KiB/s ETA 02:08"
       ]
      },
      {
       "output_type": "stream",
       "stream": "stdout",
       "text": [
        "\r",
        "[download]  79.4% of 70.58MiB at 116.94KiB/s ETA 02:07"
       ]
      },
      {
       "output_type": "stream",
       "stream": "stdout",
       "text": [
        "\r",
        "[download]  79.6% of 70.58MiB at 116.91KiB/s ETA 02:06"
       ]
      },
      {
       "output_type": "stream",
       "stream": "stdout",
       "text": [
        "\r",
        "[download]  79.7% of 70.58MiB at 116.96KiB/s ETA 02:05"
       ]
      },
      {
       "output_type": "stream",
       "stream": "stdout",
       "text": [
        "\r",
        "[download]  79.9% of 70.58MiB at 117.09KiB/s ETA 02:03"
       ]
      },
      {
       "output_type": "stream",
       "stream": "stdout",
       "text": [
        "\r",
        "[download]  80.2% of 70.58MiB at 117.30KiB/s ETA 02:01"
       ]
      },
      {
       "output_type": "stream",
       "stream": "stdout",
       "text": [
        "\r",
        "[download]  80.5% of 70.58MiB at 117.59KiB/s ETA 01:59"
       ]
      },
      {
       "output_type": "stream",
       "stream": "stdout",
       "text": [
        "\r",
        "[download]  80.9% of 70.58MiB at 117.94KiB/s ETA 01:56"
       ]
      },
      {
       "output_type": "stream",
       "stream": "stdout",
       "text": [
        "\r",
        "[download]  81.3% of 70.58MiB at 118.26KiB/s ETA 01:54"
       ]
      },
      {
       "output_type": "stream",
       "stream": "stdout",
       "text": [
        "\r",
        "[download]  81.7% of 70.58MiB at 118.54KiB/s ETA 01:51"
       ]
      },
      {
       "output_type": "stream",
       "stream": "stdout",
       "text": [
        "\r",
        "[download]  82.0% of 70.58MiB at 118.74KiB/s ETA 01:49"
       ]
      },
      {
       "output_type": "stream",
       "stream": "stdout",
       "text": [
        "\r",
        "[download]  82.3% of 70.58MiB at 118.90KiB/s ETA 01:47"
       ]
      },
      {
       "output_type": "stream",
       "stream": "stdout",
       "text": [
        "\r",
        "[download]  82.6% of 70.58MiB at 119.05KiB/s ETA 01:45"
       ]
      },
      {
       "output_type": "stream",
       "stream": "stdout",
       "text": [
        "\r",
        "[download]  82.9% of 70.58MiB at 119.21KiB/s ETA 01:43"
       ]
      },
      {
       "output_type": "stream",
       "stream": "stdout",
       "text": [
        "\r",
        "[download]  83.1% of 70.58MiB at 119.37KiB/s ETA 01:42"
       ]
      },
      {
       "output_type": "stream",
       "stream": "stdout",
       "text": [
        "\r",
        "[download]  83.4% of 70.58MiB at 119.50KiB/s ETA 01:40"
       ]
      },
      {
       "output_type": "stream",
       "stream": "stdout",
       "text": [
        "\r",
        "[download]  83.7% of 70.58MiB at 119.58KiB/s ETA 01:38"
       ]
      },
      {
       "output_type": "stream",
       "stream": "stdout",
       "text": [
        "\r",
        "[download]  83.9% of 70.58MiB at 119.64KiB/s ETA 01:37"
       ]
      },
      {
       "output_type": "stream",
       "stream": "stdout",
       "text": [
        "\r",
        "[download]  84.1% of 70.58MiB at 119.63KiB/s ETA 01:36"
       ]
      },
      {
       "output_type": "stream",
       "stream": "stdout",
       "text": [
        "\r",
        "[download]  84.2% of 70.58MiB at 119.52KiB/s ETA 01:35"
       ]
      },
      {
       "output_type": "stream",
       "stream": "stdout",
       "text": [
        "\r",
        "[download]  84.4% of 70.58MiB at 119.45KiB/s ETA 01:34"
       ]
      },
      {
       "output_type": "stream",
       "stream": "stdout",
       "text": [
        "\r",
        "[download]  84.5% of 70.58MiB at 119.45KiB/s ETA 01:33"
       ]
      },
      {
       "output_type": "stream",
       "stream": "stdout",
       "text": [
        "\r",
        "[download]  84.6% of 70.58MiB at 119.44KiB/s ETA 01:32"
       ]
      },
      {
       "output_type": "stream",
       "stream": "stdout",
       "text": [
        "\r",
        "[download]  84.8% of 70.58MiB at 119.42KiB/s ETA 01:32"
       ]
      },
      {
       "output_type": "stream",
       "stream": "stdout",
       "text": [
        "\r",
        "[download]  84.9% of 70.58MiB at 119.44KiB/s ETA 01:31"
       ]
      },
      {
       "output_type": "stream",
       "stream": "stdout",
       "text": [
        "\r",
        "[download]  85.1% of 70.58MiB at 119.43KiB/s ETA 01:29"
       ]
      },
      {
       "output_type": "stream",
       "stream": "stdout",
       "text": [
        "\r",
        "[download]  85.3% of 70.58MiB at 119.49KiB/s ETA 01:28"
       ]
      },
      {
       "output_type": "stream",
       "stream": "stdout",
       "text": [
        "\r",
        "[download]  85.5% of 70.58MiB at 119.59KiB/s ETA 01:27"
       ]
      },
      {
       "output_type": "stream",
       "stream": "stdout",
       "text": [
        "\r",
        "[download]  85.8% of 70.58MiB at 119.72KiB/s ETA 01:25"
       ]
      },
      {
       "output_type": "stream",
       "stream": "stdout",
       "text": [
        "\r",
        "[download]  86.0% of 70.58MiB at 119.87KiB/s ETA 01:24"
       ]
      },
      {
       "output_type": "stream",
       "stream": "stdout",
       "text": [
        "\r",
        "[download]  86.3% of 70.58MiB at 120.01KiB/s ETA 01:22"
       ]
      },
      {
       "output_type": "stream",
       "stream": "stdout",
       "text": [
        "\r",
        "[download]  86.6% of 70.58MiB at 120.03KiB/s ETA 01:20"
       ]
      },
      {
       "output_type": "stream",
       "stream": "stdout",
       "text": [
        "\r",
        "[download]  86.7% of 70.58MiB at 120.04KiB/s ETA 01:19"
       ]
      },
      {
       "output_type": "stream",
       "stream": "stdout",
       "text": [
        "\r",
        "[download]  86.9% of 70.58MiB at 120.05KiB/s ETA 01:18"
       ]
      },
      {
       "output_type": "stream",
       "stream": "stdout",
       "text": [
        "\r",
        "[download]  87.1% of 70.58MiB at 120.07KiB/s ETA 01:17"
       ]
      },
      {
       "output_type": "stream",
       "stream": "stdout",
       "text": [
        "\r",
        "[download]  87.3% of 70.58MiB at 120.06KiB/s ETA 01:16"
       ]
      },
      {
       "output_type": "stream",
       "stream": "stdout",
       "text": [
        "\r",
        "[download]  87.4% of 70.58MiB at 120.08KiB/s ETA 01:15"
       ]
      },
      {
       "output_type": "stream",
       "stream": "stdout",
       "text": [
        "\r",
        "[download]  87.6% of 70.58MiB at 120.11KiB/s ETA 01:14"
       ]
      },
      {
       "output_type": "stream",
       "stream": "stdout",
       "text": [
        "\r",
        "[download]  87.8% of 70.58MiB at 120.18KiB/s ETA 01:13"
       ]
      },
      {
       "output_type": "stream",
       "stream": "stdout",
       "text": [
        "\r",
        "[download]  88.0% of 70.58MiB at 120.13KiB/s ETA 01:12"
       ]
      },
      {
       "output_type": "stream",
       "stream": "stdout",
       "text": [
        "\r",
        "[download]  88.2% of 70.58MiB at 120.06KiB/s ETA 01:11"
       ]
      },
      {
       "output_type": "stream",
       "stream": "stdout",
       "text": [
        "\r",
        "[download]  88.3% of 70.58MiB at 120.05KiB/s ETA 01:10"
       ]
      },
      {
       "output_type": "stream",
       "stream": "stdout",
       "text": [
        "\r",
        "[download]  88.4% of 70.58MiB at 120.00KiB/s ETA 01:09"
       ]
      },
      {
       "output_type": "stream",
       "stream": "stdout",
       "text": [
        "\r",
        "[download]  88.6% of 70.58MiB at 119.94KiB/s ETA 01:08"
       ]
      },
      {
       "output_type": "stream",
       "stream": "stdout",
       "text": [
        "\r",
        "[download]  88.7% of 70.58MiB at 119.97KiB/s ETA 01:08"
       ]
      },
      {
       "output_type": "stream",
       "stream": "stdout",
       "text": [
        "\r",
        "[download]  88.9% of 70.58MiB at 119.97KiB/s ETA 01:06"
       ]
      },
      {
       "output_type": "stream",
       "stream": "stdout",
       "text": [
        "\r",
        "[download]  89.1% of 70.58MiB at 119.90KiB/s ETA 01:05"
       ]
      },
      {
       "output_type": "stream",
       "stream": "stdout",
       "text": [
        "\r",
        "[download]  89.2% of 70.58MiB at 119.87KiB/s ETA 01:05"
       ]
      },
      {
       "output_type": "stream",
       "stream": "stdout",
       "text": [
        "\r",
        "[download]  89.3% of 70.58MiB at 119.84KiB/s ETA 01:04"
       ]
      },
      {
       "output_type": "stream",
       "stream": "stdout",
       "text": [
        "\r",
        "[download]  89.5% of 70.58MiB at 119.76KiB/s ETA 01:03"
       ]
      },
      {
       "output_type": "stream",
       "stream": "stdout",
       "text": [
        "\r",
        "[download]  89.6% of 70.58MiB at 119.66KiB/s ETA 01:02"
       ]
      },
      {
       "output_type": "stream",
       "stream": "stdout",
       "text": [
        "\r",
        "[download]  89.7% of 70.58MiB at 119.65KiB/s ETA 01:02"
       ]
      },
      {
       "output_type": "stream",
       "stream": "stdout",
       "text": [
        "\r",
        "[download]  89.9% of 70.58MiB at 119.60KiB/s ETA 01:01"
       ]
      },
      {
       "output_type": "stream",
       "stream": "stdout",
       "text": [
        "\r",
        "[download]  90.0% of 70.58MiB at 119.55KiB/s ETA 01:00"
       ]
      },
      {
       "output_type": "stream",
       "stream": "stdout",
       "text": [
        "\r",
        "[download]  90.1% of 70.58MiB at 119.42KiB/s ETA 00:59"
       ]
      },
      {
       "output_type": "stream",
       "stream": "stdout",
       "text": [
        "\r",
        "[download]  90.2% of 70.58MiB at 119.33KiB/s ETA 00:59"
       ]
      },
      {
       "output_type": "stream",
       "stream": "stdout",
       "text": [
        "\r",
        "[download]  90.3% of 70.58MiB at 119.29KiB/s ETA 00:58"
       ]
      },
      {
       "output_type": "stream",
       "stream": "stdout",
       "text": [
        "\r",
        "[download]  90.4% of 70.58MiB at 119.22KiB/s ETA 00:57"
       ]
      },
      {
       "output_type": "stream",
       "stream": "stdout",
       "text": [
        "\r",
        "[download]  90.6% of 70.58MiB at 119.05KiB/s ETA 00:57"
       ]
      },
      {
       "output_type": "stream",
       "stream": "stdout",
       "text": [
        "\r",
        "[download]  90.6% of 70.58MiB at 118.88KiB/s ETA 00:56"
       ]
      },
      {
       "output_type": "stream",
       "stream": "stdout",
       "text": [
        "\r",
        "[download]  90.7% of 70.58MiB at 118.81KiB/s ETA 00:56"
       ]
      },
      {
       "output_type": "stream",
       "stream": "stdout",
       "text": [
        "\r",
        "[download]  90.8% of 70.58MiB at 118.65KiB/s ETA 00:56"
       ]
      },
      {
       "output_type": "stream",
       "stream": "stdout",
       "text": [
        "\r",
        "[download]  90.9% of 70.58MiB at 118.60KiB/s ETA 00:55"
       ]
      },
      {
       "output_type": "stream",
       "stream": "stdout",
       "text": [
        "\r",
        "[download]  91.0% of 70.58MiB at 118.52KiB/s ETA 00:55"
       ]
      },
      {
       "output_type": "stream",
       "stream": "stdout",
       "text": [
        "\r",
        "[download]  91.1% of 70.58MiB at 118.43KiB/s ETA 00:54"
       ]
      },
      {
       "output_type": "stream",
       "stream": "stdout",
       "text": [
        "\r",
        "[download]  91.2% of 70.58MiB at 118.46KiB/s ETA 00:53"
       ]
      },
      {
       "output_type": "stream",
       "stream": "stdout",
       "text": [
        "\r",
        "[download]  91.4% of 70.58MiB at 118.51KiB/s ETA 00:52"
       ]
      },
      {
       "output_type": "stream",
       "stream": "stdout",
       "text": [
        "\r",
        "[download]  91.6% of 70.58MiB at 118.60KiB/s ETA 00:51"
       ]
      },
      {
       "output_type": "stream",
       "stream": "stdout",
       "text": [
        "\r",
        "[download]  91.8% of 70.58MiB at 118.50KiB/s ETA 00:49"
       ]
      },
      {
       "output_type": "stream",
       "stream": "stdout",
       "text": [
        "\r",
        "[download]  91.9% of 70.58MiB at 118.36KiB/s ETA 00:49"
       ]
      },
      {
       "output_type": "stream",
       "stream": "stdout",
       "text": [
        "\r",
        "[download]  92.0% of 70.58MiB at 118.29KiB/s ETA 00:48"
       ]
      },
      {
       "output_type": "stream",
       "stream": "stdout",
       "text": [
        "\r",
        "[download]  92.1% of 70.58MiB at 118.25KiB/s ETA 00:48"
       ]
      },
      {
       "output_type": "stream",
       "stream": "stdout",
       "text": [
        "\r",
        "[download]  92.2% of 70.58MiB at 118.22KiB/s ETA 00:47"
       ]
      },
      {
       "output_type": "stream",
       "stream": "stdout",
       "text": [
        "\r",
        "[download]  92.4% of 70.58MiB at 117.98KiB/s ETA 00:46"
       ]
      },
      {
       "output_type": "stream",
       "stream": "stdout",
       "text": [
        "\r",
        "[download]  92.5% of 70.58MiB at 117.91KiB/s ETA 00:46"
       ]
      },
      {
       "output_type": "stream",
       "stream": "stdout",
       "text": [
        "\r",
        "[download]  92.6% of 70.58MiB at 117.86KiB/s ETA 00:45"
       ]
      },
      {
       "output_type": "stream",
       "stream": "stdout",
       "text": [
        "\r",
        "[download]  92.7% of 70.58MiB at 117.82KiB/s ETA 00:44"
       ]
      },
      {
       "output_type": "stream",
       "stream": "stdout",
       "text": [
        "\r",
        "[download]  92.8% of 70.58MiB at 117.86KiB/s ETA 00:44"
       ]
      },
      {
       "output_type": "stream",
       "stream": "stdout",
       "text": [
        "\r",
        "[download]  93.0% of 70.58MiB at 117.99KiB/s ETA 00:42"
       ]
      },
      {
       "output_type": "stream",
       "stream": "stdout",
       "text": [
        "\r",
        "[download]  93.3% of 70.58MiB at 118.26KiB/s ETA 00:40"
       ]
      },
      {
       "output_type": "stream",
       "stream": "stdout",
       "text": [
        "\r",
        "[download]  93.8% of 70.58MiB at 118.64KiB/s ETA 00:37"
       ]
      },
      {
       "output_type": "stream",
       "stream": "stdout",
       "text": [
        "\r",
        "[download]  94.3% of 70.58MiB at 119.11KiB/s ETA 00:34"
       ]
      },
      {
       "output_type": "stream",
       "stream": "stdout",
       "text": [
        "\r",
        "[download]  95.0% of 70.58MiB at 119.69KiB/s ETA 00:30"
       ]
      },
      {
       "output_type": "stream",
       "stream": "stdout",
       "text": [
        "\r",
        "[download]  95.5% of 70.58MiB at 120.12KiB/s ETA 00:27"
       ]
      },
      {
       "output_type": "stream",
       "stream": "stdout",
       "text": [
        "\r",
        "[download]  96.0% of 70.58MiB at 120.43KiB/s ETA 00:24"
       ]
      },
      {
       "output_type": "stream",
       "stream": "stdout",
       "text": [
        "\r",
        "[download]  96.3% of 70.58MiB at 120.56KiB/s ETA 00:22"
       ]
      },
      {
       "output_type": "stream",
       "stream": "stdout",
       "text": [
        "\r",
        "[download]  96.5% of 70.58MiB at 120.48KiB/s ETA 00:20"
       ]
      },
      {
       "output_type": "stream",
       "stream": "stdout",
       "text": [
        "\r",
        "[download]  96.7% of 70.58MiB at 120.22KiB/s ETA 00:20"
       ]
      },
      {
       "output_type": "stream",
       "stream": "stdout",
       "text": [
        "\r",
        "[download]  96.7% of 70.58MiB at 120.12KiB/s ETA 00:19"
       ]
      },
      {
       "output_type": "stream",
       "stream": "stdout",
       "text": [
        "\r",
        "[download]  96.8% of 70.58MiB at 120.08KiB/s ETA 00:19"
       ]
      },
      {
       "output_type": "stream",
       "stream": "stdout",
       "text": [
        "\r",
        "[download]  96.9% of 70.58MiB at 119.98KiB/s ETA 00:18"
       ]
      },
      {
       "output_type": "stream",
       "stream": "stdout",
       "text": [
        "\r",
        "[download]  97.0% of 70.58MiB at 119.96KiB/s ETA 00:17"
       ]
      },
      {
       "output_type": "stream",
       "stream": "stdout",
       "text": [
        "\r",
        "[download]  97.2% of 70.58MiB at 119.89KiB/s ETA 00:17"
       ]
      },
      {
       "output_type": "stream",
       "stream": "stdout",
       "text": [
        "\r",
        "[download]  97.3% of 70.58MiB at 119.86KiB/s ETA 00:16"
       ]
      },
      {
       "output_type": "stream",
       "stream": "stdout",
       "text": [
        "\r",
        "[download]  97.4% of 70.58MiB at 119.82KiB/s ETA 00:15"
       ]
      },
      {
       "output_type": "stream",
       "stream": "stdout",
       "text": [
        "\r",
        "[download]  97.5% of 70.58MiB at 119.78KiB/s ETA 00:14"
       ]
      },
      {
       "output_type": "stream",
       "stream": "stdout",
       "text": [
        "\r",
        "[download]  97.7% of 70.58MiB at 119.77KiB/s ETA 00:14"
       ]
      },
      {
       "output_type": "stream",
       "stream": "stdout",
       "text": [
        "\r",
        "[download]  97.8% of 70.58MiB at 119.75KiB/s ETA 00:13"
       ]
      },
      {
       "output_type": "stream",
       "stream": "stdout",
       "text": [
        "\r",
        "[download]  98.0% of 70.58MiB at 119.65KiB/s ETA 00:12"
       ]
      },
      {
       "output_type": "stream",
       "stream": "stdout",
       "text": [
        "\r",
        "[download]  98.1% of 70.58MiB at 119.62KiB/s ETA 00:11"
       ]
      },
      {
       "output_type": "stream",
       "stream": "stdout",
       "text": [
        "\r",
        "[download]  98.2% of 70.58MiB at 119.51KiB/s ETA 00:10"
       ]
      },
      {
       "output_type": "stream",
       "stream": "stdout",
       "text": [
        "\r",
        "[download]  98.3% of 70.58MiB at 119.45KiB/s ETA 00:10"
       ]
      },
      {
       "output_type": "stream",
       "stream": "stdout",
       "text": [
        "\r",
        "[download]  98.4% of 70.58MiB at 119.35KiB/s ETA 00:09"
       ]
      },
      {
       "output_type": "stream",
       "stream": "stdout",
       "text": [
        "\r",
        "[download]  98.5% of 70.58MiB at 119.33KiB/s ETA 00:08"
       ]
      },
      {
       "output_type": "stream",
       "stream": "stdout",
       "text": [
        "\r",
        "[download]  98.7% of 70.58MiB at 119.22KiB/s ETA 00:08"
       ]
      },
      {
       "output_type": "stream",
       "stream": "stdout",
       "text": [
        "\r",
        "[download]  98.8% of 70.58MiB at 119.12KiB/s ETA 00:07"
       ]
      },
      {
       "output_type": "stream",
       "stream": "stdout",
       "text": [
        "\r",
        "[download]  98.9% of 70.58MiB at 119.01KiB/s ETA 00:06"
       ]
      },
      {
       "output_type": "stream",
       "stream": "stdout",
       "text": [
        "\r",
        "[download]  98.9% of 70.58MiB at 118.82KiB/s ETA 00:06"
       ]
      },
      {
       "output_type": "stream",
       "stream": "stdout",
       "text": [
        "\r",
        "[download]  99.0% of 70.58MiB at 118.76KiB/s ETA 00:06"
       ]
      },
      {
       "output_type": "stream",
       "stream": "stdout",
       "text": [
        "\r",
        "[download]  99.1% of 70.58MiB at 118.62KiB/s ETA 00:05"
       ]
      },
      {
       "output_type": "stream",
       "stream": "stdout",
       "text": [
        "\r",
        "[download]  99.2% of 70.58MiB at 118.51KiB/s ETA 00:05"
       ]
      },
      {
       "output_type": "stream",
       "stream": "stdout",
       "text": [
        "\r",
        "[download]  99.2% of 70.58MiB at 118.44KiB/s ETA 00:04"
       ]
      },
      {
       "output_type": "stream",
       "stream": "stdout",
       "text": [
        "\r",
        "[download]  99.3% of 70.58MiB at 118.32KiB/s ETA 00:04"
       ]
      },
      {
       "output_type": "stream",
       "stream": "stdout",
       "text": [
        "\r",
        "[download]  99.4% of 70.58MiB at 118.20KiB/s ETA 00:03"
       ]
      },
      {
       "output_type": "stream",
       "stream": "stdout",
       "text": [
        "\r",
        "[download]  99.5% of 70.58MiB at 118.13KiB/s ETA 00:03"
       ]
      },
      {
       "output_type": "stream",
       "stream": "stdout",
       "text": [
        "\r",
        "[download]  99.6% of 70.58MiB at 118.06KiB/s ETA 00:02"
       ]
      },
      {
       "output_type": "stream",
       "stream": "stdout",
       "text": [
        "\r",
        "[download]  99.7% of 70.58MiB at 117.96KiB/s ETA 00:02"
       ]
      },
      {
       "output_type": "stream",
       "stream": "stdout",
       "text": [
        "\r",
        "[download]  99.7% of 70.58MiB at 117.93KiB/s ETA 00:01"
       ]
      },
      {
       "output_type": "stream",
       "stream": "stdout",
       "text": [
        "\r",
        "[download]  99.9% of 70.58MiB at 117.90KiB/s ETA 00:00"
       ]
      },
      {
       "output_type": "stream",
       "stream": "stdout",
       "text": [
        "\r",
        "[download] 100.0% of 70.58MiB at 117.86KiB/s ETA 00:00"
       ]
      },
      {
       "output_type": "stream",
       "stream": "stdout",
       "text": [
        "\r",
        "[download] 100% of 70.58MiB in 10:13\n"
       ]
      },
      {
       "output_type": "stream",
       "stream": "stdout",
       "text": [
        "Early Influences on Comic Books and Superheroes\n",
        "http://www.youtube.com/watch?v=uMagM8PeV40\n",
        "[02.02.02] Depression, War, And The Culture Of The First Comics (Early Influences on Comic Books and Superheroes)\n",
        "./The Rise of Superheroes and Their Impact On Pop Culture/Week 1 - The Secret Origin Of Comic Books/02.02.02 Depression, War, And The Culture Of The First Comics (Early Influences on Comic Books and Superheroes).%(ext)s\n",
        "[youtube] uMagM8PeV40: Downloading webpage\n"
       ]
      },
      {
       "output_type": "stream",
       "stream": "stdout",
       "text": [
        "[youtube] uMagM8PeV40: Extracting video information\n"
       ]
      },
      {
       "output_type": "stream",
       "stream": "stdout",
       "text": [
        "[youtube] uMagM8PeV40: Downloading DASH manifest\n"
       ]
      },
      {
       "output_type": "stream",
       "stream": "stdout",
       "text": [
        "[debug] Invoking downloader on u'https://r1---sn-nx5jvh-q5ge.googlevideo.com/videoplayback?signature=65DA122F7A36949015D0D08FC8539064767F3C4D.5515BF70B086F429761F90F22DAE4D07B78C2E3C&dur=599.910&initcwndbps=146250&sver=3&ratebypass=yes&ipbits=0&key=yt5&upn=bxjvl-PHYJk&fexp=9405995%2C9406994%2C9408215%2C9408710%2C9409069%2C9409205%2C9413123%2C9415365%2C9415485%2C9415822%2C9416023%2C9416126%2C9416729%2C9417014%2C9417707%2C9418153%2C9418204%2C9418394%2C9418448%2C9419232%2C9419403%2C9419786%2C9419788%2C9420329%2C9420348%2C9420799%2C9420842&itag=22&pl=15&mn=sn-nx5jvh-q5ge&mm=31&source=youtube&mime=video%2Fmp4&ip=154.122.182.51&requiressl=yes&expire=1442093555&mv=m&mt=1442071899&ms=au&id=o-ABnYNC3VSuMvwQgf9dwHRSVpsV5EbdjLC3TuTNUqpJ0e&lmt=1432284232891958&sparams=dur%2Cid%2Cinitcwndbps%2Cip%2Cipbits%2Citag%2Clmt%2Cmime%2Cmm%2Cmn%2Cms%2Cmv%2Cpl%2Cratebypass%2Crequiressl%2Csource%2Cupn%2Cexpire'\n"
       ]
      },
      {
       "output_type": "stream",
       "stream": "stdout",
       "text": [
        "[download] Destination: ./The Rise of Superheroes and Their Impact On Pop Culture/Week 1 - The Secret Origin Of Comic Books/02.02.02 Depression, War, And The Culture Of The First Comics (Early Influences on Comic Books and Superheroes).mp4\n"
       ]
      },
      {
       "output_type": "stream",
       "stream": "stdout",
       "text": [
        "\r",
        "[download]   0.0% of 142.31MiB at 42.46KiB/s ETA 57:12"
       ]
      },
      {
       "output_type": "stream",
       "stream": "stdout",
       "text": [
        "\r",
        "[download]   0.0% of 142.31MiB at  8.81KiB/s ETA 04:35:39"
       ]
      },
      {
       "output_type": "stream",
       "stream": "stdout",
       "text": [
        "\r",
        "[download]   0.0% of 142.31MiB at 20.49KiB/s ETA 01:58:30"
       ]
      },
      {
       "output_type": "stream",
       "stream": "stdout",
       "text": [
        "\r",
        "[download]   0.0% of 142.31MiB at 43.79KiB/s ETA 55:27"
       ]
      },
      {
       "output_type": "stream",
       "stream": "stdout",
       "text": [
        "\r",
        "[download]   0.0% of 142.31MiB at 74.88KiB/s ETA 32:25"
       ]
      },
      {
       "output_type": "stream",
       "stream": "stdout",
       "text": [
        "\r",
        "[download]   0.0% of 142.31MiB at 96.79KiB/s ETA 25:04"
       ]
      },
      {
       "output_type": "stream",
       "stream": "stdout",
       "text": [
        "\r",
        "[download]   0.1% of 142.31MiB at 142.52KiB/s ETA 17:01"
       ]
      },
      {
       "output_type": "stream",
       "stream": "stdout",
       "text": [
        "\r",
        "[download]   0.2% of 142.31MiB at 227.08KiB/s ETA 10:40"
       ]
      },
      {
       "output_type": "stream",
       "stream": "stdout",
       "text": [
        "\r",
        "[download]   0.4% of 142.31MiB at 354.29KiB/s ETA 06:49"
       ]
      },
      {
       "output_type": "stream",
       "stream": "stdout",
       "text": [
        "\r",
        "[download]   0.7% of 142.31MiB at 404.13KiB/s ETA 05:58"
       ]
      },
      {
       "output_type": "stream",
       "stream": "stdout",
       "text": [
        "\r",
        "[download]   1.0% of 142.31MiB at 434.05KiB/s ETA 05:32"
       ]
      },
      {
       "output_type": "stream",
       "stream": "stdout",
       "text": [
        "\r",
        "[download]   1.4% of 142.31MiB at 460.10KiB/s ETA 05:12"
       ]
      },
      {
       "output_type": "stream",
       "stream": "stdout",
       "text": [
        "\r",
        "[download]   1.8% of 142.31MiB at 485.43KiB/s ETA 04:54"
       ]
      },
      {
       "output_type": "stream",
       "stream": "stdout",
       "text": [
        "\r",
        "[download]   2.2% of 142.31MiB at 509.59KiB/s ETA 04:39"
       ]
      },
      {
       "output_type": "stream",
       "stream": "stdout",
       "text": [
        "\r",
        "[download]   2.6% of 142.31MiB at 549.48KiB/s ETA 04:18"
       ]
      },
      {
       "output_type": "stream",
       "stream": "stdout",
       "text": [
        "\r",
        "[download]   3.2% of 142.31MiB at 592.42KiB/s ETA 03:58"
       ]
      },
      {
       "output_type": "stream",
       "stream": "stdout",
       "text": [
        "\r",
        "[download]   3.8% of 142.31MiB at 583.45KiB/s ETA 04:00"
       ]
      },
      {
       "output_type": "stream",
       "stream": "stdout",
       "text": [
        "\r",
        "[download]   4.2% of 142.31MiB at 579.31KiB/s ETA 04:00"
       ]
      },
      {
       "output_type": "stream",
       "stream": "stdout",
       "text": [
        "\r",
        "[download]   4.6% of 142.31MiB at 591.41KiB/s ETA 03:55"
       ]
      },
      {
       "output_type": "stream",
       "stream": "stdout",
       "text": [
        "\r",
        "[download]   5.1% of 142.31MiB at 591.12KiB/s ETA 03:53"
       ]
      },
      {
       "output_type": "stream",
       "stream": "stdout",
       "text": [
        "\r",
        "[download]   5.5% of 142.31MiB at 599.75KiB/s ETA 03:49"
       ]
      },
      {
       "output_type": "stream",
       "stream": "stdout",
       "text": [
        "\r",
        "[download]   6.0% of 142.31MiB at 599.05KiB/s ETA 03:48"
       ]
      },
      {
       "output_type": "stream",
       "stream": "stdout",
       "text": [
        "\r",
        "[download]   6.4% of 142.31MiB at 605.54KiB/s ETA 03:45"
       ]
      },
      {
       "output_type": "stream",
       "stream": "stdout",
       "text": [
        "\r",
        "[download]   6.9% of 142.31MiB at 608.96KiB/s ETA 03:42"
       ]
      },
      {
       "output_type": "stream",
       "stream": "stdout",
       "text": [
        "\r",
        "[download]   7.4% of 142.31MiB at 617.32KiB/s ETA 03:38"
       ]
      },
      {
       "output_type": "stream",
       "stream": "stdout",
       "text": [
        "\r",
        "[download]   7.9% of 142.31MiB at 633.22KiB/s ETA 03:31"
       ]
      },
      {
       "output_type": "stream",
       "stream": "stdout",
       "text": [
        "\r",
        "[download]   8.6% of 142.31MiB at 650.65KiB/s ETA 03:24"
       ]
      },
      {
       "output_type": "stream",
       "stream": "stdout",
       "text": [
        "\r",
        "[download]   9.3% of 142.31MiB at 667.13KiB/s ETA 03:18"
       ]
      },
      {
       "output_type": "stream",
       "stream": "stdout",
       "text": [
        "\r",
        "[download]   9.9% of 142.31MiB at 675.30KiB/s ETA 03:14"
       ]
      },
      {
       "output_type": "stream",
       "stream": "stdout",
       "text": [
        "\r",
        "[download]  10.5% of 142.31MiB at 670.06KiB/s ETA 03:14"
       ]
      },
      {
       "output_type": "stream",
       "stream": "stdout",
       "text": [
        "\r",
        "[download]  10.9% of 142.31MiB at 668.36KiB/s ETA 03:14"
       ]
      },
      {
       "output_type": "stream",
       "stream": "stdout",
       "text": [
        "\r",
        "[download]  11.3% of 142.31MiB at 666.14KiB/s ETA 03:13"
       ]
      },
      {
       "output_type": "stream",
       "stream": "stdout",
       "text": [
        "\r",
        "[download]  11.8% of 142.31MiB at 658.15KiB/s ETA 03:15"
       ]
      },
      {
       "output_type": "stream",
       "stream": "stdout",
       "text": [
        "\r",
        "[download]  12.1% of 142.31MiB at 660.58KiB/s ETA 03:13"
       ]
      },
      {
       "output_type": "stream",
       "stream": "stdout",
       "text": [
        "\r",
        "[download]  12.6% of 142.31MiB at 654.12KiB/s ETA 03:14"
       ]
      },
      {
       "output_type": "stream",
       "stream": "stdout",
       "text": [
        "\r",
        "[download]  13.0% of 142.31MiB at 653.35KiB/s ETA 03:14"
       ]
      },
      {
       "output_type": "stream",
       "stream": "stdout",
       "text": [
        "\r",
        "[download]  13.4% of 142.31MiB at 651.93KiB/s ETA 03:13"
       ]
      },
      {
       "output_type": "stream",
       "stream": "stdout",
       "text": [
        "\r",
        "[download]  13.8% of 142.31MiB at 651.93KiB/s ETA 03:12"
       ]
      },
      {
       "output_type": "stream",
       "stream": "stdout",
       "text": [
        "\r",
        "[download]  14.3% of 142.31MiB at 647.88KiB/s ETA 03:12"
       ]
      },
      {
       "output_type": "stream",
       "stream": "stdout",
       "text": [
        "\r",
        "[download]  14.7% of 142.31MiB at 643.25KiB/s ETA 03:13"
       ]
      },
      {
       "output_type": "stream",
       "stream": "stdout",
       "text": [
        "\r",
        "[download]  15.0% of 142.31MiB at 637.00KiB/s ETA 03:14"
       ]
      },
      {
       "output_type": "stream",
       "stream": "stdout",
       "text": [
        "\r",
        "[download]  15.3% of 142.31MiB at 637.53KiB/s ETA 03:13"
       ]
      },
      {
       "output_type": "stream",
       "stream": "stdout",
       "text": [
        "\r",
        "[download]  15.8% of 142.31MiB at 636.01KiB/s ETA 03:12"
       ]
      },
      {
       "output_type": "stream",
       "stream": "stdout",
       "text": [
        "\r",
        "[download]  16.2% of 142.31MiB at 638.23KiB/s ETA 03:11"
       ]
      },
      {
       "output_type": "stream",
       "stream": "stdout",
       "text": [
        "\r",
        "[download]  16.7% of 142.31MiB at 638.39KiB/s ETA 03:10"
       ]
      },
      {
       "output_type": "stream",
       "stream": "stdout",
       "text": [
        "\r",
        "[download]  17.1% of 142.31MiB at 640.17KiB/s ETA 03:08"
       ]
      },
      {
       "output_type": "stream",
       "stream": "stdout",
       "text": [
        "\r",
        "[download]  17.6% of 142.31MiB at 641.16KiB/s ETA 03:07"
       ]
      },
      {
       "output_type": "stream",
       "stream": "stdout",
       "text": [
        "\r",
        "[download]  18.1% of 142.31MiB at 640.34KiB/s ETA 03:06"
       ]
      },
      {
       "output_type": "stream",
       "stream": "stdout",
       "text": [
        "\r",
        "[download]  18.5% of 142.31MiB at 637.09KiB/s ETA 03:06"
       ]
      },
      {
       "output_type": "stream",
       "stream": "stdout",
       "text": [
        "\r",
        "[download]  18.9% of 142.31MiB at 635.49KiB/s ETA 03:06"
       ]
      },
      {
       "output_type": "stream",
       "stream": "stdout",
       "text": [
        "\r",
        "[download]  19.3% of 142.31MiB at 635.46KiB/s ETA 03:05"
       ]
      },
      {
       "output_type": "stream",
       "stream": "stdout",
       "text": [
        "\r",
        "[download]  19.7% of 142.31MiB at 638.11KiB/s ETA 03:03"
       ]
      },
      {
       "output_type": "stream",
       "stream": "stdout",
       "text": [
        "\r",
        "[download]  20.2% of 142.31MiB at 638.39KiB/s ETA 03:02"
       ]
      },
      {
       "output_type": "stream",
       "stream": "stdout",
       "text": [
        "\r",
        "[download]  20.7% of 142.31MiB at 626.60KiB/s ETA 03:04"
       ]
      },
      {
       "output_type": "stream",
       "stream": "stdout",
       "text": [
        "\r",
        "[download]  20.9% of 142.31MiB at 627.24KiB/s ETA 03:03"
       ]
      },
      {
       "output_type": "stream",
       "stream": "stdout",
       "text": [
        "\r",
        "[download]  21.4% of 142.31MiB at 628.33KiB/s ETA 03:02"
       ]
      },
      {
       "output_type": "stream",
       "stream": "stdout",
       "text": [
        "\r",
        "[download]  21.8% of 142.31MiB at 626.57KiB/s ETA 03:01"
       ]
      },
      {
       "output_type": "stream",
       "stream": "stdout",
       "text": [
        "\r",
        "[download]  22.2% of 142.31MiB at 628.50KiB/s ETA 03:00"
       ]
      },
      {
       "output_type": "stream",
       "stream": "stdout",
       "text": [
        "\r",
        "[download]  22.8% of 142.31MiB at 629.68KiB/s ETA 02:58"
       ]
      },
      {
       "output_type": "stream",
       "stream": "stdout",
       "text": [
        "\r",
        "[download]  23.2% of 142.31MiB at 631.04KiB/s ETA 02:57"
       ]
      },
      {
       "output_type": "stream",
       "stream": "stdout",
       "text": [
        "\r",
        "[download]  23.7% of 142.31MiB at 629.92KiB/s ETA 02:56"
       ]
      },
      {
       "output_type": "stream",
       "stream": "stdout",
       "text": [
        "\r",
        "[download]  24.1% of 142.31MiB at 625.89KiB/s ETA 02:56"
       ]
      },
      {
       "output_type": "stream",
       "stream": "stdout",
       "text": [
        "\r",
        "[download]  24.4% of 142.31MiB at 624.52KiB/s ETA 02:56"
       ]
      },
      {
       "output_type": "stream",
       "stream": "stdout",
       "text": [
        "\r",
        "[download]  24.8% of 142.31MiB at 624.04KiB/s ETA 02:55"
       ]
      },
      {
       "output_type": "stream",
       "stream": "stdout",
       "text": [
        "\r",
        "[download]  25.2% of 142.31MiB at 626.10KiB/s ETA 02:54"
       ]
      },
      {
       "output_type": "stream",
       "stream": "stdout",
       "text": [
        "\r",
        "[download]  25.7% of 142.31MiB at 630.34KiB/s ETA 02:51"
       ]
      },
      {
       "output_type": "stream",
       "stream": "stdout",
       "text": [
        "\r",
        "[download]  26.4% of 142.31MiB at 631.63KiB/s ETA 02:49"
       ]
      },
      {
       "output_type": "stream",
       "stream": "stdout",
       "text": [
        "\r",
        "[download]  26.8% of 142.31MiB at 631.71KiB/s ETA 02:48"
       ]
      },
      {
       "output_type": "stream",
       "stream": "stdout",
       "text": [
        "\r",
        "[download]  27.3% of 142.31MiB at 628.49KiB/s ETA 02:48"
       ]
      },
      {
       "output_type": "stream",
       "stream": "stdout",
       "text": [
        "\r",
        "[download]  27.6% of 142.31MiB at 626.88KiB/s ETA 02:48"
       ]
      },
      {
       "output_type": "stream",
       "stream": "stdout",
       "text": [
        "\r",
        "[download]  28.0% of 142.31MiB at 626.44KiB/s ETA 02:47"
       ]
      },
      {
       "output_type": "stream",
       "stream": "stdout",
       "text": [
        "\r",
        "[download]  28.4% of 142.31MiB at 625.21KiB/s ETA 02:46"
       ]
      },
      {
       "output_type": "stream",
       "stream": "stdout",
       "text": [
        "\r",
        "[download]  28.8% of 142.31MiB at 622.54KiB/s ETA 02:46"
       ]
      },
      {
       "output_type": "stream",
       "stream": "stdout",
       "text": [
        "\r",
        "[download]  29.1% of 142.31MiB at 620.61KiB/s ETA 02:46"
       ]
      },
      {
       "output_type": "stream",
       "stream": "stdout",
       "text": [
        "\r",
        "[download]  29.4% of 142.31MiB at 619.94KiB/s ETA 02:45"
       ]
      },
      {
       "output_type": "stream",
       "stream": "stdout",
       "text": [
        "\r",
        "[download]  29.8% of 142.31MiB at 619.73KiB/s ETA 02:45"
       ]
      },
      {
       "output_type": "stream",
       "stream": "stdout",
       "text": [
        "\r",
        "[download]  30.2% of 142.31MiB at 617.54KiB/s ETA 02:44"
       ]
      },
      {
       "output_type": "stream",
       "stream": "stdout",
       "text": [
        "\r",
        "[download]  30.6% of 142.31MiB at 617.68KiB/s ETA 02:43"
       ]
      },
      {
       "output_type": "stream",
       "stream": "stdout",
       "text": [
        "\r",
        "[download]  31.0% of 142.31MiB at 618.05KiB/s ETA 02:42"
       ]
      },
      {
       "output_type": "stream",
       "stream": "stdout",
       "text": [
        "\r",
        "[download]  31.4% of 142.31MiB at 618.95KiB/s ETA 02:41"
       ]
      },
      {
       "output_type": "stream",
       "stream": "stdout",
       "text": [
        "\r",
        "[download]  31.9% of 142.31MiB at 620.15KiB/s ETA 02:40"
       ]
      },
      {
       "output_type": "stream",
       "stream": "stdout",
       "text": [
        "\r",
        "[download]  32.4% of 142.31MiB at 620.31KiB/s ETA 02:38"
       ]
      },
      {
       "output_type": "stream",
       "stream": "stdout",
       "text": [
        "\r",
        "[download]  32.8% of 142.31MiB at 621.09KiB/s ETA 02:37"
       ]
      },
      {
       "output_type": "stream",
       "stream": "stdout",
       "text": [
        "\r",
        "[download]  33.3% of 142.31MiB at 623.03KiB/s ETA 02:36"
       ]
      },
      {
       "output_type": "stream",
       "stream": "stdout",
       "text": [
        "\r",
        "[download]  33.8% of 142.31MiB at 626.44KiB/s ETA 02:33"
       ]
      },
      {
       "output_type": "stream",
       "stream": "stdout",
       "text": [
        "\r",
        "[download]  34.5% of 142.31MiB at 627.18KiB/s ETA 02:32"
       ]
      },
      {
       "output_type": "stream",
       "stream": "stdout",
       "text": [
        "\r",
        "[download]  35.0% of 142.31MiB at 629.11KiB/s ETA 02:30"
       ]
      },
      {
       "output_type": "stream",
       "stream": "stdout",
       "text": [
        "\r",
        "[download]  35.5% of 142.31MiB at 633.40KiB/s ETA 02:28"
       ]
      },
      {
       "output_type": "stream",
       "stream": "stdout",
       "text": [
        "\r",
        "[download]  36.3% of 142.31MiB at 639.19KiB/s ETA 02:25"
       ]
      },
      {
       "output_type": "stream",
       "stream": "stdout",
       "text": [
        "\r",
        "[download]  37.0% of 142.31MiB at 644.86KiB/s ETA 02:22"
       ]
      },
      {
       "output_type": "stream",
       "stream": "stdout",
       "text": [
        "\r",
        "[download]  37.8% of 142.31MiB at 647.78KiB/s ETA 02:19"
       ]
      },
      {
       "output_type": "stream",
       "stream": "stdout",
       "text": [
        "\r",
        "[download]  38.4% of 142.31MiB at 643.33KiB/s ETA 02:19"
       ]
      },
      {
       "output_type": "stream",
       "stream": "stdout",
       "text": [
        "\r",
        "[download]  38.7% of 142.31MiB at 648.37KiB/s ETA 02:17"
       ]
      },
      {
       "output_type": "stream",
       "stream": "stdout",
       "text": [
        "\r",
        "[download]  39.3% of 142.31MiB at 656.03KiB/s ETA 02:14"
       ]
      },
      {
       "output_type": "stream",
       "stream": "stdout",
       "text": [
        "\r",
        "[download]  40.5% of 142.31MiB at 659.65KiB/s ETA 02:11"
       ]
      },
      {
       "output_type": "stream",
       "stream": "stdout",
       "text": [
        "\r",
        "[download]  41.1% of 142.31MiB at 664.65KiB/s ETA 02:09"
       ]
      },
      {
       "output_type": "stream",
       "stream": "stdout",
       "text": [
        "\r",
        "[download]  42.0% of 142.31MiB at 663.50KiB/s ETA 02:07"
       ]
      },
      {
       "output_type": "stream",
       "stream": "stdout",
       "text": [
        "\r",
        "[download]  42.5% of 142.31MiB at 663.41KiB/s ETA 02:06"
       ]
      },
      {
       "output_type": "stream",
       "stream": "stdout",
       "text": [
        "\r",
        "[download]  42.9% of 142.31MiB at 664.11KiB/s ETA 02:05"
       ]
      },
      {
       "output_type": "stream",
       "stream": "stdout",
       "text": [
        "\r",
        "[download]  43.4% of 142.31MiB at 665.18KiB/s ETA 02:03"
       ]
      },
      {
       "output_type": "stream",
       "stream": "stdout",
       "text": [
        "\r",
        "[download]  44.0% of 142.31MiB at 667.85KiB/s ETA 02:02"
       ]
      },
      {
       "output_type": "stream",
       "stream": "stdout",
       "text": [
        "\r",
        "[download]  44.7% of 142.31MiB at 667.73KiB/s ETA 02:00"
       ]
      },
      {
       "output_type": "stream",
       "stream": "stdout",
       "text": [
        "\r",
        "[download]  45.1% of 142.31MiB at 669.54KiB/s ETA 01:59"
       ]
      },
      {
       "output_type": "stream",
       "stream": "stdout",
       "text": [
        "\r",
        "[download]  45.7% of 142.31MiB at 672.49KiB/s ETA 01:57"
       ]
      },
      {
       "output_type": "stream",
       "stream": "stdout",
       "text": [
        "\r",
        "[download]  46.4% of 142.31MiB at 669.86KiB/s ETA 01:56"
       ]
      },
      {
       "output_type": "stream",
       "stream": "stdout",
       "text": [
        "\r",
        "[download]  46.8% of 142.31MiB at 670.28KiB/s ETA 01:55"
       ]
      },
      {
       "output_type": "stream",
       "stream": "stdout",
       "text": [
        "\r",
        "[download]  47.3% of 142.31MiB at 671.45KiB/s ETA 01:54"
       ]
      },
      {
       "output_type": "stream",
       "stream": "stdout",
       "text": [
        "\r",
        "[download]  47.8% of 142.31MiB at 669.96KiB/s ETA 01:53"
       ]
      },
      {
       "output_type": "stream",
       "stream": "stdout",
       "text": [
        "\r",
        "[download]  48.2% of 142.31MiB at 669.20KiB/s ETA 01:52"
       ]
      },
      {
       "output_type": "stream",
       "stream": "stdout",
       "text": [
        "\r",
        "[download]  48.6% of 142.31MiB at 668.99KiB/s ETA 01:51"
       ]
      },
      {
       "output_type": "stream",
       "stream": "stdout",
       "text": [
        "\r",
        "[download]  49.1% of 142.31MiB at 669.65KiB/s ETA 01:50"
       ]
      },
      {
       "output_type": "stream",
       "stream": "stdout",
       "text": [
        "\r",
        "[download]  49.6% of 142.31MiB at 670.88KiB/s ETA 01:49"
       ]
      },
      {
       "output_type": "stream",
       "stream": "stdout",
       "text": [
        "\r",
        "[download]  50.1% of 142.31MiB at 671.08KiB/s ETA 01:48"
       ]
      },
      {
       "output_type": "stream",
       "stream": "stdout",
       "text": [
        "\r",
        "[download]  50.6% of 142.31MiB at 669.66KiB/s ETA 01:47"
       ]
      },
      {
       "output_type": "stream",
       "stream": "stdout",
       "text": [
        "\r",
        "[download]  51.0% of 142.31MiB at 670.74KiB/s ETA 01:46"
       ]
      },
      {
       "output_type": "stream",
       "stream": "stdout",
       "text": [
        "\r",
        "[download]  51.6% of 142.31MiB at 672.59KiB/s ETA 01:44"
       ]
      },
      {
       "output_type": "stream",
       "stream": "stdout",
       "text": [
        "\r",
        "[download]  52.2% of 142.31MiB at 676.65KiB/s ETA 01:42"
       ]
      },
      {
       "output_type": "stream",
       "stream": "stdout",
       "text": [
        "\r",
        "[download]  53.2% of 142.31MiB at 679.11KiB/s ETA 01:40"
       ]
      },
      {
       "output_type": "stream",
       "stream": "stdout",
       "text": [
        "\r",
        "[download]  53.7% of 142.31MiB at 678.33KiB/s ETA 01:39"
       ]
      },
      {
       "output_type": "stream",
       "stream": "stdout",
       "text": [
        "\r",
        "[download]  54.2% of 142.31MiB at 682.98KiB/s ETA 01:37"
       ]
      },
      {
       "output_type": "stream",
       "stream": "stdout",
       "text": [
        "\r",
        "[download]  55.0% of 142.31MiB at 682.69KiB/s ETA 01:36"
       ]
      },
      {
       "output_type": "stream",
       "stream": "stdout",
       "text": [
        "\r",
        "[download]  55.5% of 142.31MiB at 683.51KiB/s ETA 01:34"
       ]
      },
      {
       "output_type": "stream",
       "stream": "stdout",
       "text": [
        "\r",
        "[download]  56.0% of 142.31MiB at 684.80KiB/s ETA 01:33"
       ]
      },
      {
       "output_type": "stream",
       "stream": "stdout",
       "text": [
        "\r",
        "[download]  56.6% of 142.31MiB at 685.75KiB/s ETA 01:32"
       ]
      },
      {
       "output_type": "stream",
       "stream": "stdout",
       "text": [
        "\r",
        "[download]  57.1% of 142.31MiB at 687.21KiB/s ETA 01:30"
       ]
      },
      {
       "output_type": "stream",
       "stream": "stdout",
       "text": [
        "\r",
        "[download]  57.7% of 142.31MiB at 685.20KiB/s ETA 01:29"
       ]
      },
      {
       "output_type": "stream",
       "stream": "stdout",
       "text": [
        "\r",
        "[download]  58.1% of 142.31MiB at 685.20KiB/s ETA 01:29"
       ]
      },
      {
       "output_type": "stream",
       "stream": "stdout",
       "text": [
        "\r",
        "[download]  58.6% of 142.31MiB at 689.27KiB/s ETA 01:27"
       ]
      },
      {
       "output_type": "stream",
       "stream": "stdout",
       "text": [
        "\r",
        "[download]  59.5% of 142.31MiB at 694.10KiB/s ETA 01:24"
       ]
      },
      {
       "output_type": "stream",
       "stream": "stdout",
       "text": [
        "\r",
        "[download]  60.4% of 142.31MiB at 695.42KiB/s ETA 01:23"
       ]
      },
      {
       "output_type": "stream",
       "stream": "stdout",
       "text": [
        "\r",
        "[download]  60.9% of 142.31MiB at 696.35KiB/s ETA 01:21"
       ]
      },
      {
       "output_type": "stream",
       "stream": "stdout",
       "text": [
        "\r",
        "[download]  61.5% of 142.31MiB at 694.89KiB/s ETA 01:20"
       ]
      },
      {
       "output_type": "stream",
       "stream": "stdout",
       "text": [
        "\r",
        "[download]  61.9% of 142.31MiB at 695.53KiB/s ETA 01:19"
       ]
      },
      {
       "output_type": "stream",
       "stream": "stdout",
       "text": [
        "\r",
        "[download]  62.4% of 142.31MiB at 692.31KiB/s ETA 01:19"
       ]
      },
      {
       "output_type": "stream",
       "stream": "stdout",
       "text": [
        "\r",
        "[download]  62.7% of 142.31MiB at 691.49KiB/s ETA 01:18"
       ]
      },
      {
       "output_type": "stream",
       "stream": "stdout",
       "text": [
        "\r",
        "[download]  63.1% of 142.31MiB at 689.84KiB/s ETA 01:17"
       ]
      },
      {
       "output_type": "stream",
       "stream": "stdout",
       "text": [
        "\r",
        "[download]  63.5% of 142.31MiB at 689.34KiB/s ETA 01:17"
       ]
      },
      {
       "output_type": "stream",
       "stream": "stdout",
       "text": [
        "\r",
        "[download]  63.9% of 142.31MiB at 688.18KiB/s ETA 01:16"
       ]
      },
      {
       "output_type": "stream",
       "stream": "stdout",
       "text": [
        "\r",
        "[download]  64.3% of 142.31MiB at 686.20KiB/s ETA 01:15"
       ]
      },
      {
       "output_type": "stream",
       "stream": "stdout",
       "text": [
        "\r",
        "[download]  64.6% of 142.31MiB at 685.62KiB/s ETA 01:15"
       ]
      },
      {
       "output_type": "stream",
       "stream": "stdout",
       "text": [
        "\r",
        "[download]  65.0% of 142.31MiB at 684.95KiB/s ETA 01:14"
       ]
      },
      {
       "output_type": "stream",
       "stream": "stdout",
       "text": [
        "\r",
        "[download]  65.4% of 142.31MiB at 683.40KiB/s ETA 01:13"
       ]
      },
      {
       "output_type": "stream",
       "stream": "stdout",
       "text": [
        "\r",
        "[download]  65.7% of 142.31MiB at 682.99KiB/s ETA 01:13"
       ]
      },
      {
       "output_type": "stream",
       "stream": "stdout",
       "text": [
        "\r",
        "[download]  66.2% of 142.31MiB at 681.50KiB/s ETA 01:12"
       ]
      },
      {
       "output_type": "stream",
       "stream": "stdout",
       "text": [
        "\r",
        "[download]  66.5% of 142.31MiB at 680.68KiB/s ETA 01:11"
       ]
      },
      {
       "output_type": "stream",
       "stream": "stdout",
       "text": [
        "\r",
        "[download]  66.9% of 142.31MiB at 679.04KiB/s ETA 01:11"
       ]
      },
      {
       "output_type": "stream",
       "stream": "stdout",
       "text": [
        "\r",
        "[download]  67.2% of 142.31MiB at 677.65KiB/s ETA 01:10"
       ]
      },
      {
       "output_type": "stream",
       "stream": "stdout",
       "text": [
        "\r",
        "[download]  67.5% of 142.31MiB at 670.75KiB/s ETA 01:10"
       ]
      },
      {
       "output_type": "stream",
       "stream": "stdout",
       "text": [
        "\r",
        "[download]  67.7% of 142.31MiB at 672.36KiB/s ETA 01:09"
       ]
      },
      {
       "output_type": "stream",
       "stream": "stdout",
       "text": [
        "\r",
        "[download]  68.0% of 142.31MiB at 672.72KiB/s ETA 01:09"
       ]
      },
      {
       "output_type": "stream",
       "stream": "stdout",
       "text": [
        "\r",
        "[download]  68.6% of 142.31MiB at 670.58KiB/s ETA 01:08"
       ]
      },
      {
       "output_type": "stream",
       "stream": "stdout",
       "text": [
        "\r",
        "[download]  68.9% of 142.31MiB at 670.57KiB/s ETA 01:07"
       ]
      },
      {
       "output_type": "stream",
       "stream": "stdout",
       "text": [
        "\r",
        "[download]  69.3% of 142.31MiB at 671.31KiB/s ETA 01:06"
       ]
      },
      {
       "output_type": "stream",
       "stream": "stdout",
       "text": [
        "\r",
        "[download]  69.9% of 142.31MiB at 671.72KiB/s ETA 01:05"
       ]
      },
      {
       "output_type": "stream",
       "stream": "stdout",
       "text": [
        "\r",
        "[download]  70.4% of 142.31MiB at 671.52KiB/s ETA 01:04"
       ]
      },
      {
       "output_type": "stream",
       "stream": "stdout",
       "text": [
        "\r",
        "[download]  70.8% of 142.31MiB at 666.70KiB/s ETA 01:03"
       ]
      },
      {
       "output_type": "stream",
       "stream": "stdout",
       "text": [
        "\r",
        "[download]  71.1% of 142.31MiB at 668.76KiB/s ETA 01:03"
       ]
      },
      {
       "output_type": "stream",
       "stream": "stdout",
       "text": [
        "\r",
        "[download]  71.5% of 142.31MiB at 670.37KiB/s ETA 01:01"
       ]
      },
      {
       "output_type": "stream",
       "stream": "stdout",
       "text": [
        "\r",
        "[download]  72.3% of 142.31MiB at 671.07KiB/s ETA 01:00"
       ]
      },
      {
       "output_type": "stream",
       "stream": "stdout",
       "text": [
        "\r",
        "[download]  72.8% of 142.31MiB at 668.63KiB/s ETA 00:59"
       ]
      },
      {
       "output_type": "stream",
       "stream": "stdout",
       "text": [
        "\r",
        "[download]  73.1% of 142.31MiB at 668.59KiB/s ETA 00:58"
       ]
      },
      {
       "output_type": "stream",
       "stream": "stdout",
       "text": [
        "\r",
        "[download]  73.5% of 142.31MiB at 666.79KiB/s ETA 00:57"
       ]
      },
      {
       "output_type": "stream",
       "stream": "stdout",
       "text": [
        "\r",
        "[download]  73.8% of 142.31MiB at 667.44KiB/s ETA 00:57"
       ]
      },
      {
       "output_type": "stream",
       "stream": "stdout",
       "text": [
        "\r",
        "[download]  74.4% of 142.31MiB at 668.08KiB/s ETA 00:55"
       ]
      },
      {
       "output_type": "stream",
       "stream": "stdout",
       "text": [
        "\r",
        "[download]  75.0% of 142.31MiB at 669.29KiB/s ETA 00:54"
       ]
      },
      {
       "output_type": "stream",
       "stream": "stdout",
       "text": [
        "\r",
        "[download]  75.6% of 142.31MiB at 669.92KiB/s ETA 00:53"
       ]
      },
      {
       "output_type": "stream",
       "stream": "stdout",
       "text": [
        "\r",
        "[download]  76.1% of 142.31MiB at 666.00KiB/s ETA 00:52"
       ]
      },
      {
       "output_type": "stream",
       "stream": "stdout",
       "text": [
        "\r",
        "[download]  76.4% of 142.31MiB at 667.16KiB/s ETA 00:51"
       ]
      },
      {
       "output_type": "stream",
       "stream": "stdout",
       "text": [
        "\r",
        "[download]  76.9% of 142.31MiB at 664.80KiB/s ETA 00:50"
       ]
      },
      {
       "output_type": "stream",
       "stream": "stdout",
       "text": [
        "\r",
        "[download]  77.2% of 142.31MiB at 664.16KiB/s ETA 00:50"
       ]
      },
      {
       "output_type": "stream",
       "stream": "stdout",
       "text": [
        "\r",
        "[download]  77.5% of 142.31MiB at 664.07KiB/s ETA 00:49"
       ]
      },
      {
       "output_type": "stream",
       "stream": "stdout",
       "text": [
        "\r",
        "[download]  78.0% of 142.31MiB at 663.92KiB/s ETA 00:48"
       ]
      },
      {
       "output_type": "stream",
       "stream": "stdout",
       "text": [
        "\r",
        "[download]  78.4% of 142.31MiB at 661.78KiB/s ETA 00:47"
       ]
      },
      {
       "output_type": "stream",
       "stream": "stdout",
       "text": [
        "\r",
        "[download]  78.7% of 142.31MiB at 661.66KiB/s ETA 00:46"
       ]
      },
      {
       "output_type": "stream",
       "stream": "stdout",
       "text": [
        "\r",
        "[download]  79.1% of 142.31MiB at 660.54KiB/s ETA 00:46"
       ]
      },
      {
       "output_type": "stream",
       "stream": "stdout",
       "text": [
        "\r",
        "[download]  79.5% of 142.31MiB at 660.64KiB/s ETA 00:45"
       ]
      },
      {
       "output_type": "stream",
       "stream": "stdout",
       "text": [
        "\r",
        "[download]  80.0% of 142.31MiB at 658.49KiB/s ETA 00:44"
       ]
      },
      {
       "output_type": "stream",
       "stream": "stdout",
       "text": [
        "\r",
        "[download]  80.3% of 142.31MiB at 660.64KiB/s ETA 00:43"
       ]
      },
      {
       "output_type": "stream",
       "stream": "stdout",
       "text": [
        "\r",
        "[download]  80.8% of 142.31MiB at 661.55KiB/s ETA 00:42"
       ]
      },
      {
       "output_type": "stream",
       "stream": "stdout",
       "text": [
        "\r",
        "[download]  81.4% of 142.31MiB at 660.84KiB/s ETA 00:41"
       ]
      },
      {
       "output_type": "stream",
       "stream": "stdout",
       "text": [
        "\r",
        "[download]  81.8% of 142.31MiB at 658.56KiB/s ETA 00:40"
       ]
      },
      {
       "output_type": "stream",
       "stream": "stdout",
       "text": [
        "\r",
        "[download]  82.1% of 142.31MiB at 657.46KiB/s ETA 00:39"
       ]
      },
      {
       "output_type": "stream",
       "stream": "stdout",
       "text": [
        "\r",
        "[download]  82.4% of 142.31MiB at 659.51KiB/s ETA 00:38"
       ]
      },
      {
       "output_type": "stream",
       "stream": "stdout",
       "text": [
        "\r",
        "[download]  82.9% of 142.31MiB at 658.10KiB/s ETA 00:37"
       ]
      },
      {
       "output_type": "stream",
       "stream": "stdout",
       "text": [
        "\r",
        "[download]  83.3% of 142.31MiB at 658.22KiB/s ETA 00:36"
       ]
      },
      {
       "output_type": "stream",
       "stream": "stdout",
       "text": [
        "\r",
        "[download]  83.8% of 142.31MiB at 656.48KiB/s ETA 00:36"
       ]
      },
      {
       "output_type": "stream",
       "stream": "stdout",
       "text": [
        "\r",
        "[download]  84.1% of 142.31MiB at 655.40KiB/s ETA 00:35"
       ]
      },
      {
       "output_type": "stream",
       "stream": "stdout",
       "text": [
        "\r",
        "[download]  84.4% of 142.31MiB at 655.05KiB/s ETA 00:34"
       ]
      },
      {
       "output_type": "stream",
       "stream": "stdout",
       "text": [
        "\r",
        "[download]  84.8% of 142.31MiB at 653.97KiB/s ETA 00:33"
       ]
      },
      {
       "output_type": "stream",
       "stream": "stdout",
       "text": [
        "\r",
        "[download]  85.1% of 142.31MiB at 654.43KiB/s ETA 00:33"
       ]
      },
      {
       "output_type": "stream",
       "stream": "stdout",
       "text": [
        "\r",
        "[download]  85.7% of 142.31MiB at 654.94KiB/s ETA 00:31"
       ]
      },
      {
       "output_type": "stream",
       "stream": "stdout",
       "text": [
        "\r",
        "[download]  86.2% of 142.31MiB at 654.39KiB/s ETA 00:30"
       ]
      },
      {
       "output_type": "stream",
       "stream": "stdout",
       "text": [
        "\r",
        "[download]  86.6% of 142.31MiB at 654.26KiB/s ETA 00:29"
       ]
      },
      {
       "output_type": "stream",
       "stream": "stdout",
       "text": [
        "\r",
        "[download]  87.0% of 142.31MiB at 654.05KiB/s ETA 00:28"
       ]
      },
      {
       "output_type": "stream",
       "stream": "stdout",
       "text": [
        "\r",
        "[download]  87.4% of 142.31MiB at 654.75KiB/s ETA 00:27"
       ]
      },
      {
       "output_type": "stream",
       "stream": "stdout",
       "text": [
        "\r",
        "[download]  88.0% of 142.31MiB at 655.38KiB/s ETA 00:26"
       ]
      },
      {
       "output_type": "stream",
       "stream": "stdout",
       "text": [
        "\r",
        "[download]  88.5% of 142.31MiB at 654.76KiB/s ETA 00:25"
       ]
      },
      {
       "output_type": "stream",
       "stream": "stdout",
       "text": [
        "\r",
        "[download]  88.9% of 142.31MiB at 654.14KiB/s ETA 00:24"
       ]
      },
      {
       "output_type": "stream",
       "stream": "stdout",
       "text": [
        "\r",
        "[download]  89.3% of 142.31MiB at 654.92KiB/s ETA 00:23"
       ]
      },
      {
       "output_type": "stream",
       "stream": "stdout",
       "text": [
        "\r",
        "[download]  89.9% of 142.31MiB at 656.19KiB/s ETA 00:22"
       ]
      },
      {
       "output_type": "stream",
       "stream": "stdout",
       "text": [
        "\r",
        "[download]  90.5% of 142.31MiB at 655.56KiB/s ETA 00:21"
       ]
      },
      {
       "output_type": "stream",
       "stream": "stdout",
       "text": [
        "\r",
        "[download]  90.9% of 142.31MiB at 656.14KiB/s ETA 00:20"
       ]
      },
      {
       "output_type": "stream",
       "stream": "stdout",
       "text": [
        "\r",
        "[download]  91.5% of 142.31MiB at 655.91KiB/s ETA 00:18"
       ]
      },
      {
       "output_type": "stream",
       "stream": "stdout",
       "text": [
        "\r",
        "[download]  91.9% of 142.31MiB at 656.64KiB/s ETA 00:17"
       ]
      },
      {
       "output_type": "stream",
       "stream": "stdout",
       "text": [
        "\r",
        "[download]  92.5% of 142.31MiB at 657.39KiB/s ETA 00:16"
       ]
      },
      {
       "output_type": "stream",
       "stream": "stdout",
       "text": [
        "\r",
        "[download]  93.1% of 142.31MiB at 657.83KiB/s ETA 00:15"
       ]
      },
      {
       "output_type": "stream",
       "stream": "stdout",
       "text": [
        "\r",
        "[download]  93.6% of 142.31MiB at 658.88KiB/s ETA 00:14"
       ]
      },
      {
       "output_type": "stream",
       "stream": "stdout",
       "text": [
        "\r",
        "[download]  94.2% of 142.31MiB at 660.60KiB/s ETA 00:12"
       ]
      },
      {
       "output_type": "stream",
       "stream": "stdout",
       "text": [
        "\r",
        "[download]  95.0% of 142.31MiB at 661.59KiB/s ETA 00:11"
       ]
      },
      {
       "output_type": "stream",
       "stream": "stdout",
       "text": [
        "\r",
        "[download]  95.5% of 142.31MiB at 658.11KiB/s ETA 00:09"
       ]
      },
      {
       "output_type": "stream",
       "stream": "stdout",
       "text": [
        "\r",
        "[download]  95.8% of 142.31MiB at 659.21KiB/s ETA 00:09"
       ]
      },
      {
       "output_type": "stream",
       "stream": "stdout",
       "text": [
        "\r",
        "[download]  96.4% of 142.31MiB at 661.54KiB/s ETA 00:08"
       ]
      },
      {
       "output_type": "stream",
       "stream": "stdout",
       "text": [
        "\r",
        "[download]  97.5% of 142.31MiB at 662.06KiB/s ETA 00:05"
       ]
      },
      {
       "output_type": "stream",
       "stream": "stdout",
       "text": [
        "\r",
        "[download]  98.1% of 142.31MiB at 665.34KiB/s ETA 00:04"
       ]
      },
      {
       "output_type": "stream",
       "stream": "stdout",
       "text": [
        "\r",
        "[download]  99.2% of 142.31MiB at 666.21KiB/s ETA 00:01"
       ]
      },
      {
       "output_type": "stream",
       "stream": "stdout",
       "text": [
        "\r",
        "[download]  99.7% of 142.31MiB at 666.65KiB/s ETA 00:00"
       ]
      },
      {
       "output_type": "stream",
       "stream": "stdout",
       "text": [
        "\r",
        "[download] 100.0% of 142.31MiB at 665.96KiB/s ETA 00:00"
       ]
      },
      {
       "output_type": "stream",
       "stream": "stdout",
       "text": [
        "\r",
        "[download] 100% of 142.31MiB in 03:38\n"
       ]
      },
      {
       "output_type": "stream",
       "stream": "stdout",
       "text": [
        "\"Who knows what evil lurks in the hearts of men?\n",
        "\n",
        "http://www.youtube.com/watch?v=FpwdAFHcilI\n",
        "[02.02.03] Depression, War, And The Culture Of The First Comics (\"Who knows what evil lurks in the hearts of men?\n",
        ")\n",
        "./The Rise of Superheroes and Their Impact On Pop Culture/Week 1 - The Secret Origin Of Comic Books/02.02.03 Depression, War, And The Culture Of The First Comics ('Who knows what evil lurks in the hearts of men).%(ext)s\n",
        "[youtube] FpwdAFHcilI: Downloading webpage\n"
       ]
      },
      {
       "output_type": "stream",
       "stream": "stdout",
       "text": [
        "[youtube] FpwdAFHcilI: Extracting video information\n"
       ]
      },
      {
       "output_type": "stream",
       "stream": "stdout",
       "text": [
        "[youtube] FpwdAFHcilI: Downloading DASH manifest\n"
       ]
      },
      {
       "output_type": "stream",
       "stream": "stdout",
       "text": [
        "[debug] Invoking downloader on u'https://r1---sn-nx5jvh-q5ge.googlevideo.com/videoplayback?initcwndbps=147500&key=yt5&sparams=dur%2Cid%2Cinitcwndbps%2Cip%2Cipbits%2Citag%2Clmt%2Cmime%2Cmm%2Cmn%2Cms%2Cmv%2Cpl%2Cratebypass%2Crequiressl%2Csource%2Cupn%2Cexpire&lmt=1440587521747758&expire=1442093784&ip=154.122.182.51&ratebypass=yes&mn=sn-nx5jvh-q5ge&requiressl=yes&source=youtube&mm=31&mv=m&pl=15&mt=1442072096&ms=au&id=o-AP_OoTNRD8C147pfBlIn45tgTGA75MpNNLojCAgwtSSn&mime=video%2Fmp4&dur=19.690&upn=iiJmKeRBQVw&itag=22&ipbits=0&fexp=9405995%2C9406994%2C9408215%2C9408710%2C9409069%2C9409205%2C9413123%2C9415365%2C9415485%2C9415822%2C9416023%2C9416126%2C9416729%2C9417014%2C9417707%2C9418153%2C9418204%2C9418394%2C9418448%2C9419232%2C9419403%2C9419786%2C9419788%2C9420329%2C9420348%2C9420799%2C9420842&signature=05DAB2A4E672851A9232EF523C21111044E375FB.4BDA876C87539F71CF1967293E79796BE977E839&sver=3'\n"
       ]
      },
      {
       "output_type": "stream",
       "stream": "stdout",
       "text": [
        "[download] Destination: ./The Rise of Superheroes and Their Impact On Pop Culture/Week 1 - The Secret Origin Of Comic Books/02.02.03 Depression, War, And The Culture Of The First Comics ('Who knows what evil lurks in the hearts of men).mp4\n"
       ]
      },
      {
       "output_type": "stream",
       "stream": "stdout",
       "text": [
        "\r",
        "[download]   0.1% of 1009.62KiB at 857.73KiB/s ETA 00:01"
       ]
      },
      {
       "output_type": "stream",
       "stream": "stdout",
       "text": [
        "\r",
        "[download]   0.3% of 1009.62KiB at  1.24MiB/s ETA 00:00"
       ]
      },
      {
       "output_type": "stream",
       "stream": "stdout",
       "text": [
        "\r",
        "[download]   0.7% of 1009.62KiB at 643.27KiB/s ETA 00:01"
       ]
      },
      {
       "output_type": "stream",
       "stream": "stdout",
       "text": [
        "\r",
        "[download]   1.5% of 1009.62KiB at 51.65KiB/s ETA 00:19"
       ]
      },
      {
       "output_type": "stream",
       "stream": "stdout",
       "text": [
        "\r",
        "[download]   3.1% of 1009.62KiB at 61.96KiB/s ETA 00:15"
       ]
      },
      {
       "output_type": "stream",
       "stream": "stdout",
       "text": [
        "\r",
        "[download]   6.2% of 1009.62KiB at 104.77KiB/s ETA 00:09"
       ]
      },
      {
       "output_type": "stream",
       "stream": "stdout",
       "text": [
        "\r",
        "[download]  12.6% of 1009.62KiB at 154.97KiB/s ETA 00:05"
       ]
      },
      {
       "output_type": "stream",
       "stream": "stdout",
       "text": [
        "\r",
        "[download]  25.3% of 1009.62KiB at 242.24KiB/s ETA 00:03"
       ]
      },
      {
       "output_type": "stream",
       "stream": "stdout",
       "text": [
        "\r",
        "[download]  50.6% of 1009.62KiB at 363.97KiB/s ETA 00:01"
       ]
      },
      {
       "output_type": "stream",
       "stream": "stdout",
       "text": [
        "\r",
        "[download] 100.0% of 1009.62KiB at 484.75KiB/s ETA 00:00"
       ]
      },
      {
       "output_type": "stream",
       "stream": "stdout",
       "text": [
        "\r",
        "[download] 100% of 1009.62KiB in 00:02\n"
       ]
      },
      {
       "output_type": "stream",
       "stream": "stdout",
       "text": [
        "Processing ./The Rise of Superheroes and Their Impact On Pop Culture/Week 1 - The Secret Origin Of Comic Books/02.03.*...\n",
        "https://courses.edx.org/courses/course-v1:SmithsonianX+POPX1.1x+2015_T2/courseware/8b682f6cd07345579e7bb7a6850a8d63/980fa4e8a9814e16987b4fb2dbfb937c\n",
        "The Birth of the Superhero"
       ]
      },
      {
       "output_type": "stream",
       "stream": "stdout",
       "text": [
        "\n",
        "http://www.youtube.com/watch?v=Ne5r_A066bQ\n",
        "[02.03.01] The First \"Super\" Hero (The Birth of the Superhero)\n",
        "./The Rise of Superheroes and Their Impact On Pop Culture/Week 1 - The Secret Origin Of Comic Books/02.03.01 The First 'Super' Hero (The Birth of the Superhero).%(ext)s\n",
        "[youtube] Ne5r_A066bQ: Downloading webpage\n"
       ]
      },
      {
       "output_type": "stream",
       "stream": "stdout",
       "text": [
        "[youtube] Ne5r_A066bQ: Extracting video information\n"
       ]
      },
      {
       "output_type": "stream",
       "stream": "stdout",
       "text": [
        "[youtube] Ne5r_A066bQ: Downloading DASH manifest\n"
       ]
      },
      {
       "output_type": "stream",
       "stream": "stdout",
       "text": [
        "[debug] Invoking downloader on u'https://r1---sn-nx5jvh-q5ge.googlevideo.com/videoplayback?mime=video%2Fmp4&expire=1442093801&sver=3&dur=540.235&pl=15&ratebypass=yes&itag=22&ipbits=0&signature=46189BE07B84508166B94369C49F4AAD643D1E9A.13C912B8B517615E0BDD41497A3EF49AEE9A4630&ms=au&mv=m&mt=1442072096&source=youtube&requiressl=yes&key=yt5&mn=sn-nx5jvh-q5ge&mm=31&upn=wvn74Rauw0k&id=o-ALJh0ckdhAPjmjodkb5AAAcKUXt2Cbu8VQXQfbfWgQai&initcwndbps=147500&lmt=1431217301761061&ip=154.122.182.51&fexp=9405995%2C9406994%2C9408215%2C9408710%2C9409069%2C9409205%2C9413123%2C9415365%2C9415485%2C9415822%2C9416023%2C9416126%2C9416729%2C9417014%2C9417707%2C9418153%2C9418204%2C9418394%2C9418448%2C9419232%2C9419403%2C9419786%2C9419788%2C9420329%2C9420348%2C9420799%2C9420842&sparams=dur%2Cid%2Cinitcwndbps%2Cip%2Cipbits%2Citag%2Clmt%2Cmime%2Cmm%2Cmn%2Cms%2Cmv%2Cpl%2Cratebypass%2Crequiressl%2Csource%2Cupn%2Cexpire'\n"
       ]
      },
      {
       "output_type": "stream",
       "stream": "stdout",
       "text": [
        "[download] Destination: ./The Rise of Superheroes and Their Impact On Pop Culture/Week 1 - The Secret Origin Of Comic Books/02.03.01 The First 'Super' Hero (The Birth of the Superhero).mp4\n"
       ]
      },
      {
       "output_type": "stream",
       "stream": "stdout",
       "text": [
        "\r",
        "[download]   0.0% of 142.01MiB at 856.85KiB/s ETA 02:51"
       ]
      },
      {
       "output_type": "stream",
       "stream": "stdout",
       "text": [
        "\r",
        "[download]   0.0% of 142.01MiB at 10.46KiB/s ETA 03:51:43"
       ]
      },
      {
       "output_type": "stream",
       "stream": "stdout",
       "text": [
        "\r",
        "[download]   0.0% of 142.01MiB at 24.31KiB/s ETA 01:39:41"
       ]
      },
      {
       "output_type": "stream",
       "stream": "stdout",
       "text": [
        "\r",
        "[download]   0.0% of 142.01MiB at 51.91KiB/s ETA 46:40"
       ]
      },
      {
       "output_type": "stream",
       "stream": "stdout",
       "text": [
        "\r",
        "[download]   0.0% of 142.01MiB at 89.63KiB/s ETA 27:02"
       ]
      },
      {
       "output_type": "stream",
       "stream": "stdout",
       "text": [
        "\r",
        "[download]   0.0% of 142.01MiB at 100.58KiB/s ETA 24:05"
       ]
      },
      {
       "output_type": "stream",
       "stream": "stdout",
       "text": [
        "\r",
        "[download]   0.1% of 142.01MiB at 143.44KiB/s ETA 16:52"
       ]
      },
      {
       "output_type": "stream",
       "stream": "stdout",
       "text": [
        "\r",
        "[download]   0.2% of 142.01MiB at 216.87KiB/s ETA 11:09"
       ]
      },
      {
       "output_type": "stream",
       "stream": "stdout",
       "text": [
        "\r",
        "[download]   0.4% of 142.01MiB at 306.70KiB/s ETA 07:52"
       ]
      },
      {
       "output_type": "stream",
       "stream": "stdout",
       "text": [
        "\r",
        "[download]   0.7% of 142.01MiB at 413.79KiB/s ETA 05:48"
       ]
      },
      {
       "output_type": "stream",
       "stream": "stdout",
       "text": [
        "\r",
        "[download]   1.1% of 142.01MiB at 485.58KiB/s ETA 04:56"
       ]
      },
      {
       "output_type": "stream",
       "stream": "stdout",
       "text": [
        "\r",
        "[download]   1.6% of 142.01MiB at 567.83KiB/s ETA 04:11"
       ]
      },
      {
       "output_type": "stream",
       "stream": "stdout",
       "text": [
        "\r",
        "[download]   2.3% of 142.01MiB at 645.21KiB/s ETA 03:40"
       ]
      },
      {
       "output_type": "stream",
       "stream": "stdout",
       "text": [
        "\r",
        "[download]   2.9% of 142.01MiB at 682.44KiB/s ETA 03:26"
       ]
      },
      {
       "output_type": "stream",
       "stream": "stdout",
       "text": [
        "\r",
        "[download]   3.5% of 142.01MiB at 699.91KiB/s ETA 03:20"
       ]
      },
      {
       "output_type": "stream",
       "stream": "stdout",
       "text": [
        "\r",
        "[download]   4.1% of 142.01MiB at 707.37KiB/s ETA 03:17"
       ]
      },
      {
       "output_type": "stream",
       "stream": "stdout",
       "text": [
        "\r",
        "[download]   4.6% of 142.01MiB at 675.55KiB/s ETA 03:25"
       ]
      },
      {
       "output_type": "stream",
       "stream": "stdout",
       "text": [
        "\r",
        "[download]   4.9% of 142.01MiB at 658.18KiB/s ETA 03:30"
       ]
      },
      {
       "output_type": "stream",
       "stream": "stdout",
       "text": [
        "\r",
        "[download]   5.3% of 142.01MiB at 674.18KiB/s ETA 03:24"
       ]
      },
      {
       "output_type": "stream",
       "stream": "stdout",
       "text": [
        "\r",
        "[download]   6.0% of 142.01MiB at 665.66KiB/s ETA 03:25"
       ]
      },
      {
       "output_type": "stream",
       "stream": "stdout",
       "text": [
        "\r",
        "[download]   6.4% of 142.01MiB at 670.00KiB/s ETA 03:23"
       ]
      },
      {
       "output_type": "stream",
       "stream": "stdout",
       "text": [
        "\r",
        "[download]   6.9% of 142.01MiB at 664.11KiB/s ETA 03:23"
       ]
      },
      {
       "output_type": "stream",
       "stream": "stdout",
       "text": [
        "\r",
        "[download]   7.3% of 142.01MiB at 670.45KiB/s ETA 03:21"
       ]
      },
      {
       "output_type": "stream",
       "stream": "stdout",
       "text": [
        "\r",
        "[download]   7.8% of 142.01MiB at 664.72KiB/s ETA 03:21"
       ]
      },
      {
       "output_type": "stream",
       "stream": "stdout",
       "text": [
        "\r",
        "[download]   8.3% of 142.01MiB at 657.36KiB/s ETA 03:22"
       ]
      },
      {
       "output_type": "stream",
       "stream": "stdout",
       "text": [
        "\r",
        "[download]   8.6% of 142.01MiB at 655.96KiB/s ETA 03:22"
       ]
      },
      {
       "output_type": "stream",
       "stream": "stdout",
       "text": [
        "\r",
        "[download]   9.1% of 142.01MiB at 645.85KiB/s ETA 03:24"
       ]
      },
      {
       "output_type": "stream",
       "stream": "stdout",
       "text": [
        "\r",
        "[download]   9.4% of 142.01MiB at 638.16KiB/s ETA 03:26"
       ]
      },
      {
       "output_type": "stream",
       "stream": "stdout",
       "text": [
        "\r",
        "[download]   9.7% of 142.01MiB at 632.79KiB/s ETA 03:27"
       ]
      },
      {
       "output_type": "stream",
       "stream": "stdout",
       "text": [
        "\r",
        "[download]  10.1% of 142.01MiB at 631.09KiB/s ETA 03:27"
       ]
      },
      {
       "output_type": "stream",
       "stream": "stdout",
       "text": [
        "\r",
        "[download]  10.5% of 142.01MiB at 629.90KiB/s ETA 03:26"
       ]
      },
      {
       "output_type": "stream",
       "stream": "stdout",
       "text": [
        "\r",
        "[download]  10.9% of 142.01MiB at 626.29KiB/s ETA 03:26"
       ]
      },
      {
       "output_type": "stream",
       "stream": "stdout",
       "text": [
        "\r",
        "[download]  11.3% of 142.01MiB at 622.90KiB/s ETA 03:27"
       ]
      },
      {
       "output_type": "stream",
       "stream": "stdout",
       "text": [
        "\r",
        "[download]  11.7% of 142.01MiB at 616.23KiB/s ETA 03:28"
       ]
      },
      {
       "output_type": "stream",
       "stream": "stdout",
       "text": [
        "\r",
        "[download]  12.0% of 142.01MiB at 606.28KiB/s ETA 03:31"
       ]
      },
      {
       "output_type": "stream",
       "stream": "stdout",
       "text": [
        "\r",
        "[download]  12.2% of 142.01MiB at 602.21KiB/s ETA 03:31"
       ]
      },
      {
       "output_type": "stream",
       "stream": "stdout",
       "text": [
        "\r",
        "[download]  12.6% of 142.01MiB at 596.45KiB/s ETA 03:33"
       ]
      },
      {
       "output_type": "stream",
       "stream": "stdout",
       "text": [
        "\r",
        "[download]  12.9% of 142.01MiB at 590.26KiB/s ETA 03:34"
       ]
      },
      {
       "output_type": "stream",
       "stream": "stdout",
       "text": [
        "\r",
        "[download]  13.1% of 142.01MiB at 588.03KiB/s ETA 03:34"
       ]
      },
      {
       "output_type": "stream",
       "stream": "stdout",
       "text": [
        "\r",
        "[download]  13.5% of 142.01MiB at 585.19KiB/s ETA 03:35"
       ]
      },
      {
       "output_type": "stream",
       "stream": "stdout",
       "text": [
        "\r",
        "[download]  13.8% of 142.01MiB at 582.55KiB/s ETA 03:35"
       ]
      },
      {
       "output_type": "stream",
       "stream": "stdout",
       "text": [
        "\r",
        "[download]  14.2% of 142.01MiB at 579.95KiB/s ETA 03:35"
       ]
      },
      {
       "output_type": "stream",
       "stream": "stdout",
       "text": [
        "\r",
        "[download]  14.5% of 142.01MiB at 578.80KiB/s ETA 03:34"
       ]
      },
      {
       "output_type": "stream",
       "stream": "stdout",
       "text": [
        "\r",
        "[download]  14.9% of 142.01MiB at 577.48KiB/s ETA 03:34"
       ]
      },
      {
       "output_type": "stream",
       "stream": "stdout",
       "text": [
        "\r",
        "[download]  15.2% of 142.01MiB at 578.66KiB/s ETA 03:33"
       ]
      },
      {
       "output_type": "stream",
       "stream": "stdout",
       "text": [
        "\r",
        "[download]  15.7% of 142.01MiB at 578.36KiB/s ETA 03:32"
       ]
      },
      {
       "output_type": "stream",
       "stream": "stdout",
       "text": [
        "\r",
        "[download]  16.1% of 142.01MiB at 577.88KiB/s ETA 03:31"
       ]
      },
      {
       "output_type": "stream",
       "stream": "stdout",
       "text": [
        "\r",
        "[download]  16.4% of 142.01MiB at 578.01KiB/s ETA 03:30"
       ]
      },
      {
       "output_type": "stream",
       "stream": "stdout",
       "text": [
        "\r",
        "[download]  16.8% of 142.01MiB at 579.51KiB/s ETA 03:28"
       ]
      },
      {
       "output_type": "stream",
       "stream": "stdout",
       "text": [
        "\r",
        "[download]  17.3% of 142.01MiB at 580.88KiB/s ETA 03:27"
       ]
      },
      {
       "output_type": "stream",
       "stream": "stdout",
       "text": [
        "\r",
        "[download]  17.7% of 142.01MiB at 583.36KiB/s ETA 03:25"
       ]
      },
      {
       "output_type": "stream",
       "stream": "stdout",
       "text": [
        "\r",
        "[download]  18.2% of 142.01MiB at 577.94KiB/s ETA 03:25"
       ]
      },
      {
       "output_type": "stream",
       "stream": "stdout",
       "text": [
        "\r",
        "[download]  18.5% of 142.01MiB at 577.79KiB/s ETA 03:25"
       ]
      },
      {
       "output_type": "stream",
       "stream": "stdout",
       "text": [
        "\r",
        "[download]  18.9% of 142.01MiB at 576.53KiB/s ETA 03:24"
       ]
      },
      {
       "output_type": "stream",
       "stream": "stdout",
       "text": [
        "\r",
        "[download]  19.3% of 142.01MiB at 573.55KiB/s ETA 03:24"
       ]
      },
      {
       "output_type": "stream",
       "stream": "stdout",
       "text": [
        "\r",
        "[download]  19.6% of 142.01MiB at 568.93KiB/s ETA 03:25"
       ]
      },
      {
       "output_type": "stream",
       "stream": "stdout",
       "text": [
        "\r",
        "[download]  19.8% of 142.01MiB at 560.76KiB/s ETA 03:27"
       ]
      },
      {
       "output_type": "stream",
       "stream": "stdout",
       "text": [
        "\r",
        "[download]  20.0% of 142.01MiB at 556.72KiB/s ETA 03:28"
       ]
      },
      {
       "output_type": "stream",
       "stream": "stdout",
       "text": [
        "\r",
        "[download]  20.2% of 142.01MiB at 550.33KiB/s ETA 03:30"
       ]
      },
      {
       "output_type": "stream",
       "stream": "stdout",
       "text": [
        "\r",
        "[download]  20.4% of 142.01MiB at 545.93KiB/s ETA 03:31"
       ]
      },
      {
       "output_type": "stream",
       "stream": "stdout",
       "text": [
        "\r",
        "[download]  20.6% of 142.01MiB at 540.17KiB/s ETA 03:33"
       ]
      },
      {
       "output_type": "stream",
       "stream": "stdout",
       "text": [
        "\r",
        "[download]  20.8% of 142.01MiB at 533.15KiB/s ETA 03:36"
       ]
      },
      {
       "output_type": "stream",
       "stream": "stdout",
       "text": [
        "\r",
        "[download]  21.0% of 142.01MiB at 525.51KiB/s ETA 03:38"
       ]
      },
      {
       "output_type": "stream",
       "stream": "stdout",
       "text": [
        "\r",
        "[download]  21.1% of 142.01MiB at 520.25KiB/s ETA 03:40"
       ]
      },
      {
       "output_type": "stream",
       "stream": "stdout",
       "text": [
        "\r",
        "[download]  21.2% of 142.01MiB at 515.09KiB/s ETA 03:42"
       ]
      },
      {
       "output_type": "stream",
       "stream": "stdout",
       "text": [
        "\r",
        "[download]  21.3% of 142.01MiB at 509.60KiB/s ETA 03:44"
       ]
      },
      {
       "output_type": "stream",
       "stream": "stdout",
       "text": [
        "\r",
        "[download]  21.5% of 142.01MiB at 505.19KiB/s ETA 03:46"
       ]
      },
      {
       "output_type": "stream",
       "stream": "stdout",
       "text": [
        "\r",
        "[download]  21.6% of 142.01MiB at 501.79KiB/s ETA 03:47"
       ]
      },
      {
       "output_type": "stream",
       "stream": "stdout",
       "text": [
        "\r",
        "[download]  21.8% of 142.01MiB at 486.79KiB/s ETA 03:53"
       ]
      },
      {
       "output_type": "stream",
       "stream": "stdout",
       "text": [
        "\r",
        "[download]  21.9% of 142.01MiB at 481.24KiB/s ETA 03:56"
       ]
      },
      {
       "output_type": "stream",
       "stream": "stdout",
       "text": [
        "\r",
        "[download]  22.0% of 142.01MiB at 479.40KiB/s ETA 03:56"
       ]
      },
      {
       "output_type": "stream",
       "stream": "stdout",
       "text": [
        "\r",
        "[download]  22.1% of 142.01MiB at 473.95KiB/s ETA 03:58"
       ]
      },
      {
       "output_type": "stream",
       "stream": "stdout",
       "text": [
        "\r",
        "[download]  22.3% of 142.01MiB at 470.98KiB/s ETA 04:00"
       ]
      },
      {
       "output_type": "stream",
       "stream": "stdout",
       "text": [
        "\r",
        "[download]  22.4% of 142.01MiB at 468.31KiB/s ETA 04:00"
       ]
      },
      {
       "output_type": "stream",
       "stream": "stdout",
       "text": [
        "\r",
        "[download]  22.6% of 142.01MiB at 464.97KiB/s ETA 04:02"
       ]
      },
      {
       "output_type": "stream",
       "stream": "stdout",
       "text": [
        "\r",
        "[download]  22.8% of 142.01MiB at 462.56KiB/s ETA 04:02"
       ]
      },
      {
       "output_type": "stream",
       "stream": "stdout",
       "text": [
        "\r",
        "[download]  22.9% of 142.01MiB at 460.86KiB/s ETA 04:03"
       ]
      },
      {
       "output_type": "stream",
       "stream": "stdout",
       "text": [
        "\r",
        "[download]  23.2% of 142.01MiB at 460.17KiB/s ETA 04:02"
       ]
      },
      {
       "output_type": "stream",
       "stream": "stdout",
       "text": [
        "\r",
        "[download]  23.4% of 142.01MiB at 459.64KiB/s ETA 04:02"
       ]
      },
      {
       "output_type": "stream",
       "stream": "stdout",
       "text": [
        "\r",
        "[download]  23.7% of 142.01MiB at 458.56KiB/s ETA 04:01"
       ]
      },
      {
       "output_type": "stream",
       "stream": "stdout",
       "text": [
        "\r",
        "[download]  24.0% of 142.01MiB at 458.75KiB/s ETA 04:00"
       ]
      },
      {
       "output_type": "stream",
       "stream": "stdout",
       "text": [
        "\r",
        "[download]  24.3% of 142.01MiB at 458.88KiB/s ETA 03:59"
       ]
      },
      {
       "output_type": "stream",
       "stream": "stdout",
       "text": [
        "\r",
        "[download]  24.6% of 142.01MiB at 458.89KiB/s ETA 03:58"
       ]
      },
      {
       "output_type": "stream",
       "stream": "stdout",
       "text": [
        "\r",
        "[download]  25.0% of 142.01MiB at 458.21KiB/s ETA 03:58"
       ]
      },
      {
       "output_type": "stream",
       "stream": "stdout",
       "text": [
        "\r",
        "[download]  25.2% of 142.01MiB at 457.11KiB/s ETA 03:57"
       ]
      },
      {
       "output_type": "stream",
       "stream": "stdout",
       "text": [
        "\r",
        "[download]  25.5% of 142.01MiB at 456.31KiB/s ETA 03:57"
       ]
      },
      {
       "output_type": "stream",
       "stream": "stdout",
       "text": [
        "\r",
        "[download]  25.8% of 142.01MiB at 453.46KiB/s ETA 03:58"
       ]
      },
      {
       "output_type": "stream",
       "stream": "stdout",
       "text": [
        "\r",
        "[download]  26.0% of 142.01MiB at 450.87KiB/s ETA 03:58"
       ]
      },
      {
       "output_type": "stream",
       "stream": "stdout",
       "text": [
        "\r",
        "[download]  26.1% of 142.01MiB at 448.90KiB/s ETA 03:59"
       ]
      },
      {
       "output_type": "stream",
       "stream": "stdout",
       "text": [
        "\r",
        "[download]  26.3% of 142.01MiB at 447.18KiB/s ETA 03:59"
       ]
      },
      {
       "output_type": "stream",
       "stream": "stdout",
       "text": [
        "\r",
        "[download]  26.5% of 142.01MiB at 444.57KiB/s ETA 04:00"
       ]
      },
      {
       "output_type": "stream",
       "stream": "stdout",
       "text": [
        "\r",
        "[download]  26.7% of 142.01MiB at 442.83KiB/s ETA 04:00"
       ]
      },
      {
       "output_type": "stream",
       "stream": "stdout",
       "text": [
        "\r",
        "[download]  26.9% of 142.01MiB at 442.01KiB/s ETA 04:00"
       ]
      },
      {
       "output_type": "stream",
       "stream": "stdout",
       "text": [
        "\r",
        "[download]  27.1% of 142.01MiB at 441.97KiB/s ETA 03:59"
       ]
      },
      {
       "output_type": "stream",
       "stream": "stdout",
       "text": [
        "\r",
        "[download]  27.4% of 142.01MiB at 441.22KiB/s ETA 03:59"
       ]
      },
      {
       "output_type": "stream",
       "stream": "stdout",
       "text": [
        "\r",
        "[download]  27.7% of 142.01MiB at 441.41KiB/s ETA 03:58"
       ]
      },
      {
       "output_type": "stream",
       "stream": "stdout",
       "text": [
        "\r",
        "[download]  28.0% of 142.01MiB at 440.64KiB/s ETA 03:57"
       ]
      },
      {
       "output_type": "stream",
       "stream": "stdout",
       "text": [
        "\r",
        "[download]  28.3% of 142.01MiB at 439.74KiB/s ETA 03:57"
       ]
      },
      {
       "output_type": "stream",
       "stream": "stdout",
       "text": [
        "\r",
        "[download]  28.5% of 142.01MiB at 440.69KiB/s ETA 03:55"
       ]
      },
      {
       "output_type": "stream",
       "stream": "stdout",
       "text": [
        "\r",
        "[download]  28.9% of 142.01MiB at 440.80KiB/s ETA 03:54"
       ]
      },
      {
       "output_type": "stream",
       "stream": "stdout",
       "text": [
        "\r",
        "[download]  29.3% of 142.01MiB at 442.15KiB/s ETA 03:52"
       ]
      },
      {
       "output_type": "stream",
       "stream": "stdout",
       "text": [
        "\r",
        "[download]  29.7% of 142.01MiB at 438.79KiB/s ETA 03:53"
       ]
      },
      {
       "output_type": "stream",
       "stream": "stdout",
       "text": [
        "\r",
        "[download]  29.9% of 142.01MiB at 439.58KiB/s ETA 03:51"
       ]
      },
      {
       "output_type": "stream",
       "stream": "stdout",
       "text": [
        "\r",
        "[download]  30.3% of 142.01MiB at 440.85KiB/s ETA 03:49"
       ]
      },
      {
       "output_type": "stream",
       "stream": "stdout",
       "text": [
        "\r",
        "[download]  30.7% of 142.01MiB at 440.98KiB/s ETA 03:48"
       ]
      },
      {
       "output_type": "stream",
       "stream": "stdout",
       "text": [
        "\r",
        "[download]  31.0% of 142.01MiB at 440.10KiB/s ETA 03:48"
       ]
      },
      {
       "output_type": "stream",
       "stream": "stdout",
       "text": [
        "\r",
        "[download]  31.2% of 142.01MiB at 439.45KiB/s ETA 03:47"
       ]
      },
      {
       "output_type": "stream",
       "stream": "stdout",
       "text": [
        "\r",
        "[download]  31.5% of 142.01MiB at 439.73KiB/s ETA 03:46"
       ]
      },
      {
       "output_type": "stream",
       "stream": "stdout",
       "text": [
        "\r",
        "[download]  31.8% of 142.01MiB at 441.59KiB/s ETA 03:44"
       ]
      },
      {
       "output_type": "stream",
       "stream": "stdout",
       "text": [
        "\r",
        "[download]  32.3% of 142.01MiB at 443.48KiB/s ETA 03:41"
       ]
      },
      {
       "output_type": "stream",
       "stream": "stdout",
       "text": [
        "\r",
        "[download]  32.8% of 142.01MiB at 439.34KiB/s ETA 03:42"
       ]
      },
      {
       "output_type": "stream",
       "stream": "stdout",
       "text": [
        "\r",
        "[download]  33.0% of 142.01MiB at 440.53KiB/s ETA 03:41"
       ]
      },
      {
       "output_type": "stream",
       "stream": "stdout",
       "text": [
        "\r",
        "[download]  33.4% of 142.01MiB at 440.50KiB/s ETA 03:39"
       ]
      },
      {
       "output_type": "stream",
       "stream": "stdout",
       "text": [
        "\r",
        "[download]  33.7% of 142.01MiB at 439.09KiB/s ETA 03:39"
       ]
      },
      {
       "output_type": "stream",
       "stream": "stdout",
       "text": [
        "\r",
        "[download]  33.9% of 142.01MiB at 439.06KiB/s ETA 03:38"
       ]
      },
      {
       "output_type": "stream",
       "stream": "stdout",
       "text": [
        "\r",
        "[download]  34.2% of 142.01MiB at 438.02KiB/s ETA 03:38"
       ]
      },
      {
       "output_type": "stream",
       "stream": "stdout",
       "text": [
        "\r",
        "[download]  34.4% of 142.01MiB at 436.68KiB/s ETA 03:38"
       ]
      },
      {
       "output_type": "stream",
       "stream": "stdout",
       "text": [
        "\r",
        "[download]  34.7% of 142.01MiB at 435.65KiB/s ETA 03:38"
       ]
      },
      {
       "output_type": "stream",
       "stream": "stdout",
       "text": [
        "\r",
        "[download]  34.9% of 142.01MiB at 436.15KiB/s ETA 03:37"
       ]
      },
      {
       "output_type": "stream",
       "stream": "stdout",
       "text": [
        "\r",
        "[download]  35.2% of 142.01MiB at 436.51KiB/s ETA 03:35"
       ]
      },
      {
       "output_type": "stream",
       "stream": "stdout",
       "text": [
        "\r",
        "[download]  35.6% of 142.01MiB at 434.81KiB/s ETA 03:35"
       ]
      },
      {
       "output_type": "stream",
       "stream": "stdout",
       "text": [
        "\r",
        "[download]  35.8% of 142.01MiB at 436.94KiB/s ETA 03:33"
       ]
      },
      {
       "output_type": "stream",
       "stream": "stdout",
       "text": [
        "\r",
        "[download]  36.2% of 142.01MiB at 436.37KiB/s ETA 03:32"
       ]
      },
      {
       "output_type": "stream",
       "stream": "stdout",
       "text": [
        "\r",
        "[download]  36.5% of 142.01MiB at 437.11KiB/s ETA 03:31"
       ]
      },
      {
       "output_type": "stream",
       "stream": "stdout",
       "text": [
        "\r",
        "[download]  36.9% of 142.01MiB at 438.12KiB/s ETA 03:29"
       ]
      },
      {
       "output_type": "stream",
       "stream": "stdout",
       "text": [
        "\r",
        "[download]  37.2% of 142.01MiB at 438.71KiB/s ETA 03:28"
       ]
      },
      {
       "output_type": "stream",
       "stream": "stdout",
       "text": [
        "\r",
        "[download]  37.6% of 142.01MiB at 439.63KiB/s ETA 03:26"
       ]
      },
      {
       "output_type": "stream",
       "stream": "stdout",
       "text": [
        "\r",
        "[download]  38.0% of 142.01MiB at 440.70KiB/s ETA 03:24"
       ]
      },
      {
       "output_type": "stream",
       "stream": "stdout",
       "text": [
        "\r",
        "[download]  38.4% of 142.01MiB at 441.93KiB/s ETA 03:22"
       ]
      },
      {
       "output_type": "stream",
       "stream": "stdout",
       "text": [
        "\r",
        "[download]  38.8% of 142.01MiB at 443.25KiB/s ETA 03:20"
       ]
      },
      {
       "output_type": "stream",
       "stream": "stdout",
       "text": [
        "\r",
        "[download]  39.2% of 142.01MiB at 443.96KiB/s ETA 03:19"
       ]
      },
      {
       "output_type": "stream",
       "stream": "stdout",
       "text": [
        "\r",
        "[download]  39.6% of 142.01MiB at 444.55KiB/s ETA 03:17"
       ]
      },
      {
       "output_type": "stream",
       "stream": "stdout",
       "text": [
        "\r",
        "[download]  39.9% of 142.01MiB at 444.46KiB/s ETA 03:16"
       ]
      },
      {
       "output_type": "stream",
       "stream": "stdout",
       "text": [
        "\r",
        "[download]  40.2% of 142.01MiB at 444.46KiB/s ETA 03:15"
       ]
      },
      {
       "output_type": "stream",
       "stream": "stdout",
       "text": [
        "\r",
        "[download]  40.5% of 142.01MiB at 444.96KiB/s ETA 03:14"
       ]
      },
      {
       "output_type": "stream",
       "stream": "stdout",
       "text": [
        "\r",
        "[download]  40.9% of 142.01MiB at 444.92KiB/s ETA 03:13"
       ]
      },
      {
       "output_type": "stream",
       "stream": "stdout",
       "text": [
        "\r",
        "[download]  41.2% of 142.01MiB at 444.83KiB/s ETA 03:12"
       ]
      },
      {
       "output_type": "stream",
       "stream": "stdout",
       "text": [
        "\r",
        "[download]  41.5% of 142.01MiB at 444.16KiB/s ETA 03:11"
       ]
      },
      {
       "output_type": "stream",
       "stream": "stdout",
       "text": [
        "\r",
        "[download]  41.7% of 142.01MiB at 444.00KiB/s ETA 03:10"
       ]
      },
      {
       "output_type": "stream",
       "stream": "stdout",
       "text": [
        "\r",
        "[download]  42.0% of 142.01MiB at 442.73KiB/s ETA 03:10"
       ]
      },
      {
       "output_type": "stream",
       "stream": "stdout",
       "text": [
        "\r",
        "[download]  42.3% of 142.01MiB at 440.30KiB/s ETA 03:10"
       ]
      },
      {
       "output_type": "stream",
       "stream": "stdout",
       "text": [
        "\r",
        "[download]  42.4% of 142.01MiB at 439.34KiB/s ETA 03:10"
       ]
      },
      {
       "output_type": "stream",
       "stream": "stdout",
       "text": [
        "\r",
        "[download]  42.6% of 142.01MiB at 438.33KiB/s ETA 03:10"
       ]
      },
      {
       "output_type": "stream",
       "stream": "stdout",
       "text": [
        "\r",
        "[download]  42.8% of 142.01MiB at 437.10KiB/s ETA 03:10"
       ]
      },
      {
       "output_type": "stream",
       "stream": "stdout",
       "text": [
        "\r",
        "[download]  43.0% of 142.01MiB at 435.73KiB/s ETA 03:10"
       ]
      },
      {
       "output_type": "stream",
       "stream": "stdout",
       "text": [
        "\r",
        "[download]  43.1% of 142.01MiB at 434.60KiB/s ETA 03:10"
       ]
      },
      {
       "output_type": "stream",
       "stream": "stdout",
       "text": [
        "\r",
        "[download]  43.3% of 142.01MiB at 432.94KiB/s ETA 03:10"
       ]
      },
      {
       "output_type": "stream",
       "stream": "stdout",
       "text": [
        "\r",
        "[download]  43.5% of 142.01MiB at 431.77KiB/s ETA 03:10"
       ]
      },
      {
       "output_type": "stream",
       "stream": "stdout",
       "text": [
        "\r",
        "[download]  43.7% of 142.01MiB at 430.82KiB/s ETA 03:10"
       ]
      },
      {
       "output_type": "stream",
       "stream": "stdout",
       "text": [
        "\r",
        "[download]  43.8% of 142.01MiB at 429.42KiB/s ETA 03:10"
       ]
      },
      {
       "output_type": "stream",
       "stream": "stdout",
       "text": [
        "\r",
        "[download]  44.0% of 142.01MiB at 427.80KiB/s ETA 03:10"
       ]
      },
      {
       "output_type": "stream",
       "stream": "stdout",
       "text": [
        "\r",
        "[download]  44.2% of 142.01MiB at 426.63KiB/s ETA 03:10"
       ]
      },
      {
       "output_type": "stream",
       "stream": "stdout",
       "text": [
        "\r",
        "[download]  44.3% of 142.01MiB at 425.87KiB/s ETA 03:10"
       ]
      },
      {
       "output_type": "stream",
       "stream": "stdout",
       "text": [
        "\r",
        "[download]  44.5% of 142.01MiB at 424.52KiB/s ETA 03:10"
       ]
      },
      {
       "output_type": "stream",
       "stream": "stdout",
       "text": [
        "\r",
        "[download]  44.7% of 142.01MiB at 422.97KiB/s ETA 03:10"
       ]
      },
      {
       "output_type": "stream",
       "stream": "stdout",
       "text": [
        "\r",
        "[download]  44.8% of 142.01MiB at 421.93KiB/s ETA 03:10"
       ]
      },
      {
       "output_type": "stream",
       "stream": "stdout",
       "text": [
        "\r",
        "[download]  45.0% of 142.01MiB at 420.65KiB/s ETA 03:10"
       ]
      },
      {
       "output_type": "stream",
       "stream": "stdout",
       "text": [
        "\r",
        "[download]  45.2% of 142.01MiB at 419.78KiB/s ETA 03:09"
       ]
      },
      {
       "output_type": "stream",
       "stream": "stdout",
       "text": [
        "\r",
        "[download]  45.4% of 142.01MiB at 418.76KiB/s ETA 03:09"
       ]
      },
      {
       "output_type": "stream",
       "stream": "stdout",
       "text": [
        "\r",
        "[download]  45.5% of 142.01MiB at 417.67KiB/s ETA 03:09"
       ]
      },
      {
       "output_type": "stream",
       "stream": "stdout",
       "text": [
        "\r",
        "[download]  45.7% of 142.01MiB at 417.10KiB/s ETA 03:09"
       ]
      },
      {
       "output_type": "stream",
       "stream": "stdout",
       "text": [
        "\r",
        "[download]  45.9% of 142.01MiB at 416.68KiB/s ETA 03:08"
       ]
      },
      {
       "output_type": "stream",
       "stream": "stdout",
       "text": [
        "\r",
        "[download]  46.2% of 142.01MiB at 416.30KiB/s ETA 03:08"
       ]
      },
      {
       "output_type": "stream",
       "stream": "stdout",
       "text": [
        "\r",
        "[download]  46.4% of 142.01MiB at 416.62KiB/s ETA 03:07"
       ]
      },
      {
       "output_type": "stream",
       "stream": "stdout",
       "text": [
        "\r",
        "[download]  46.7% of 142.01MiB at 417.55KiB/s ETA 03:05"
       ]
      },
      {
       "output_type": "stream",
       "stream": "stdout",
       "text": [
        "\r",
        "[download]  47.2% of 142.01MiB at 418.51KiB/s ETA 03:03"
       ]
      },
      {
       "output_type": "stream",
       "stream": "stdout",
       "text": [
        "\r",
        "[download]  47.5% of 142.01MiB at 418.54KiB/s ETA 03:02"
       ]
      },
      {
       "output_type": "stream",
       "stream": "stdout",
       "text": [
        "\r",
        "[download]  47.8% of 142.01MiB at 416.60KiB/s ETA 03:02"
       ]
      },
      {
       "output_type": "stream",
       "stream": "stdout",
       "text": [
        "\r",
        "[download]  48.0% of 142.01MiB at 418.01KiB/s ETA 03:00"
       ]
      },
      {
       "output_type": "stream",
       "stream": "stdout",
       "text": [
        "\r",
        "[download]  48.3% of 142.01MiB at 417.01KiB/s ETA 03:00"
       ]
      },
      {
       "output_type": "stream",
       "stream": "stdout",
       "text": [
        "\r",
        "[download]  48.5% of 142.01MiB at 418.70KiB/s ETA 02:58"
       ]
      },
      {
       "output_type": "stream",
       "stream": "stdout",
       "text": [
        "\r",
        "[download]  49.0% of 142.01MiB at 418.02KiB/s ETA 02:57"
       ]
      },
      {
       "output_type": "stream",
       "stream": "stdout",
       "text": [
        "\r",
        "[download]  49.2% of 142.01MiB at 417.99KiB/s ETA 02:56"
       ]
      },
      {
       "output_type": "stream",
       "stream": "stdout",
       "text": [
        "\r",
        "[download]  49.5% of 142.01MiB at 418.17KiB/s ETA 02:55"
       ]
      },
      {
       "output_type": "stream",
       "stream": "stdout",
       "text": [
        "\r",
        "[download]  49.8% of 142.01MiB at 419.34KiB/s ETA 02:54"
       ]
      },
      {
       "output_type": "stream",
       "stream": "stdout",
       "text": [
        "\r",
        "[download]  50.3% of 142.01MiB at 420.69KiB/s ETA 02:51"
       ]
      },
      {
       "output_type": "stream",
       "stream": "stdout",
       "text": [
        "\r",
        "[download]  50.7% of 142.01MiB at 420.81KiB/s ETA 02:50"
       ]
      },
      {
       "output_type": "stream",
       "stream": "stdout",
       "text": [
        "\r",
        "[download]  51.0% of 142.01MiB at 422.13KiB/s ETA 02:48"
       ]
      },
      {
       "output_type": "stream",
       "stream": "stdout",
       "text": [
        "\r",
        "[download]  51.6% of 142.01MiB at 423.67KiB/s ETA 02:46"
       ]
      },
      {
       "output_type": "stream",
       "stream": "stdout",
       "text": [
        "\r",
        "[download]  52.1% of 142.01MiB at 423.96KiB/s ETA 02:44"
       ]
      },
      {
       "output_type": "stream",
       "stream": "stdout",
       "text": [
        "\r",
        "[download]  52.4% of 142.01MiB at 424.51KiB/s ETA 02:43"
       ]
      },
      {
       "output_type": "stream",
       "stream": "stdout",
       "text": [
        "\r",
        "[download]  52.7% of 142.01MiB at 424.44KiB/s ETA 02:41"
       ]
      },
      {
       "output_type": "stream",
       "stream": "stdout",
       "text": [
        "\r",
        "[download]  53.0% of 142.01MiB at 424.76KiB/s ETA 02:40"
       ]
      },
      {
       "output_type": "stream",
       "stream": "stdout",
       "text": [
        "\r",
        "[download]  53.4% of 142.01MiB at 425.22KiB/s ETA 02:39"
       ]
      },
      {
       "output_type": "stream",
       "stream": "stdout",
       "text": [
        "\r",
        "[download]  53.7% of 142.01MiB at 425.11KiB/s ETA 02:38"
       ]
      },
      {
       "output_type": "stream",
       "stream": "stdout",
       "text": [
        "\r",
        "[download]  54.0% of 142.01MiB at 424.57KiB/s ETA 02:37"
       ]
      },
      {
       "output_type": "stream",
       "stream": "stdout",
       "text": [
        "\r",
        "[download]  54.2% of 142.01MiB at 424.70KiB/s ETA 02:36"
       ]
      },
      {
       "output_type": "stream",
       "stream": "stdout",
       "text": [
        "\r",
        "[download]  54.6% of 142.01MiB at 423.79KiB/s ETA 02:35"
       ]
      },
      {
       "output_type": "stream",
       "stream": "stdout",
       "text": [
        "\r",
        "[download]  54.8% of 142.01MiB at 422.81KiB/s ETA 02:35"
       ]
      },
      {
       "output_type": "stream",
       "stream": "stdout",
       "text": [
        "\r",
        "[download]  55.0% of 142.01MiB at 421.50KiB/s ETA 02:35"
       ]
      },
      {
       "output_type": "stream",
       "stream": "stdout",
       "text": [
        "\r",
        "[download]  55.1% of 142.01MiB at 418.02KiB/s ETA 02:36"
       ]
      },
      {
       "output_type": "stream",
       "stream": "stdout",
       "text": [
        "\r",
        "[download]  55.2% of 142.01MiB at 417.13KiB/s ETA 02:36"
       ]
      },
      {
       "output_type": "stream",
       "stream": "stdout",
       "text": [
        "\r",
        "[download]  55.3% of 142.01MiB at 415.61KiB/s ETA 02:36"
       ]
      },
      {
       "output_type": "stream",
       "stream": "stdout",
       "text": [
        "\r",
        "[download]  55.4% of 142.01MiB at 414.56KiB/s ETA 02:36"
       ]
      },
      {
       "output_type": "stream",
       "stream": "stdout",
       "text": [
        "\r",
        "[download]  55.5% of 142.01MiB at 413.65KiB/s ETA 02:36"
       ]
      },
      {
       "output_type": "stream",
       "stream": "stdout",
       "text": [
        "\r",
        "[download]  55.7% of 142.01MiB at 412.57KiB/s ETA 02:36"
       ]
      },
      {
       "output_type": "stream",
       "stream": "stdout",
       "text": [
        "\r",
        "[download]  55.8% of 142.01MiB at 411.62KiB/s ETA 02:36"
       ]
      },
      {
       "output_type": "stream",
       "stream": "stdout",
       "text": [
        "\r",
        "[download]  55.9% of 142.01MiB at 410.83KiB/s ETA 02:35"
       ]
      },
      {
       "output_type": "stream",
       "stream": "stdout",
       "text": [
        "\r",
        "[download]  56.1% of 142.01MiB at 410.24KiB/s ETA 02:35"
       ]
      },
      {
       "output_type": "stream",
       "stream": "stdout",
       "text": [
        "\r",
        "[download]  56.3% of 142.01MiB at 409.49KiB/s ETA 02:35"
       ]
      },
      {
       "output_type": "stream",
       "stream": "stdout",
       "text": [
        "\r",
        "[download]  56.5% of 142.01MiB at 409.16KiB/s ETA 02:34"
       ]
      },
      {
       "output_type": "stream",
       "stream": "stdout",
       "text": [
        "\r",
        "[download]  56.7% of 142.01MiB at 409.09KiB/s ETA 02:33"
       ]
      },
      {
       "output_type": "stream",
       "stream": "stdout",
       "text": [
        "\r",
        "[download]  57.0% of 142.01MiB at 409.45KiB/s ETA 02:32"
       ]
      },
      {
       "output_type": "stream",
       "stream": "stdout",
       "text": [
        "\r",
        "[download]  57.3% of 142.01MiB at 409.09KiB/s ETA 02:31"
       ]
      },
      {
       "output_type": "stream",
       "stream": "stdout",
       "text": [
        "\r",
        "[download]  57.6% of 142.01MiB at 407.92KiB/s ETA 02:31"
       ]
      },
      {
       "output_type": "stream",
       "stream": "stdout",
       "text": [
        "\r",
        "[download]  57.7% of 142.01MiB at 407.35KiB/s ETA 02:30"
       ]
      },
      {
       "output_type": "stream",
       "stream": "stdout",
       "text": [
        "\r",
        "[download]  57.9% of 142.01MiB at 406.11KiB/s ETA 02:30"
       ]
      },
      {
       "output_type": "stream",
       "stream": "stdout",
       "text": [
        "\r",
        "[download]  58.1% of 142.01MiB at 405.23KiB/s ETA 02:30"
       ]
      },
      {
       "output_type": "stream",
       "stream": "stdout",
       "text": [
        "\r",
        "[download]  58.2% of 142.01MiB at 403.92KiB/s ETA 02:30"
       ]
      },
      {
       "output_type": "stream",
       "stream": "stdout",
       "text": [
        "\r",
        "[download]  58.3% of 142.01MiB at 399.58KiB/s ETA 02:31"
       ]
      },
      {
       "output_type": "stream",
       "stream": "stdout",
       "text": [
        "\r",
        "[download]  58.4% of 142.01MiB at 399.63KiB/s ETA 02:31"
       ]
      },
      {
       "output_type": "stream",
       "stream": "stdout",
       "text": [
        "\r",
        "[download]  58.5% of 142.01MiB at 399.27KiB/s ETA 02:31"
       ]
      },
      {
       "output_type": "stream",
       "stream": "stdout",
       "text": [
        "\r",
        "[download]  58.7% of 142.01MiB at 397.10KiB/s ETA 02:31"
       ]
      },
      {
       "output_type": "stream",
       "stream": "stdout",
       "text": [
        "\r",
        "[download]  58.8% of 142.01MiB at 395.43KiB/s ETA 02:31"
       ]
      },
      {
       "output_type": "stream",
       "stream": "stdout",
       "text": [
        "\r",
        "[download]  58.9% of 142.01MiB at 394.18KiB/s ETA 02:31"
       ]
      },
      {
       "output_type": "stream",
       "stream": "stdout",
       "text": [
        "\r",
        "[download]  59.0% of 142.01MiB at 394.33KiB/s ETA 02:31"
       ]
      },
      {
       "output_type": "stream",
       "stream": "stdout",
       "text": [
        "\r",
        "[download]  59.2% of 142.01MiB at 394.57KiB/s ETA 02:30"
       ]
      },
      {
       "output_type": "stream",
       "stream": "stdout",
       "text": [
        "\r",
        "[download]  59.5% of 142.01MiB at 395.30KiB/s ETA 02:29"
       ]
      },
      {
       "output_type": "stream",
       "stream": "stdout",
       "text": [
        "\r",
        "[download]  59.9% of 142.01MiB at 395.05KiB/s ETA 02:27"
       ]
      },
      {
       "output_type": "stream",
       "stream": "stdout",
       "text": [
        "\r",
        "[download]  60.1% of 142.01MiB at 395.68KiB/s ETA 02:26"
       ]
      },
      {
       "output_type": "stream",
       "stream": "stdout",
       "text": [
        "\r",
        "[download]  60.6% of 142.01MiB at 396.25KiB/s ETA 02:24"
       ]
      },
      {
       "output_type": "stream",
       "stream": "stdout",
       "text": [
        "\r",
        "[download]  60.9% of 142.01MiB at 396.95KiB/s ETA 02:23"
       ]
      },
      {
       "output_type": "stream",
       "stream": "stdout",
       "text": [
        "\r",
        "[download]  61.3% of 142.01MiB at 397.58KiB/s ETA 02:21"
       ]
      },
      {
       "output_type": "stream",
       "stream": "stdout",
       "text": [
        "\r",
        "[download]  61.7% of 142.01MiB at 397.72KiB/s ETA 02:20"
       ]
      },
      {
       "output_type": "stream",
       "stream": "stdout",
       "text": [
        "\r",
        "[download]  62.0% of 142.01MiB at 398.15KiB/s ETA 02:18"
       ]
      },
      {
       "output_type": "stream",
       "stream": "stdout",
       "text": [
        "\r",
        "[download]  62.3% of 142.01MiB at 398.72KiB/s ETA 02:17"
       ]
      },
      {
       "output_type": "stream",
       "stream": "stdout",
       "text": [
        "\r",
        "[download]  62.7% of 142.01MiB at 398.98KiB/s ETA 02:15"
       ]
      },
      {
       "output_type": "stream",
       "stream": "stdout",
       "text": [
        "\r",
        "[download]  63.0% of 142.01MiB at 399.01KiB/s ETA 02:14"
       ]
      },
      {
       "output_type": "stream",
       "stream": "stdout",
       "text": [
        "\r",
        "[download]  63.3% of 142.01MiB at 399.24KiB/s ETA 02:13"
       ]
      },
      {
       "output_type": "stream",
       "stream": "stdout",
       "text": [
        "\r",
        "[download]  63.6% of 142.01MiB at 398.34KiB/s ETA 02:12"
       ]
      },
      {
       "output_type": "stream",
       "stream": "stdout",
       "text": [
        "\r",
        "[download]  63.8% of 142.01MiB at 397.91KiB/s ETA 02:12"
       ]
      },
      {
       "output_type": "stream",
       "stream": "stdout",
       "text": [
        "\r",
        "[download]  64.0% of 142.01MiB at 398.28KiB/s ETA 02:11"
       ]
      },
      {
       "output_type": "stream",
       "stream": "stdout",
       "text": [
        "\r",
        "[download]  64.4% of 142.01MiB at 396.99KiB/s ETA 02:10"
       ]
      },
      {
       "output_type": "stream",
       "stream": "stdout",
       "text": [
        "\r",
        "[download]  64.6% of 142.01MiB at 395.59KiB/s ETA 02:10"
       ]
      },
      {
       "output_type": "stream",
       "stream": "stdout",
       "text": [
        "\r",
        "[download]  64.7% of 142.01MiB at 393.69KiB/s ETA 02:10"
       ]
      },
      {
       "output_type": "stream",
       "stream": "stdout",
       "text": [
        "\r",
        "[download]  64.8% of 142.01MiB at 392.59KiB/s ETA 02:10"
       ]
      },
      {
       "output_type": "stream",
       "stream": "stdout",
       "text": [
        "\r",
        "[download]  64.9% of 142.01MiB at 391.21KiB/s ETA 02:10"
       ]
      },
      {
       "output_type": "stream",
       "stream": "stdout",
       "text": [
        "\r",
        "[download]  64.9% of 142.01MiB at 390.35KiB/s ETA 02:10"
       ]
      },
      {
       "output_type": "stream",
       "stream": "stdout",
       "text": [
        "\r",
        "[download]  65.0% of 142.01MiB at 389.43KiB/s ETA 02:10"
       ]
      },
      {
       "output_type": "stream",
       "stream": "stdout",
       "text": [
        "\r",
        "[download]  65.1% of 142.01MiB at 388.23KiB/s ETA 02:10"
       ]
      },
      {
       "output_type": "stream",
       "stream": "stdout",
       "text": [
        "\r",
        "[download]  65.2% of 142.01MiB at 386.36KiB/s ETA 02:10"
       ]
      },
      {
       "output_type": "stream",
       "stream": "stdout",
       "text": [
        "\r",
        "[download]  65.3% of 142.01MiB at 386.13KiB/s ETA 02:10"
       ]
      },
      {
       "output_type": "stream",
       "stream": "stdout",
       "text": [
        "\r",
        "[download]  65.4% of 142.01MiB at 385.79KiB/s ETA 02:10"
       ]
      },
      {
       "output_type": "stream",
       "stream": "stdout",
       "text": [
        "\r",
        "[download]  65.6% of 142.01MiB at 385.96KiB/s ETA 02:09"
       ]
      },
      {
       "output_type": "stream",
       "stream": "stdout",
       "text": [
        "\r",
        "[download]  65.9% of 142.01MiB at 385.93KiB/s ETA 02:08"
       ]
      },
      {
       "output_type": "stream",
       "stream": "stdout",
       "text": [
        "\r",
        "[download]  66.1% of 142.01MiB at 385.89KiB/s ETA 02:07"
       ]
      },
      {
       "output_type": "stream",
       "stream": "stdout",
       "text": [
        "\r",
        "[download]  66.4% of 142.01MiB at 386.12KiB/s ETA 02:06"
       ]
      },
      {
       "output_type": "stream",
       "stream": "stdout",
       "text": [
        "\r",
        "[download]  66.7% of 142.01MiB at 386.16KiB/s ETA 02:05"
       ]
      },
      {
       "output_type": "stream",
       "stream": "stdout",
       "text": [
        "\r",
        "[download]  67.0% of 142.01MiB at 386.42KiB/s ETA 02:04"
       ]
      },
      {
       "output_type": "stream",
       "stream": "stdout",
       "text": [
        "\r",
        "[download]  67.3% of 142.01MiB at 386.64KiB/s ETA 02:03"
       ]
      },
      {
       "output_type": "stream",
       "stream": "stdout",
       "text": [
        "\r",
        "[download]  67.6% of 142.01MiB at 385.87KiB/s ETA 02:02"
       ]
      },
      {
       "output_type": "stream",
       "stream": "stdout",
       "text": [
        "\r",
        "[download]  67.8% of 142.01MiB at 386.06KiB/s ETA 02:01"
       ]
      },
      {
       "output_type": "stream",
       "stream": "stdout",
       "text": [
        "\r",
        "[download]  68.1% of 142.01MiB at 385.67KiB/s ETA 02:00"
       ]
      },
      {
       "output_type": "stream",
       "stream": "stdout",
       "text": [
        "\r",
        "[download]  68.3% of 142.01MiB at 385.71KiB/s ETA 01:59"
       ]
      },
      {
       "output_type": "stream",
       "stream": "stdout",
       "text": [
        "\r",
        "[download]  68.6% of 142.01MiB at 384.90KiB/s ETA 01:58"
       ]
      },
      {
       "output_type": "stream",
       "stream": "stdout",
       "text": [
        "\r",
        "[download]  68.8% of 142.01MiB at 384.73KiB/s ETA 01:58"
       ]
      },
      {
       "output_type": "stream",
       "stream": "stdout",
       "text": [
        "\r",
        "[download]  69.0% of 142.01MiB at 384.86KiB/s ETA 01:57"
       ]
      },
      {
       "output_type": "stream",
       "stream": "stdout",
       "text": [
        "\r",
        "[download]  69.3% of 142.01MiB at 384.79KiB/s ETA 01:56"
       ]
      },
      {
       "output_type": "stream",
       "stream": "stdout",
       "text": [
        "\r",
        "[download]  69.6% of 142.01MiB at 384.53KiB/s ETA 01:55"
       ]
      },
      {
       "output_type": "stream",
       "stream": "stdout",
       "text": [
        "\r",
        "[download]  69.8% of 142.01MiB at 384.51KiB/s ETA 01:54"
       ]
      },
      {
       "output_type": "stream",
       "stream": "stdout",
       "text": [
        "\r",
        "[download]  70.0% of 142.01MiB at 384.57KiB/s ETA 01:53"
       ]
      },
      {
       "output_type": "stream",
       "stream": "stdout",
       "text": [
        "\r",
        "[download]  70.3% of 142.01MiB at 384.65KiB/s ETA 01:52"
       ]
      },
      {
       "output_type": "stream",
       "stream": "stdout",
       "text": [
        "\r",
        "[download]  70.6% of 142.01MiB at 384.47KiB/s ETA 01:51"
       ]
      },
      {
       "output_type": "stream",
       "stream": "stdout",
       "text": [
        "\r",
        "[download]  70.8% of 142.01MiB at 385.05KiB/s ETA 01:50"
       ]
      },
      {
       "output_type": "stream",
       "stream": "stdout",
       "text": [
        "\r",
        "[download]  71.3% of 142.01MiB at 383.91KiB/s ETA 01:48"
       ]
      },
      {
       "output_type": "stream",
       "stream": "stdout",
       "text": [
        "\r",
        "[download]  71.5% of 142.01MiB at 383.06KiB/s ETA 01:48"
       ]
      },
      {
       "output_type": "stream",
       "stream": "stdout",
       "text": [
        "\r",
        "[download]  71.7% of 142.01MiB at 383.06KiB/s ETA 01:47"
       ]
      },
      {
       "output_type": "stream",
       "stream": "stdout",
       "text": [
        "\r",
        "[download]  72.0% of 142.01MiB at 382.25KiB/s ETA 01:46"
       ]
      },
      {
       "output_type": "stream",
       "stream": "stdout",
       "text": [
        "\r",
        "[download]  72.1% of 142.01MiB at 382.12KiB/s ETA 01:46"
       ]
      },
      {
       "output_type": "stream",
       "stream": "stdout",
       "text": [
        "\r",
        "[download]  72.4% of 142.01MiB at 381.89KiB/s ETA 01:45"
       ]
      },
      {
       "output_type": "stream",
       "stream": "stdout",
       "text": [
        "\r",
        "[download]  72.6% of 142.01MiB at 380.57KiB/s ETA 01:44"
       ]
      },
      {
       "output_type": "stream",
       "stream": "stdout",
       "text": [
        "\r",
        "[download]  72.7% of 142.01MiB at 380.17KiB/s ETA 01:44"
       ]
      },
      {
       "output_type": "stream",
       "stream": "stdout",
       "text": [
        "\r",
        "[download]  72.9% of 142.01MiB at 380.00KiB/s ETA 01:43"
       ]
      },
      {
       "output_type": "stream",
       "stream": "stdout",
       "text": [
        "\r",
        "[download]  73.1% of 142.01MiB at 379.98KiB/s ETA 01:43"
       ]
      },
      {
       "output_type": "stream",
       "stream": "stdout",
       "text": [
        "\r",
        "[download]  73.3% of 142.01MiB at 380.05KiB/s ETA 01:42"
       ]
      },
      {
       "output_type": "stream",
       "stream": "stdout",
       "text": [
        "\r",
        "[download]  73.6% of 142.01MiB at 379.99KiB/s ETA 01:40"
       ]
      },
      {
       "output_type": "stream",
       "stream": "stdout",
       "text": [
        "\r",
        "[download]  73.9% of 142.01MiB at 380.08KiB/s ETA 01:39"
       ]
      },
      {
       "output_type": "stream",
       "stream": "stdout",
       "text": [
        "\r",
        "[download]  74.2% of 142.01MiB at 380.20KiB/s ETA 01:38"
       ]
      },
      {
       "output_type": "stream",
       "stream": "stdout",
       "text": [
        "\r",
        "[download]  74.4% of 142.01MiB at 380.20KiB/s ETA 01:37"
       ]
      },
      {
       "output_type": "stream",
       "stream": "stdout",
       "text": [
        "\r",
        "[download]  74.7% of 142.01MiB at 380.51KiB/s ETA 01:36"
       ]
      },
      {
       "output_type": "stream",
       "stream": "stdout",
       "text": [
        "\r",
        "[download]  75.0% of 142.01MiB at 380.78KiB/s ETA 01:35"
       ]
      },
      {
       "output_type": "stream",
       "stream": "stdout",
       "text": [
        "\r",
        "[download]  75.3% of 142.01MiB at 381.26KiB/s ETA 01:34"
       ]
      },
      {
       "output_type": "stream",
       "stream": "stdout",
       "text": [
        "\r",
        "[download]  75.7% of 142.01MiB at 381.97KiB/s ETA 01:32"
       ]
      },
      {
       "output_type": "stream",
       "stream": "stdout",
       "text": [
        "\r",
        "[download]  76.1% of 142.01MiB at 383.08KiB/s ETA 01:30"
       ]
      },
      {
       "output_type": "stream",
       "stream": "stdout",
       "text": [
        "\r",
        "[download]  76.7% of 142.01MiB at 384.05KiB/s ETA 01:28"
       ]
      },
      {
       "output_type": "stream",
       "stream": "stdout",
       "text": [
        "\r",
        "[download]  77.1% of 142.01MiB at 385.50KiB/s ETA 01:26"
       ]
      },
      {
       "output_type": "stream",
       "stream": "stdout",
       "text": [
        "\r",
        "[download]  77.9% of 142.01MiB at 386.61KiB/s ETA 01:23"
       ]
      },
      {
       "output_type": "stream",
       "stream": "stdout",
       "text": [
        "\r",
        "[download]  78.3% of 142.01MiB at 387.34KiB/s ETA 01:21"
       ]
      },
      {
       "output_type": "stream",
       "stream": "stdout",
       "text": [
        "\r",
        "[download]  78.7% of 142.01MiB at 387.85KiB/s ETA 01:19"
       ]
      },
      {
       "output_type": "stream",
       "stream": "stdout",
       "text": [
        "\r",
        "[download]  79.1% of 142.01MiB at 388.08KiB/s ETA 01:18"
       ]
      },
      {
       "output_type": "stream",
       "stream": "stdout",
       "text": [
        "\r",
        "[download]  79.4% of 142.01MiB at 388.12KiB/s ETA 01:17"
       ]
      },
      {
       "output_type": "stream",
       "stream": "stdout",
       "text": [
        "\r",
        "[download]  79.7% of 142.01MiB at 388.28KiB/s ETA 01:16"
       ]
      },
      {
       "output_type": "stream",
       "stream": "stdout",
       "text": [
        "\r",
        "[download]  80.0% of 142.01MiB at 388.27KiB/s ETA 01:14"
       ]
      },
      {
       "output_type": "stream",
       "stream": "stdout",
       "text": [
        "\r",
        "[download]  80.2% of 142.01MiB at 388.29KiB/s ETA 01:13"
       ]
      },
      {
       "output_type": "stream",
       "stream": "stdout",
       "text": [
        "\r",
        "[download]  80.5% of 142.01MiB at 388.33KiB/s ETA 01:12"
       ]
      },
      {
       "output_type": "stream",
       "stream": "stdout",
       "text": [
        "\r",
        "[download]  80.8% of 142.01MiB at 388.38KiB/s ETA 01:11"
       ]
      },
      {
       "output_type": "stream",
       "stream": "stdout",
       "text": [
        "\r",
        "[download]  81.1% of 142.01MiB at 388.41KiB/s ETA 01:10"
       ]
      },
      {
       "output_type": "stream",
       "stream": "stdout",
       "text": [
        "\r",
        "[download]  81.3% of 142.01MiB at 388.06KiB/s ETA 01:09"
       ]
      },
      {
       "output_type": "stream",
       "stream": "stdout",
       "text": [
        "\r",
        "[download]  81.6% of 142.01MiB at 386.69KiB/s ETA 01:09"
       ]
      },
      {
       "output_type": "stream",
       "stream": "stdout",
       "text": [
        "\r",
        "[download]  81.7% of 142.01MiB at 386.36KiB/s ETA 01:08"
       ]
      },
      {
       "output_type": "stream",
       "stream": "stdout",
       "text": [
        "\r",
        "[download]  81.8% of 142.01MiB at 385.55KiB/s ETA 01:08"
       ]
      },
      {
       "output_type": "stream",
       "stream": "stdout",
       "text": [
        "\r",
        "[download]  82.0% of 142.01MiB at 385.40KiB/s ETA 01:08"
       ]
      },
      {
       "output_type": "stream",
       "stream": "stdout",
       "text": [
        "\r",
        "[download]  82.2% of 142.01MiB at 384.44KiB/s ETA 01:07"
       ]
      },
      {
       "output_type": "stream",
       "stream": "stdout",
       "text": [
        "\r",
        "[download]  82.3% of 142.01MiB at 384.12KiB/s ETA 01:06"
       ]
      },
      {
       "output_type": "stream",
       "stream": "stdout",
       "text": [
        "\r",
        "[download]  82.5% of 142.01MiB at 383.50KiB/s ETA 01:06"
       ]
      },
      {
       "output_type": "stream",
       "stream": "stdout",
       "text": [
        "\r",
        "[download]  82.6% of 142.01MiB at 382.82KiB/s ETA 01:05"
       ]
      },
      {
       "output_type": "stream",
       "stream": "stdout",
       "text": [
        "\r",
        "[download]  82.8% of 142.01MiB at 382.56KiB/s ETA 01:05"
       ]
      },
      {
       "output_type": "stream",
       "stream": "stdout",
       "text": [
        "\r",
        "[download]  83.0% of 142.01MiB at 382.15KiB/s ETA 01:04"
       ]
      },
      {
       "output_type": "stream",
       "stream": "stdout",
       "text": [
        "\r",
        "[download]  83.1% of 142.01MiB at 381.97KiB/s ETA 01:04"
       ]
      },
      {
       "output_type": "stream",
       "stream": "stdout",
       "text": [
        "\r",
        "[download]  83.4% of 142.01MiB at 381.93KiB/s ETA 01:03"
       ]
      },
      {
       "output_type": "stream",
       "stream": "stdout",
       "text": [
        "\r",
        "[download]  83.6% of 142.01MiB at 381.78KiB/s ETA 01:02"
       ]
      },
      {
       "output_type": "stream",
       "stream": "stdout",
       "text": [
        "\r",
        "[download]  83.8% of 142.01MiB at 381.77KiB/s ETA 01:01"
       ]
      },
      {
       "output_type": "stream",
       "stream": "stdout",
       "text": [
        "\r",
        "[download]  84.1% of 142.01MiB at 381.82KiB/s ETA 01:00"
       ]
      },
      {
       "output_type": "stream",
       "stream": "stdout",
       "text": [
        "\r",
        "[download]  84.4% of 142.01MiB at 381.94KiB/s ETA 00:59"
       ]
      },
      {
       "output_type": "stream",
       "stream": "stdout",
       "text": [
        "\r",
        "[download]  84.7% of 142.01MiB at 381.79KiB/s ETA 00:58"
       ]
      },
      {
       "output_type": "stream",
       "stream": "stdout",
       "text": [
        "\r",
        "[download]  84.9% of 142.01MiB at 381.75KiB/s ETA 00:57"
       ]
      },
      {
       "output_type": "stream",
       "stream": "stdout",
       "text": [
        "\r",
        "[download]  85.2% of 142.01MiB at 380.76KiB/s ETA 00:56"
       ]
      },
      {
       "output_type": "stream",
       "stream": "stdout",
       "text": [
        "\r",
        "[download]  85.3% of 142.01MiB at 380.72KiB/s ETA 00:56"
       ]
      },
      {
       "output_type": "stream",
       "stream": "stdout",
       "text": [
        "\r",
        "[download]  85.5% of 142.01MiB at 380.21KiB/s ETA 00:55"
       ]
      },
      {
       "output_type": "stream",
       "stream": "stdout",
       "text": [
        "\r",
        "[download]  85.7% of 142.01MiB at 379.83KiB/s ETA 00:54"
       ]
      },
      {
       "output_type": "stream",
       "stream": "stdout",
       "text": [
        "\r",
        "[download]  85.9% of 142.01MiB at 378.98KiB/s ETA 00:54"
       ]
      },
      {
       "output_type": "stream",
       "stream": "stdout",
       "text": [
        "\r",
        "[download]  86.0% of 142.01MiB at 378.94KiB/s ETA 00:53"
       ]
      },
      {
       "output_type": "stream",
       "stream": "stdout",
       "text": [
        "\r",
        "[download]  86.3% of 142.01MiB at 378.99KiB/s ETA 00:52"
       ]
      },
      {
       "output_type": "stream",
       "stream": "stdout",
       "text": [
        "\r",
        "[download]  86.5% of 142.01MiB at 379.20KiB/s ETA 00:51"
       ]
      },
      {
       "output_type": "stream",
       "stream": "stdout",
       "text": [
        "\r",
        "[download]  86.9% of 142.01MiB at 379.53KiB/s ETA 00:50"
       ]
      },
      {
       "output_type": "stream",
       "stream": "stdout",
       "text": [
        "\r",
        "[download]  87.2% of 142.01MiB at 380.03KiB/s ETA 00:48"
       ]
      },
      {
       "output_type": "stream",
       "stream": "stdout",
       "text": [
        "\r",
        "[download]  87.6% of 142.01MiB at 380.77KiB/s ETA 00:47"
       ]
      },
      {
       "output_type": "stream",
       "stream": "stdout",
       "text": [
        "\r",
        "[download]  88.1% of 142.01MiB at 381.74KiB/s ETA 00:45"
       ]
      },
      {
       "output_type": "stream",
       "stream": "stdout",
       "text": [
        "\r",
        "[download]  88.6% of 142.01MiB at 382.89KiB/s ETA 00:43"
       ]
      },
      {
       "output_type": "stream",
       "stream": "stdout",
       "text": [
        "\r",
        "[download]  89.1% of 142.01MiB at 384.12KiB/s ETA 00:41"
       ]
      },
      {
       "output_type": "stream",
       "stream": "stdout",
       "text": [
        "\r",
        "[download]  89.7% of 142.01MiB at 385.10KiB/s ETA 00:39"
       ]
      },
      {
       "output_type": "stream",
       "stream": "stdout",
       "text": [
        "\r",
        "[download]  90.1% of 142.01MiB at 386.58KiB/s ETA 00:37"
       ]
      },
      {
       "output_type": "stream",
       "stream": "stdout",
       "text": [
        "\r",
        "[download]  91.0% of 142.01MiB at 388.84KiB/s ETA 00:33"
       ]
      },
      {
       "output_type": "stream",
       "stream": "stdout",
       "text": [
        "\r",
        "[download]  91.7% of 142.01MiB at 389.10KiB/s ETA 00:31"
       ]
      },
      {
       "output_type": "stream",
       "stream": "stdout",
       "text": [
        "\r",
        "[download]  92.0% of 142.01MiB at 390.25KiB/s ETA 00:29"
       ]
      },
      {
       "output_type": "stream",
       "stream": "stdout",
       "text": [
        "\r",
        "[download]  92.6% of 142.01MiB at 391.05KiB/s ETA 00:27"
       ]
      },
      {
       "output_type": "stream",
       "stream": "stdout",
       "text": [
        "\r",
        "[download]  93.0% of 142.01MiB at 391.88KiB/s ETA 00:25"
       ]
      },
      {
       "output_type": "stream",
       "stream": "stdout",
       "text": [
        "\r",
        "[download]  93.6% of 142.01MiB at 391.90KiB/s ETA 00:23"
       ]
      },
      {
       "output_type": "stream",
       "stream": "stdout",
       "text": [
        "\r",
        "[download]  93.8% of 142.01MiB at 391.79KiB/s ETA 00:22"
       ]
      },
      {
       "output_type": "stream",
       "stream": "stdout",
       "text": [
        "\r",
        "[download]  94.1% of 142.01MiB at 391.49KiB/s ETA 00:21"
       ]
      },
      {
       "output_type": "stream",
       "stream": "stdout",
       "text": [
        "\r",
        "[download]  94.3% of 142.01MiB at 391.78KiB/s ETA 00:21"
       ]
      },
      {
       "output_type": "stream",
       "stream": "stdout",
       "text": [
        "\r",
        "[download]  94.7% of 142.01MiB at 391.04KiB/s ETA 00:19"
       ]
      },
      {
       "output_type": "stream",
       "stream": "stdout",
       "text": [
        "\r",
        "[download]  94.9% of 142.01MiB at 391.22KiB/s ETA 00:18"
       ]
      },
      {
       "output_type": "stream",
       "stream": "stdout",
       "text": [
        "\r",
        "[download]  95.2% of 142.01MiB at 391.37KiB/s ETA 00:17"
       ]
      },
      {
       "output_type": "stream",
       "stream": "stdout",
       "text": [
        "\r",
        "[download]  95.5% of 142.01MiB at 391.67KiB/s ETA 00:16"
       ]
      },
      {
       "output_type": "stream",
       "stream": "stdout",
       "text": [
        "\r",
        "[download]  95.9% of 142.01MiB at 391.89KiB/s ETA 00:15"
       ]
      },
      {
       "output_type": "stream",
       "stream": "stdout",
       "text": [
        "\r",
        "[download]  96.2% of 142.01MiB at 392.26KiB/s ETA 00:14"
       ]
      },
      {
       "output_type": "stream",
       "stream": "stdout",
       "text": [
        "\r",
        "[download]  96.6% of 142.01MiB at 392.49KiB/s ETA 00:12"
       ]
      },
      {
       "output_type": "stream",
       "stream": "stdout",
       "text": [
        "\r",
        "[download]  96.9% of 142.01MiB at 392.75KiB/s ETA 00:11"
       ]
      },
      {
       "output_type": "stream",
       "stream": "stdout",
       "text": [
        "\r",
        "[download]  97.2% of 142.01MiB at 393.00KiB/s ETA 00:10"
       ]
      },
      {
       "output_type": "stream",
       "stream": "stdout",
       "text": [
        "\r",
        "[download]  97.6% of 142.01MiB at 393.04KiB/s ETA 00:08"
       ]
      },
      {
       "output_type": "stream",
       "stream": "stdout",
       "text": [
        "\r",
        "[download]  97.9% of 142.01MiB at 393.02KiB/s ETA 00:07"
       ]
      },
      {
       "output_type": "stream",
       "stream": "stdout",
       "text": [
        "\r",
        "[download]  98.1% of 142.01MiB at 392.92KiB/s ETA 00:06"
       ]
      },
      {
       "output_type": "stream",
       "stream": "stdout",
       "text": [
        "\r",
        "[download]  98.4% of 142.01MiB at 392.71KiB/s ETA 00:06"
       ]
      },
      {
       "output_type": "stream",
       "stream": "stdout",
       "text": [
        "\r",
        "[download]  98.6% of 142.01MiB at 392.39KiB/s ETA 00:05"
       ]
      },
      {
       "output_type": "stream",
       "stream": "stdout",
       "text": [
        "\r",
        "[download]  98.8% of 142.01MiB at 392.03KiB/s ETA 00:04"
       ]
      },
      {
       "output_type": "stream",
       "stream": "stdout",
       "text": [
        "\r",
        "[download]  99.0% of 142.01MiB at 391.45KiB/s ETA 00:03"
       ]
      },
      {
       "output_type": "stream",
       "stream": "stdout",
       "text": [
        "\r",
        "[download]  99.1% of 142.01MiB at 391.11KiB/s ETA 00:03"
       ]
      },
      {
       "output_type": "stream",
       "stream": "stdout",
       "text": [
        "\r",
        "[download]  99.3% of 142.01MiB at 390.90KiB/s ETA 00:02"
       ]
      },
      {
       "output_type": "stream",
       "stream": "stdout",
       "text": [
        "\r",
        "[download]  99.5% of 142.01MiB at 390.80KiB/s ETA 00:01"
       ]
      },
      {
       "output_type": "stream",
       "stream": "stdout",
       "text": [
        "\r",
        "[download]  99.7% of 142.01MiB at 390.85KiB/s ETA 00:00"
       ]
      },
      {
       "output_type": "stream",
       "stream": "stdout",
       "text": [
        "\r",
        "[download] 100.0% of 142.01MiB at 390.74KiB/s ETA 00:00"
       ]
      },
      {
       "output_type": "stream",
       "stream": "stdout",
       "text": [
        "\r",
        "[download] 100% of 142.01MiB in 06:12\n"
       ]
      },
      {
       "ename": "KeyboardInterrupt",
       "evalue": "",
       "output_type": "pyerr",
       "traceback": [
        "\u001b[0;31m---------------------------------------------------------------------------\u001b[0m\n\u001b[0;31mKeyboardInterrupt\u001b[0m                         Traceback (most recent call last)",
        "\u001b[0;32m<ipython-input-28-6b30421e14aa>\u001b[0m in \u001b[0;36m<module>\u001b[0;34m()\u001b[0m\n\u001b[1;32m     22\u001b[0m     \u001b[0mnew_url\u001b[0m\u001b[0;34m=\u001b[0m\u001b[0mbase_url\u001b[0m\u001b[0;34m+\u001b[0m\u001b[0murl\u001b[0m\u001b[0;34m.\u001b[0m\u001b[0mencode\u001b[0m\u001b[0;34m(\u001b[0m\u001b[0;34m'utf-8'\u001b[0m\u001b[0;34m)\u001b[0m\u001b[0;34m[\u001b[0m\u001b[0;34m:\u001b[0m\u001b[0;34m-\u001b[0m\u001b[0;36m1\u001b[0m\u001b[0;34m]\u001b[0m\u001b[0;34m.\u001b[0m\u001b[0mreplace\u001b[0m\u001b[0;34m(\u001b[0m\u001b[0;34m\"'\"\u001b[0m\u001b[0;34m,\u001b[0m\u001b[0;34m\"\"\u001b[0m\u001b[0;34m)\u001b[0m\u001b[0;34m\u001b[0m\u001b[0m\n\u001b[1;32m     23\u001b[0m     \u001b[0;32mprint\u001b[0m \u001b[0mnew_url\u001b[0m\u001b[0;34m\u001b[0m\u001b[0m\n\u001b[0;32m---> 24\u001b[0;31m     \u001b[0mpar\u001b[0m \u001b[0;34m=\u001b[0m \u001b[0medxb\u001b[0m\u001b[0;34m.\u001b[0m\u001b[0m_br\u001b[0m\u001b[0;34m.\u001b[0m\u001b[0mopen\u001b[0m\u001b[0;34m(\u001b[0m\u001b[0mstr\u001b[0m\u001b[0;34m(\u001b[0m\u001b[0mnew_url\u001b[0m\u001b[0;34m)\u001b[0m\u001b[0;34m)\u001b[0m\u001b[0;34m\u001b[0m\u001b[0m\n\u001b[0m\u001b[1;32m     25\u001b[0m     \u001b[0mpar_soup\u001b[0m \u001b[0;34m=\u001b[0m \u001b[0mBeautifulSoup\u001b[0m\u001b[0;34m(\u001b[0m\u001b[0mpar\u001b[0m\u001b[0;34m.\u001b[0m\u001b[0mread\u001b[0m\u001b[0;34m(\u001b[0m\u001b[0;34m)\u001b[0m\u001b[0;34m)\u001b[0m\u001b[0;34m\u001b[0m\u001b[0m\n\u001b[1;32m     26\u001b[0m     \u001b[0mcontents\u001b[0m \u001b[0;34m=\u001b[0m \u001b[0mpar_soup\u001b[0m\u001b[0;34m.\u001b[0m\u001b[0mfindAll\u001b[0m\u001b[0;34m(\u001b[0m\u001b[0;34m'div'\u001b[0m\u001b[0;34m,\u001b[0m\u001b[0;34m'seq_contents'\u001b[0m\u001b[0;34m)\u001b[0m\u001b[0;34m\u001b[0m\u001b[0m\n",
        "\u001b[0;32m/usr/local/lib/python2.7/dist-packages/mechanize/_mechanize.pyc\u001b[0m in \u001b[0;36mopen\u001b[0;34m(self, url, data, timeout)\u001b[0m\n\u001b[1;32m    201\u001b[0m     def open(self, url, data=None,\n\u001b[1;32m    202\u001b[0m              timeout=_sockettimeout._GLOBAL_DEFAULT_TIMEOUT):\n\u001b[0;32m--> 203\u001b[0;31m         \u001b[0;32mreturn\u001b[0m \u001b[0mself\u001b[0m\u001b[0;34m.\u001b[0m\u001b[0m_mech_open\u001b[0m\u001b[0;34m(\u001b[0m\u001b[0murl\u001b[0m\u001b[0;34m,\u001b[0m \u001b[0mdata\u001b[0m\u001b[0;34m,\u001b[0m \u001b[0mtimeout\u001b[0m\u001b[0;34m=\u001b[0m\u001b[0mtimeout\u001b[0m\u001b[0;34m)\u001b[0m\u001b[0;34m\u001b[0m\u001b[0m\n\u001b[0m\u001b[1;32m    204\u001b[0m \u001b[0;34m\u001b[0m\u001b[0m\n\u001b[1;32m    205\u001b[0m     def _mech_open(self, url, data=None, update_history=True, visit=None,\n",
        "\u001b[0;32m/usr/local/lib/python2.7/dist-packages/mechanize/_mechanize.pyc\u001b[0m in \u001b[0;36m_mech_open\u001b[0;34m(self, url, data, update_history, visit, timeout)\u001b[0m\n\u001b[1;32m    228\u001b[0m         \u001b[0msuccess\u001b[0m \u001b[0;34m=\u001b[0m \u001b[0mTrue\u001b[0m\u001b[0;34m\u001b[0m\u001b[0m\n\u001b[1;32m    229\u001b[0m         \u001b[0;32mtry\u001b[0m\u001b[0;34m:\u001b[0m\u001b[0;34m\u001b[0m\u001b[0m\n\u001b[0;32m--> 230\u001b[0;31m             \u001b[0mresponse\u001b[0m \u001b[0;34m=\u001b[0m \u001b[0mUserAgentBase\u001b[0m\u001b[0;34m.\u001b[0m\u001b[0mopen\u001b[0m\u001b[0;34m(\u001b[0m\u001b[0mself\u001b[0m\u001b[0;34m,\u001b[0m \u001b[0mrequest\u001b[0m\u001b[0;34m,\u001b[0m \u001b[0mdata\u001b[0m\u001b[0;34m)\u001b[0m\u001b[0;34m\u001b[0m\u001b[0m\n\u001b[0m\u001b[1;32m    231\u001b[0m         \u001b[0;32mexcept\u001b[0m \u001b[0murllib2\u001b[0m\u001b[0;34m.\u001b[0m\u001b[0mHTTPError\u001b[0m\u001b[0;34m,\u001b[0m \u001b[0merror\u001b[0m\u001b[0;34m:\u001b[0m\u001b[0;34m\u001b[0m\u001b[0m\n\u001b[1;32m    232\u001b[0m             \u001b[0msuccess\u001b[0m \u001b[0;34m=\u001b[0m \u001b[0mFalse\u001b[0m\u001b[0;34m\u001b[0m\u001b[0m\n",
        "\u001b[0;32m/usr/local/lib/python2.7/dist-packages/mechanize/_opener.pyc\u001b[0m in \u001b[0;36mopen\u001b[0;34m(self, fullurl, data, timeout)\u001b[0m\n\u001b[1;32m    191\u001b[0m         \u001b[0;31m# call ._open() instead.\u001b[0m\u001b[0;34m\u001b[0m\u001b[0;34m\u001b[0m\u001b[0m\n\u001b[1;32m    192\u001b[0m         \u001b[0murlopen\u001b[0m \u001b[0;34m=\u001b[0m \u001b[0m_urllib2_fork\u001b[0m\u001b[0;34m.\u001b[0m\u001b[0mOpenerDirector\u001b[0m\u001b[0;34m.\u001b[0m\u001b[0m_open\u001b[0m\u001b[0;34m\u001b[0m\u001b[0m\n\u001b[0;32m--> 193\u001b[0;31m         \u001b[0mresponse\u001b[0m \u001b[0;34m=\u001b[0m \u001b[0murlopen\u001b[0m\u001b[0;34m(\u001b[0m\u001b[0mself\u001b[0m\u001b[0;34m,\u001b[0m \u001b[0mreq\u001b[0m\u001b[0;34m,\u001b[0m \u001b[0mdata\u001b[0m\u001b[0;34m)\u001b[0m\u001b[0;34m\u001b[0m\u001b[0m\n\u001b[0m\u001b[1;32m    194\u001b[0m \u001b[0;34m\u001b[0m\u001b[0m\n\u001b[1;32m    195\u001b[0m         \u001b[0;31m# post-process response\u001b[0m\u001b[0;34m\u001b[0m\u001b[0;34m\u001b[0m\u001b[0m\n",
        "\u001b[0;32m/usr/local/lib/python2.7/dist-packages/mechanize/_urllib2_fork.pyc\u001b[0m in \u001b[0;36m_open\u001b[0;34m(self, req, data)\u001b[0m\n\u001b[1;32m    342\u001b[0m         \u001b[0mprotocol\u001b[0m \u001b[0;34m=\u001b[0m \u001b[0mreq\u001b[0m\u001b[0;34m.\u001b[0m\u001b[0mget_type\u001b[0m\u001b[0;34m(\u001b[0m\u001b[0;34m)\u001b[0m\u001b[0;34m\u001b[0m\u001b[0m\n\u001b[1;32m    343\u001b[0m         result = self._call_chain(self.handle_open, protocol, protocol +\n\u001b[0;32m--> 344\u001b[0;31m                                   '_open', req)\n\u001b[0m\u001b[1;32m    345\u001b[0m         \u001b[0;32mif\u001b[0m \u001b[0mresult\u001b[0m\u001b[0;34m:\u001b[0m\u001b[0;34m\u001b[0m\u001b[0m\n\u001b[1;32m    346\u001b[0m             \u001b[0;32mreturn\u001b[0m \u001b[0mresult\u001b[0m\u001b[0;34m\u001b[0m\u001b[0m\n",
        "\u001b[0;32m/usr/local/lib/python2.7/dist-packages/mechanize/_urllib2_fork.pyc\u001b[0m in \u001b[0;36m_call_chain\u001b[0;34m(self, chain, kind, meth_name, *args)\u001b[0m\n\u001b[1;32m    330\u001b[0m             \u001b[0mfunc\u001b[0m \u001b[0;34m=\u001b[0m \u001b[0mgetattr\u001b[0m\u001b[0;34m(\u001b[0m\u001b[0mhandler\u001b[0m\u001b[0;34m,\u001b[0m \u001b[0mmeth_name\u001b[0m\u001b[0;34m)\u001b[0m\u001b[0;34m\u001b[0m\u001b[0m\n\u001b[1;32m    331\u001b[0m \u001b[0;34m\u001b[0m\u001b[0m\n\u001b[0;32m--> 332\u001b[0;31m             \u001b[0mresult\u001b[0m \u001b[0;34m=\u001b[0m \u001b[0mfunc\u001b[0m\u001b[0;34m(\u001b[0m\u001b[0;34m*\u001b[0m\u001b[0margs\u001b[0m\u001b[0;34m)\u001b[0m\u001b[0;34m\u001b[0m\u001b[0m\n\u001b[0m\u001b[1;32m    333\u001b[0m             \u001b[0;32mif\u001b[0m \u001b[0mresult\u001b[0m \u001b[0;32mis\u001b[0m \u001b[0;32mnot\u001b[0m \u001b[0mNone\u001b[0m\u001b[0;34m:\u001b[0m\u001b[0;34m\u001b[0m\u001b[0m\n\u001b[1;32m    334\u001b[0m                 \u001b[0;32mreturn\u001b[0m \u001b[0mresult\u001b[0m\u001b[0;34m\u001b[0m\u001b[0m\n",
        "\u001b[0;32m/usr/local/lib/python2.7/dist-packages/mechanize/_urllib2_fork.pyc\u001b[0m in \u001b[0;36mhttps_open\u001b[0;34m(self, req)\u001b[0m\n\u001b[1;32m   1168\u001b[0m             \u001b[0;32melse\u001b[0m\u001b[0;34m:\u001b[0m\u001b[0;34m\u001b[0m\u001b[0m\n\u001b[1;32m   1169\u001b[0m                 \u001b[0mconn_factory\u001b[0m \u001b[0;34m=\u001b[0m \u001b[0mhttplib\u001b[0m\u001b[0;34m.\u001b[0m\u001b[0mHTTPSConnection\u001b[0m\u001b[0;34m\u001b[0m\u001b[0m\n\u001b[0;32m-> 1170\u001b[0;31m             \u001b[0;32mreturn\u001b[0m \u001b[0mself\u001b[0m\u001b[0;34m.\u001b[0m\u001b[0mdo_open\u001b[0m\u001b[0;34m(\u001b[0m\u001b[0mconn_factory\u001b[0m\u001b[0;34m,\u001b[0m \u001b[0mreq\u001b[0m\u001b[0;34m)\u001b[0m\u001b[0;34m\u001b[0m\u001b[0m\n\u001b[0m\u001b[1;32m   1171\u001b[0m \u001b[0;34m\u001b[0m\u001b[0m\n\u001b[1;32m   1172\u001b[0m         \u001b[0mhttps_request\u001b[0m \u001b[0;34m=\u001b[0m \u001b[0mAbstractHTTPHandler\u001b[0m\u001b[0;34m.\u001b[0m\u001b[0mdo_request_\u001b[0m\u001b[0;34m\u001b[0m\u001b[0m\n",
        "\u001b[0;32m/usr/local/lib/python2.7/dist-packages/mechanize/_urllib2_fork.pyc\u001b[0m in \u001b[0;36mdo_open\u001b[0;34m(self, http_class, req)\u001b[0m\n\u001b[1;32m   1113\u001b[0m \u001b[0;34m\u001b[0m\u001b[0m\n\u001b[1;32m   1114\u001b[0m         \u001b[0;32mtry\u001b[0m\u001b[0;34m:\u001b[0m\u001b[0;34m\u001b[0m\u001b[0m\n\u001b[0;32m-> 1115\u001b[0;31m             \u001b[0mh\u001b[0m\u001b[0;34m.\u001b[0m\u001b[0mrequest\u001b[0m\u001b[0;34m(\u001b[0m\u001b[0mreq\u001b[0m\u001b[0;34m.\u001b[0m\u001b[0mget_method\u001b[0m\u001b[0;34m(\u001b[0m\u001b[0;34m)\u001b[0m\u001b[0;34m,\u001b[0m \u001b[0mreq\u001b[0m\u001b[0;34m.\u001b[0m\u001b[0mget_selector\u001b[0m\u001b[0;34m(\u001b[0m\u001b[0;34m)\u001b[0m\u001b[0;34m,\u001b[0m \u001b[0mreq\u001b[0m\u001b[0;34m.\u001b[0m\u001b[0mdata\u001b[0m\u001b[0;34m,\u001b[0m \u001b[0mheaders\u001b[0m\u001b[0;34m)\u001b[0m\u001b[0;34m\u001b[0m\u001b[0m\n\u001b[0m\u001b[1;32m   1116\u001b[0m             \u001b[0mr\u001b[0m \u001b[0;34m=\u001b[0m \u001b[0mh\u001b[0m\u001b[0;34m.\u001b[0m\u001b[0mgetresponse\u001b[0m\u001b[0;34m(\u001b[0m\u001b[0;34m)\u001b[0m\u001b[0;34m\u001b[0m\u001b[0m\n\u001b[1;32m   1117\u001b[0m         \u001b[0;32mexcept\u001b[0m \u001b[0msocket\u001b[0m\u001b[0;34m.\u001b[0m\u001b[0merror\u001b[0m\u001b[0;34m,\u001b[0m \u001b[0merr\u001b[0m\u001b[0;34m:\u001b[0m \u001b[0;31m# XXX what error?\u001b[0m\u001b[0;34m\u001b[0m\u001b[0m\n",
        "\u001b[0;32m/usr/lib/python2.7/httplib.pyc\u001b[0m in \u001b[0;36mrequest\u001b[0;34m(self, method, url, body, headers)\u001b[0m\n\u001b[1;32m    977\u001b[0m     \u001b[0;32mdef\u001b[0m \u001b[0mrequest\u001b[0m\u001b[0;34m(\u001b[0m\u001b[0mself\u001b[0m\u001b[0;34m,\u001b[0m \u001b[0mmethod\u001b[0m\u001b[0;34m,\u001b[0m \u001b[0murl\u001b[0m\u001b[0;34m,\u001b[0m \u001b[0mbody\u001b[0m\u001b[0;34m=\u001b[0m\u001b[0mNone\u001b[0m\u001b[0;34m,\u001b[0m \u001b[0mheaders\u001b[0m\u001b[0;34m=\u001b[0m\u001b[0;34m{\u001b[0m\u001b[0;34m}\u001b[0m\u001b[0;34m)\u001b[0m\u001b[0;34m:\u001b[0m\u001b[0;34m\u001b[0m\u001b[0m\n\u001b[1;32m    978\u001b[0m         \u001b[0;34m\"\"\"Send a complete request to the server.\"\"\"\u001b[0m\u001b[0;34m\u001b[0m\u001b[0m\n\u001b[0;32m--> 979\u001b[0;31m         \u001b[0mself\u001b[0m\u001b[0;34m.\u001b[0m\u001b[0m_send_request\u001b[0m\u001b[0;34m(\u001b[0m\u001b[0mmethod\u001b[0m\u001b[0;34m,\u001b[0m \u001b[0murl\u001b[0m\u001b[0;34m,\u001b[0m \u001b[0mbody\u001b[0m\u001b[0;34m,\u001b[0m \u001b[0mheaders\u001b[0m\u001b[0;34m)\u001b[0m\u001b[0;34m\u001b[0m\u001b[0m\n\u001b[0m\u001b[1;32m    980\u001b[0m \u001b[0;34m\u001b[0m\u001b[0m\n\u001b[1;32m    981\u001b[0m     \u001b[0;32mdef\u001b[0m \u001b[0m_set_content_length\u001b[0m\u001b[0;34m(\u001b[0m\u001b[0mself\u001b[0m\u001b[0;34m,\u001b[0m \u001b[0mbody\u001b[0m\u001b[0;34m)\u001b[0m\u001b[0;34m:\u001b[0m\u001b[0;34m\u001b[0m\u001b[0m\n",
        "\u001b[0;32m/usr/lib/python2.7/httplib.pyc\u001b[0m in \u001b[0;36m_send_request\u001b[0;34m(self, method, url, body, headers)\u001b[0m\n\u001b[1;32m   1011\u001b[0m         \u001b[0;32mfor\u001b[0m \u001b[0mhdr\u001b[0m\u001b[0;34m,\u001b[0m \u001b[0mvalue\u001b[0m \u001b[0;32min\u001b[0m \u001b[0mheaders\u001b[0m\u001b[0;34m.\u001b[0m\u001b[0miteritems\u001b[0m\u001b[0;34m(\u001b[0m\u001b[0;34m)\u001b[0m\u001b[0;34m:\u001b[0m\u001b[0;34m\u001b[0m\u001b[0m\n\u001b[1;32m   1012\u001b[0m             \u001b[0mself\u001b[0m\u001b[0;34m.\u001b[0m\u001b[0mputheader\u001b[0m\u001b[0;34m(\u001b[0m\u001b[0mhdr\u001b[0m\u001b[0;34m,\u001b[0m \u001b[0mvalue\u001b[0m\u001b[0;34m)\u001b[0m\u001b[0;34m\u001b[0m\u001b[0m\n\u001b[0;32m-> 1013\u001b[0;31m         \u001b[0mself\u001b[0m\u001b[0;34m.\u001b[0m\u001b[0mendheaders\u001b[0m\u001b[0;34m(\u001b[0m\u001b[0mbody\u001b[0m\u001b[0;34m)\u001b[0m\u001b[0;34m\u001b[0m\u001b[0m\n\u001b[0m\u001b[1;32m   1014\u001b[0m \u001b[0;34m\u001b[0m\u001b[0m\n\u001b[1;32m   1015\u001b[0m     \u001b[0;32mdef\u001b[0m \u001b[0mgetresponse\u001b[0m\u001b[0;34m(\u001b[0m\u001b[0mself\u001b[0m\u001b[0;34m,\u001b[0m \u001b[0mbuffering\u001b[0m\u001b[0;34m=\u001b[0m\u001b[0mFalse\u001b[0m\u001b[0;34m)\u001b[0m\u001b[0;34m:\u001b[0m\u001b[0;34m\u001b[0m\u001b[0m\n",
        "\u001b[0;32m/usr/lib/python2.7/httplib.pyc\u001b[0m in \u001b[0;36mendheaders\u001b[0;34m(self, message_body)\u001b[0m\n\u001b[1;32m    973\u001b[0m         \u001b[0;32melse\u001b[0m\u001b[0;34m:\u001b[0m\u001b[0;34m\u001b[0m\u001b[0m\n\u001b[1;32m    974\u001b[0m             \u001b[0;32mraise\u001b[0m \u001b[0mCannotSendHeader\u001b[0m\u001b[0;34m(\u001b[0m\u001b[0;34m)\u001b[0m\u001b[0;34m\u001b[0m\u001b[0m\n\u001b[0;32m--> 975\u001b[0;31m         \u001b[0mself\u001b[0m\u001b[0;34m.\u001b[0m\u001b[0m_send_output\u001b[0m\u001b[0;34m(\u001b[0m\u001b[0mmessage_body\u001b[0m\u001b[0;34m)\u001b[0m\u001b[0;34m\u001b[0m\u001b[0m\n\u001b[0m\u001b[1;32m    976\u001b[0m \u001b[0;34m\u001b[0m\u001b[0m\n\u001b[1;32m    977\u001b[0m     \u001b[0;32mdef\u001b[0m \u001b[0mrequest\u001b[0m\u001b[0;34m(\u001b[0m\u001b[0mself\u001b[0m\u001b[0;34m,\u001b[0m \u001b[0mmethod\u001b[0m\u001b[0;34m,\u001b[0m \u001b[0murl\u001b[0m\u001b[0;34m,\u001b[0m \u001b[0mbody\u001b[0m\u001b[0;34m=\u001b[0m\u001b[0mNone\u001b[0m\u001b[0;34m,\u001b[0m \u001b[0mheaders\u001b[0m\u001b[0;34m=\u001b[0m\u001b[0;34m{\u001b[0m\u001b[0;34m}\u001b[0m\u001b[0;34m)\u001b[0m\u001b[0;34m:\u001b[0m\u001b[0;34m\u001b[0m\u001b[0m\n",
        "\u001b[0;32m/usr/lib/python2.7/httplib.pyc\u001b[0m in \u001b[0;36m_send_output\u001b[0;34m(self, message_body)\u001b[0m\n\u001b[1;32m    833\u001b[0m             \u001b[0mmsg\u001b[0m \u001b[0;34m+=\u001b[0m \u001b[0mmessage_body\u001b[0m\u001b[0;34m\u001b[0m\u001b[0m\n\u001b[1;32m    834\u001b[0m             \u001b[0mmessage_body\u001b[0m \u001b[0;34m=\u001b[0m \u001b[0mNone\u001b[0m\u001b[0;34m\u001b[0m\u001b[0m\n\u001b[0;32m--> 835\u001b[0;31m         \u001b[0mself\u001b[0m\u001b[0;34m.\u001b[0m\u001b[0msend\u001b[0m\u001b[0;34m(\u001b[0m\u001b[0mmsg\u001b[0m\u001b[0;34m)\u001b[0m\u001b[0;34m\u001b[0m\u001b[0m\n\u001b[0m\u001b[1;32m    836\u001b[0m         \u001b[0;32mif\u001b[0m \u001b[0mmessage_body\u001b[0m \u001b[0;32mis\u001b[0m \u001b[0;32mnot\u001b[0m \u001b[0mNone\u001b[0m\u001b[0;34m:\u001b[0m\u001b[0;34m\u001b[0m\u001b[0m\n\u001b[1;32m    837\u001b[0m             \u001b[0;31m#message_body was not a string (i.e. it is a file) and\u001b[0m\u001b[0;34m\u001b[0m\u001b[0;34m\u001b[0m\u001b[0m\n",
        "\u001b[0;32m/usr/lib/python2.7/httplib.pyc\u001b[0m in \u001b[0;36msend\u001b[0;34m(self, data)\u001b[0m\n\u001b[1;32m    795\u001b[0m         \u001b[0;32mif\u001b[0m \u001b[0mself\u001b[0m\u001b[0;34m.\u001b[0m\u001b[0msock\u001b[0m \u001b[0;32mis\u001b[0m \u001b[0mNone\u001b[0m\u001b[0;34m:\u001b[0m\u001b[0;34m\u001b[0m\u001b[0m\n\u001b[1;32m    796\u001b[0m             \u001b[0;32mif\u001b[0m \u001b[0mself\u001b[0m\u001b[0;34m.\u001b[0m\u001b[0mauto_open\u001b[0m\u001b[0;34m:\u001b[0m\u001b[0;34m\u001b[0m\u001b[0m\n\u001b[0;32m--> 797\u001b[0;31m                 \u001b[0mself\u001b[0m\u001b[0;34m.\u001b[0m\u001b[0mconnect\u001b[0m\u001b[0;34m(\u001b[0m\u001b[0;34m)\u001b[0m\u001b[0;34m\u001b[0m\u001b[0m\n\u001b[0m\u001b[1;32m    798\u001b[0m             \u001b[0;32melse\u001b[0m\u001b[0;34m:\u001b[0m\u001b[0;34m\u001b[0m\u001b[0m\n\u001b[1;32m    799\u001b[0m                 \u001b[0;32mraise\u001b[0m \u001b[0mNotConnected\u001b[0m\u001b[0;34m(\u001b[0m\u001b[0;34m)\u001b[0m\u001b[0;34m\u001b[0m\u001b[0m\n",
        "\u001b[0;32m/usr/lib/python2.7/httplib.pyc\u001b[0m in \u001b[0;36mconnect\u001b[0;34m(self)\u001b[0m\n\u001b[1;32m   1180\u001b[0m                 \u001b[0mself\u001b[0m\u001b[0;34m.\u001b[0m\u001b[0msock\u001b[0m \u001b[0;34m=\u001b[0m \u001b[0msock\u001b[0m\u001b[0;34m\u001b[0m\u001b[0m\n\u001b[1;32m   1181\u001b[0m                 \u001b[0mself\u001b[0m\u001b[0;34m.\u001b[0m\u001b[0m_tunnel\u001b[0m\u001b[0;34m(\u001b[0m\u001b[0;34m)\u001b[0m\u001b[0;34m\u001b[0m\u001b[0m\n\u001b[0;32m-> 1182\u001b[0;31m             \u001b[0mself\u001b[0m\u001b[0;34m.\u001b[0m\u001b[0msock\u001b[0m \u001b[0;34m=\u001b[0m \u001b[0mssl\u001b[0m\u001b[0;34m.\u001b[0m\u001b[0mwrap_socket\u001b[0m\u001b[0;34m(\u001b[0m\u001b[0msock\u001b[0m\u001b[0;34m,\u001b[0m \u001b[0mself\u001b[0m\u001b[0;34m.\u001b[0m\u001b[0mkey_file\u001b[0m\u001b[0;34m,\u001b[0m \u001b[0mself\u001b[0m\u001b[0;34m.\u001b[0m\u001b[0mcert_file\u001b[0m\u001b[0;34m)\u001b[0m\u001b[0;34m\u001b[0m\u001b[0m\n\u001b[0m\u001b[1;32m   1183\u001b[0m \u001b[0;34m\u001b[0m\u001b[0m\n\u001b[1;32m   1184\u001b[0m     \u001b[0m__all__\u001b[0m\u001b[0;34m.\u001b[0m\u001b[0mappend\u001b[0m\u001b[0;34m(\u001b[0m\u001b[0;34m\"HTTPSConnection\"\u001b[0m\u001b[0;34m)\u001b[0m\u001b[0;34m\u001b[0m\u001b[0m\n",
        "\u001b[0;32m/usr/lib/python2.7/ssl.pyc\u001b[0m in \u001b[0;36mwrap_socket\u001b[0;34m(sock, keyfile, certfile, server_side, cert_reqs, ssl_version, ca_certs, do_handshake_on_connect, suppress_ragged_eofs, ciphers)\u001b[0m\n\u001b[1;32m    485\u001b[0m                      \u001b[0mdo_handshake_on_connect\u001b[0m\u001b[0;34m=\u001b[0m\u001b[0mdo_handshake_on_connect\u001b[0m\u001b[0;34m,\u001b[0m\u001b[0;34m\u001b[0m\u001b[0m\n\u001b[1;32m    486\u001b[0m                      \u001b[0msuppress_ragged_eofs\u001b[0m\u001b[0;34m=\u001b[0m\u001b[0msuppress_ragged_eofs\u001b[0m\u001b[0;34m,\u001b[0m\u001b[0;34m\u001b[0m\u001b[0m\n\u001b[0;32m--> 487\u001b[0;31m                      ciphers=ciphers)\n\u001b[0m\u001b[1;32m    488\u001b[0m \u001b[0;34m\u001b[0m\u001b[0m\n\u001b[1;32m    489\u001b[0m \u001b[0;34m\u001b[0m\u001b[0m\n",
        "\u001b[0;32m/usr/lib/python2.7/ssl.pyc\u001b[0m in \u001b[0;36m__init__\u001b[0;34m(self, sock, keyfile, certfile, server_side, cert_reqs, ssl_version, ca_certs, do_handshake_on_connect, suppress_ragged_eofs, ciphers)\u001b[0m\n\u001b[1;32m    241\u001b[0m                                         ciphers)\n\u001b[1;32m    242\u001b[0m             \u001b[0;32mif\u001b[0m \u001b[0mdo_handshake_on_connect\u001b[0m\u001b[0;34m:\u001b[0m\u001b[0;34m\u001b[0m\u001b[0m\n\u001b[0;32m--> 243\u001b[0;31m                 \u001b[0mself\u001b[0m\u001b[0;34m.\u001b[0m\u001b[0mdo_handshake\u001b[0m\u001b[0;34m(\u001b[0m\u001b[0;34m)\u001b[0m\u001b[0;34m\u001b[0m\u001b[0m\n\u001b[0m\u001b[1;32m    244\u001b[0m         \u001b[0mself\u001b[0m\u001b[0;34m.\u001b[0m\u001b[0mkeyfile\u001b[0m \u001b[0;34m=\u001b[0m \u001b[0mkeyfile\u001b[0m\u001b[0;34m\u001b[0m\u001b[0m\n\u001b[1;32m    245\u001b[0m         \u001b[0mself\u001b[0m\u001b[0;34m.\u001b[0m\u001b[0mcertfile\u001b[0m \u001b[0;34m=\u001b[0m \u001b[0mcertfile\u001b[0m\u001b[0;34m\u001b[0m\u001b[0m\n",
        "\u001b[0;32m/usr/lib/python2.7/ssl.pyc\u001b[0m in \u001b[0;36mdo_handshake\u001b[0;34m(self)\u001b[0m\n\u001b[1;32m    403\u001b[0m         \u001b[0;34m\"\"\"Perform a TLS/SSL handshake.\"\"\"\u001b[0m\u001b[0;34m\u001b[0m\u001b[0m\n\u001b[1;32m    404\u001b[0m \u001b[0;34m\u001b[0m\u001b[0m\n\u001b[0;32m--> 405\u001b[0;31m         \u001b[0mself\u001b[0m\u001b[0;34m.\u001b[0m\u001b[0m_sslobj\u001b[0m\u001b[0;34m.\u001b[0m\u001b[0mdo_handshake\u001b[0m\u001b[0;34m(\u001b[0m\u001b[0;34m)\u001b[0m\u001b[0;34m\u001b[0m\u001b[0m\n\u001b[0m\u001b[1;32m    406\u001b[0m \u001b[0;34m\u001b[0m\u001b[0m\n\u001b[1;32m    407\u001b[0m     \u001b[0;32mdef\u001b[0m \u001b[0m_real_connect\u001b[0m\u001b[0;34m(\u001b[0m\u001b[0mself\u001b[0m\u001b[0;34m,\u001b[0m \u001b[0maddr\u001b[0m\u001b[0;34m,\u001b[0m \u001b[0mreturn_errno\u001b[0m\u001b[0;34m)\u001b[0m\u001b[0;34m:\u001b[0m\u001b[0;34m\u001b[0m\u001b[0m\n",
        "\u001b[0;31mKeyboardInterrupt\u001b[0m: "
       ]
      },
      {
       "output_type": "stream",
       "stream": "stdout",
       "text": [
        "\"Up in the sky, look!\n",
        "        It\u2019s a bird. It\u2019s a plane.\n",
        "Processing ./The Rise of Superheroes and Their Impact On Pop Culture/Week 1 - The Secret Origin Of Comic Books/02.04.*...\n",
        "https://courses.edx.org/courses/course-v1:SmithsonianX+POPX1.1x+2015_T2/courseware/8b682f6cd07345579e7bb7a6850a8d63/f0561d49d32b4a8582bdd1395e2fbd22\n"
       ]
      }
     ],
     "prompt_number": 28
    },
    {
     "cell_type": "code",
     "collapsed": false,
     "input": [],
     "language": "python",
     "metadata": {},
     "outputs": [
      {
       "output_type": "stream",
       "stream": "stdout",
       "text": [
        "Found the following courses:\n",
        "['HTML_FORMATTERS', 'XML_FORMATTERS', '__call__', '__class__', '__contains__', '__delattr__', '__delitem__', '__dict__', '__doc__', '__eq__', '__format__', '__getattr__', '__getattribute__', '__getitem__', '__hash__', '__init__', '__iter__', '__len__', '__module__', '__ne__', '__new__', '__nonzero__', '__reduce__', '__reduce_ex__', '__repr__', '__setattr__', '__setitem__', '__sizeof__', '__str__', '__subclasshook__', '__unicode__', '__weakref__', '_all_strings', '_attr_value_as_string', '_attribute_checker', '_find_all', '_find_one', '_formatter_for_name', '_is_xml', '_lastRecursiveChild', '_last_descendant', '_select_debug', '_selector_combinators', '_should_pretty_print', '_tag_name_matches_and', 'append', 'attribselect_re', 'attrs', 'can_be_empty_element', 'childGenerator', 'children', 'clear', 'contents', 'decode', 'decode_contents', 'decompose', 'descendants', 'encode', 'encode_contents', 'extract', 'fetchNextSiblings', 'fetchParents', 'fetchPrevious', 'fetchPreviousSiblings', 'find', 'findAll', 'findAllNext', 'findAllPrevious', 'findChild', 'findChildren', 'findNext', 'findNextSibling', 'findNextSiblings', 'findParent', 'findParents', 'findPrevious', 'findPreviousSibling', 'findPreviousSiblings', 'find_all', 'find_all_next', 'find_all_previous', 'find_next', 'find_next_sibling', 'find_next_siblings', 'find_parent', 'find_parents', 'find_previous', 'find_previous_sibling', 'find_previous_siblings', 'format_string', 'get', 'getText', 'get_text', 'has_attr', 'has_key', 'hidden', 'index', 'insert', 'insert_after', 'insert_before', 'isSelfClosing', 'is_empty_element', 'name', 'namespace', 'next', 'nextGenerator', 'nextSibling', 'nextSiblingGenerator', 'next_element', 'next_elements', 'next_sibling', 'next_siblings', 'parent', 'parentGenerator', 'parents', 'parserClass', 'parser_class', 'prefix', 'prettify', 'previous', 'previousGenerator', 'previousSibling', 'previousSiblingGenerator', 'previous_element', 'previous_elements', 'previous_sibling', 'previous_siblings', 'recursiveChildGenerator', 'renderContents', 'replaceWith', 'replaceWithChildren', 'replace_with', 'replace_with_children', 'select', 'setup', 'string', 'strings', 'stripped_strings', 'tag_name_re', 'text', 'unwrap', 'wrap']"
       ]
      },
      {
       "ename": "KeyError",
       "evalue": "'href'",
       "output_type": "pyerr",
       "traceback": [
        "\u001b[0;31m---------------------------------------------------------------------------\u001b[0m\n\u001b[0;31mKeyError\u001b[0m                                  Traceback (most recent call last)",
        "\u001b[0;32m<ipython-input-7-57a3c4712414>\u001b[0m in \u001b[0;36m<module>\u001b[0;34m()\u001b[0m\n\u001b[1;32m      1\u001b[0m \u001b[0;32mprint\u001b[0m \u001b[0;34m'Found the following courses:'\u001b[0m\u001b[0;34m\u001b[0m\u001b[0m\n\u001b[0;32m----> 2\u001b[0;31m \u001b[0medxb\u001b[0m\u001b[0;34m.\u001b[0m\u001b[0mlist_courses\u001b[0m\u001b[0;34m(\u001b[0m\u001b[0;34m)\u001b[0m\u001b[0;34m\u001b[0m\u001b[0m\n\u001b[0m",
        "\u001b[0;32m<ipython-input-3-5b97b9cb1776>\u001b[0m in \u001b[0;36mlist_courses\u001b[0;34m(self)\u001b[0m\n\u001b[1;32m     92\u001b[0m             \u001b[0;32mfor\u001b[0m \u001b[0mmy_course\u001b[0m \u001b[0;32min\u001b[0m \u001b[0mmy_courses\u001b[0m\u001b[0;34m:\u001b[0m\u001b[0;34m\u001b[0m\u001b[0m\n\u001b[1;32m     93\u001b[0m                 \u001b[0;32mprint\u001b[0m \u001b[0mdir\u001b[0m\u001b[0;34m(\u001b[0m\u001b[0mmy_course\u001b[0m\u001b[0;34m)\u001b[0m\u001b[0;34m\u001b[0m\u001b[0m\n\u001b[0;32m---> 94\u001b[0;31m                 \u001b[0mcourse_url\u001b[0m \u001b[0;34m=\u001b[0m \u001b[0mmy_course\u001b[0m\u001b[0;34m.\u001b[0m\u001b[0ma\u001b[0m\u001b[0;34m[\u001b[0m\u001b[0;34m'href'\u001b[0m\u001b[0;34m]\u001b[0m\u001b[0;34m\u001b[0m\u001b[0m\n\u001b[0m\u001b[1;32m     95\u001b[0m                 \u001b[0mcourse_name\u001b[0m \u001b[0;34m=\u001b[0m \u001b[0mmy_course\u001b[0m\u001b[0;34m.\u001b[0m\u001b[0mh3\u001b[0m\u001b[0;34m.\u001b[0m\u001b[0mtext\u001b[0m\u001b[0;34m\u001b[0m\u001b[0m\n\u001b[1;32m     96\u001b[0m                 \u001b[0minteractive_mode\u001b[0m \u001b[0;34m=\u001b[0m \u001b[0mFalse\u001b[0m\u001b[0;34m\u001b[0m\u001b[0m\n",
        "\u001b[0;32m/usr/local/lib/python2.7/dist-packages/bs4/element.pyc\u001b[0m in \u001b[0;36m__getitem__\u001b[0;34m(self, key)\u001b[0m\n\u001b[1;32m    903\u001b[0m         \"\"\"tag[key] returns the value of the 'key' attribute for the tag,\n\u001b[1;32m    904\u001b[0m         and throws an exception if it's not there.\"\"\"\n\u001b[0;32m--> 905\u001b[0;31m         \u001b[0;32mreturn\u001b[0m \u001b[0mself\u001b[0m\u001b[0;34m.\u001b[0m\u001b[0mattrs\u001b[0m\u001b[0;34m[\u001b[0m\u001b[0mkey\u001b[0m\u001b[0;34m]\u001b[0m\u001b[0;34m\u001b[0m\u001b[0m\n\u001b[0m\u001b[1;32m    906\u001b[0m \u001b[0;34m\u001b[0m\u001b[0m\n\u001b[1;32m    907\u001b[0m     \u001b[0;32mdef\u001b[0m \u001b[0m__iter__\u001b[0m\u001b[0;34m(\u001b[0m\u001b[0mself\u001b[0m\u001b[0;34m)\u001b[0m\u001b[0;34m:\u001b[0m\u001b[0;34m\u001b[0m\u001b[0m\n",
        "\u001b[0;31mKeyError\u001b[0m: 'href'"
       ]
      },
      {
       "output_type": "stream",
       "stream": "stdout",
       "text": [
        "\n"
       ]
      }
     ],
     "prompt_number": 7
    },
    {
     "cell_type": "code",
     "collapsed": false,
     "input": [],
     "language": "python",
     "metadata": {},
     "outputs": []
    }
   ],
   "metadata": {}
  }
 ]
}